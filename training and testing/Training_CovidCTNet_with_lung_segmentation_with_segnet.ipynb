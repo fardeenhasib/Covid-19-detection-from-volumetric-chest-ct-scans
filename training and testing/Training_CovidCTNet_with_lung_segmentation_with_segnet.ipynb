{
  "nbformat": 4,
  "nbformat_minor": 0,
  "metadata": {
    "colab": {
      "name": "Copy of Training-CovidCTNet_with_lung_segmentation_with_segnet.ipynb",
      "provenance": [],
      "collapsed_sections": [
        "mIyC5aLK1Nlu",
        "mteGy4hL1Svw",
        "k0XZ8AiJFdau",
        "vI0EsJIn43Ud"
      ],
      "toc_visible": true,
      "machine_shape": "hm"
    },
    "kernelspec": {
      "display_name": "Python 3",
      "name": "python3"
    },
    "accelerator": "GPU"
  },
  "cells": [
    {
      "cell_type": "markdown",
      "metadata": {
        "id": "-BwgP4GkdTFs"
      },
      "source": [
        "## Note\n",
        "The paramters in this sample code are similar to  our main training code but we test this code on limited number of data for the sake of speed\n"
      ]
    },
    {
      "cell_type": "markdown",
      "metadata": {
        "id": "mIyC5aLK1Nlu"
      },
      "source": [
        "## Mounting Drive"
      ]
    },
    {
      "cell_type": "code",
      "metadata": {
        "colab": {
          "base_uri": "https://localhost:8080/"
        },
        "id": "LP9i6HoFkkt7",
        "outputId": "8d14d63d-6efd-4127-cc8a-471444b75eb7"
      },
      "source": [
        "from google.colab import drive\n",
        "drive.mount('/content/drive')"
      ],
      "execution_count": 1,
      "outputs": [
        {
          "output_type": "stream",
          "text": [
            "Drive already mounted at /content/drive; to attempt to forcibly remount, call drive.mount(\"/content/drive\", force_remount=True).\n"
          ],
          "name": "stdout"
        }
      ]
    },
    {
      "cell_type": "markdown",
      "metadata": {
        "id": "mteGy4hL1Svw"
      },
      "source": [
        "## Data directory "
      ]
    },
    {
      "cell_type": "code",
      "metadata": {
        "colab": {
          "base_uri": "https://localhost:8080/"
        },
        "id": "jlWk34Uad57a",
        "outputId": "3828ae4a-2602-4055-883c-6d63442e4b59"
      },
      "source": [
        "import glob\n",
        "import os\n",
        "import numpy as np\n",
        "from tqdm import tqdm\n",
        "\n",
        "folder_npy = '/content/drive/MyDrive/googledrive_segmentation/ct-normal-slices-train'\n",
        "\n",
        "file_paths = glob.glob(os.path.join(folder_npy, '*.npy'))\n",
        "file_paths.sort()\n",
        "print(file_paths)\n",
        "print(len(file_paths))"
      ],
      "execution_count": 4,
      "outputs": [
        {
          "output_type": "stream",
          "text": [
            "['/content/drive/MyDrive/googledrive_segmentation/ct-normal-slices-train/CPCR_0001_296_281_383_CR_P001.npy', '/content/drive/MyDrive/googledrive_segmentation/ct-normal-slices-train/CPCR_0002_266_273_309_CR_P002.npy', '/content/drive/MyDrive/googledrive_segmentation/ct-normal-slices-train/CPCR_0003_268_338_372_CR_P003.npy', '/content/drive/MyDrive/googledrive_segmentation/ct-normal-slices-train/CPCR_0004_328_298_372_CR_P004.npy', '/content/drive/MyDrive/googledrive_segmentation/ct-normal-slices-train/CPCR_0005_288_262_369_CR_P005.npy', '/content/drive/MyDrive/googledrive_segmentation/ct-normal-slices-train/CPCR_0006_286_294_317_CR_P006.npy', '/content/drive/MyDrive/googledrive_segmentation/ct-normal-slices-train/CPCR_0007_302_286_310_CR_P007.npy', '/content/drive/MyDrive/googledrive_segmentation/ct-normal-slices-train/CPCR_0008_318_345_355_CR_P008.npy', '/content/drive/MyDrive/googledrive_segmentation/ct-normal-slices-train/CPCR_0009_346_326_364_CR_P009.npy', '/content/drive/MyDrive/googledrive_segmentation/ct-normal-slices-train/CPCR_0010_276_286_294_CR_P010.npy', '/content/drive/MyDrive/googledrive_segmentation/ct-normal-slices-train/CPCR_0011_270_297_333_CR_P011.npy', '/content/drive/MyDrive/googledrive_segmentation/ct-normal-slices-train/CPCR_0012_330_346_375_CR_P012.npy', '/content/drive/MyDrive/googledrive_segmentation/ct-normal-slices-train/CPCR_0013_342_334_354_CR_P013.npy', '/content/drive/MyDrive/googledrive_segmentation/ct-normal-slices-train/CPCR_0014_284_269_310_CR_P014.npy', '/content/drive/MyDrive/googledrive_segmentation/ct-normal-slices-train/CPCR_0015_296_276_347_CR_P015.npy', '/content/drive/MyDrive/googledrive_segmentation/ct-normal-slices-train/CPCR_0016_332_325_368_CR_P016.npy', '/content/drive/MyDrive/googledrive_segmentation/ct-normal-slices-train/CPCR_0017_236_250_309_CR_P017.npy', '/content/drive/MyDrive/googledrive_segmentation/ct-normal-slices-train/CPCR_0018_314_282_319_CR_P018.npy', '/content/drive/MyDrive/googledrive_segmentation/ct-normal-slices-train/CPCR_0019_300_272_359_CR_P019.npy', '/content/drive/MyDrive/googledrive_segmentation/ct-normal-slices-train/CPCR_0020_256_267_369_CR_P020.npy', '/content/drive/MyDrive/googledrive_segmentation/ct-normal-slices-train/CPCR_0021_326_326_374_CR_P021.npy', '/content/drive/MyDrive/googledrive_segmentation/ct-normal-slices-train/CPCR_0022_250_259_310_CR_P022.npy', '/content/drive/MyDrive/googledrive_segmentation/ct-normal-slices-train/CPCR_0023_294_318_372_CR_P023.npy', '/content/drive/MyDrive/googledrive_segmentation/ct-normal-slices-train/CPCR_0024_272_279_328_CR_P024.npy', '/content/drive/MyDrive/googledrive_segmentation/ct-normal-slices-train/CPCR_0025_318_301_317_CR_P025.npy', '/content/drive/MyDrive/googledrive_segmentation/ct-normal-slices-train/CPCR_0026_304_291_353_CR_P026.npy', '/content/drive/MyDrive/googledrive_segmentation/ct-normal-slices-train/CPCR_0027_268_347_369_CR_P027.npy', '/content/drive/MyDrive/googledrive_segmentation/ct-normal-slices-train/CPCR_0028_270_264_310_CR_P028.npy', '/content/drive/MyDrive/googledrive_segmentation/ct-normal-slices-train/CPCR_0029_262_313_343_CR_P029.npy', '/content/drive/MyDrive/googledrive_segmentation/ct-normal-slices-train/CPCR_0030_284_302_310_CR_P030.npy', '/content/drive/MyDrive/googledrive_segmentation/ct-normal-slices-train/CPCR_0031_306_317_372_CR_P031.npy', '/content/drive/MyDrive/googledrive_segmentation/ct-normal-slices-train/CPCR_0032_262_261_326_CR_P032.npy', '/content/drive/MyDrive/googledrive_segmentation/ct-normal-slices-train/CPCR_0033_298_323_370_CR_P033.npy', '/content/drive/MyDrive/googledrive_segmentation/ct-normal-slices-train/CPCR_0034_320_381_415_CR_P034.npy', '/content/drive/MyDrive/googledrive_segmentation/ct-normal-slices-train/CPCR_0035_338_300_351_CR_P035.npy', '/content/drive/MyDrive/googledrive_segmentation/ct-normal-slices-train/CPCR_0036_294_363_388_CR_P036.npy', '/content/drive/MyDrive/googledrive_segmentation/ct-normal-slices-train/CPCR_0037_244_306_319_CR_P037.npy', '/content/drive/MyDrive/googledrive_segmentation/ct-normal-slices-train/CPCR_0038_274_334_397_CR_P038.npy', '/content/drive/MyDrive/googledrive_segmentation/ct-normal-slices-train/CPCR_0039_346_325_384_CR_P039.npy', '/content/drive/MyDrive/googledrive_segmentation/ct-normal-slices-train/CPCR_0040_288_262_351_CR_P040.npy', '/content/drive/MyDrive/googledrive_segmentation/ct-normal-slices-train/CPCR_0041_292_308_371_CR_P041.npy', '/content/drive/MyDrive/googledrive_segmentation/ct-normal-slices-train/CPCR_0042_268_317_372_CR_P042.npy', '/content/drive/MyDrive/googledrive_segmentation/ct-normal-slices-train/CPCR_0043_296_314_390_CR_P043.npy', '/content/drive/MyDrive/googledrive_segmentation/ct-normal-slices-train/CPCR_0044_290_250_320_CR_P044.npy', '/content/drive/MyDrive/googledrive_segmentation/ct-normal-slices-train/CPCR_0045_328_282_374_CR_P045.npy', '/content/drive/MyDrive/googledrive_segmentation/ct-normal-slices-train/CPCR_0046_288_267_319_CR_P046.npy', '/content/drive/MyDrive/googledrive_segmentation/ct-normal-slices-train/CPCR_0047_320_234_288_CR_P047.npy', '/content/drive/MyDrive/googledrive_segmentation/ct-normal-slices-train/CPCR_0048_354_253_327_CR_P048.npy', '/content/drive/MyDrive/googledrive_segmentation/ct-normal-slices-train/CPCR_0049_282_254_310_CR_P049.npy', '/content/drive/MyDrive/googledrive_segmentation/ct-normal-slices-train/CPCR_0050_326_274_327_CR_P050.npy', '/content/drive/MyDrive/googledrive_segmentation/ct-normal-slices-train/CPCR_0051_316_273_375_CR_P051.npy', '/content/drive/MyDrive/googledrive_segmentation/ct-normal-slices-train/CPCR_0052_318_324_348_CR_P052.npy', '/content/drive/MyDrive/googledrive_segmentation/ct-normal-slices-train/CPCR_0053_318_299_336_CR_P053.npy', '/content/drive/MyDrive/googledrive_segmentation/ct-normal-slices-train/CPCR_0054_334_288_370_CR_P054.npy', '/content/drive/MyDrive/googledrive_segmentation/ct-normal-slices-train/CPCR_0055_304_303_372_CR_P055.npy', '/content/drive/MyDrive/googledrive_segmentation/ct-normal-slices-train/H_0001_288_270_368_normal001.npy', '/content/drive/MyDrive/googledrive_segmentation/ct-normal-slices-train/H_0002_334_334_370_normal002.npy', '/content/drive/MyDrive/googledrive_segmentation/ct-normal-slices-train/H_0003_338_344_393_normal003.npy', '/content/drive/MyDrive/googledrive_segmentation/ct-normal-slices-train/H_0004_256_258_340_normal004.npy', '/content/drive/MyDrive/googledrive_segmentation/ct-normal-slices-train/H_0005_286_252_310_normal005.npy', '/content/drive/MyDrive/googledrive_segmentation/ct-normal-slices-train/H_0006_288_237_321_normal006.npy', '/content/drive/MyDrive/googledrive_segmentation/ct-normal-slices-train/H_0007_284_372_368_normal007.npy', '/content/drive/MyDrive/googledrive_segmentation/ct-normal-slices-train/H_0008_278_266_337_normal008.npy', '/content/drive/MyDrive/googledrive_segmentation/ct-normal-slices-train/H_0009_290_292_365_normal009.npy', '/content/drive/MyDrive/googledrive_segmentation/ct-normal-slices-train/H_0010_304_368_384_normal010.npy', '/content/drive/MyDrive/googledrive_segmentation/ct-normal-slices-train/H_0011_276_286_382_normal011.npy', '/content/drive/MyDrive/googledrive_segmentation/ct-normal-slices-train/H_0012_320_363_377_normal012.npy', '/content/drive/MyDrive/googledrive_segmentation/ct-normal-slices-train/H_0013_372_332_397_normal013.npy', '/content/drive/MyDrive/googledrive_segmentation/ct-normal-slices-train/H_0014_280_284_312_normal014.npy', '/content/drive/MyDrive/googledrive_segmentation/ct-normal-slices-train/H_0015_290_315_339_normal015.npy', '/content/drive/MyDrive/googledrive_segmentation/ct-normal-slices-train/H_0016_248_272_298_normal016.npy', '/content/drive/MyDrive/googledrive_segmentation/ct-normal-slices-train/H_0017_354_318_376_normal017.npy', '/content/drive/MyDrive/googledrive_segmentation/ct-normal-slices-train/H_0018_272_258_352_normal018.npy', '/content/drive/MyDrive/googledrive_segmentation/ct-normal-slices-train/H_0019_266_277_318_normal019.npy', '/content/drive/MyDrive/googledrive_segmentation/ct-normal-slices-train/H_0020_274_245_310_normal020.npy', '/content/drive/MyDrive/googledrive_segmentation/ct-normal-slices-train/H_0021_310_262_301_normal021.npy', '/content/drive/MyDrive/googledrive_segmentation/ct-normal-slices-train/H_0022_298_334_372_normal022.npy', '/content/drive/MyDrive/googledrive_segmentation/ct-normal-slices-train/H_0023_324_258_310_normal023.npy', '/content/drive/MyDrive/googledrive_segmentation/ct-normal-slices-train/H_0024_334_276_302_normal024.npy', '/content/drive/MyDrive/googledrive_segmentation/ct-normal-slices-train/H_0025_312_289_318_normal025.npy', '/content/drive/MyDrive/googledrive_segmentation/ct-normal-slices-train/H_0026_294_245_333_normal026.npy', '/content/drive/MyDrive/googledrive_segmentation/ct-normal-slices-train/H_0027_336_272_383_normal027.npy', '/content/drive/MyDrive/googledrive_segmentation/ct-normal-slices-train/H_0028_288_266_345_normal028.npy', '/content/drive/MyDrive/googledrive_segmentation/ct-normal-slices-train/H_0029_274_349_356_normal029.npy', '/content/drive/MyDrive/googledrive_segmentation/ct-normal-slices-train/H_0030_260_283_323_normal030.npy', '/content/drive/MyDrive/googledrive_segmentation/ct-normal-slices-train/H_0031_332_310_342_normal031.npy', '/content/drive/MyDrive/googledrive_segmentation/ct-normal-slices-train/H_0032_292_236_302_normal032.npy', '/content/drive/MyDrive/googledrive_segmentation/ct-normal-slices-train/H_0033_280_274_315_normal033.npy', '/content/drive/MyDrive/googledrive_segmentation/ct-normal-slices-train/H_0034_268_260_344_normal034.npy', '/content/drive/MyDrive/googledrive_segmentation/ct-normal-slices-train/H_0035_252_239_296_normal035.npy', '/content/drive/MyDrive/googledrive_segmentation/ct-normal-slices-train/H_0036_318_291_345_normal036.npy', '/content/drive/MyDrive/googledrive_segmentation/ct-normal-slices-train/H_0037_296_276_356_normal037.npy', '/content/drive/MyDrive/googledrive_segmentation/ct-normal-slices-train/H_0038_370_296_352_normal038.npy', '/content/drive/MyDrive/googledrive_segmentation/ct-normal-slices-train/H_0039_308_291_325_normal039.npy', '/content/drive/MyDrive/googledrive_segmentation/ct-normal-slices-train/H_0040_302_284_310_normal040.npy', '/content/drive/MyDrive/googledrive_segmentation/ct-normal-slices-train/H_0041_302_348_386_normal041.npy', '/content/drive/MyDrive/googledrive_segmentation/ct-normal-slices-train/H_0042_258_343_356_normal042.npy', '/content/drive/MyDrive/googledrive_segmentation/ct-normal-slices-train/H_0043_286_249_316_normal043.npy', '/content/drive/MyDrive/googledrive_segmentation/ct-normal-slices-train/H_0044_300_276_295_normal044.npy', '/content/drive/MyDrive/googledrive_segmentation/ct-normal-slices-train/H_0045_308_250_306_normal045.npy', '/content/drive/MyDrive/googledrive_segmentation/ct-normal-slices-train/H_0046_284_338_330_normal046.npy', '/content/drive/MyDrive/googledrive_segmentation/ct-normal-slices-train/H_0047_236_247_287_normal047.npy', '/content/drive/MyDrive/googledrive_segmentation/ct-normal-slices-train/H_0048_336_340_389_normal048.npy', '/content/drive/MyDrive/googledrive_segmentation/ct-normal-slices-train/H_0049_324_270_326_normal049.npy', '/content/drive/MyDrive/googledrive_segmentation/ct-normal-slices-train/H_0050_344_319_364_normal050.npy', '/content/drive/MyDrive/googledrive_segmentation/ct-normal-slices-train/H_0051_320_334_363_normal051.npy', '/content/drive/MyDrive/googledrive_segmentation/ct-normal-slices-train/H_0052_284_334_387_normal052.npy', '/content/drive/MyDrive/googledrive_segmentation/ct-normal-slices-train/H_0053_304_342_383_normal053.npy', '/content/drive/MyDrive/googledrive_segmentation/ct-normal-slices-train/H_0054_328_296_338_normal054.npy', '/content/drive/MyDrive/googledrive_segmentation/ct-normal-slices-train/H_0055_288_245_299_normal055.npy', '/content/drive/MyDrive/googledrive_segmentation/ct-normal-slices-train/P_0001_336_272_302_cap001.npy', '/content/drive/MyDrive/googledrive_segmentation/ct-normal-slices-train/P_0002_262_270_317_cap002.npy', '/content/drive/MyDrive/googledrive_segmentation/ct-normal-slices-train/P_0003_268_270_316_cap003.npy', '/content/drive/MyDrive/googledrive_segmentation/ct-normal-slices-train/P_0004_362_292_338_cap004.npy', '/content/drive/MyDrive/googledrive_segmentation/ct-normal-slices-train/P_0005_274_331_325_cap005.npy', '/content/drive/MyDrive/googledrive_segmentation/ct-normal-slices-train/P_0006_314_266_339_cap006.npy', '/content/drive/MyDrive/googledrive_segmentation/ct-normal-slices-train/P_0007_318_273_328_cap007.npy', '/content/drive/MyDrive/googledrive_segmentation/ct-normal-slices-train/P_0008_342_259_312_cap008.npy', '/content/drive/MyDrive/googledrive_segmentation/ct-normal-slices-train/P_0009_380_300_329_cap009.npy', '/content/drive/MyDrive/googledrive_segmentation/ct-normal-slices-train/P_0010_318_248_343_cap010.npy', '/content/drive/MyDrive/googledrive_segmentation/ct-normal-slices-train/P_0011_318_381_392_cap011.npy', '/content/drive/MyDrive/googledrive_segmentation/ct-normal-slices-train/P_0012_374_358_402_cap012.npy', '/content/drive/MyDrive/googledrive_segmentation/ct-normal-slices-train/P_0013_282_284_365_cap013.npy', '/content/drive/MyDrive/googledrive_segmentation/ct-normal-slices-train/P_0014_324_299_350_cap014.npy', '/content/drive/MyDrive/googledrive_segmentation/ct-normal-slices-train/P_0015_302_229_308_cap015.npy', '/content/drive/MyDrive/googledrive_segmentation/ct-normal-slices-train/P_0016_260_290_292_cap016.npy', '/content/drive/MyDrive/googledrive_segmentation/ct-normal-slices-train/P_0017_274_303_326_cap017.npy', '/content/drive/MyDrive/googledrive_segmentation/ct-normal-slices-train/P_0018_282_291_297_cap018.npy', '/content/drive/MyDrive/googledrive_segmentation/ct-normal-slices-train/P_0019_272_309_310_cap019.npy', '/content/drive/MyDrive/googledrive_segmentation/ct-normal-slices-train/P_0020_266_296_307_cap020.npy', '/content/drive/MyDrive/googledrive_segmentation/ct-normal-slices-train/P_0021_310_243_310_cap021.npy', '/content/drive/MyDrive/googledrive_segmentation/ct-normal-slices-train/P_0022_328_344_392_cap022.npy', '/content/drive/MyDrive/googledrive_segmentation/ct-normal-slices-train/P_0023_372_296_338_cap023.npy', '/content/drive/MyDrive/googledrive_segmentation/ct-normal-slices-train/P_0024_302_312_353_cap024.npy', '/content/drive/MyDrive/googledrive_segmentation/ct-normal-slices-train/P_0025_352_257_396_cap025.npy', '/content/drive/MyDrive/googledrive_segmentation/ct-normal-slices-train/P_0026_286_333_460_cap026.npy', '/content/drive/MyDrive/googledrive_segmentation/ct-normal-slices-train/P_0027_370_273_308_cap027.npy', '/content/drive/MyDrive/googledrive_segmentation/ct-normal-slices-train/P_0028_316_263_337_cap028.npy', '/content/drive/MyDrive/googledrive_segmentation/ct-normal-slices-train/P_0029_502_346_358_cap029.npy', '/content/drive/MyDrive/googledrive_segmentation/ct-normal-slices-train/P_0030_576_364_361_cap030.npy', '/content/drive/MyDrive/googledrive_segmentation/ct-normal-slices-train/P_0031_344_331_378_cap031.npy', '/content/drive/MyDrive/googledrive_segmentation/ct-normal-slices-train/P_0032_278_281_376_cap032.npy', '/content/drive/MyDrive/googledrive_segmentation/ct-normal-slices-train/P_0033_252_257_304_cap033.npy', '/content/drive/MyDrive/googledrive_segmentation/ct-normal-slices-train/P_0034_288_277_335_cap034.npy', '/content/drive/MyDrive/googledrive_segmentation/ct-normal-slices-train/P_0035_340_371_460_cap035.npy', '/content/drive/MyDrive/googledrive_segmentation/ct-normal-slices-train/P_0036_272_289_289_cap036.npy', '/content/drive/MyDrive/googledrive_segmentation/ct-normal-slices-train/P_0037_314_276_334_cap037.npy', '/content/drive/MyDrive/googledrive_segmentation/ct-normal-slices-train/P_0038_296_244_344_cap038.npy', '/content/drive/MyDrive/googledrive_segmentation/ct-normal-slices-train/P_0039_390_267_323_cap039.npy', '/content/drive/MyDrive/googledrive_segmentation/ct-normal-slices-train/P_0040_288_260_311_cap040.npy', '/content/drive/MyDrive/googledrive_segmentation/ct-normal-slices-train/P_0041_296_335_370_cap041.npy', '/content/drive/MyDrive/googledrive_segmentation/ct-normal-slices-train/P_0042_284_253_326_cap042.npy', '/content/drive/MyDrive/googledrive_segmentation/ct-normal-slices-train/P_0043_310_357_403_cap043.npy', '/content/drive/MyDrive/googledrive_segmentation/ct-normal-slices-train/P_0044_240_288_310_cap044.npy', '/content/drive/MyDrive/googledrive_segmentation/ct-normal-slices-train/P_0045_308_297_368_cap045.npy', '/content/drive/MyDrive/googledrive_segmentation/ct-normal-slices-train/P_0046_216_292_303_cap046.npy', '/content/drive/MyDrive/googledrive_segmentation/ct-normal-slices-train/P_0047_330_311_336_cap047.npy', '/content/drive/MyDrive/googledrive_segmentation/ct-normal-slices-train/P_0048_288_261_328_cap048.npy', '/content/drive/MyDrive/googledrive_segmentation/ct-normal-slices-train/P_0049_280_331_459_cap049.npy', '/content/drive/MyDrive/googledrive_segmentation/ct-normal-slices-train/P_0050_326_357_460_cap050.npy', '/content/drive/MyDrive/googledrive_segmentation/ct-normal-slices-train/P_0051_354_282_343_cap051.npy', '/content/drive/MyDrive/googledrive_segmentation/ct-normal-slices-train/P_0052_324_228_298_cap052.npy', '/content/drive/MyDrive/googledrive_segmentation/ct-normal-slices-train/P_0053_328_267_281_cap053.npy', '/content/drive/MyDrive/googledrive_segmentation/ct-normal-slices-train/P_0054_292_243_303_cap054.npy', '/content/drive/MyDrive/googledrive_segmentation/ct-normal-slices-train/P_0055_296_229_292_cap055.npy']\n",
            "165\n"
          ],
          "name": "stdout"
        }
      ]
    },
    {
      "cell_type": "code",
      "metadata": {
        "colab": {
          "base_uri": "https://localhost:8080/"
        },
        "id": "w1tCBzHmSx_5",
        "outputId": "e00c006e-42ab-416c-8872-0feec3001635"
      },
      "source": [
        "# Splite data for Health (h) class\n",
        "h_path = file_paths[55:110]\n",
        "print(h_path)"
      ],
      "execution_count": 3,
      "outputs": [
        {
          "output_type": "stream",
          "text": [
            "['/content/drive/MyDrive/googledrive_segmentation/ct-normal-slices-train/H_0001_288_270_368_normal001.npy', '/content/drive/MyDrive/googledrive_segmentation/ct-normal-slices-train/H_0002_334_334_370_normal002.npy', '/content/drive/MyDrive/googledrive_segmentation/ct-normal-slices-train/H_0003_338_344_393_normal003.npy', '/content/drive/MyDrive/googledrive_segmentation/ct-normal-slices-train/H_0004_256_258_340_normal004.npy', '/content/drive/MyDrive/googledrive_segmentation/ct-normal-slices-train/H_0005_286_252_310_normal005.npy', '/content/drive/MyDrive/googledrive_segmentation/ct-normal-slices-train/H_0006_288_237_321_normal006.npy', '/content/drive/MyDrive/googledrive_segmentation/ct-normal-slices-train/H_0007_284_372_368_normal007.npy', '/content/drive/MyDrive/googledrive_segmentation/ct-normal-slices-train/H_0008_278_266_337_normal008.npy', '/content/drive/MyDrive/googledrive_segmentation/ct-normal-slices-train/H_0009_290_292_365_normal009.npy', '/content/drive/MyDrive/googledrive_segmentation/ct-normal-slices-train/H_0010_304_368_384_normal010.npy', '/content/drive/MyDrive/googledrive_segmentation/ct-normal-slices-train/H_0011_276_286_382_normal011.npy', '/content/drive/MyDrive/googledrive_segmentation/ct-normal-slices-train/H_0012_320_363_377_normal012.npy', '/content/drive/MyDrive/googledrive_segmentation/ct-normal-slices-train/H_0013_372_332_397_normal013.npy', '/content/drive/MyDrive/googledrive_segmentation/ct-normal-slices-train/H_0014_280_284_312_normal014.npy', '/content/drive/MyDrive/googledrive_segmentation/ct-normal-slices-train/H_0015_290_315_339_normal015.npy', '/content/drive/MyDrive/googledrive_segmentation/ct-normal-slices-train/H_0016_248_272_298_normal016.npy', '/content/drive/MyDrive/googledrive_segmentation/ct-normal-slices-train/H_0017_354_318_376_normal017.npy', '/content/drive/MyDrive/googledrive_segmentation/ct-normal-slices-train/H_0018_272_258_352_normal018.npy', '/content/drive/MyDrive/googledrive_segmentation/ct-normal-slices-train/H_0019_266_277_318_normal019.npy', '/content/drive/MyDrive/googledrive_segmentation/ct-normal-slices-train/H_0020_274_245_310_normal020.npy', '/content/drive/MyDrive/googledrive_segmentation/ct-normal-slices-train/H_0021_310_262_301_normal021.npy', '/content/drive/MyDrive/googledrive_segmentation/ct-normal-slices-train/H_0022_298_334_372_normal022.npy', '/content/drive/MyDrive/googledrive_segmentation/ct-normal-slices-train/H_0023_324_258_310_normal023.npy', '/content/drive/MyDrive/googledrive_segmentation/ct-normal-slices-train/H_0024_334_276_302_normal024.npy', '/content/drive/MyDrive/googledrive_segmentation/ct-normal-slices-train/H_0025_312_289_318_normal025.npy', '/content/drive/MyDrive/googledrive_segmentation/ct-normal-slices-train/H_0026_294_245_333_normal026.npy', '/content/drive/MyDrive/googledrive_segmentation/ct-normal-slices-train/H_0027_336_272_383_normal027.npy', '/content/drive/MyDrive/googledrive_segmentation/ct-normal-slices-train/H_0028_288_266_345_normal028.npy', '/content/drive/MyDrive/googledrive_segmentation/ct-normal-slices-train/H_0029_274_349_356_normal029.npy', '/content/drive/MyDrive/googledrive_segmentation/ct-normal-slices-train/H_0030_260_283_323_normal030.npy', '/content/drive/MyDrive/googledrive_segmentation/ct-normal-slices-train/H_0031_332_310_342_normal031.npy', '/content/drive/MyDrive/googledrive_segmentation/ct-normal-slices-train/H_0032_292_236_302_normal032.npy', '/content/drive/MyDrive/googledrive_segmentation/ct-normal-slices-train/H_0033_280_274_315_normal033.npy', '/content/drive/MyDrive/googledrive_segmentation/ct-normal-slices-train/H_0034_268_260_344_normal034.npy', '/content/drive/MyDrive/googledrive_segmentation/ct-normal-slices-train/H_0035_252_239_296_normal035.npy', '/content/drive/MyDrive/googledrive_segmentation/ct-normal-slices-train/H_0036_318_291_345_normal036.npy', '/content/drive/MyDrive/googledrive_segmentation/ct-normal-slices-train/H_0037_296_276_356_normal037.npy', '/content/drive/MyDrive/googledrive_segmentation/ct-normal-slices-train/H_0038_370_296_352_normal038.npy', '/content/drive/MyDrive/googledrive_segmentation/ct-normal-slices-train/H_0039_308_291_325_normal039.npy', '/content/drive/MyDrive/googledrive_segmentation/ct-normal-slices-train/H_0040_302_284_310_normal040.npy', '/content/drive/MyDrive/googledrive_segmentation/ct-normal-slices-train/H_0041_302_348_386_normal041.npy', '/content/drive/MyDrive/googledrive_segmentation/ct-normal-slices-train/H_0042_258_343_356_normal042.npy', '/content/drive/MyDrive/googledrive_segmentation/ct-normal-slices-train/H_0043_286_249_316_normal043.npy', '/content/drive/MyDrive/googledrive_segmentation/ct-normal-slices-train/H_0044_300_276_295_normal044.npy', '/content/drive/MyDrive/googledrive_segmentation/ct-normal-slices-train/H_0045_308_250_306_normal045.npy', '/content/drive/MyDrive/googledrive_segmentation/ct-normal-slices-train/H_0046_284_338_330_normal046.npy', '/content/drive/MyDrive/googledrive_segmentation/ct-normal-slices-train/H_0047_236_247_287_normal047.npy', '/content/drive/MyDrive/googledrive_segmentation/ct-normal-slices-train/H_0048_336_340_389_normal048.npy', '/content/drive/MyDrive/googledrive_segmentation/ct-normal-slices-train/H_0049_324_270_326_normal049.npy', '/content/drive/MyDrive/googledrive_segmentation/ct-normal-slices-train/H_0050_344_319_364_normal050.npy', '/content/drive/MyDrive/googledrive_segmentation/ct-normal-slices-train/H_0051_320_334_363_normal051.npy', '/content/drive/MyDrive/googledrive_segmentation/ct-normal-slices-train/H_0052_284_334_387_normal052.npy', '/content/drive/MyDrive/googledrive_segmentation/ct-normal-slices-train/H_0053_304_342_383_normal053.npy', '/content/drive/MyDrive/googledrive_segmentation/ct-normal-slices-train/H_0054_328_296_338_normal054.npy', '/content/drive/MyDrive/googledrive_segmentation/ct-normal-slices-train/H_0055_288_245_299_normal055.npy']\n"
          ],
          "name": "stdout"
        }
      ]
    },
    {
      "cell_type": "markdown",
      "metadata": {
        "id": "k0XZ8AiJFdau"
      },
      "source": [
        "## BCDU-net"
      ]
    },
    {
      "cell_type": "code",
      "metadata": {
        "id": "VcaqgVJRwXu1"
      },
      "source": [
        "import tensorflow as tf\n",
        "import tensorflow.keras as keras\n",
        "import tensorflow.keras.backend as K\n",
        "from tensorflow.python.keras.engine.base_layer import Layer\n",
        "\n",
        "\n",
        "# Tensorflow implementations of max_pooling and unpooling\n",
        "\n",
        "\n",
        "def max_pool_with_argmax(net, ksize, strides):\n",
        "  assert isinstance(ksize, list) or isinstance(ksize, int)\n",
        "  assert isinstance(strides, list) or isinstance(strides, int)\n",
        "\n",
        "  ksize = ksize if isinstance(ksize, list) else [1, ksize, ksize, 1]\n",
        "  strides = strides if isinstance(strides, list) else [1, strides, strides, 1]\n",
        "\n",
        "  with tf.name_scope('MaxPoolArgMax'):\n",
        "    net, mask = tf.nn.max_pool_with_argmax(\n",
        "      net,\n",
        "      ksize=ksize,\n",
        "      strides=strides,\n",
        "      padding='SAME')\n",
        "    return net, mask\n",
        "\n",
        "\n",
        "def unpool(pool, ind, ksize=[1, 2, 2, 1], scope='unpool'):\n",
        "    \"\"\"\n",
        "       Unpooling layer after max_pool_with_argmax.\n",
        "       Args:\n",
        "           pool:   max pooled output tensor\n",
        "           ind:      argmax indices\n",
        "           ksize:     ksize is the same as for the pool\n",
        "       Return:\n",
        "           unpool:    unpooling tensor\n",
        "    \"\"\"\n",
        "    with tf.compat.v1.variable_scope(scope):\n",
        "        input_shape = tf.shape(pool)\n",
        "        output_shape = [input_shape[0], input_shape[1] * ksize[1], input_shape[2] * ksize[2], input_shape[3]]\n",
        "\n",
        "        flat_input_size = tf.reduce_prod(input_shape)\n",
        "        flat_output_shape = [output_shape[0], output_shape[1] * output_shape[2] * output_shape[3]]\n",
        "\n",
        "        pool_ = tf.reshape(pool, [flat_input_size])\n",
        "        batch_range = tf.reshape(tf.range(tf.cast(output_shape[0], tf.int64), dtype=ind.dtype),\n",
        "                                          shape=[input_shape[0], 1, 1, 1])\n",
        "        b = tf.ones_like(ind) * batch_range\n",
        "        b1 = tf.reshape(b, [flat_input_size, 1])\n",
        "        ind_ = tf.reshape(ind, [flat_input_size, 1])\n",
        "        ind_ = tf.concat([b1, ind_], 1)\n",
        "\n",
        "        ret = tf.scatter_nd(ind_, pool_, shape=tf.cast(flat_output_shape, tf.int64))\n",
        "        ret = tf.reshape(ret, output_shape)\n",
        "\n",
        "        set_input_shape = pool.get_shape()\n",
        "        set_output_shape = [set_input_shape[0], set_input_shape[1] * ksize[1], set_input_shape[2] * ksize[2], set_input_shape[3]]\n",
        "        ret.set_shape(set_output_shape)\n",
        "        return ret\n",
        "\n",
        "\n",
        "def _upsample_along_axis(volume, axis, stride, mode='ZEROS'):\n",
        "  shape = volume.get_shape().as_list()\n",
        "\n",
        "  assert mode in ['COPY', 'ZEROS']\n",
        "  assert 0 <= axis < len(shape)\n",
        "\n",
        "  target_shape = shape[:]\n",
        "  target_shape[axis] *= stride\n",
        "\n",
        "  padding = tf.zeros(shape, dtype=volume.dtype) if mode == 'ZEROS' else volume\n",
        "  parts = [volume] + [padding for _ in range(stride - 1)]\n",
        "  volume = tf.concat(parts, min(axis+1, len(shape)-1))\n",
        "\n",
        "  volume = tf.reshape(volume, target_shape)\n",
        "  return volume\n",
        "\n",
        "\n",
        "def upsample(net, stride, mode='ZEROS'):\n",
        "  \"\"\"\n",
        "  Imitate reverse operation of Max-Pooling by either placing original max values\n",
        "  into a fixed postion of upsampled cell:\n",
        "  [0.9] =>[[.9, 0],   (stride=2)\n",
        "           [ 0, 0]]\n",
        "  or copying the value into each cell:\n",
        "  [0.9] =>[[.9, .9],  (stride=2)\n",
        "           [ .9, .9]]\n",
        "  :param net: 4D input tensor with [batch_size, width, heights, channels] axis\n",
        "  :param stride:\n",
        "  :param mode: string 'ZEROS' or 'COPY' indicating which value to use for undefined cells\n",
        "  :return:  4D tensor of size [batch_size, width*stride, heights*stride, channels]\n",
        "  \"\"\"\n",
        "  assert mode in ['COPY', 'ZEROS']\n",
        "  with tf.name_scope('Upsampling'):\n",
        "    net = _upsample_along_axis(net, 2, stride, mode=mode)\n",
        "    net = _upsample_along_axis(net, 1, stride, mode=mode)\n",
        "    return net\n",
        "\n",
        "\n",
        "# Keras layers for pooling and unpooling\n",
        "\n",
        "\n",
        "class MaxPoolingWithArgmax2D(Layer):\n",
        "    def __init__(\n",
        "            self,\n",
        "            pool_size=(2, 2),\n",
        "            strides=(2, 2),\n",
        "            padding='same',\n",
        "            **kwargs):\n",
        "        super(MaxPoolingWithArgmax2D, self).__init__(**kwargs)\n",
        "        self.padding = padding\n",
        "        self.pool_size = pool_size\n",
        "        self.strides = strides\n",
        "\n",
        "    def call(self, inputs, **kwargs):\n",
        "        padding = self.padding\n",
        "        pool_size = self.pool_size\n",
        "        strides = self.strides\n",
        "        if K.backend() == 'tensorflow':\n",
        "            ksize = [1, pool_size[0], pool_size[1], 1]\n",
        "            strides = [1, strides[0], strides[1], 1]\n",
        "            output, argmax = max_pool_with_argmax(inputs, ksize, strides)\n",
        "        else:\n",
        "            errmsg = '{} backend is not supported for layer {}'.format(\n",
        "                K.backend(), type(self).__name__)\n",
        "            raise NotImplementedError(errmsg)\n",
        "        argmax = K.cast(argmax, K.floatx())\n",
        "        return [output, argmax]\n",
        "\n",
        "    def compute_output_shape(self, input_shape):\n",
        "        ratio = (1, 2, 2, 1)\n",
        "        output_shape = [\n",
        "            dim // ratio[idx]\n",
        "            if dim is not None else None\n",
        "            for idx, dim in enumerate(input_shape)]\n",
        "        output_shape = tuple(output_shape)\n",
        "        return [output_shape, output_shape]\n",
        "\n",
        "    def compute_mask(self, inputs, mask=None):\n",
        "        return 2 * [None]\n",
        "\n",
        "\n",
        "class MaxUnpooling2D(Layer):\n",
        "    def __init__(self, up_size=(2, 2), **kwargs):\n",
        "        super(MaxUnpooling2D, self).__init__(**kwargs)\n",
        "        self.up_size = up_size\n",
        "\n",
        "    def call(self, inputs, output_shape=None):\n",
        "        updates = inputs[0]\n",
        "        mask    = tf.cast(inputs[1], dtype=tf.int64)\n",
        "        ksize   = [1, self.up_size[0], self.up_size[1], 1]\n",
        "        return unpool(updates, mask, ksize)\n",
        "\n",
        "    def compute_output_shape(self, input_shape):\n",
        "        mask_shape = input_shape[1]\n",
        "        return (\n",
        "            mask_shape[0],\n",
        "            mask_shape[1] * self.up_size[0],\n",
        "            mask_shape[2] * self.up_size[1],\n",
        "            mask_shape[3]\n",
        "        )\n",
        "\n",
        "from keras.layers import Input\n",
        "from keras.layers.convolutional import Convolution2D\n",
        "from keras.layers.core import Activation, Reshape\n",
        "from keras.layers.normalization import BatchNormalization\n",
        "from keras.models import Model\n",
        "\n",
        "\n",
        "\n",
        "def segnet(input_shape=(128,128,1), n_labels=1, kernel=3, pool_size=(2, 2), output_mode=\"sigmoid\"):\n",
        "    # encoder\n",
        "    inputs = Input(input_shape)\n",
        "\n",
        "    conv_1 = Convolution2D(64, (kernel, kernel), padding=\"same\")(inputs)\n",
        "    conv_1 = BatchNormalization()(conv_1)\n",
        "    conv_1 = Activation(\"relu\")(conv_1)\n",
        "    conv_2 = Convolution2D(64, (kernel, kernel), padding=\"same\")(conv_1)\n",
        "    conv_2 = BatchNormalization()(conv_2)\n",
        "    conv_2 = Activation(\"relu\")(conv_2)\n",
        "\n",
        "    pool_1, mask_1 = MaxPoolingWithArgmax2D(pool_size)(conv_2)\n",
        "\n",
        "    conv_3 = Convolution2D(128, (kernel, kernel), padding=\"same\")(pool_1)\n",
        "    conv_3 = BatchNormalization()(conv_3)\n",
        "    conv_3 = Activation(\"relu\")(conv_3)\n",
        "    conv_4 = Convolution2D(128, (kernel, kernel), padding=\"same\")(conv_3)\n",
        "    conv_4 = BatchNormalization()(conv_4)\n",
        "    conv_4 = Activation(\"relu\")(conv_4)\n",
        "\n",
        "    pool_2, mask_2 = MaxPoolingWithArgmax2D(pool_size)(conv_4)\n",
        "\n",
        "    conv_5 = Convolution2D(256, (kernel, kernel), padding=\"same\")(pool_2)\n",
        "    conv_5 = BatchNormalization()(conv_5)\n",
        "    conv_5 = Activation(\"relu\")(conv_5)\n",
        "    conv_6 = Convolution2D(256, (kernel, kernel), padding=\"same\")(conv_5)\n",
        "    conv_6 = BatchNormalization()(conv_6)\n",
        "    conv_6 = Activation(\"relu\")(conv_6)\n",
        "    conv_7 = Convolution2D(256, (kernel, kernel), padding=\"same\")(conv_6)\n",
        "    conv_7 = BatchNormalization()(conv_7)\n",
        "    conv_7 = Activation(\"relu\")(conv_7)\n",
        "\n",
        "    pool_3, mask_3 = MaxPoolingWithArgmax2D(pool_size)(conv_7)\n",
        "\n",
        "    conv_8 = Convolution2D(512, (kernel, kernel), padding=\"same\")(pool_3)\n",
        "    conv_8 = BatchNormalization()(conv_8)\n",
        "    conv_8 = Activation(\"relu\")(conv_8)\n",
        "    conv_9 = Convolution2D(512, (kernel, kernel), padding=\"same\")(conv_8)\n",
        "    conv_9 = BatchNormalization()(conv_9)\n",
        "    conv_9 = Activation(\"relu\")(conv_9)\n",
        "    conv_10 = Convolution2D(512, (kernel, kernel), padding=\"same\")(conv_9)\n",
        "    conv_10 = BatchNormalization()(conv_10)\n",
        "    conv_10 = Activation(\"relu\")(conv_10)\n",
        "\n",
        "    pool_4, mask_4 = MaxPoolingWithArgmax2D(pool_size)(conv_10)\n",
        "\n",
        "    conv_11 = Convolution2D(512, (kernel, kernel), padding=\"same\")(pool_4)\n",
        "    conv_11 = BatchNormalization()(conv_11)\n",
        "    conv_11 = Activation(\"relu\")(conv_11)\n",
        "    conv_12 = Convolution2D(512, (kernel, kernel), padding=\"same\")(conv_11)\n",
        "    conv_12 = BatchNormalization()(conv_12)\n",
        "    conv_12 = Activation(\"relu\")(conv_12)\n",
        "    conv_13 = Convolution2D(512, (kernel, kernel), padding=\"same\")(conv_12)\n",
        "    conv_13 = BatchNormalization()(conv_13)\n",
        "    conv_13 = Activation(\"relu\")(conv_13)\n",
        "\n",
        "    pool_5, mask_5 = MaxPoolingWithArgmax2D(pool_size)(conv_13)\n",
        "    print(\"Build enceder done..\")\n",
        "\n",
        "    # decoder\n",
        "\n",
        "    unpool_1 = MaxUnpooling2D(pool_size)([pool_5, mask_5])\n",
        "\n",
        "    conv_14 = Convolution2D(512, (kernel, kernel), padding=\"same\")(unpool_1)\n",
        "    conv_14 = BatchNormalization()(conv_14)\n",
        "    conv_14 = Activation(\"relu\")(conv_14)\n",
        "    conv_15 = Convolution2D(512, (kernel, kernel), padding=\"same\")(conv_14)\n",
        "    conv_15 = BatchNormalization()(conv_15)\n",
        "    conv_15 = Activation(\"relu\")(conv_15)\n",
        "    conv_16 = Convolution2D(512, (kernel, kernel), padding=\"same\")(conv_15)\n",
        "    conv_16 = BatchNormalization()(conv_16)\n",
        "    conv_16 = Activation(\"relu\")(conv_16)\n",
        "\n",
        "    unpool_2 = MaxUnpooling2D(pool_size)([conv_16, mask_4])\n",
        "\n",
        "    conv_17 = Convolution2D(512, (kernel, kernel), padding=\"same\")(unpool_2)\n",
        "    conv_17 = BatchNormalization()(conv_17)\n",
        "    conv_17 = Activation(\"relu\")(conv_17)\n",
        "    conv_18 = Convolution2D(512, (kernel, kernel), padding=\"same\")(conv_17)\n",
        "    conv_18 = BatchNormalization()(conv_18)\n",
        "    conv_18 = Activation(\"relu\")(conv_18)\n",
        "    conv_19 = Convolution2D(256, (kernel, kernel), padding=\"same\")(conv_18)\n",
        "    conv_19 = BatchNormalization()(conv_19)\n",
        "    conv_19 = Activation(\"relu\")(conv_19)\n",
        "\n",
        "    unpool_3 = MaxUnpooling2D(pool_size)([conv_19, mask_3])\n",
        "\n",
        "    conv_20 = Convolution2D(256, (kernel, kernel), padding=\"same\")(unpool_3)\n",
        "    conv_20 = BatchNormalization()(conv_20)\n",
        "    conv_20 = Activation(\"relu\")(conv_20)\n",
        "    conv_21 = Convolution2D(256, (kernel, kernel), padding=\"same\")(conv_20)\n",
        "    conv_21 = BatchNormalization()(conv_21)\n",
        "    conv_21 = Activation(\"relu\")(conv_21)\n",
        "    conv_22 = Convolution2D(128, (kernel, kernel), padding=\"same\")(conv_21)\n",
        "    conv_22 = BatchNormalization()(conv_22)\n",
        "    conv_22 = Activation(\"relu\")(conv_22)\n",
        "\n",
        "    unpool_4 = MaxUnpooling2D(pool_size)([conv_22, mask_2])\n",
        "\n",
        "    conv_23 = Convolution2D(128, (kernel, kernel), padding=\"same\")(unpool_4)\n",
        "    conv_23 = BatchNormalization()(conv_23)\n",
        "    conv_23 = Activation(\"relu\")(conv_23)\n",
        "    conv_24 = Convolution2D(64, (kernel, kernel), padding=\"same\")(conv_23)\n",
        "    conv_24 = BatchNormalization()(conv_24)\n",
        "    conv_24 = Activation(\"relu\")(conv_24)\n",
        "\n",
        "    unpool_5 = MaxUnpooling2D(pool_size)([conv_24, mask_1])\n",
        "\n",
        "    conv_25 = Convolution2D(64, (kernel, kernel), padding=\"same\")(unpool_5)\n",
        "    conv_25 = BatchNormalization()(conv_25)\n",
        "    conv_25 = Activation(\"relu\")(conv_25)\n",
        "\n",
        "    conv_26 = Convolution2D(n_labels, (1, 1), padding=\"valid\")(conv_25)\n",
        "    conv_26 = BatchNormalization()(conv_26)\n",
        "\n",
        "\n",
        "    outputs = Activation(output_mode)(conv_26)\n",
        "    print(\"Build decoder done..\")\n",
        "\n",
        "    model = Model(inputs=inputs, outputs=outputs, name=\"SegNet\")\n",
        "\n",
        "    return model"
      ],
      "execution_count": 4,
      "outputs": []
    },
    {
      "cell_type": "code",
      "metadata": {
        "id": "w5V_IaQ7iciU",
        "colab": {
          "base_uri": "https://localhost:8080/"
        },
        "outputId": "b39b0e45-e402-49eb-940c-9ff6de0e913f"
      },
      "source": [
        "model = segnet(input_shape=(128,128,1), n_labels=1, kernel=3, pool_size=(2, 2), output_mode=\"sigmoid\")\n",
        "model.summary()"
      ],
      "execution_count": 5,
      "outputs": [
        {
          "output_type": "stream",
          "text": [
            "Build enceder done..\n",
            "Build decoder done..\n",
            "Model: \"SegNet\"\n",
            "__________________________________________________________________________________________________\n",
            "Layer (type)                    Output Shape         Param #     Connected to                     \n",
            "==================================================================================================\n",
            "input_1 (InputLayer)            [(None, 128, 128, 1) 0                                            \n",
            "__________________________________________________________________________________________________\n",
            "conv2d (Conv2D)                 (None, 128, 128, 64) 640         input_1[0][0]                    \n",
            "__________________________________________________________________________________________________\n",
            "batch_normalization (BatchNorma (None, 128, 128, 64) 256         conv2d[0][0]                     \n",
            "__________________________________________________________________________________________________\n",
            "activation (Activation)         (None, 128, 128, 64) 0           batch_normalization[0][0]        \n",
            "__________________________________________________________________________________________________\n",
            "conv2d_1 (Conv2D)               (None, 128, 128, 64) 36928       activation[0][0]                 \n",
            "__________________________________________________________________________________________________\n",
            "batch_normalization_1 (BatchNor (None, 128, 128, 64) 256         conv2d_1[0][0]                   \n",
            "__________________________________________________________________________________________________\n",
            "activation_1 (Activation)       (None, 128, 128, 64) 0           batch_normalization_1[0][0]      \n",
            "__________________________________________________________________________________________________\n",
            "max_pooling_with_argmax2d (MaxP [(None, 64, 64, 64), 0           activation_1[0][0]               \n",
            "__________________________________________________________________________________________________\n",
            "conv2d_2 (Conv2D)               (None, 64, 64, 128)  73856       max_pooling_with_argmax2d[0][0]  \n",
            "__________________________________________________________________________________________________\n",
            "batch_normalization_2 (BatchNor (None, 64, 64, 128)  512         conv2d_2[0][0]                   \n",
            "__________________________________________________________________________________________________\n",
            "activation_2 (Activation)       (None, 64, 64, 128)  0           batch_normalization_2[0][0]      \n",
            "__________________________________________________________________________________________________\n",
            "conv2d_3 (Conv2D)               (None, 64, 64, 128)  147584      activation_2[0][0]               \n",
            "__________________________________________________________________________________________________\n",
            "batch_normalization_3 (BatchNor (None, 64, 64, 128)  512         conv2d_3[0][0]                   \n",
            "__________________________________________________________________________________________________\n",
            "activation_3 (Activation)       (None, 64, 64, 128)  0           batch_normalization_3[0][0]      \n",
            "__________________________________________________________________________________________________\n",
            "max_pooling_with_argmax2d_1 (Ma [(None, 32, 32, 128) 0           activation_3[0][0]               \n",
            "__________________________________________________________________________________________________\n",
            "conv2d_4 (Conv2D)               (None, 32, 32, 256)  295168      max_pooling_with_argmax2d_1[0][0]\n",
            "__________________________________________________________________________________________________\n",
            "batch_normalization_4 (BatchNor (None, 32, 32, 256)  1024        conv2d_4[0][0]                   \n",
            "__________________________________________________________________________________________________\n",
            "activation_4 (Activation)       (None, 32, 32, 256)  0           batch_normalization_4[0][0]      \n",
            "__________________________________________________________________________________________________\n",
            "conv2d_5 (Conv2D)               (None, 32, 32, 256)  590080      activation_4[0][0]               \n",
            "__________________________________________________________________________________________________\n",
            "batch_normalization_5 (BatchNor (None, 32, 32, 256)  1024        conv2d_5[0][0]                   \n",
            "__________________________________________________________________________________________________\n",
            "activation_5 (Activation)       (None, 32, 32, 256)  0           batch_normalization_5[0][0]      \n",
            "__________________________________________________________________________________________________\n",
            "conv2d_6 (Conv2D)               (None, 32, 32, 256)  590080      activation_5[0][0]               \n",
            "__________________________________________________________________________________________________\n",
            "batch_normalization_6 (BatchNor (None, 32, 32, 256)  1024        conv2d_6[0][0]                   \n",
            "__________________________________________________________________________________________________\n",
            "activation_6 (Activation)       (None, 32, 32, 256)  0           batch_normalization_6[0][0]      \n",
            "__________________________________________________________________________________________________\n",
            "max_pooling_with_argmax2d_2 (Ma [(None, 16, 16, 256) 0           activation_6[0][0]               \n",
            "__________________________________________________________________________________________________\n",
            "conv2d_7 (Conv2D)               (None, 16, 16, 512)  1180160     max_pooling_with_argmax2d_2[0][0]\n",
            "__________________________________________________________________________________________________\n",
            "batch_normalization_7 (BatchNor (None, 16, 16, 512)  2048        conv2d_7[0][0]                   \n",
            "__________________________________________________________________________________________________\n",
            "activation_7 (Activation)       (None, 16, 16, 512)  0           batch_normalization_7[0][0]      \n",
            "__________________________________________________________________________________________________\n",
            "conv2d_8 (Conv2D)               (None, 16, 16, 512)  2359808     activation_7[0][0]               \n",
            "__________________________________________________________________________________________________\n",
            "batch_normalization_8 (BatchNor (None, 16, 16, 512)  2048        conv2d_8[0][0]                   \n",
            "__________________________________________________________________________________________________\n",
            "activation_8 (Activation)       (None, 16, 16, 512)  0           batch_normalization_8[0][0]      \n",
            "__________________________________________________________________________________________________\n",
            "conv2d_9 (Conv2D)               (None, 16, 16, 512)  2359808     activation_8[0][0]               \n",
            "__________________________________________________________________________________________________\n",
            "batch_normalization_9 (BatchNor (None, 16, 16, 512)  2048        conv2d_9[0][0]                   \n",
            "__________________________________________________________________________________________________\n",
            "activation_9 (Activation)       (None, 16, 16, 512)  0           batch_normalization_9[0][0]      \n",
            "__________________________________________________________________________________________________\n",
            "max_pooling_with_argmax2d_3 (Ma [(None, 8, 8, 512),  0           activation_9[0][0]               \n",
            "__________________________________________________________________________________________________\n",
            "conv2d_10 (Conv2D)              (None, 8, 8, 512)    2359808     max_pooling_with_argmax2d_3[0][0]\n",
            "__________________________________________________________________________________________________\n",
            "batch_normalization_10 (BatchNo (None, 8, 8, 512)    2048        conv2d_10[0][0]                  \n",
            "__________________________________________________________________________________________________\n",
            "activation_10 (Activation)      (None, 8, 8, 512)    0           batch_normalization_10[0][0]     \n",
            "__________________________________________________________________________________________________\n",
            "conv2d_11 (Conv2D)              (None, 8, 8, 512)    2359808     activation_10[0][0]              \n",
            "__________________________________________________________________________________________________\n",
            "batch_normalization_11 (BatchNo (None, 8, 8, 512)    2048        conv2d_11[0][0]                  \n",
            "__________________________________________________________________________________________________\n",
            "activation_11 (Activation)      (None, 8, 8, 512)    0           batch_normalization_11[0][0]     \n",
            "__________________________________________________________________________________________________\n",
            "conv2d_12 (Conv2D)              (None, 8, 8, 512)    2359808     activation_11[0][0]              \n",
            "__________________________________________________________________________________________________\n",
            "batch_normalization_12 (BatchNo (None, 8, 8, 512)    2048        conv2d_12[0][0]                  \n",
            "__________________________________________________________________________________________________\n",
            "activation_12 (Activation)      (None, 8, 8, 512)    0           batch_normalization_12[0][0]     \n",
            "__________________________________________________________________________________________________\n",
            "max_pooling_with_argmax2d_4 (Ma [(None, 4, 4, 512),  0           activation_12[0][0]              \n",
            "__________________________________________________________________________________________________\n",
            "max_unpooling2d (MaxUnpooling2D (None, 8, 8, 512)    0           max_pooling_with_argmax2d_4[0][0]\n",
            "                                                                 max_pooling_with_argmax2d_4[0][1]\n",
            "__________________________________________________________________________________________________\n",
            "conv2d_13 (Conv2D)              (None, 8, 8, 512)    2359808     max_unpooling2d[0][0]            \n",
            "__________________________________________________________________________________________________\n",
            "batch_normalization_13 (BatchNo (None, 8, 8, 512)    2048        conv2d_13[0][0]                  \n",
            "__________________________________________________________________________________________________\n",
            "activation_13 (Activation)      (None, 8, 8, 512)    0           batch_normalization_13[0][0]     \n",
            "__________________________________________________________________________________________________\n",
            "conv2d_14 (Conv2D)              (None, 8, 8, 512)    2359808     activation_13[0][0]              \n",
            "__________________________________________________________________________________________________\n",
            "batch_normalization_14 (BatchNo (None, 8, 8, 512)    2048        conv2d_14[0][0]                  \n",
            "__________________________________________________________________________________________________\n",
            "activation_14 (Activation)      (None, 8, 8, 512)    0           batch_normalization_14[0][0]     \n",
            "__________________________________________________________________________________________________\n",
            "conv2d_15 (Conv2D)              (None, 8, 8, 512)    2359808     activation_14[0][0]              \n",
            "__________________________________________________________________________________________________\n",
            "batch_normalization_15 (BatchNo (None, 8, 8, 512)    2048        conv2d_15[0][0]                  \n",
            "__________________________________________________________________________________________________\n",
            "activation_15 (Activation)      (None, 8, 8, 512)    0           batch_normalization_15[0][0]     \n",
            "__________________________________________________________________________________________________\n",
            "max_unpooling2d_1 (MaxUnpooling (None, 16, 16, 512)  0           activation_15[0][0]              \n",
            "                                                                 max_pooling_with_argmax2d_3[0][1]\n",
            "__________________________________________________________________________________________________\n",
            "conv2d_16 (Conv2D)              (None, 16, 16, 512)  2359808     max_unpooling2d_1[0][0]          \n",
            "__________________________________________________________________________________________________\n",
            "batch_normalization_16 (BatchNo (None, 16, 16, 512)  2048        conv2d_16[0][0]                  \n",
            "__________________________________________________________________________________________________\n",
            "activation_16 (Activation)      (None, 16, 16, 512)  0           batch_normalization_16[0][0]     \n",
            "__________________________________________________________________________________________________\n",
            "conv2d_17 (Conv2D)              (None, 16, 16, 512)  2359808     activation_16[0][0]              \n",
            "__________________________________________________________________________________________________\n",
            "batch_normalization_17 (BatchNo (None, 16, 16, 512)  2048        conv2d_17[0][0]                  \n",
            "__________________________________________________________________________________________________\n",
            "activation_17 (Activation)      (None, 16, 16, 512)  0           batch_normalization_17[0][0]     \n",
            "__________________________________________________________________________________________________\n",
            "conv2d_18 (Conv2D)              (None, 16, 16, 256)  1179904     activation_17[0][0]              \n",
            "__________________________________________________________________________________________________\n",
            "batch_normalization_18 (BatchNo (None, 16, 16, 256)  1024        conv2d_18[0][0]                  \n",
            "__________________________________________________________________________________________________\n",
            "activation_18 (Activation)      (None, 16, 16, 256)  0           batch_normalization_18[0][0]     \n",
            "__________________________________________________________________________________________________\n",
            "max_unpooling2d_2 (MaxUnpooling (None, 32, 32, 256)  0           activation_18[0][0]              \n",
            "                                                                 max_pooling_with_argmax2d_2[0][1]\n",
            "__________________________________________________________________________________________________\n",
            "conv2d_19 (Conv2D)              (None, 32, 32, 256)  590080      max_unpooling2d_2[0][0]          \n",
            "__________________________________________________________________________________________________\n",
            "batch_normalization_19 (BatchNo (None, 32, 32, 256)  1024        conv2d_19[0][0]                  \n",
            "__________________________________________________________________________________________________\n",
            "activation_19 (Activation)      (None, 32, 32, 256)  0           batch_normalization_19[0][0]     \n",
            "__________________________________________________________________________________________________\n",
            "conv2d_20 (Conv2D)              (None, 32, 32, 256)  590080      activation_19[0][0]              \n",
            "__________________________________________________________________________________________________\n",
            "batch_normalization_20 (BatchNo (None, 32, 32, 256)  1024        conv2d_20[0][0]                  \n",
            "__________________________________________________________________________________________________\n",
            "activation_20 (Activation)      (None, 32, 32, 256)  0           batch_normalization_20[0][0]     \n",
            "__________________________________________________________________________________________________\n",
            "conv2d_21 (Conv2D)              (None, 32, 32, 128)  295040      activation_20[0][0]              \n",
            "__________________________________________________________________________________________________\n",
            "batch_normalization_21 (BatchNo (None, 32, 32, 128)  512         conv2d_21[0][0]                  \n",
            "__________________________________________________________________________________________________\n",
            "activation_21 (Activation)      (None, 32, 32, 128)  0           batch_normalization_21[0][0]     \n",
            "__________________________________________________________________________________________________\n",
            "max_unpooling2d_3 (MaxUnpooling (None, 64, 64, 128)  0           activation_21[0][0]              \n",
            "                                                                 max_pooling_with_argmax2d_1[0][1]\n",
            "__________________________________________________________________________________________________\n",
            "conv2d_22 (Conv2D)              (None, 64, 64, 128)  147584      max_unpooling2d_3[0][0]          \n",
            "__________________________________________________________________________________________________\n",
            "batch_normalization_22 (BatchNo (None, 64, 64, 128)  512         conv2d_22[0][0]                  \n",
            "__________________________________________________________________________________________________\n",
            "activation_22 (Activation)      (None, 64, 64, 128)  0           batch_normalization_22[0][0]     \n",
            "__________________________________________________________________________________________________\n",
            "conv2d_23 (Conv2D)              (None, 64, 64, 64)   73792       activation_22[0][0]              \n",
            "__________________________________________________________________________________________________\n",
            "batch_normalization_23 (BatchNo (None, 64, 64, 64)   256         conv2d_23[0][0]                  \n",
            "__________________________________________________________________________________________________\n",
            "activation_23 (Activation)      (None, 64, 64, 64)   0           batch_normalization_23[0][0]     \n",
            "__________________________________________________________________________________________________\n",
            "max_unpooling2d_4 (MaxUnpooling (None, 128, 128, 64) 0           activation_23[0][0]              \n",
            "                                                                 max_pooling_with_argmax2d[0][1]  \n",
            "__________________________________________________________________________________________________\n",
            "conv2d_24 (Conv2D)              (None, 128, 128, 64) 36928       max_unpooling2d_4[0][0]          \n",
            "__________________________________________________________________________________________________\n",
            "batch_normalization_24 (BatchNo (None, 128, 128, 64) 256         conv2d_24[0][0]                  \n",
            "__________________________________________________________________________________________________\n",
            "activation_24 (Activation)      (None, 128, 128, 64) 0           batch_normalization_24[0][0]     \n",
            "__________________________________________________________________________________________________\n",
            "conv2d_25 (Conv2D)              (None, 128, 128, 1)  65          activation_24[0][0]              \n",
            "__________________________________________________________________________________________________\n",
            "batch_normalization_25 (BatchNo (None, 128, 128, 1)  4           conv2d_25[0][0]                  \n",
            "__________________________________________________________________________________________________\n",
            "activation_25 (Activation)      (None, 128, 128, 1)  0           batch_normalization_25[0][0]     \n",
            "==================================================================================================\n",
            "Total params: 29,457,797\n",
            "Trainable params: 29,441,923\n",
            "Non-trainable params: 15,874\n",
            "__________________________________________________________________________________________________\n"
          ],
          "name": "stdout"
        }
      ]
    },
    {
      "cell_type": "markdown",
      "metadata": {
        "id": "cYyjkvWzI9gd"
      },
      "source": [
        "### Resizing the slices for BCDUNet model"
      ]
    },
    {
      "cell_type": "code",
      "metadata": {
        "id": "IMyjdb14yHBQ"
      },
      "source": [
        "from skimage.transform import resize"
      ],
      "execution_count": 6,
      "outputs": []
    },
    {
      "cell_type": "code",
      "metadata": {
        "colab": {
          "base_uri": "https://localhost:8080/"
        },
        "id": "OoeYUbNSicbE",
        "outputId": "5e070882-ccd3-4311-93b9-26590940f6ad"
      },
      "source": [
        "output = np.zeros((1,128,128))\n",
        "for i in tqdm(h_path):\n",
        "    data = np.load(i)\n",
        "    data = resize(data, (data.shape[0],128, 128),anti_aliasing=True)\n",
        "    output = np.append(output,data,axis=0)\n",
        "output = output[1:]"
      ],
      "execution_count": 7,
      "outputs": [
        {
          "output_type": "stream",
          "text": [
            "100%|██████████| 55/55 [04:07<00:00,  4.49s/it]\n"
          ],
          "name": "stderr"
        }
      ]
    },
    {
      "cell_type": "code",
      "metadata": {
        "id": "0Bda8uoe-Nm4"
      },
      "source": [
        "'''\n",
        "For saving the RAM, you can save the data and restart you runtime.\n",
        "please import librarys again to continue\n",
        "'''\n",
        "np.save('/content/drive/My Drive/googledrive_segmentation/output_segnet.npy',output)\n"
      ],
      "execution_count": 8,
      "outputs": []
    },
    {
      "cell_type": "code",
      "metadata": {
        "id": "E5RfYONs-hm_"
      },
      "source": [
        "output = np.load('/content/drive/My Drive/googledrive_segmentation/output_segnet.npy')"
      ],
      "execution_count": 9,
      "outputs": []
    },
    {
      "cell_type": "markdown",
      "metadata": {
        "id": "6No6JNrR3PAl"
      },
      "source": [
        "### Adding noise"
      ]
    },
    {
      "cell_type": "code",
      "metadata": {
        "colab": {
          "base_uri": "https://localhost:8080/"
        },
        "id": "5cMhBysijrPy",
        "outputId": "59956f57-2060-4f2d-9cbf-4cafe7b71f86"
      },
      "source": [
        "!pip install noise"
      ],
      "execution_count": 10,
      "outputs": [
        {
          "output_type": "stream",
          "text": [
            "Requirement already satisfied: noise in /usr/local/lib/python3.7/dist-packages (1.2.2)\n"
          ],
          "name": "stdout"
        }
      ]
    },
    {
      "cell_type": "code",
      "metadata": {
        "colab": {
          "base_uri": "https://localhost:8080/",
          "height": 285
        },
        "id": "L3dcZQOMjpat",
        "outputId": "cd47b242-1271-49db-951c-c75f684e17fa"
      },
      "source": [
        "import noise\n",
        "import cv2\n",
        "import numpy as np\n",
        "\n",
        "def add_noise(input_array):\n",
        "    shape = (128,128)\n",
        "    scale = np.random.randint(10,30)\n",
        "    # scale = 12\n",
        "    # scale = 30\n",
        "    octaves = 10\n",
        "    persistence = 0.01*np.random.randint(-50,50)\n",
        "    # persistence = 0.1\n",
        "    lacunarity = 2.0\n",
        "    seed = np.random.randint(0,1000)\n",
        "    # seed = 33\n",
        "    world = np.zeros(shape)\n",
        "    for i in range(shape[0]):\n",
        "        for j in range(shape[1]):\n",
        "            world[i][j] = noise.pnoise2(i/scale, \n",
        "                                        j/scale, \n",
        "                                        octaves=octaves, \n",
        "                                        persistence=persistence, \n",
        "                                        lacunarity=lacunarity, \n",
        "                                        repeatx=140, \n",
        "                                        repeaty=140, \n",
        "                                        base=seed)\n",
        "    return cv2.addWeighted(input_array, 1, world, 1, 0)  \n",
        "\n",
        "import matplotlib.pyplot as plt\n",
        "a  = np.zeros((128,128))\n",
        "plt.imshow(add_noise(a)) "
      ],
      "execution_count": 11,
      "outputs": [
        {
          "output_type": "execute_result",
          "data": {
            "text/plain": [
              "<matplotlib.image.AxesImage at 0x7f59201b97d0>"
            ]
          },
          "metadata": {
            "tags": []
          },
          "execution_count": 11
        },
        {
          "output_type": "display_data",
          "data": {
            "image/png": "[encoded data removed]",
            "text/plain": [
              "<Figure size 432x288 with 1 Axes>"
            ]
          },
          "metadata": {
            "tags": [],
            "needs_background": "light"
          }
        }
      ]
    },
    {
      "cell_type": "code",
      "metadata": {
        "colab": {
          "base_uri": "https://localhost:8080/"
        },
        "id": "scjv_v-5mq6Z",
        "outputId": "0ce1edcc-bfca-4d29-f59a-367f84401990"
      },
      "source": [
        "from tqdm import tqdm\n",
        "noisy_output = np.zeros(output.shape)\n",
        "for i in tqdm(range(output.shape[0])):\n",
        "    noisy_output[i] = add_noise(output[i,:,:])"
      ],
      "execution_count": 12,
      "outputs": [
        {
          "output_type": "stream",
          "text": [
            "100%|██████████| 16448/16448 [07:51<00:00, 34.90it/s]\n"
          ],
          "name": "stderr"
        }
      ]
    },
    {
      "cell_type": "code",
      "metadata": {
        "id": "adKK7uxO_AOl"
      },
      "source": [
        "np.save('/content/drive/My Drive/googledrive_segmentation/noisy_output_segnet.npy',noisy_output)"
      ],
      "execution_count": 13,
      "outputs": []
    },
    {
      "cell_type": "code",
      "metadata": {
        "id": "kdYeTJ3M_AaL"
      },
      "source": [
        "noisy_output = np.load('/content/drive/My Drive/googledrive_segmentation/noisy_output_segnet.npy')"
      ],
      "execution_count": 14,
      "outputs": []
    },
    {
      "cell_type": "code",
      "metadata": {
        "id": "UAgq_bRFAAJw"
      },
      "source": [
        "output = np.load('/content/drive/My Drive/googledrive_segmentation/output_segnet.npy')"
      ],
      "execution_count": null,
      "outputs": []
    },
    {
      "cell_type": "code",
      "metadata": {
        "id": "YJxRbOlFNBpg"
      },
      "source": [
        "'''\n",
        "Change half of data to original slices (without noise)\n",
        "Suggestion: you can use random permutation to clean half of data\n",
        "suggestyion: you can change the rate of being nosisy or clean! \n",
        "'''\n",
        "noisy_output[int(noisy_output.shape[0]/2):] = output[int(noisy_output.shape[0]/2):]"
      ],
      "execution_count": 14,
      "outputs": []
    },
    {
      "cell_type": "code",
      "metadata": {
        "id": "FzN8ZpyM1bcG"
      },
      "source": [
        "#target (without noise)\n",
        "output = np.reshape(output,(output.shape[0],output.shape[1],output.shape[2],1))\n",
        "\n",
        "#input (half noisy)\n",
        "noisy_output = np.reshape(noisy_output,(noisy_output.shape[0],noisy_output.shape[1],noisy_output.shape[2],1))"
      ],
      "execution_count": 15,
      "outputs": []
    },
    {
      "cell_type": "markdown",
      "metadata": {
        "id": "GBeuAoKw4vlg"
      },
      "source": [
        "### Training the model"
      ]
    },
    {
      "cell_type": "code",
      "metadata": {
        "id": "xrL_ZSV-i7sj"
      },
      "source": [
        "model.compile(optimizer='adam',\n",
        "              loss='binary_crossentropy',\n",
        "              metrics=['accuracy'])"
      ],
      "execution_count": 16,
      "outputs": []
    },
    {
      "cell_type": "code",
      "metadata": {
        "id": "Z25TVkjbjwOC"
      },
      "source": [
        ""
      ],
      "execution_count": null,
      "outputs": []
    },
    {
      "cell_type": "code",
      "metadata": {
        "colab": {
          "base_uri": "https://localhost:8080/"
        },
        "id": "wOlc-A2o5wte",
        "outputId": "92bc4d69-2346-4ce9-8f1a-1c812b166250"
      },
      "source": [
        "history = model.fit(noisy_output, output,\n",
        "            batch_size = 5,\n",
        "            epochs = 3,\n",
        "            shuffle=True,\n",
        "            verbose=1)"
      ],
      "execution_count": 17,
      "outputs": [
        {
          "output_type": "stream",
          "text": [
            "Epoch 1/3\n",
            "3290/3290 [==============================] - 327s 88ms/step - loss: 0.4473 - accuracy: 0.7696\n",
            "Epoch 2/3\n",
            "3290/3290 [==============================] - 294s 89ms/step - loss: 0.1238 - accuracy: 0.7837\n",
            "Epoch 3/3\n",
            "3290/3290 [==============================] - 294s 89ms/step - loss: 0.0885 - accuracy: 0.7816\n"
          ],
          "name": "stdout"
        }
      ]
    },
    {
      "cell_type": "code",
      "metadata": {
        "id": "xGnOVm70kw67"
      },
      "source": [
        "'''\n",
        "However, you can save weights of your model for future use\n",
        "'''\n",
        "model.save_weights('/content/drive/My Drive/googledrive_segmentation/weight_half_lung_noisy_segnet.hdf5')\n"
      ],
      "execution_count": 18,
      "outputs": []
    },
    {
      "cell_type": "markdown",
      "metadata": {
        "id": "BwPPzqQKEM0d"
      },
      "source": [
        "restart kernel"
      ]
    },
    {
      "cell_type": "code",
      "metadata": {
        "colab": {
          "base_uri": "https://localhost:8080/"
        },
        "id": "M_JVCISkApJ1",
        "outputId": "a8d312da-3210-4ca2-bba2-c3ef4a6240a4"
      },
      "source": [
        "import tensorflow as tf\n",
        "import tensorflow.keras as keras\n",
        "import tensorflow.keras.backend as K\n",
        "from tensorflow.python.keras.engine.base_layer import Layer\n",
        "\n",
        "\n",
        "# Tensorflow implementations of max_pooling and unpooling\n",
        "\n",
        "\n",
        "def max_pool_with_argmax(net, ksize, strides):\n",
        "  assert isinstance(ksize, list) or isinstance(ksize, int)\n",
        "  assert isinstance(strides, list) or isinstance(strides, int)\n",
        "\n",
        "  ksize = ksize if isinstance(ksize, list) else [1, ksize, ksize, 1]\n",
        "  strides = strides if isinstance(strides, list) else [1, strides, strides, 1]\n",
        "\n",
        "  with tf.name_scope('MaxPoolArgMax'):\n",
        "    net, mask = tf.nn.max_pool_with_argmax(\n",
        "      net,\n",
        "      ksize=ksize,\n",
        "      strides=strides,\n",
        "      padding='SAME')\n",
        "    return net, mask\n",
        "\n",
        "\n",
        "def unpool(pool, ind, ksize=[1, 2, 2, 1], scope='unpool'):\n",
        "    \"\"\"\n",
        "       Unpooling layer after max_pool_with_argmax.\n",
        "       Args:\n",
        "           pool:   max pooled output tensor\n",
        "           ind:      argmax indices\n",
        "           ksize:     ksize is the same as for the pool\n",
        "       Return:\n",
        "           unpool:    unpooling tensor\n",
        "    \"\"\"\n",
        "    with tf.compat.v1.variable_scope(scope):\n",
        "        input_shape = tf.shape(pool)\n",
        "        output_shape = [input_shape[0], input_shape[1] * ksize[1], input_shape[2] * ksize[2], input_shape[3]]\n",
        "\n",
        "        flat_input_size = tf.reduce_prod(input_shape)\n",
        "        flat_output_shape = [output_shape[0], output_shape[1] * output_shape[2] * output_shape[3]]\n",
        "\n",
        "        pool_ = tf.reshape(pool, [flat_input_size])\n",
        "        batch_range = tf.reshape(tf.range(tf.cast(output_shape[0], tf.int64), dtype=ind.dtype),\n",
        "                                          shape=[input_shape[0], 1, 1, 1])\n",
        "        b = tf.ones_like(ind) * batch_range\n",
        "        b1 = tf.reshape(b, [flat_input_size, 1])\n",
        "        ind_ = tf.reshape(ind, [flat_input_size, 1])\n",
        "        ind_ = tf.concat([b1, ind_], 1)\n",
        "\n",
        "        ret = tf.scatter_nd(ind_, pool_, shape=tf.cast(flat_output_shape, tf.int64))\n",
        "        ret = tf.reshape(ret, output_shape)\n",
        "\n",
        "        set_input_shape = pool.get_shape()\n",
        "        set_output_shape = [set_input_shape[0], set_input_shape[1] * ksize[1], set_input_shape[2] * ksize[2], set_input_shape[3]]\n",
        "        ret.set_shape(set_output_shape)\n",
        "        return ret\n",
        "\n",
        "\n",
        "def _upsample_along_axis(volume, axis, stride, mode='ZEROS'):\n",
        "  shape = volume.get_shape().as_list()\n",
        "\n",
        "  assert mode in ['COPY', 'ZEROS']\n",
        "  assert 0 <= axis < len(shape)\n",
        "\n",
        "  target_shape = shape[:]\n",
        "  target_shape[axis] *= stride\n",
        "\n",
        "  padding = tf.zeros(shape, dtype=volume.dtype) if mode == 'ZEROS' else volume\n",
        "  parts = [volume] + [padding for _ in range(stride - 1)]\n",
        "  volume = tf.concat(parts, min(axis+1, len(shape)-1))\n",
        "\n",
        "  volume = tf.reshape(volume, target_shape)\n",
        "  return volume\n",
        "\n",
        "\n",
        "def upsample(net, stride, mode='ZEROS'):\n",
        "  \"\"\"\n",
        "  Imitate reverse operation of Max-Pooling by either placing original max values\n",
        "  into a fixed postion of upsampled cell:\n",
        "  [0.9] =>[[.9, 0],   (stride=2)\n",
        "           [ 0, 0]]\n",
        "  or copying the value into each cell:\n",
        "  [0.9] =>[[.9, .9],  (stride=2)\n",
        "           [ .9, .9]]\n",
        "  :param net: 4D input tensor with [batch_size, width, heights, channels] axis\n",
        "  :param stride:\n",
        "  :param mode: string 'ZEROS' or 'COPY' indicating which value to use for undefined cells\n",
        "  :return:  4D tensor of size [batch_size, width*stride, heights*stride, channels]\n",
        "  \"\"\"\n",
        "  assert mode in ['COPY', 'ZEROS']\n",
        "  with tf.name_scope('Upsampling'):\n",
        "    net = _upsample_along_axis(net, 2, stride, mode=mode)\n",
        "    net = _upsample_along_axis(net, 1, stride, mode=mode)\n",
        "    return net\n",
        "\n",
        "\n",
        "# Keras layers for pooling and unpooling\n",
        "\n",
        "\n",
        "class MaxPoolingWithArgmax2D(Layer):\n",
        "    def __init__(\n",
        "            self,\n",
        "            pool_size=(2, 2),\n",
        "            strides=(2, 2),\n",
        "            padding='same',\n",
        "            **kwargs):\n",
        "        super(MaxPoolingWithArgmax2D, self).__init__(**kwargs)\n",
        "        self.padding = padding\n",
        "        self.pool_size = pool_size\n",
        "        self.strides = strides\n",
        "\n",
        "    def call(self, inputs, **kwargs):\n",
        "        padding = self.padding\n",
        "        pool_size = self.pool_size\n",
        "        strides = self.strides\n",
        "        if K.backend() == 'tensorflow':\n",
        "            ksize = [1, pool_size[0], pool_size[1], 1]\n",
        "            strides = [1, strides[0], strides[1], 1]\n",
        "            output, argmax = max_pool_with_argmax(inputs, ksize, strides)\n",
        "        else:\n",
        "            errmsg = '{} backend is not supported for layer {}'.format(\n",
        "                K.backend(), type(self).__name__)\n",
        "            raise NotImplementedError(errmsg)\n",
        "        argmax = K.cast(argmax, K.floatx())\n",
        "        return [output, argmax]\n",
        "\n",
        "    def compute_output_shape(self, input_shape):\n",
        "        ratio = (1, 2, 2, 1)\n",
        "        output_shape = [\n",
        "            dim // ratio[idx]\n",
        "            if dim is not None else None\n",
        "            for idx, dim in enumerate(input_shape)]\n",
        "        output_shape = tuple(output_shape)\n",
        "        return [output_shape, output_shape]\n",
        "\n",
        "    def compute_mask(self, inputs, mask=None):\n",
        "        return 2 * [None]\n",
        "\n",
        "\n",
        "class MaxUnpooling2D(Layer):\n",
        "    def __init__(self, up_size=(2, 2), **kwargs):\n",
        "        super(MaxUnpooling2D, self).__init__(**kwargs)\n",
        "        self.up_size = up_size\n",
        "\n",
        "    def call(self, inputs, output_shape=None):\n",
        "        updates = inputs[0]\n",
        "        mask    = tf.cast(inputs[1], dtype=tf.int64)\n",
        "        ksize   = [1, self.up_size[0], self.up_size[1], 1]\n",
        "        return unpool(updates, mask, ksize)\n",
        "\n",
        "    def compute_output_shape(self, input_shape):\n",
        "        mask_shape = input_shape[1]\n",
        "        return (\n",
        "            mask_shape[0],\n",
        "            mask_shape[1] * self.up_size[0],\n",
        "            mask_shape[2] * self.up_size[1],\n",
        "            mask_shape[3]\n",
        "        )\n",
        "\n",
        "from keras.layers import Input\n",
        "from keras.layers.convolutional import Convolution2D\n",
        "from keras.layers.core import Activation, Reshape\n",
        "from keras.layers.normalization import BatchNormalization\n",
        "from keras.models import Model\n",
        "\n",
        "\n",
        "\n",
        "def segnet(input_shape=(128,128,1), n_labels=1, kernel=3, pool_size=(2, 2), output_mode=\"sigmoid\"):\n",
        "    # encoder\n",
        "    inputs = Input(input_shape)\n",
        "\n",
        "    conv_1 = Convolution2D(64, (kernel, kernel), padding=\"same\")(inputs)\n",
        "    conv_1 = BatchNormalization()(conv_1)\n",
        "    conv_1 = Activation(\"relu\")(conv_1)\n",
        "    conv_2 = Convolution2D(64, (kernel, kernel), padding=\"same\")(conv_1)\n",
        "    conv_2 = BatchNormalization()(conv_2)\n",
        "    conv_2 = Activation(\"relu\")(conv_2)\n",
        "\n",
        "    pool_1, mask_1 = MaxPoolingWithArgmax2D(pool_size)(conv_2)\n",
        "\n",
        "    conv_3 = Convolution2D(128, (kernel, kernel), padding=\"same\")(pool_1)\n",
        "    conv_3 = BatchNormalization()(conv_3)\n",
        "    conv_3 = Activation(\"relu\")(conv_3)\n",
        "    conv_4 = Convolution2D(128, (kernel, kernel), padding=\"same\")(conv_3)\n",
        "    conv_4 = BatchNormalization()(conv_4)\n",
        "    conv_4 = Activation(\"relu\")(conv_4)\n",
        "\n",
        "    pool_2, mask_2 = MaxPoolingWithArgmax2D(pool_size)(conv_4)\n",
        "\n",
        "    conv_5 = Convolution2D(256, (kernel, kernel), padding=\"same\")(pool_2)\n",
        "    conv_5 = BatchNormalization()(conv_5)\n",
        "    conv_5 = Activation(\"relu\")(conv_5)\n",
        "    conv_6 = Convolution2D(256, (kernel, kernel), padding=\"same\")(conv_5)\n",
        "    conv_6 = BatchNormalization()(conv_6)\n",
        "    conv_6 = Activation(\"relu\")(conv_6)\n",
        "    conv_7 = Convolution2D(256, (kernel, kernel), padding=\"same\")(conv_6)\n",
        "    conv_7 = BatchNormalization()(conv_7)\n",
        "    conv_7 = Activation(\"relu\")(conv_7)\n",
        "\n",
        "    pool_3, mask_3 = MaxPoolingWithArgmax2D(pool_size)(conv_7)\n",
        "\n",
        "    conv_8 = Convolution2D(512, (kernel, kernel), padding=\"same\")(pool_3)\n",
        "    conv_8 = BatchNormalization()(conv_8)\n",
        "    conv_8 = Activation(\"relu\")(conv_8)\n",
        "    conv_9 = Convolution2D(512, (kernel, kernel), padding=\"same\")(conv_8)\n",
        "    conv_9 = BatchNormalization()(conv_9)\n",
        "    conv_9 = Activation(\"relu\")(conv_9)\n",
        "    conv_10 = Convolution2D(512, (kernel, kernel), padding=\"same\")(conv_9)\n",
        "    conv_10 = BatchNormalization()(conv_10)\n",
        "    conv_10 = Activation(\"relu\")(conv_10)\n",
        "\n",
        "    pool_4, mask_4 = MaxPoolingWithArgmax2D(pool_size)(conv_10)\n",
        "\n",
        "    conv_11 = Convolution2D(512, (kernel, kernel), padding=\"same\")(pool_4)\n",
        "    conv_11 = BatchNormalization()(conv_11)\n",
        "    conv_11 = Activation(\"relu\")(conv_11)\n",
        "    conv_12 = Convolution2D(512, (kernel, kernel), padding=\"same\")(conv_11)\n",
        "    conv_12 = BatchNormalization()(conv_12)\n",
        "    conv_12 = Activation(\"relu\")(conv_12)\n",
        "    conv_13 = Convolution2D(512, (kernel, kernel), padding=\"same\")(conv_12)\n",
        "    conv_13 = BatchNormalization()(conv_13)\n",
        "    conv_13 = Activation(\"relu\")(conv_13)\n",
        "\n",
        "    pool_5, mask_5 = MaxPoolingWithArgmax2D(pool_size)(conv_13)\n",
        "    print(\"Build enceder done..\")\n",
        "\n",
        "    # decoder\n",
        "\n",
        "    unpool_1 = MaxUnpooling2D(pool_size)([pool_5, mask_5])\n",
        "\n",
        "    conv_14 = Convolution2D(512, (kernel, kernel), padding=\"same\")(unpool_1)\n",
        "    conv_14 = BatchNormalization()(conv_14)\n",
        "    conv_14 = Activation(\"relu\")(conv_14)\n",
        "    conv_15 = Convolution2D(512, (kernel, kernel), padding=\"same\")(conv_14)\n",
        "    conv_15 = BatchNormalization()(conv_15)\n",
        "    conv_15 = Activation(\"relu\")(conv_15)\n",
        "    conv_16 = Convolution2D(512, (kernel, kernel), padding=\"same\")(conv_15)\n",
        "    conv_16 = BatchNormalization()(conv_16)\n",
        "    conv_16 = Activation(\"relu\")(conv_16)\n",
        "\n",
        "    unpool_2 = MaxUnpooling2D(pool_size)([conv_16, mask_4])\n",
        "\n",
        "    conv_17 = Convolution2D(512, (kernel, kernel), padding=\"same\")(unpool_2)\n",
        "    conv_17 = BatchNormalization()(conv_17)\n",
        "    conv_17 = Activation(\"relu\")(conv_17)\n",
        "    conv_18 = Convolution2D(512, (kernel, kernel), padding=\"same\")(conv_17)\n",
        "    conv_18 = BatchNormalization()(conv_18)\n",
        "    conv_18 = Activation(\"relu\")(conv_18)\n",
        "    conv_19 = Convolution2D(256, (kernel, kernel), padding=\"same\")(conv_18)\n",
        "    conv_19 = BatchNormalization()(conv_19)\n",
        "    conv_19 = Activation(\"relu\")(conv_19)\n",
        "\n",
        "    unpool_3 = MaxUnpooling2D(pool_size)([conv_19, mask_3])\n",
        "\n",
        "    conv_20 = Convolution2D(256, (kernel, kernel), padding=\"same\")(unpool_3)\n",
        "    conv_20 = BatchNormalization()(conv_20)\n",
        "    conv_20 = Activation(\"relu\")(conv_20)\n",
        "    conv_21 = Convolution2D(256, (kernel, kernel), padding=\"same\")(conv_20)\n",
        "    conv_21 = BatchNormalization()(conv_21)\n",
        "    conv_21 = Activation(\"relu\")(conv_21)\n",
        "    conv_22 = Convolution2D(128, (kernel, kernel), padding=\"same\")(conv_21)\n",
        "    conv_22 = BatchNormalization()(conv_22)\n",
        "    conv_22 = Activation(\"relu\")(conv_22)\n",
        "\n",
        "    unpool_4 = MaxUnpooling2D(pool_size)([conv_22, mask_2])\n",
        "\n",
        "    conv_23 = Convolution2D(128, (kernel, kernel), padding=\"same\")(unpool_4)\n",
        "    conv_23 = BatchNormalization()(conv_23)\n",
        "    conv_23 = Activation(\"relu\")(conv_23)\n",
        "    conv_24 = Convolution2D(64, (kernel, kernel), padding=\"same\")(conv_23)\n",
        "    conv_24 = BatchNormalization()(conv_24)\n",
        "    conv_24 = Activation(\"relu\")(conv_24)\n",
        "\n",
        "    unpool_5 = MaxUnpooling2D(pool_size)([conv_24, mask_1])\n",
        "\n",
        "    conv_25 = Convolution2D(64, (kernel, kernel), padding=\"same\")(unpool_5)\n",
        "    conv_25 = BatchNormalization()(conv_25)\n",
        "    conv_25 = Activation(\"relu\")(conv_25)\n",
        "\n",
        "    conv_26 = Convolution2D(n_labels, (1, 1), padding=\"valid\")(conv_25)\n",
        "    conv_26 = BatchNormalization()(conv_26)\n",
        "\n",
        "\n",
        "    outputs = Activation(output_mode)(conv_26)\n",
        "    print(\"Build decoder done..\")\n",
        "\n",
        "    model = Model(inputs=inputs, outputs=outputs, name=\"SegNet\")\n",
        "\n",
        "    return model\n",
        "\n",
        "model = segnet(input_shape=(128,128,1), n_labels=1, kernel=3, pool_size=(2, 2), output_mode=\"sigmoid\")"
      ],
      "execution_count": 2,
      "outputs": [
        {
          "output_type": "stream",
          "text": [
            "Build enceder done..\n",
            "Build decoder done..\n"
          ],
          "name": "stdout"
        }
      ]
    },
    {
      "cell_type": "code",
      "metadata": {
        "id": "D3YOAfx2Agso"
      },
      "source": [
        "model.load_weights('/content/drive/My Drive/googledrive_segmentation/weight_half_lung_noisy_segnet.hdf5')"
      ],
      "execution_count": 3,
      "outputs": []
    },
    {
      "cell_type": "markdown",
      "metadata": {
        "id": "vI0EsJIn43Ud"
      },
      "source": [
        "## 3D CNN model"
      ]
    },
    {
      "cell_type": "code",
      "metadata": {
        "colab": {
          "base_uri": "https://localhost:8080/"
        },
        "id": "ztsUTM-fGE27",
        "outputId": "1bb086be-6f4b-45ac-a20e-7127a38aaed7"
      },
      "source": [
        "import glob\n",
        "import os\n",
        "import numpy as np\n",
        "from tqdm import tqdm\n",
        "\n",
        "folder_npy = '/content/drive/MyDrive/googledrive_segmentation/ct-normal-slices-train'\n",
        "\n",
        "file_paths = glob.glob(os.path.join(folder_npy, '*.npy'))\n",
        "file_paths.sort()\n",
        "print(file_paths)\n",
        "print(len(file_paths))"
      ],
      "execution_count": 4,
      "outputs": [
        {
          "output_type": "stream",
          "text": [
            "['/content/drive/MyDrive/googledrive_segmentation/ct-normal-slices-train/CPCR_0001_296_281_383_CR_P001.npy', '/content/drive/MyDrive/googledrive_segmentation/ct-normal-slices-train/CPCR_0002_266_273_309_CR_P002.npy', '/content/drive/MyDrive/googledrive_segmentation/ct-normal-slices-train/CPCR_0003_268_338_372_CR_P003.npy', '/content/drive/MyDrive/googledrive_segmentation/ct-normal-slices-train/CPCR_0004_328_298_372_CR_P004.npy', '/content/drive/MyDrive/googledrive_segmentation/ct-normal-slices-train/CPCR_0005_288_262_369_CR_P005.npy', '/content/drive/MyDrive/googledrive_segmentation/ct-normal-slices-train/CPCR_0006_286_294_317_CR_P006.npy', '/content/drive/MyDrive/googledrive_segmentation/ct-normal-slices-train/CPCR_0007_302_286_310_CR_P007.npy', '/content/drive/MyDrive/googledrive_segmentation/ct-normal-slices-train/CPCR_0008_318_345_355_CR_P008.npy', '/content/drive/MyDrive/googledrive_segmentation/ct-normal-slices-train/CPCR_0009_346_326_364_CR_P009.npy', '/content/drive/MyDrive/googledrive_segmentation/ct-normal-slices-train/CPCR_0010_276_286_294_CR_P010.npy', '/content/drive/MyDrive/googledrive_segmentation/ct-normal-slices-train/CPCR_0011_270_297_333_CR_P011.npy', '/content/drive/MyDrive/googledrive_segmentation/ct-normal-slices-train/CPCR_0012_330_346_375_CR_P012.npy', '/content/drive/MyDrive/googledrive_segmentation/ct-normal-slices-train/CPCR_0013_342_334_354_CR_P013.npy', '/content/drive/MyDrive/googledrive_segmentation/ct-normal-slices-train/CPCR_0014_284_269_310_CR_P014.npy', '/content/drive/MyDrive/googledrive_segmentation/ct-normal-slices-train/CPCR_0015_296_276_347_CR_P015.npy', '/content/drive/MyDrive/googledrive_segmentation/ct-normal-slices-train/CPCR_0016_332_325_368_CR_P016.npy', '/content/drive/MyDrive/googledrive_segmentation/ct-normal-slices-train/CPCR_0017_236_250_309_CR_P017.npy', '/content/drive/MyDrive/googledrive_segmentation/ct-normal-slices-train/CPCR_0018_314_282_319_CR_P018.npy', '/content/drive/MyDrive/googledrive_segmentation/ct-normal-slices-train/CPCR_0019_300_272_359_CR_P019.npy', '/content/drive/MyDrive/googledrive_segmentation/ct-normal-slices-train/CPCR_0020_256_267_369_CR_P020.npy', '/content/drive/MyDrive/googledrive_segmentation/ct-normal-slices-train/CPCR_0021_326_326_374_CR_P021.npy', '/content/drive/MyDrive/googledrive_segmentation/ct-normal-slices-train/CPCR_0022_250_259_310_CR_P022.npy', '/content/drive/MyDrive/googledrive_segmentation/ct-normal-slices-train/CPCR_0023_294_318_372_CR_P023.npy', '/content/drive/MyDrive/googledrive_segmentation/ct-normal-slices-train/CPCR_0024_272_279_328_CR_P024.npy', '/content/drive/MyDrive/googledrive_segmentation/ct-normal-slices-train/CPCR_0025_318_301_317_CR_P025.npy', '/content/drive/MyDrive/googledrive_segmentation/ct-normal-slices-train/CPCR_0026_304_291_353_CR_P026.npy', '/content/drive/MyDrive/googledrive_segmentation/ct-normal-slices-train/CPCR_0027_268_347_369_CR_P027.npy', '/content/drive/MyDrive/googledrive_segmentation/ct-normal-slices-train/CPCR_0028_270_264_310_CR_P028.npy', '/content/drive/MyDrive/googledrive_segmentation/ct-normal-slices-train/CPCR_0029_262_313_343_CR_P029.npy', '/content/drive/MyDrive/googledrive_segmentation/ct-normal-slices-train/CPCR_0030_284_302_310_CR_P030.npy', '/content/drive/MyDrive/googledrive_segmentation/ct-normal-slices-train/CPCR_0031_306_317_372_CR_P031.npy', '/content/drive/MyDrive/googledrive_segmentation/ct-normal-slices-train/CPCR_0032_262_261_326_CR_P032.npy', '/content/drive/MyDrive/googledrive_segmentation/ct-normal-slices-train/CPCR_0033_298_323_370_CR_P033.npy', '/content/drive/MyDrive/googledrive_segmentation/ct-normal-slices-train/CPCR_0034_320_381_415_CR_P034.npy', '/content/drive/MyDrive/googledrive_segmentation/ct-normal-slices-train/CPCR_0035_338_300_351_CR_P035.npy', '/content/drive/MyDrive/googledrive_segmentation/ct-normal-slices-train/CPCR_0036_294_363_388_CR_P036.npy', '/content/drive/MyDrive/googledrive_segmentation/ct-normal-slices-train/CPCR_0037_244_306_319_CR_P037.npy', '/content/drive/MyDrive/googledrive_segmentation/ct-normal-slices-train/CPCR_0038_274_334_397_CR_P038.npy', '/content/drive/MyDrive/googledrive_segmentation/ct-normal-slices-train/CPCR_0039_346_325_384_CR_P039.npy', '/content/drive/MyDrive/googledrive_segmentation/ct-normal-slices-train/CPCR_0040_288_262_351_CR_P040.npy', '/content/drive/MyDrive/googledrive_segmentation/ct-normal-slices-train/CPCR_0041_292_308_371_CR_P041.npy', '/content/drive/MyDrive/googledrive_segmentation/ct-normal-slices-train/CPCR_0042_268_317_372_CR_P042.npy', '/content/drive/MyDrive/googledrive_segmentation/ct-normal-slices-train/CPCR_0043_296_314_390_CR_P043.npy', '/content/drive/MyDrive/googledrive_segmentation/ct-normal-slices-train/CPCR_0044_290_250_320_CR_P044.npy', '/content/drive/MyDrive/googledrive_segmentation/ct-normal-slices-train/CPCR_0045_328_282_374_CR_P045.npy', '/content/drive/MyDrive/googledrive_segmentation/ct-normal-slices-train/CPCR_0046_288_267_319_CR_P046.npy', '/content/drive/MyDrive/googledrive_segmentation/ct-normal-slices-train/CPCR_0047_320_234_288_CR_P047.npy', '/content/drive/MyDrive/googledrive_segmentation/ct-normal-slices-train/CPCR_0048_354_253_327_CR_P048.npy', '/content/drive/MyDrive/googledrive_segmentation/ct-normal-slices-train/CPCR_0049_282_254_310_CR_P049.npy', '/content/drive/MyDrive/googledrive_segmentation/ct-normal-slices-train/CPCR_0050_326_274_327_CR_P050.npy', '/content/drive/MyDrive/googledrive_segmentation/ct-normal-slices-train/CPCR_0051_316_273_375_CR_P051.npy', '/content/drive/MyDrive/googledrive_segmentation/ct-normal-slices-train/CPCR_0052_318_324_348_CR_P052.npy', '/content/drive/MyDrive/googledrive_segmentation/ct-normal-slices-train/CPCR_0053_318_299_336_CR_P053.npy', '/content/drive/MyDrive/googledrive_segmentation/ct-normal-slices-train/CPCR_0054_334_288_370_CR_P054.npy', '/content/drive/MyDrive/googledrive_segmentation/ct-normal-slices-train/CPCR_0055_304_303_372_CR_P055.npy', '/content/drive/MyDrive/googledrive_segmentation/ct-normal-slices-train/H_0001_288_270_368_normal001.npy', '/content/drive/MyDrive/googledrive_segmentation/ct-normal-slices-train/H_0002_334_334_370_normal002.npy', '/content/drive/MyDrive/googledrive_segmentation/ct-normal-slices-train/H_0003_338_344_393_normal003.npy', '/content/drive/MyDrive/googledrive_segmentation/ct-normal-slices-train/H_0004_256_258_340_normal004.npy', '/content/drive/MyDrive/googledrive_segmentation/ct-normal-slices-train/H_0005_286_252_310_normal005.npy', '/content/drive/MyDrive/googledrive_segmentation/ct-normal-slices-train/H_0006_288_237_321_normal006.npy', '/content/drive/MyDrive/googledrive_segmentation/ct-normal-slices-train/H_0007_284_372_368_normal007.npy', '/content/drive/MyDrive/googledrive_segmentation/ct-normal-slices-train/H_0008_278_266_337_normal008.npy', '/content/drive/MyDrive/googledrive_segmentation/ct-normal-slices-train/H_0009_290_292_365_normal009.npy', '/content/drive/MyDrive/googledrive_segmentation/ct-normal-slices-train/H_0010_304_368_384_normal010.npy', '/content/drive/MyDrive/googledrive_segmentation/ct-normal-slices-train/H_0011_276_286_382_normal011.npy', '/content/drive/MyDrive/googledrive_segmentation/ct-normal-slices-train/H_0012_320_363_377_normal012.npy', '/content/drive/MyDrive/googledrive_segmentation/ct-normal-slices-train/H_0013_372_332_397_normal013.npy', '/content/drive/MyDrive/googledrive_segmentation/ct-normal-slices-train/H_0014_280_284_312_normal014.npy', '/content/drive/MyDrive/googledrive_segmentation/ct-normal-slices-train/H_0015_290_315_339_normal015.npy', '/content/drive/MyDrive/googledrive_segmentation/ct-normal-slices-train/H_0016_248_272_298_normal016.npy', '/content/drive/MyDrive/googledrive_segmentation/ct-normal-slices-train/H_0017_354_318_376_normal017.npy', '/content/drive/MyDrive/googledrive_segmentation/ct-normal-slices-train/H_0018_272_258_352_normal018.npy', '/content/drive/MyDrive/googledrive_segmentation/ct-normal-slices-train/H_0019_266_277_318_normal019.npy', '/content/drive/MyDrive/googledrive_segmentation/ct-normal-slices-train/H_0020_274_245_310_normal020.npy', '/content/drive/MyDrive/googledrive_segmentation/ct-normal-slices-train/H_0021_310_262_301_normal021.npy', '/content/drive/MyDrive/googledrive_segmentation/ct-normal-slices-train/H_0022_298_334_372_normal022.npy', '/content/drive/MyDrive/googledrive_segmentation/ct-normal-slices-train/H_0023_324_258_310_normal023.npy', '/content/drive/MyDrive/googledrive_segmentation/ct-normal-slices-train/H_0024_334_276_302_normal024.npy', '/content/drive/MyDrive/googledrive_segmentation/ct-normal-slices-train/H_0025_312_289_318_normal025.npy', '/content/drive/MyDrive/googledrive_segmentation/ct-normal-slices-train/H_0026_294_245_333_normal026.npy', '/content/drive/MyDrive/googledrive_segmentation/ct-normal-slices-train/H_0027_336_272_383_normal027.npy', '/content/drive/MyDrive/googledrive_segmentation/ct-normal-slices-train/H_0028_288_266_345_normal028.npy', '/content/drive/MyDrive/googledrive_segmentation/ct-normal-slices-train/H_0029_274_349_356_normal029.npy', '/content/drive/MyDrive/googledrive_segmentation/ct-normal-slices-train/H_0030_260_283_323_normal030.npy', '/content/drive/MyDrive/googledrive_segmentation/ct-normal-slices-train/H_0031_332_310_342_normal031.npy', '/content/drive/MyDrive/googledrive_segmentation/ct-normal-slices-train/H_0032_292_236_302_normal032.npy', '/content/drive/MyDrive/googledrive_segmentation/ct-normal-slices-train/H_0033_280_274_315_normal033.npy', '/content/drive/MyDrive/googledrive_segmentation/ct-normal-slices-train/H_0034_268_260_344_normal034.npy', '/content/drive/MyDrive/googledrive_segmentation/ct-normal-slices-train/H_0035_252_239_296_normal035.npy', '/content/drive/MyDrive/googledrive_segmentation/ct-normal-slices-train/H_0036_318_291_345_normal036.npy', '/content/drive/MyDrive/googledrive_segmentation/ct-normal-slices-train/H_0037_296_276_356_normal037.npy', '/content/drive/MyDrive/googledrive_segmentation/ct-normal-slices-train/H_0038_370_296_352_normal038.npy', '/content/drive/MyDrive/googledrive_segmentation/ct-normal-slices-train/H_0039_308_291_325_normal039.npy', '/content/drive/MyDrive/googledrive_segmentation/ct-normal-slices-train/H_0040_302_284_310_normal040.npy', '/content/drive/MyDrive/googledrive_segmentation/ct-normal-slices-train/H_0041_302_348_386_normal041.npy', '/content/drive/MyDrive/googledrive_segmentation/ct-normal-slices-train/H_0042_258_343_356_normal042.npy', '/content/drive/MyDrive/googledrive_segmentation/ct-normal-slices-train/H_0043_286_249_316_normal043.npy', '/content/drive/MyDrive/googledrive_segmentation/ct-normal-slices-train/H_0044_300_276_295_normal044.npy', '/content/drive/MyDrive/googledrive_segmentation/ct-normal-slices-train/H_0045_308_250_306_normal045.npy', '/content/drive/MyDrive/googledrive_segmentation/ct-normal-slices-train/H_0046_284_338_330_normal046.npy', '/content/drive/MyDrive/googledrive_segmentation/ct-normal-slices-train/H_0047_236_247_287_normal047.npy', '/content/drive/MyDrive/googledrive_segmentation/ct-normal-slices-train/H_0048_336_340_389_normal048.npy', '/content/drive/MyDrive/googledrive_segmentation/ct-normal-slices-train/H_0049_324_270_326_normal049.npy', '/content/drive/MyDrive/googledrive_segmentation/ct-normal-slices-train/H_0050_344_319_364_normal050.npy', '/content/drive/MyDrive/googledrive_segmentation/ct-normal-slices-train/H_0051_320_334_363_normal051.npy', '/content/drive/MyDrive/googledrive_segmentation/ct-normal-slices-train/H_0052_284_334_387_normal052.npy', '/content/drive/MyDrive/googledrive_segmentation/ct-normal-slices-train/H_0053_304_342_383_normal053.npy', '/content/drive/MyDrive/googledrive_segmentation/ct-normal-slices-train/H_0054_328_296_338_normal054.npy', '/content/drive/MyDrive/googledrive_segmentation/ct-normal-slices-train/H_0055_288_245_299_normal055.npy', '/content/drive/MyDrive/googledrive_segmentation/ct-normal-slices-train/P_0001_336_272_302_cap001.npy', '/content/drive/MyDrive/googledrive_segmentation/ct-normal-slices-train/P_0002_262_270_317_cap002.npy', '/content/drive/MyDrive/googledrive_segmentation/ct-normal-slices-train/P_0003_268_270_316_cap003.npy', '/content/drive/MyDrive/googledrive_segmentation/ct-normal-slices-train/P_0004_362_292_338_cap004.npy', '/content/drive/MyDrive/googledrive_segmentation/ct-normal-slices-train/P_0005_274_331_325_cap005.npy', '/content/drive/MyDrive/googledrive_segmentation/ct-normal-slices-train/P_0006_314_266_339_cap006.npy', '/content/drive/MyDrive/googledrive_segmentation/ct-normal-slices-train/P_0007_318_273_328_cap007.npy', '/content/drive/MyDrive/googledrive_segmentation/ct-normal-slices-train/P_0008_342_259_312_cap008.npy', '/content/drive/MyDrive/googledrive_segmentation/ct-normal-slices-train/P_0009_380_300_329_cap009.npy', '/content/drive/MyDrive/googledrive_segmentation/ct-normal-slices-train/P_0010_318_248_343_cap010.npy', '/content/drive/MyDrive/googledrive_segmentation/ct-normal-slices-train/P_0011_318_381_392_cap011.npy', '/content/drive/MyDrive/googledrive_segmentation/ct-normal-slices-train/P_0012_374_358_402_cap012.npy', '/content/drive/MyDrive/googledrive_segmentation/ct-normal-slices-train/P_0013_282_284_365_cap013.npy', '/content/drive/MyDrive/googledrive_segmentation/ct-normal-slices-train/P_0014_324_299_350_cap014.npy', '/content/drive/MyDrive/googledrive_segmentation/ct-normal-slices-train/P_0015_302_229_308_cap015.npy', '/content/drive/MyDrive/googledrive_segmentation/ct-normal-slices-train/P_0016_260_290_292_cap016.npy', '/content/drive/MyDrive/googledrive_segmentation/ct-normal-slices-train/P_0017_274_303_326_cap017.npy', '/content/drive/MyDrive/googledrive_segmentation/ct-normal-slices-train/P_0018_282_291_297_cap018.npy', '/content/drive/MyDrive/googledrive_segmentation/ct-normal-slices-train/P_0019_272_309_310_cap019.npy', '/content/drive/MyDrive/googledrive_segmentation/ct-normal-slices-train/P_0020_266_296_307_cap020.npy', '/content/drive/MyDrive/googledrive_segmentation/ct-normal-slices-train/P_0021_310_243_310_cap021.npy', '/content/drive/MyDrive/googledrive_segmentation/ct-normal-slices-train/P_0022_328_344_392_cap022.npy', '/content/drive/MyDrive/googledrive_segmentation/ct-normal-slices-train/P_0023_372_296_338_cap023.npy', '/content/drive/MyDrive/googledrive_segmentation/ct-normal-slices-train/P_0024_302_312_353_cap024.npy', '/content/drive/MyDrive/googledrive_segmentation/ct-normal-slices-train/P_0025_352_257_396_cap025.npy', '/content/drive/MyDrive/googledrive_segmentation/ct-normal-slices-train/P_0026_286_333_460_cap026.npy', '/content/drive/MyDrive/googledrive_segmentation/ct-normal-slices-train/P_0027_370_273_308_cap027.npy', '/content/drive/MyDrive/googledrive_segmentation/ct-normal-slices-train/P_0028_316_263_337_cap028.npy', '/content/drive/MyDrive/googledrive_segmentation/ct-normal-slices-train/P_0029_502_346_358_cap029.npy', '/content/drive/MyDrive/googledrive_segmentation/ct-normal-slices-train/P_0030_576_364_361_cap030.npy', '/content/drive/MyDrive/googledrive_segmentation/ct-normal-slices-train/P_0031_344_331_378_cap031.npy', '/content/drive/MyDrive/googledrive_segmentation/ct-normal-slices-train/P_0032_278_281_376_cap032.npy', '/content/drive/MyDrive/googledrive_segmentation/ct-normal-slices-train/P_0033_252_257_304_cap033.npy', '/content/drive/MyDrive/googledrive_segmentation/ct-normal-slices-train/P_0034_288_277_335_cap034.npy', '/content/drive/MyDrive/googledrive_segmentation/ct-normal-slices-train/P_0035_340_371_460_cap035.npy', '/content/drive/MyDrive/googledrive_segmentation/ct-normal-slices-train/P_0036_272_289_289_cap036.npy', '/content/drive/MyDrive/googledrive_segmentation/ct-normal-slices-train/P_0037_314_276_334_cap037.npy', '/content/drive/MyDrive/googledrive_segmentation/ct-normal-slices-train/P_0038_296_244_344_cap038.npy', '/content/drive/MyDrive/googledrive_segmentation/ct-normal-slices-train/P_0039_390_267_323_cap039.npy', '/content/drive/MyDrive/googledrive_segmentation/ct-normal-slices-train/P_0040_288_260_311_cap040.npy', '/content/drive/MyDrive/googledrive_segmentation/ct-normal-slices-train/P_0041_296_335_370_cap041.npy', '/content/drive/MyDrive/googledrive_segmentation/ct-normal-slices-train/P_0042_284_253_326_cap042.npy', '/content/drive/MyDrive/googledrive_segmentation/ct-normal-slices-train/P_0043_310_357_403_cap043.npy', '/content/drive/MyDrive/googledrive_segmentation/ct-normal-slices-train/P_0044_240_288_310_cap044.npy', '/content/drive/MyDrive/googledrive_segmentation/ct-normal-slices-train/P_0045_308_297_368_cap045.npy', '/content/drive/MyDrive/googledrive_segmentation/ct-normal-slices-train/P_0046_216_292_303_cap046.npy', '/content/drive/MyDrive/googledrive_segmentation/ct-normal-slices-train/P_0047_330_311_336_cap047.npy', '/content/drive/MyDrive/googledrive_segmentation/ct-normal-slices-train/P_0048_288_261_328_cap048.npy', '/content/drive/MyDrive/googledrive_segmentation/ct-normal-slices-train/P_0049_280_331_459_cap049.npy', '/content/drive/MyDrive/googledrive_segmentation/ct-normal-slices-train/P_0050_326_357_460_cap050.npy', '/content/drive/MyDrive/googledrive_segmentation/ct-normal-slices-train/P_0051_354_282_343_cap051.npy', '/content/drive/MyDrive/googledrive_segmentation/ct-normal-slices-train/P_0052_324_228_298_cap052.npy', '/content/drive/MyDrive/googledrive_segmentation/ct-normal-slices-train/P_0053_328_267_281_cap053.npy', '/content/drive/MyDrive/googledrive_segmentation/ct-normal-slices-train/P_0054_292_243_303_cap054.npy', '/content/drive/MyDrive/googledrive_segmentation/ct-normal-slices-train/P_0055_296_229_292_cap055.npy']\n",
            "165\n"
          ],
          "name": "stdout"
        }
      ]
    },
    {
      "cell_type": "code",
      "metadata": {
        "colab": {
          "base_uri": "https://localhost:8080/"
        },
        "id": "sUlX-rkTwO21",
        "outputId": "0a4632d9-e52d-4ea6-be4d-746b235aa07d"
      },
      "source": [
        "'''\n",
        "Load all data to pass through BCDUNet to bold infections in out pipeline\n",
        "Splite data for each class of COVID (c), Health or Control (h) and Pneumonia or CAP (p)\n",
        "\n",
        "'''\n",
        "c_path = file_paths[:55]\n",
        "h_path = file_paths[55:110]\n",
        "p_path = file_paths[110:165]\n",
        "my_file_paths = c_path+h_path+p_path\n",
        "print(my_file_paths)\n",
        "print(len(my_file_paths))\n"
      ],
      "execution_count": 5,
      "outputs": [
        {
          "output_type": "stream",
          "text": [
            "['/content/drive/MyDrive/googledrive_segmentation/ct-normal-slices-train/CPCR_0001_296_281_383_CR_P001.npy', '/content/drive/MyDrive/googledrive_segmentation/ct-normal-slices-train/CPCR_0002_266_273_309_CR_P002.npy', '/content/drive/MyDrive/googledrive_segmentation/ct-normal-slices-train/CPCR_0003_268_338_372_CR_P003.npy', '/content/drive/MyDrive/googledrive_segmentation/ct-normal-slices-train/CPCR_0004_328_298_372_CR_P004.npy', '/content/drive/MyDrive/googledrive_segmentation/ct-normal-slices-train/CPCR_0005_288_262_369_CR_P005.npy', '/content/drive/MyDrive/googledrive_segmentation/ct-normal-slices-train/CPCR_0006_286_294_317_CR_P006.npy', '/content/drive/MyDrive/googledrive_segmentation/ct-normal-slices-train/CPCR_0007_302_286_310_CR_P007.npy', '/content/drive/MyDrive/googledrive_segmentation/ct-normal-slices-train/CPCR_0008_318_345_355_CR_P008.npy', '/content/drive/MyDrive/googledrive_segmentation/ct-normal-slices-train/CPCR_0009_346_326_364_CR_P009.npy', '/content/drive/MyDrive/googledrive_segmentation/ct-normal-slices-train/CPCR_0010_276_286_294_CR_P010.npy', '/content/drive/MyDrive/googledrive_segmentation/ct-normal-slices-train/CPCR_0011_270_297_333_CR_P011.npy', '/content/drive/MyDrive/googledrive_segmentation/ct-normal-slices-train/CPCR_0012_330_346_375_CR_P012.npy', '/content/drive/MyDrive/googledrive_segmentation/ct-normal-slices-train/CPCR_0013_342_334_354_CR_P013.npy', '/content/drive/MyDrive/googledrive_segmentation/ct-normal-slices-train/CPCR_0014_284_269_310_CR_P014.npy', '/content/drive/MyDrive/googledrive_segmentation/ct-normal-slices-train/CPCR_0015_296_276_347_CR_P015.npy', '/content/drive/MyDrive/googledrive_segmentation/ct-normal-slices-train/CPCR_0016_332_325_368_CR_P016.npy', '/content/drive/MyDrive/googledrive_segmentation/ct-normal-slices-train/CPCR_0017_236_250_309_CR_P017.npy', '/content/drive/MyDrive/googledrive_segmentation/ct-normal-slices-train/CPCR_0018_314_282_319_CR_P018.npy', '/content/drive/MyDrive/googledrive_segmentation/ct-normal-slices-train/CPCR_0019_300_272_359_CR_P019.npy', '/content/drive/MyDrive/googledrive_segmentation/ct-normal-slices-train/CPCR_0020_256_267_369_CR_P020.npy', '/content/drive/MyDrive/googledrive_segmentation/ct-normal-slices-train/CPCR_0021_326_326_374_CR_P021.npy', '/content/drive/MyDrive/googledrive_segmentation/ct-normal-slices-train/CPCR_0022_250_259_310_CR_P022.npy', '/content/drive/MyDrive/googledrive_segmentation/ct-normal-slices-train/CPCR_0023_294_318_372_CR_P023.npy', '/content/drive/MyDrive/googledrive_segmentation/ct-normal-slices-train/CPCR_0024_272_279_328_CR_P024.npy', '/content/drive/MyDrive/googledrive_segmentation/ct-normal-slices-train/CPCR_0025_318_301_317_CR_P025.npy', '/content/drive/MyDrive/googledrive_segmentation/ct-normal-slices-train/CPCR_0026_304_291_353_CR_P026.npy', '/content/drive/MyDrive/googledrive_segmentation/ct-normal-slices-train/CPCR_0027_268_347_369_CR_P027.npy', '/content/drive/MyDrive/googledrive_segmentation/ct-normal-slices-train/CPCR_0028_270_264_310_CR_P028.npy', '/content/drive/MyDrive/googledrive_segmentation/ct-normal-slices-train/CPCR_0029_262_313_343_CR_P029.npy', '/content/drive/MyDrive/googledrive_segmentation/ct-normal-slices-train/CPCR_0030_284_302_310_CR_P030.npy', '/content/drive/MyDrive/googledrive_segmentation/ct-normal-slices-train/CPCR_0031_306_317_372_CR_P031.npy', '/content/drive/MyDrive/googledrive_segmentation/ct-normal-slices-train/CPCR_0032_262_261_326_CR_P032.npy', '/content/drive/MyDrive/googledrive_segmentation/ct-normal-slices-train/CPCR_0033_298_323_370_CR_P033.npy', '/content/drive/MyDrive/googledrive_segmentation/ct-normal-slices-train/CPCR_0034_320_381_415_CR_P034.npy', '/content/drive/MyDrive/googledrive_segmentation/ct-normal-slices-train/CPCR_0035_338_300_351_CR_P035.npy', '/content/drive/MyDrive/googledrive_segmentation/ct-normal-slices-train/CPCR_0036_294_363_388_CR_P036.npy', '/content/drive/MyDrive/googledrive_segmentation/ct-normal-slices-train/CPCR_0037_244_306_319_CR_P037.npy', '/content/drive/MyDrive/googledrive_segmentation/ct-normal-slices-train/CPCR_0038_274_334_397_CR_P038.npy', '/content/drive/MyDrive/googledrive_segmentation/ct-normal-slices-train/CPCR_0039_346_325_384_CR_P039.npy', '/content/drive/MyDrive/googledrive_segmentation/ct-normal-slices-train/CPCR_0040_288_262_351_CR_P040.npy', '/content/drive/MyDrive/googledrive_segmentation/ct-normal-slices-train/CPCR_0041_292_308_371_CR_P041.npy', '/content/drive/MyDrive/googledrive_segmentation/ct-normal-slices-train/CPCR_0042_268_317_372_CR_P042.npy', '/content/drive/MyDrive/googledrive_segmentation/ct-normal-slices-train/CPCR_0043_296_314_390_CR_P043.npy', '/content/drive/MyDrive/googledrive_segmentation/ct-normal-slices-train/CPCR_0044_290_250_320_CR_P044.npy', '/content/drive/MyDrive/googledrive_segmentation/ct-normal-slices-train/CPCR_0045_328_282_374_CR_P045.npy', '/content/drive/MyDrive/googledrive_segmentation/ct-normal-slices-train/CPCR_0046_288_267_319_CR_P046.npy', '/content/drive/MyDrive/googledrive_segmentation/ct-normal-slices-train/CPCR_0047_320_234_288_CR_P047.npy', '/content/drive/MyDrive/googledrive_segmentation/ct-normal-slices-train/CPCR_0048_354_253_327_CR_P048.npy', '/content/drive/MyDrive/googledrive_segmentation/ct-normal-slices-train/CPCR_0049_282_254_310_CR_P049.npy', '/content/drive/MyDrive/googledrive_segmentation/ct-normal-slices-train/CPCR_0050_326_274_327_CR_P050.npy', '/content/drive/MyDrive/googledrive_segmentation/ct-normal-slices-train/CPCR_0051_316_273_375_CR_P051.npy', '/content/drive/MyDrive/googledrive_segmentation/ct-normal-slices-train/CPCR_0052_318_324_348_CR_P052.npy', '/content/drive/MyDrive/googledrive_segmentation/ct-normal-slices-train/CPCR_0053_318_299_336_CR_P053.npy', '/content/drive/MyDrive/googledrive_segmentation/ct-normal-slices-train/CPCR_0054_334_288_370_CR_P054.npy', '/content/drive/MyDrive/googledrive_segmentation/ct-normal-slices-train/CPCR_0055_304_303_372_CR_P055.npy', '/content/drive/MyDrive/googledrive_segmentation/ct-normal-slices-train/H_0001_288_270_368_normal001.npy', '/content/drive/MyDrive/googledrive_segmentation/ct-normal-slices-train/H_0002_334_334_370_normal002.npy', '/content/drive/MyDrive/googledrive_segmentation/ct-normal-slices-train/H_0003_338_344_393_normal003.npy', '/content/drive/MyDrive/googledrive_segmentation/ct-normal-slices-train/H_0004_256_258_340_normal004.npy', '/content/drive/MyDrive/googledrive_segmentation/ct-normal-slices-train/H_0005_286_252_310_normal005.npy', '/content/drive/MyDrive/googledrive_segmentation/ct-normal-slices-train/H_0006_288_237_321_normal006.npy', '/content/drive/MyDrive/googledrive_segmentation/ct-normal-slices-train/H_0007_284_372_368_normal007.npy', '/content/drive/MyDrive/googledrive_segmentation/ct-normal-slices-train/H_0008_278_266_337_normal008.npy', '/content/drive/MyDrive/googledrive_segmentation/ct-normal-slices-train/H_0009_290_292_365_normal009.npy', '/content/drive/MyDrive/googledrive_segmentation/ct-normal-slices-train/H_0010_304_368_384_normal010.npy', '/content/drive/MyDrive/googledrive_segmentation/ct-normal-slices-train/H_0011_276_286_382_normal011.npy', '/content/drive/MyDrive/googledrive_segmentation/ct-normal-slices-train/H_0012_320_363_377_normal012.npy', '/content/drive/MyDrive/googledrive_segmentation/ct-normal-slices-train/H_0013_372_332_397_normal013.npy', '/content/drive/MyDrive/googledrive_segmentation/ct-normal-slices-train/H_0014_280_284_312_normal014.npy', '/content/drive/MyDrive/googledrive_segmentation/ct-normal-slices-train/H_0015_290_315_339_normal015.npy', '/content/drive/MyDrive/googledrive_segmentation/ct-normal-slices-train/H_0016_248_272_298_normal016.npy', '/content/drive/MyDrive/googledrive_segmentation/ct-normal-slices-train/H_0017_354_318_376_normal017.npy', '/content/drive/MyDrive/googledrive_segmentation/ct-normal-slices-train/H_0018_272_258_352_normal018.npy', '/content/drive/MyDrive/googledrive_segmentation/ct-normal-slices-train/H_0019_266_277_318_normal019.npy', '/content/drive/MyDrive/googledrive_segmentation/ct-normal-slices-train/H_0020_274_245_310_normal020.npy', '/content/drive/MyDrive/googledrive_segmentation/ct-normal-slices-train/H_0021_310_262_301_normal021.npy', '/content/drive/MyDrive/googledrive_segmentation/ct-normal-slices-train/H_0022_298_334_372_normal022.npy', '/content/drive/MyDrive/googledrive_segmentation/ct-normal-slices-train/H_0023_324_258_310_normal023.npy', '/content/drive/MyDrive/googledrive_segmentation/ct-normal-slices-train/H_0024_334_276_302_normal024.npy', '/content/drive/MyDrive/googledrive_segmentation/ct-normal-slices-train/H_0025_312_289_318_normal025.npy', '/content/drive/MyDrive/googledrive_segmentation/ct-normal-slices-train/H_0026_294_245_333_normal026.npy', '/content/drive/MyDrive/googledrive_segmentation/ct-normal-slices-train/H_0027_336_272_383_normal027.npy', '/content/drive/MyDrive/googledrive_segmentation/ct-normal-slices-train/H_0028_288_266_345_normal028.npy', '/content/drive/MyDrive/googledrive_segmentation/ct-normal-slices-train/H_0029_274_349_356_normal029.npy', '/content/drive/MyDrive/googledrive_segmentation/ct-normal-slices-train/H_0030_260_283_323_normal030.npy', '/content/drive/MyDrive/googledrive_segmentation/ct-normal-slices-train/H_0031_332_310_342_normal031.npy', '/content/drive/MyDrive/googledrive_segmentation/ct-normal-slices-train/H_0032_292_236_302_normal032.npy', '/content/drive/MyDrive/googledrive_segmentation/ct-normal-slices-train/H_0033_280_274_315_normal033.npy', '/content/drive/MyDrive/googledrive_segmentation/ct-normal-slices-train/H_0034_268_260_344_normal034.npy', '/content/drive/MyDrive/googledrive_segmentation/ct-normal-slices-train/H_0035_252_239_296_normal035.npy', '/content/drive/MyDrive/googledrive_segmentation/ct-normal-slices-train/H_0036_318_291_345_normal036.npy', '/content/drive/MyDrive/googledrive_segmentation/ct-normal-slices-train/H_0037_296_276_356_normal037.npy', '/content/drive/MyDrive/googledrive_segmentation/ct-normal-slices-train/H_0038_370_296_352_normal038.npy', '/content/drive/MyDrive/googledrive_segmentation/ct-normal-slices-train/H_0039_308_291_325_normal039.npy', '/content/drive/MyDrive/googledrive_segmentation/ct-normal-slices-train/H_0040_302_284_310_normal040.npy', '/content/drive/MyDrive/googledrive_segmentation/ct-normal-slices-train/H_0041_302_348_386_normal041.npy', '/content/drive/MyDrive/googledrive_segmentation/ct-normal-slices-train/H_0042_258_343_356_normal042.npy', '/content/drive/MyDrive/googledrive_segmentation/ct-normal-slices-train/H_0043_286_249_316_normal043.npy', '/content/drive/MyDrive/googledrive_segmentation/ct-normal-slices-train/H_0044_300_276_295_normal044.npy', '/content/drive/MyDrive/googledrive_segmentation/ct-normal-slices-train/H_0045_308_250_306_normal045.npy', '/content/drive/MyDrive/googledrive_segmentation/ct-normal-slices-train/H_0046_284_338_330_normal046.npy', '/content/drive/MyDrive/googledrive_segmentation/ct-normal-slices-train/H_0047_236_247_287_normal047.npy', '/content/drive/MyDrive/googledrive_segmentation/ct-normal-slices-train/H_0048_336_340_389_normal048.npy', '/content/drive/MyDrive/googledrive_segmentation/ct-normal-slices-train/H_0049_324_270_326_normal049.npy', '/content/drive/MyDrive/googledrive_segmentation/ct-normal-slices-train/H_0050_344_319_364_normal050.npy', '/content/drive/MyDrive/googledrive_segmentation/ct-normal-slices-train/H_0051_320_334_363_normal051.npy', '/content/drive/MyDrive/googledrive_segmentation/ct-normal-slices-train/H_0052_284_334_387_normal052.npy', '/content/drive/MyDrive/googledrive_segmentation/ct-normal-slices-train/H_0053_304_342_383_normal053.npy', '/content/drive/MyDrive/googledrive_segmentation/ct-normal-slices-train/H_0054_328_296_338_normal054.npy', '/content/drive/MyDrive/googledrive_segmentation/ct-normal-slices-train/H_0055_288_245_299_normal055.npy', '/content/drive/MyDrive/googledrive_segmentation/ct-normal-slices-train/P_0001_336_272_302_cap001.npy', '/content/drive/MyDrive/googledrive_segmentation/ct-normal-slices-train/P_0002_262_270_317_cap002.npy', '/content/drive/MyDrive/googledrive_segmentation/ct-normal-slices-train/P_0003_268_270_316_cap003.npy', '/content/drive/MyDrive/googledrive_segmentation/ct-normal-slices-train/P_0004_362_292_338_cap004.npy', '/content/drive/MyDrive/googledrive_segmentation/ct-normal-slices-train/P_0005_274_331_325_cap005.npy', '/content/drive/MyDrive/googledrive_segmentation/ct-normal-slices-train/P_0006_314_266_339_cap006.npy', '/content/drive/MyDrive/googledrive_segmentation/ct-normal-slices-train/P_0007_318_273_328_cap007.npy', '/content/drive/MyDrive/googledrive_segmentation/ct-normal-slices-train/P_0008_342_259_312_cap008.npy', '/content/drive/MyDrive/googledrive_segmentation/ct-normal-slices-train/P_0009_380_300_329_cap009.npy', '/content/drive/MyDrive/googledrive_segmentation/ct-normal-slices-train/P_0010_318_248_343_cap010.npy', '/content/drive/MyDrive/googledrive_segmentation/ct-normal-slices-train/P_0011_318_381_392_cap011.npy', '/content/drive/MyDrive/googledrive_segmentation/ct-normal-slices-train/P_0012_374_358_402_cap012.npy', '/content/drive/MyDrive/googledrive_segmentation/ct-normal-slices-train/P_0013_282_284_365_cap013.npy', '/content/drive/MyDrive/googledrive_segmentation/ct-normal-slices-train/P_0014_324_299_350_cap014.npy', '/content/drive/MyDrive/googledrive_segmentation/ct-normal-slices-train/P_0015_302_229_308_cap015.npy', '/content/drive/MyDrive/googledrive_segmentation/ct-normal-slices-train/P_0016_260_290_292_cap016.npy', '/content/drive/MyDrive/googledrive_segmentation/ct-normal-slices-train/P_0017_274_303_326_cap017.npy', '/content/drive/MyDrive/googledrive_segmentation/ct-normal-slices-train/P_0018_282_291_297_cap018.npy', '/content/drive/MyDrive/googledrive_segmentation/ct-normal-slices-train/P_0019_272_309_310_cap019.npy', '/content/drive/MyDrive/googledrive_segmentation/ct-normal-slices-train/P_0020_266_296_307_cap020.npy', '/content/drive/MyDrive/googledrive_segmentation/ct-normal-slices-train/P_0021_310_243_310_cap021.npy', '/content/drive/MyDrive/googledrive_segmentation/ct-normal-slices-train/P_0022_328_344_392_cap022.npy', '/content/drive/MyDrive/googledrive_segmentation/ct-normal-slices-train/P_0023_372_296_338_cap023.npy', '/content/drive/MyDrive/googledrive_segmentation/ct-normal-slices-train/P_0024_302_312_353_cap024.npy', '/content/drive/MyDrive/googledrive_segmentation/ct-normal-slices-train/P_0025_352_257_396_cap025.npy', '/content/drive/MyDrive/googledrive_segmentation/ct-normal-slices-train/P_0026_286_333_460_cap026.npy', '/content/drive/MyDrive/googledrive_segmentation/ct-normal-slices-train/P_0027_370_273_308_cap027.npy', '/content/drive/MyDrive/googledrive_segmentation/ct-normal-slices-train/P_0028_316_263_337_cap028.npy', '/content/drive/MyDrive/googledrive_segmentation/ct-normal-slices-train/P_0029_502_346_358_cap029.npy', '/content/drive/MyDrive/googledrive_segmentation/ct-normal-slices-train/P_0030_576_364_361_cap030.npy', '/content/drive/MyDrive/googledrive_segmentation/ct-normal-slices-train/P_0031_344_331_378_cap031.npy', '/content/drive/MyDrive/googledrive_segmentation/ct-normal-slices-train/P_0032_278_281_376_cap032.npy', '/content/drive/MyDrive/googledrive_segmentation/ct-normal-slices-train/P_0033_252_257_304_cap033.npy', '/content/drive/MyDrive/googledrive_segmentation/ct-normal-slices-train/P_0034_288_277_335_cap034.npy', '/content/drive/MyDrive/googledrive_segmentation/ct-normal-slices-train/P_0035_340_371_460_cap035.npy', '/content/drive/MyDrive/googledrive_segmentation/ct-normal-slices-train/P_0036_272_289_289_cap036.npy', '/content/drive/MyDrive/googledrive_segmentation/ct-normal-slices-train/P_0037_314_276_334_cap037.npy', '/content/drive/MyDrive/googledrive_segmentation/ct-normal-slices-train/P_0038_296_244_344_cap038.npy', '/content/drive/MyDrive/googledrive_segmentation/ct-normal-slices-train/P_0039_390_267_323_cap039.npy', '/content/drive/MyDrive/googledrive_segmentation/ct-normal-slices-train/P_0040_288_260_311_cap040.npy', '/content/drive/MyDrive/googledrive_segmentation/ct-normal-slices-train/P_0041_296_335_370_cap041.npy', '/content/drive/MyDrive/googledrive_segmentation/ct-normal-slices-train/P_0042_284_253_326_cap042.npy', '/content/drive/MyDrive/googledrive_segmentation/ct-normal-slices-train/P_0043_310_357_403_cap043.npy', '/content/drive/MyDrive/googledrive_segmentation/ct-normal-slices-train/P_0044_240_288_310_cap044.npy', '/content/drive/MyDrive/googledrive_segmentation/ct-normal-slices-train/P_0045_308_297_368_cap045.npy', '/content/drive/MyDrive/googledrive_segmentation/ct-normal-slices-train/P_0046_216_292_303_cap046.npy', '/content/drive/MyDrive/googledrive_segmentation/ct-normal-slices-train/P_0047_330_311_336_cap047.npy', '/content/drive/MyDrive/googledrive_segmentation/ct-normal-slices-train/P_0048_288_261_328_cap048.npy', '/content/drive/MyDrive/googledrive_segmentation/ct-normal-slices-train/P_0049_280_331_459_cap049.npy', '/content/drive/MyDrive/googledrive_segmentation/ct-normal-slices-train/P_0050_326_357_460_cap050.npy', '/content/drive/MyDrive/googledrive_segmentation/ct-normal-slices-train/P_0051_354_282_343_cap051.npy', '/content/drive/MyDrive/googledrive_segmentation/ct-normal-slices-train/P_0052_324_228_298_cap052.npy', '/content/drive/MyDrive/googledrive_segmentation/ct-normal-slices-train/P_0053_328_267_281_cap053.npy', '/content/drive/MyDrive/googledrive_segmentation/ct-normal-slices-train/P_0054_292_243_303_cap054.npy', '/content/drive/MyDrive/googledrive_segmentation/ct-normal-slices-train/P_0055_296_229_292_cap055.npy']\n",
            "165\n"
          ],
          "name": "stdout"
        }
      ]
    },
    {
      "cell_type": "markdown",
      "metadata": {
        "id": "Ve_jRExW5tFq"
      },
      "source": [
        "### Go Through BCDUNet all slices and pack them"
      ]
    },
    {
      "cell_type": "code",
      "metadata": {
        "colab": {
          "base_uri": "https://localhost:8080/"
        },
        "id": "NPwaQl94p_FI",
        "outputId": "75527def-d108-4bcc-9783-78dddcb74065"
      },
      "source": [
        "'''\n",
        "Here, we:\n",
        "1- Resize different size of slices (2D) -> in x,y axes\n",
        "2- Predict all slices of a patient using BCDUNET\n",
        "3- Do subtraction\n",
        "1- Resize different size of CT images (3D) -> in z axis\n",
        "'''\n",
        "from skimage.transform import resize\n",
        "import numpy as np\n",
        "from scipy import signal\n",
        "\n",
        "dataset = np.zeros((len(my_file_paths),50,128,128))\n",
        "counter = 0\n",
        "for j in tqdm(my_file_paths):\n",
        "    #print(j)\n",
        "    CT = np.load(j)\n",
        "    CT_resized = resize(CT, (CT.shape[0],128, 128),anti_aliasing=True)\n",
        "    out = model.predict(np.reshape(CT_resized,(CT_resized.shape[0],CT_resized.shape[1],CT_resized.shape[2],1)))\n",
        "    #out_resized = resize(out, (out.shape[0],128, 128),anti_aliasing=True)\n",
        "    c = CT_resized-out[:,:,:,0]\n",
        "    dataset[counter] = resize(c,(50,128,128))\n",
        "    counter +=1"
      ],
      "execution_count": null,
      "outputs": [
        {
          "output_type": "stream",
          "text": [
            "\r  0%|          | 0/165 [00:00<?, ?it/s]"
          ],
          "name": "stderr"
        }
      ]
    },
    {
      "cell_type": "markdown",
      "metadata": {
        "id": "B-CU9sQw7N62"
      },
      "source": [
        "### Prepare labels"
      ]
    },
    {
      "cell_type": "code",
      "metadata": {
        "colab": {
          "base_uri": "https://localhost:8080/"
        },
        "id": "dRUcU12tTfkX",
        "outputId": "31e76953-31ba-45bd-8eae-3e761d67e54c"
      },
      "source": [
        "'''\n",
        "Based on the name of files (C: COVID, H: Health or Control, P: Pneumonia or CAP)\n",
        "'''\n",
        "lbl = np.zeros((165))\n",
        "lbl[0:55] = 1 #COVID\n",
        "lbl[55:110] = 0 #Control\n",
        "lbl[110:165] = 2 #CAP\n",
        "print(lbl)"
      ],
      "execution_count": null,
      "outputs": [
        {
          "output_type": "stream",
          "text": [
            "[1. 1. 1. 1. 1. 1. 1. 1. 1. 1. 1. 1. 1. 1. 1. 1. 1. 1. 1. 1. 1. 1. 1. 1.\n",
            " 1. 1. 1. 1. 1. 1. 1. 1. 1. 1. 1. 1. 1. 1. 1. 1. 1. 1. 1. 1. 1. 1. 1. 1.\n",
            " 1. 1. 1. 1. 1. 1. 1. 0. 0. 0. 0. 0. 0. 0. 0. 0. 0. 0. 0. 0. 0. 0. 0. 0.\n",
            " 0. 0. 0. 0. 0. 0. 0. 0. 0. 0. 0. 0. 0. 0. 0. 0. 0. 0. 0. 0. 0. 0. 0. 0.\n",
            " 0. 0. 0. 0. 0. 0. 0. 0. 0. 0. 0. 0. 0. 0. 2. 2. 2. 2. 2. 2. 2. 2. 2. 2.\n",
            " 2. 2. 2. 2. 2. 2. 2. 2. 2. 2. 2. 2. 2. 2. 2. 2. 2. 2. 2. 2. 2. 2. 2. 2.\n",
            " 2. 2. 2. 2. 2. 2. 2. 2. 2. 2. 2. 2. 2. 2. 2. 2. 2. 2. 2. 2. 2.]\n"
          ],
          "name": "stdout"
        }
      ]
    },
    {
      "cell_type": "code",
      "metadata": {
        "id": "COooOCiztCNF"
      },
      "source": [
        "'''\n",
        "For saving the RAM, you can save the data and restart you runtime.\n",
        "please import librarys again to continue\n",
        "'''\n",
        "np.save('/content/drive/My Drive/googledrive_segmentation/dataset_segnet.npy',dataset)\n",
        "np.save('/content/drive/My Drive/googledrive_segmentation/lbl_segnet.npy',lbl)"
      ],
      "execution_count": null,
      "outputs": []
    },
    {
      "cell_type": "markdown",
      "metadata": {
        "id": "S31yQM_-8NGN"
      },
      "source": [
        "### 3D CNN training"
      ]
    },
    {
      "cell_type": "code",
      "metadata": {
        "id": "OO2VXNd7yidl"
      },
      "source": [
        "import keras\n",
        "from keras.models import Sequential\n",
        "from keras.layers import Dense, Flatten, Conv3D, MaxPooling3D,Dropout\n",
        "from keras.utils import to_categorical\n",
        "import h5py\n",
        "import numpy as np\n",
        "import matplotlib.pyplot as plt"
      ],
      "execution_count": null,
      "outputs": []
    },
    {
      "cell_type": "code",
      "metadata": {
        "id": "PZSuKaY4USDX"
      },
      "source": [
        "dataset = np.load('/content/drive/My Drive/googledrive_segmentation/dataset_segnet.npy')\n",
        "lbl = np.load('/content/drive/My Drive/googledrive_segmentation/lbl_segnet.npy')"
      ],
      "execution_count": null,
      "outputs": []
    },
    {
      "cell_type": "code",
      "metadata": {
        "id": "cJR9Rk2e3mF7"
      },
      "source": [
        "# reshape the dataset to feed to the model\n",
        "dataset = np.reshape(dataset,(dataset.shape[0],dataset.shape[1],dataset.shape[2],dataset.shape[3],1))"
      ],
      "execution_count": null,
      "outputs": []
    },
    {
      "cell_type": "code",
      "metadata": {
        "colab": {
          "base_uri": "https://localhost:8080/"
        },
        "id": "2RMuLzQRx_gk",
        "outputId": "6f8b3f00-f392-4ef0-9e84-fc05493c22d8"
      },
      "source": [
        "# for balancing data as the inputs of the model\n",
        "c = np.random.permutation(np.arange(0,55))\n",
        "h = np.random.permutation(np.arange(55,110))\n",
        "p = np.random.permutation(np.arange(110,165))\n",
        "\n",
        "train_index=[]\n",
        "\n",
        "train_index = np.append(train_index,c[0:40] ).astype(np.uint8)\n",
        "train_index = np.append(train_index,p[0:40]).astype(np.uint8)\n",
        "train_index = np.random.permutation(train_index)\n",
        "print('training set:', train_index)\n",
        "\n",
        "validation_index=[]\n",
        "\n",
        "validation_index= np.append(validation_index,c[40:55]).astype(np.uint8)\n",
        "validation_index= np.append(validation_index,p[40:55]).astype(np.uint8)\n",
        "validation_index= np.random.permutation(validation_index)\n",
        "print('validation set:', validation_index)\n",
        "\n"
      ],
      "execution_count": null,
      "outputs": [
        {
          "output_type": "stream",
          "text": [
            "training set: [158  10  39  21  15  46 149  24   2 129 157  25  41 114   4  35 116  45\n",
            " 110  38  17 123 148 125 131 120  43 133  14  19 154  33 161  37  18 136\n",
            "   6 146 134 152 162  48  27  53 156  30  47 155 130  22  54  20 160  36\n",
            " 150   8 118 122 164  16  29 115 147  40  28  26   9 137 135 143 128  50\n",
            " 138 144   3 142 121 111 112  23]\n",
            "validation set: [ 42 132  49 117 141  32  52 140  44 153  11  13 163 113 139   0 127   5\n",
            "  12 124 119 126 145  31   1 151   7  51 159  34]\n"
          ],
          "name": "stdout"
        }
      ]
    },
    {
      "cell_type": "code",
      "metadata": {
        "id": "cXqMa2CXyVmb"
      },
      "source": [
        "# Convert target vectors to categorical targets\n",
        "targets_train = to_categorical(lbl[train_index]).astype(np.uint8)\n",
        "targets_validation = to_categorical(lbl[validation_index]).astype(np.uint8)\n"
      ],
      "execution_count": null,
      "outputs": []
    },
    {
      "cell_type": "code",
      "metadata": {
        "colab": {
          "base_uri": "https://localhost:8080/"
        },
        "id": "uyrVUjPPtgaz",
        "outputId": "d5065f80-8d51-4576-d85a-10b4f2589ff9"
      },
      "source": [
        "model = Sequential()\n",
        "model.add(Conv3D(8, kernel_size=(3, 3, 3), activation='relu', kernel_initializer='he_uniform', input_shape=(50,128,128,1)))\n",
        "model.add(Conv3D(8, kernel_size=(3, 3, 3), activation='relu', kernel_initializer='he_uniform',padding='same'))\n",
        "model.add(MaxPooling3D(pool_size=(2, 2, 2)))\n",
        "\n",
        "model.add(Conv3D(16, kernel_size=(3, 3, 3), activation='relu', kernel_initializer='he_uniform',padding='same'))\n",
        "model.add(Conv3D(16, kernel_size=(3, 3, 3), activation='relu', kernel_initializer='he_uniform',padding='same'))\n",
        "model.add(MaxPooling3D(pool_size=(2, 2, 2)))\n",
        "\n",
        "model.add(Conv3D(32, kernel_size=(3, 3, 3), activation='relu', kernel_initializer='he_uniform',padding='same'))\n",
        "model.add(Conv3D(32, kernel_size=(3, 3, 3), activation='relu', kernel_initializer='he_uniform',padding='same'))\n",
        "model.add(MaxPooling3D(pool_size=(2, 2, 2)))\n",
        "\n",
        "model.add(Conv3D(64, kernel_size=(3, 3, 3), activation='relu', kernel_initializer='he_uniform',padding='same'))\n",
        "model.add(Conv3D(64, kernel_size=(3, 3, 3), activation='relu', kernel_initializer='he_uniform',padding='same'))\n",
        "model.add(MaxPooling3D(pool_size=(2, 2, 2)))\n",
        "\n",
        "model.add(Conv3D(128, kernel_size=(3, 3, 3), activation='relu', kernel_initializer='he_uniform',padding='same'))\n",
        "model.add(Conv3D(128, kernel_size=(3, 3, 3), activation='relu', kernel_initializer='he_uniform',padding='same'))\n",
        "model.add(MaxPooling3D(pool_size=(2, 2, 2)))\n",
        "\n",
        "model.add(Flatten())\n",
        "model.add(Dense(32, activation='relu', kernel_initializer='he_uniform'))\n",
        "model.add(Dropout(0.3))\n",
        "model.add(Dense(3, activation='softmax'))\n",
        "\n",
        "model.summary()"
      ],
      "execution_count": null,
      "outputs": [
        {
          "output_type": "stream",
          "text": [
            "Model: \"sequential\"\n",
            "_________________________________________________________________\n",
            "Layer (type)                 Output Shape              Param #   \n",
            "=================================================================\n",
            "conv3d (Conv3D)              (None, 48, 126, 126, 8)   224       \n",
            "_________________________________________________________________\n",
            "conv3d_1 (Conv3D)            (None, 48, 126, 126, 8)   1736      \n",
            "_________________________________________________________________\n",
            "max_pooling3d (MaxPooling3D) (None, 24, 63, 63, 8)     0         \n",
            "_________________________________________________________________\n",
            "conv3d_2 (Conv3D)            (None, 24, 63, 63, 16)    3472      \n",
            "_________________________________________________________________\n",
            "conv3d_3 (Conv3D)            (None, 24, 63, 63, 16)    6928      \n",
            "_________________________________________________________________\n",
            "max_pooling3d_1 (MaxPooling3 (None, 12, 31, 31, 16)    0         \n",
            "_________________________________________________________________\n",
            "conv3d_4 (Conv3D)            (None, 12, 31, 31, 32)    13856     \n",
            "_________________________________________________________________\n",
            "conv3d_5 (Conv3D)            (None, 12, 31, 31, 32)    27680     \n",
            "_________________________________________________________________\n",
            "max_pooling3d_2 (MaxPooling3 (None, 6, 15, 15, 32)     0         \n",
            "_________________________________________________________________\n",
            "conv3d_6 (Conv3D)            (None, 6, 15, 15, 64)     55360     \n",
            "_________________________________________________________________\n",
            "conv3d_7 (Conv3D)            (None, 6, 15, 15, 64)     110656    \n",
            "_________________________________________________________________\n",
            "max_pooling3d_3 (MaxPooling3 (None, 3, 7, 7, 64)       0         \n",
            "_________________________________________________________________\n",
            "conv3d_8 (Conv3D)            (None, 3, 7, 7, 128)      221312    \n",
            "_________________________________________________________________\n",
            "conv3d_9 (Conv3D)            (None, 3, 7, 7, 128)      442496    \n",
            "_________________________________________________________________\n",
            "max_pooling3d_4 (MaxPooling3 (None, 1, 3, 3, 128)      0         \n",
            "_________________________________________________________________\n",
            "flatten (Flatten)            (None, 1152)              0         \n",
            "_________________________________________________________________\n",
            "dense (Dense)                (None, 32)                36896     \n",
            "_________________________________________________________________\n",
            "dropout_4 (Dropout)          (None, 32)                0         \n",
            "_________________________________________________________________\n",
            "dense_1 (Dense)              (None, 3)                 99        \n",
            "=================================================================\n",
            "Total params: 920,715\n",
            "Trainable params: 920,715\n",
            "Non-trainable params: 0\n",
            "_________________________________________________________________\n"
          ],
          "name": "stdout"
        }
      ]
    },
    {
      "cell_type": "code",
      "metadata": {
        "id": "zWMbulfdUGJA"
      },
      "source": [
        "# Compile the model\n",
        "model.compile(loss=keras.losses.categorical_crossentropy, # or 'mse'\n",
        "              optimizer=keras.optimizers.Adam(lr=0.0001),\n",
        "              metrics=['accuracy'])\n"
      ],
      "execution_count": null,
      "outputs": []
    },
    {
      "cell_type": "code",
      "metadata": {
        "colab": {
          "base_uri": "https://localhost:8080/"
        },
        "id": "_8nQmmzyyS0m",
        "outputId": "493a41b8-50df-4798-b6c9-33d8bb86f941"
      },
      "source": [
        "# Fit data to model\n",
        "history = model.fit(dataset[train_index], targets_train,\n",
        "            batch_size=10, # batch_size = 16 in paper\n",
        "            epochs=100, # epochs = 100 in paper\n",
        "            verbose=1,\n",
        "            shuffle = True,\n",
        "            validation_data = (dataset[validation_index],targets_validation))"
      ],
      "execution_count": null,
      "outputs": [
        {
          "output_type": "stream",
          "text": [
            "Epoch 1/100\n",
            "8/8 [==============================] - 8s 690ms/step - loss: 1.0337 - accuracy: 0.4082 - val_loss: 0.8430 - val_accuracy: 0.5000\n",
            "Epoch 2/100\n",
            "8/8 [==============================] - 3s 370ms/step - loss: 0.8739 - accuracy: 0.5412 - val_loss: 0.7016 - val_accuracy: 0.5667\n",
            "Epoch 3/100\n",
            "8/8 [==============================] - 3s 368ms/step - loss: 0.6768 - accuracy: 0.6934 - val_loss: 0.7134 - val_accuracy: 0.5000\n",
            "Epoch 4/100\n",
            "8/8 [==============================] - 3s 363ms/step - loss: 0.8104 - accuracy: 0.4925 - val_loss: 0.7260 - val_accuracy: 0.5667\n",
            "Epoch 5/100\n",
            "8/8 [==============================] - 3s 364ms/step - loss: 0.7411 - accuracy: 0.6312 - val_loss: 0.7318 - val_accuracy: 0.5000\n",
            "Epoch 6/100\n",
            "8/8 [==============================] - 3s 363ms/step - loss: 0.6992 - accuracy: 0.6220 - val_loss: 0.6947 - val_accuracy: 0.6333\n",
            "Epoch 7/100\n",
            "8/8 [==============================] - 3s 363ms/step - loss: 0.7054 - accuracy: 0.6438 - val_loss: 0.6884 - val_accuracy: 0.5667\n",
            "Epoch 8/100\n",
            "8/8 [==============================] - 3s 361ms/step - loss: 0.7248 - accuracy: 0.6751 - val_loss: 0.6827 - val_accuracy: 0.6000\n",
            "Epoch 9/100\n",
            "8/8 [==============================] - 3s 361ms/step - loss: 0.6130 - accuracy: 0.6817 - val_loss: 0.6729 - val_accuracy: 0.5667\n",
            "Epoch 10/100\n",
            "8/8 [==============================] - 3s 364ms/step - loss: 0.6920 - accuracy: 0.4954 - val_loss: 0.7135 - val_accuracy: 0.5333\n",
            "Epoch 11/100\n",
            "8/8 [==============================] - 3s 361ms/step - loss: 0.6490 - accuracy: 0.6177 - val_loss: 0.6670 - val_accuracy: 0.6000\n",
            "Epoch 12/100\n",
            "8/8 [==============================] - 3s 364ms/step - loss: 0.5762 - accuracy: 0.6867 - val_loss: 0.6950 - val_accuracy: 0.6000\n",
            "Epoch 13/100\n",
            "8/8 [==============================] - 3s 364ms/step - loss: 0.5014 - accuracy: 0.7976 - val_loss: 0.7211 - val_accuracy: 0.5667\n",
            "Epoch 14/100\n",
            "8/8 [==============================] - 3s 364ms/step - loss: 0.5484 - accuracy: 0.7159 - val_loss: 0.6744 - val_accuracy: 0.6333\n",
            "Epoch 15/100\n",
            "8/8 [==============================] - 3s 364ms/step - loss: 0.5241 - accuracy: 0.7507 - val_loss: 0.7052 - val_accuracy: 0.5667\n",
            "Epoch 16/100\n",
            "8/8 [==============================] - 3s 361ms/step - loss: 0.4633 - accuracy: 0.8389 - val_loss: 0.7117 - val_accuracy: 0.6667\n",
            "Epoch 17/100\n",
            "8/8 [==============================] - 3s 362ms/step - loss: 0.4702 - accuracy: 0.7757 - val_loss: 0.6867 - val_accuracy: 0.6333\n",
            "Epoch 18/100\n",
            "8/8 [==============================] - 3s 361ms/step - loss: 0.4395 - accuracy: 0.7934 - val_loss: 0.7834 - val_accuracy: 0.5667\n",
            "Epoch 19/100\n",
            "8/8 [==============================] - 3s 361ms/step - loss: 0.3793 - accuracy: 0.8246 - val_loss: 0.7457 - val_accuracy: 0.6000\n",
            "Epoch 20/100\n",
            "8/8 [==============================] - 3s 359ms/step - loss: 0.3736 - accuracy: 0.8806 - val_loss: 0.7672 - val_accuracy: 0.6000\n",
            "Epoch 21/100\n",
            "8/8 [==============================] - 3s 360ms/step - loss: 0.3823 - accuracy: 0.8211 - val_loss: 0.8119 - val_accuracy: 0.5667\n",
            "Epoch 22/100\n",
            "8/8 [==============================] - 3s 362ms/step - loss: 0.2430 - accuracy: 0.8803 - val_loss: 0.8190 - val_accuracy: 0.5333\n",
            "Epoch 23/100\n",
            "8/8 [==============================] - 3s 362ms/step - loss: 0.2643 - accuracy: 0.9099 - val_loss: 0.9090 - val_accuracy: 0.6000\n",
            "Epoch 24/100\n",
            "8/8 [==============================] - 3s 360ms/step - loss: 0.2053 - accuracy: 0.9489 - val_loss: 0.9753 - val_accuracy: 0.5667\n",
            "Epoch 25/100\n",
            "8/8 [==============================] - 3s 361ms/step - loss: 0.1307 - accuracy: 0.9667 - val_loss: 1.3909 - val_accuracy: 0.6000\n",
            "Epoch 26/100\n",
            "8/8 [==============================] - 3s 361ms/step - loss: 0.2125 - accuracy: 0.9157 - val_loss: 0.8060 - val_accuracy: 0.6333\n",
            "Epoch 27/100\n",
            "8/8 [==============================] - 3s 363ms/step - loss: 0.1931 - accuracy: 0.9264 - val_loss: 0.7276 - val_accuracy: 0.5667\n",
            "Epoch 28/100\n",
            "8/8 [==============================] - 3s 363ms/step - loss: 0.1960 - accuracy: 0.9221 - val_loss: 0.8254 - val_accuracy: 0.5667\n",
            "Epoch 29/100\n",
            "8/8 [==============================] - 3s 361ms/step - loss: 0.1117 - accuracy: 0.9639 - val_loss: 1.2638 - val_accuracy: 0.6000\n",
            "Epoch 30/100\n",
            "8/8 [==============================] - 3s 364ms/step - loss: 0.2431 - accuracy: 0.9297 - val_loss: 0.9635 - val_accuracy: 0.5667\n",
            "Epoch 31/100\n",
            "8/8 [==============================] - 3s 364ms/step - loss: 0.0726 - accuracy: 0.9779 - val_loss: 1.1792 - val_accuracy: 0.6000\n",
            "Epoch 32/100\n",
            "8/8 [==============================] - 3s 366ms/step - loss: 0.0986 - accuracy: 0.9956 - val_loss: 1.4185 - val_accuracy: 0.5667\n",
            "Epoch 33/100\n",
            "8/8 [==============================] - 3s 364ms/step - loss: 0.1426 - accuracy: 0.9419 - val_loss: 1.2399 - val_accuracy: 0.7000\n",
            "Epoch 34/100\n",
            "8/8 [==============================] - 3s 362ms/step - loss: 0.1214 - accuracy: 0.9649 - val_loss: 0.7862 - val_accuracy: 0.6333\n",
            "Epoch 35/100\n",
            "8/8 [==============================] - 3s 362ms/step - loss: 0.1841 - accuracy: 0.9120 - val_loss: 0.7142 - val_accuracy: 0.6333\n",
            "Epoch 36/100\n",
            "8/8 [==============================] - 3s 361ms/step - loss: 0.1080 - accuracy: 0.9782 - val_loss: 1.3795 - val_accuracy: 0.6333\n",
            "Epoch 37/100\n",
            "8/8 [==============================] - 3s 361ms/step - loss: 0.1550 - accuracy: 0.9203 - val_loss: 0.8889 - val_accuracy: 0.6667\n",
            "Epoch 38/100\n",
            "8/8 [==============================] - 3s 360ms/step - loss: 0.1607 - accuracy: 0.9283 - val_loss: 1.5150 - val_accuracy: 0.6333\n",
            "Epoch 39/100\n",
            "8/8 [==============================] - 3s 361ms/step - loss: 0.0666 - accuracy: 0.9826 - val_loss: 1.5650 - val_accuracy: 0.5667\n",
            "Epoch 40/100\n",
            "8/8 [==============================] - 3s 364ms/step - loss: 0.0827 - accuracy: 0.9649 - val_loss: 1.3675 - val_accuracy: 0.6000\n",
            "Epoch 41/100\n",
            "8/8 [==============================] - 3s 361ms/step - loss: 0.0274 - accuracy: 1.0000 - val_loss: 1.0215 - val_accuracy: 0.6000\n",
            "Epoch 42/100\n",
            "8/8 [==============================] - 3s 364ms/step - loss: 0.0423 - accuracy: 1.0000 - val_loss: 1.1502 - val_accuracy: 0.6000\n",
            "Epoch 43/100\n",
            "8/8 [==============================] - 3s 362ms/step - loss: 0.0265 - accuracy: 1.0000 - val_loss: 1.2892 - val_accuracy: 0.6000\n",
            "Epoch 44/100\n",
            "8/8 [==============================] - 3s 362ms/step - loss: 0.0136 - accuracy: 1.0000 - val_loss: 1.4467 - val_accuracy: 0.6000\n",
            "Epoch 45/100\n",
            "8/8 [==============================] - 3s 364ms/step - loss: 0.0104 - accuracy: 1.0000 - val_loss: 1.5046 - val_accuracy: 0.5667\n",
            "Epoch 46/100\n",
            "8/8 [==============================] - 3s 363ms/step - loss: 0.0184 - accuracy: 0.9956 - val_loss: 2.1062 - val_accuracy: 0.6667\n",
            "Epoch 47/100\n",
            "8/8 [==============================] - 3s 364ms/step - loss: 0.0536 - accuracy: 0.9535 - val_loss: 1.9306 - val_accuracy: 0.5667\n",
            "Epoch 48/100\n",
            "8/8 [==============================] - 3s 361ms/step - loss: 0.0229 - accuracy: 0.9972 - val_loss: 2.1138 - val_accuracy: 0.6000\n",
            "Epoch 49/100\n",
            "8/8 [==============================] - 3s 360ms/step - loss: 0.0635 - accuracy: 0.9872 - val_loss: 2.5521 - val_accuracy: 0.5000\n",
            "Epoch 50/100\n",
            "8/8 [==============================] - 3s 364ms/step - loss: 0.2873 - accuracy: 0.9245 - val_loss: 2.2460 - val_accuracy: 0.5667\n",
            "Epoch 51/100\n",
            "8/8 [==============================] - 3s 361ms/step - loss: 0.3199 - accuracy: 0.8342 - val_loss: 1.0245 - val_accuracy: 0.6000\n",
            "Epoch 52/100\n",
            "8/8 [==============================] - 3s 366ms/step - loss: 0.2069 - accuracy: 0.9398 - val_loss: 0.8343 - val_accuracy: 0.6000\n",
            "Epoch 53/100\n",
            "8/8 [==============================] - 3s 361ms/step - loss: 0.0970 - accuracy: 0.9776 - val_loss: 0.7791 - val_accuracy: 0.6333\n",
            "Epoch 54/100\n",
            "8/8 [==============================] - 3s 364ms/step - loss: 0.1109 - accuracy: 0.9622 - val_loss: 0.8714 - val_accuracy: 0.7000\n",
            "Epoch 55/100\n",
            "8/8 [==============================] - 3s 364ms/step - loss: 0.0537 - accuracy: 0.9972 - val_loss: 1.3240 - val_accuracy: 0.6000\n",
            "Epoch 56/100\n",
            "8/8 [==============================] - 3s 363ms/step - loss: 0.0542 - accuracy: 0.9938 - val_loss: 1.0627 - val_accuracy: 0.6667\n",
            "Epoch 57/100\n",
            "8/8 [==============================] - 3s 363ms/step - loss: 0.0158 - accuracy: 1.0000 - val_loss: 1.1425 - val_accuracy: 0.6667\n",
            "Epoch 58/100\n",
            "8/8 [==============================] - 3s 363ms/step - loss: 0.0249 - accuracy: 1.0000 - val_loss: 1.2891 - val_accuracy: 0.6000\n",
            "Epoch 59/100\n",
            "8/8 [==============================] - 3s 362ms/step - loss: 0.0673 - accuracy: 0.9621 - val_loss: 1.1848 - val_accuracy: 0.6333\n",
            "Epoch 60/100\n",
            "8/8 [==============================] - 3s 360ms/step - loss: 0.0227 - accuracy: 1.0000 - val_loss: 1.1434 - val_accuracy: 0.5667\n",
            "Epoch 61/100\n",
            "8/8 [==============================] - 3s 363ms/step - loss: 0.0420 - accuracy: 1.0000 - val_loss: 1.3324 - val_accuracy: 0.6000\n",
            "Epoch 62/100\n",
            "8/8 [==============================] - 3s 363ms/step - loss: 0.0468 - accuracy: 0.9851 - val_loss: 1.4214 - val_accuracy: 0.6000\n",
            "Epoch 63/100\n",
            "8/8 [==============================] - 3s 363ms/step - loss: 0.0092 - accuracy: 1.0000 - val_loss: 1.5575 - val_accuracy: 0.6333\n",
            "Epoch 64/100\n",
            "8/8 [==============================] - 3s 361ms/step - loss: 0.0105 - accuracy: 1.0000 - val_loss: 1.6966 - val_accuracy: 0.6000\n",
            "Epoch 65/100\n",
            "8/8 [==============================] - 3s 364ms/step - loss: 0.0089 - accuracy: 1.0000 - val_loss: 1.8712 - val_accuracy: 0.6000\n",
            "Epoch 66/100\n",
            "8/8 [==============================] - 3s 361ms/step - loss: 0.0052 - accuracy: 1.0000 - val_loss: 1.9646 - val_accuracy: 0.6000\n",
            "Epoch 67/100\n",
            "8/8 [==============================] - 3s 363ms/step - loss: 0.0025 - accuracy: 1.0000 - val_loss: 2.0539 - val_accuracy: 0.6000\n",
            "Epoch 68/100\n",
            "8/8 [==============================] - 3s 364ms/step - loss: 0.0016 - accuracy: 1.0000 - val_loss: 2.1664 - val_accuracy: 0.6333\n",
            "Epoch 69/100\n",
            "8/8 [==============================] - 3s 365ms/step - loss: 0.0131 - accuracy: 0.9956 - val_loss: 2.2337 - val_accuracy: 0.6333\n",
            "Epoch 70/100\n",
            "8/8 [==============================] - 3s 363ms/step - loss: 0.0061 - accuracy: 1.0000 - val_loss: 2.3678 - val_accuracy: 0.7000\n",
            "Epoch 71/100\n",
            "8/8 [==============================] - 3s 364ms/step - loss: 0.0152 - accuracy: 1.0000 - val_loss: 2.0301 - val_accuracy: 0.6667\n",
            "Epoch 72/100\n",
            "8/8 [==============================] - 3s 364ms/step - loss: 0.0267 - accuracy: 0.9888 - val_loss: 1.8313 - val_accuracy: 0.6333\n",
            "Epoch 73/100\n",
            "8/8 [==============================] - 3s 363ms/step - loss: 0.0121 - accuracy: 1.0000 - val_loss: 2.1922 - val_accuracy: 0.6667\n",
            "Epoch 74/100\n",
            "8/8 [==============================] - 3s 362ms/step - loss: 0.0176 - accuracy: 1.0000 - val_loss: 2.5007 - val_accuracy: 0.6333\n",
            "Epoch 75/100\n",
            "8/8 [==============================] - 3s 359ms/step - loss: 0.0110 - accuracy: 1.0000 - val_loss: 2.6809 - val_accuracy: 0.6333\n",
            "Epoch 76/100\n",
            "8/8 [==============================] - 3s 362ms/step - loss: 0.0452 - accuracy: 0.9795 - val_loss: 2.5315 - val_accuracy: 0.6000\n",
            "Epoch 77/100\n",
            "8/8 [==============================] - 3s 362ms/step - loss: 0.0077 - accuracy: 1.0000 - val_loss: 2.4484 - val_accuracy: 0.6000\n",
            "Epoch 78/100\n",
            "8/8 [==============================] - 3s 363ms/step - loss: 0.0078 - accuracy: 1.0000 - val_loss: 2.3761 - val_accuracy: 0.6333\n",
            "Epoch 79/100\n",
            "8/8 [==============================] - 3s 365ms/step - loss: 0.0019 - accuracy: 1.0000 - val_loss: 2.4221 - val_accuracy: 0.6333\n",
            "Epoch 80/100\n",
            "8/8 [==============================] - 3s 365ms/step - loss: 0.0298 - accuracy: 0.9851 - val_loss: 2.4352 - val_accuracy: 0.6333\n",
            "Epoch 81/100\n",
            "8/8 [==============================] - 3s 362ms/step - loss: 0.0087 - accuracy: 1.0000 - val_loss: 2.4955 - val_accuracy: 0.6000\n",
            "Epoch 82/100\n",
            "8/8 [==============================] - 3s 365ms/step - loss: 0.0056 - accuracy: 1.0000 - val_loss: 2.5379 - val_accuracy: 0.5667\n",
            "Epoch 83/100\n",
            "8/8 [==============================] - 3s 364ms/step - loss: 7.1124e-04 - accuracy: 1.0000 - val_loss: 2.5790 - val_accuracy: 0.6000\n",
            "Epoch 84/100\n",
            "8/8 [==============================] - 3s 362ms/step - loss: 0.0127 - accuracy: 1.0000 - val_loss: 2.4243 - val_accuracy: 0.5667\n",
            "Epoch 85/100\n",
            "8/8 [==============================] - 3s 363ms/step - loss: 0.0075 - accuracy: 1.0000 - val_loss: 2.5208 - val_accuracy: 0.6000\n",
            "Epoch 86/100\n",
            "8/8 [==============================] - 3s 363ms/step - loss: 8.0637e-04 - accuracy: 1.0000 - val_loss: 2.6219 - val_accuracy: 0.6333\n",
            "Epoch 87/100\n",
            "8/8 [==============================] - 3s 359ms/step - loss: 9.3671e-04 - accuracy: 1.0000 - val_loss: 2.6726 - val_accuracy: 0.6000\n",
            "Epoch 88/100\n",
            "8/8 [==============================] - 3s 362ms/step - loss: 0.0030 - accuracy: 1.0000 - val_loss: 2.8492 - val_accuracy: 0.6333\n",
            "Epoch 89/100\n",
            "8/8 [==============================] - 3s 364ms/step - loss: 8.1625e-04 - accuracy: 1.0000 - val_loss: 2.9858 - val_accuracy: 0.6333\n",
            "Epoch 90/100\n",
            "8/8 [==============================] - 3s 365ms/step - loss: 0.0030 - accuracy: 1.0000 - val_loss: 2.9125 - val_accuracy: 0.6333\n",
            "Epoch 91/100\n",
            "8/8 [==============================] - 3s 364ms/step - loss: 0.0011 - accuracy: 1.0000 - val_loss: 2.8379 - val_accuracy: 0.6333\n",
            "Epoch 92/100\n",
            "8/8 [==============================] - 3s 364ms/step - loss: 3.7700e-04 - accuracy: 1.0000 - val_loss: 2.8572 - val_accuracy: 0.6333\n",
            "Epoch 93/100\n",
            "8/8 [==============================] - 3s 365ms/step - loss: 0.0018 - accuracy: 1.0000 - val_loss: 2.8637 - val_accuracy: 0.6333\n",
            "Epoch 94/100\n",
            "8/8 [==============================] - 3s 366ms/step - loss: 0.0015 - accuracy: 1.0000 - val_loss: 2.7716 - val_accuracy: 0.6333\n",
            "Epoch 95/100\n",
            "8/8 [==============================] - 3s 364ms/step - loss: 0.0034 - accuracy: 1.0000 - val_loss: 2.7283 - val_accuracy: 0.6667\n",
            "Epoch 96/100\n",
            "8/8 [==============================] - 3s 364ms/step - loss: 8.1761e-05 - accuracy: 1.0000 - val_loss: 2.7071 - val_accuracy: 0.6333\n",
            "Epoch 97/100\n",
            "8/8 [==============================] - 3s 363ms/step - loss: 0.0011 - accuracy: 1.0000 - val_loss: 2.7106 - val_accuracy: 0.6333\n",
            "Epoch 98/100\n",
            "8/8 [==============================] - 3s 363ms/step - loss: 6.4875e-04 - accuracy: 1.0000 - val_loss: 2.7635 - val_accuracy: 0.6000\n",
            "Epoch 99/100\n",
            "8/8 [==============================] - 3s 362ms/step - loss: 3.0119e-04 - accuracy: 1.0000 - val_loss: 2.8109 - val_accuracy: 0.6000\n",
            "Epoch 100/100\n",
            "8/8 [==============================] - 3s 363ms/step - loss: 0.0022 - accuracy: 1.0000 - val_loss: 2.8635 - val_accuracy: 0.6000\n"
          ],
          "name": "stdout"
        }
      ]
    },
    {
      "cell_type": "code",
      "metadata": {
        "colab": {
          "base_uri": "https://localhost:8080/"
        },
        "id": "ulKShFtnb06c",
        "outputId": "1b2f7571-353b-489e-8005-4c3296a09f9c"
      },
      "source": [
        "from sklearn import metrics\n",
        "matrix = metrics.confusion_matrix(targets_validation.argmax(axis=1), model.predict(dataset[validation_index]).argmax(axis=1))\n",
        "print(matrix)"
      ],
      "execution_count": null,
      "outputs": [
        {
          "output_type": "stream",
          "text": [
            "[[9 6]\n",
            " [6 9]]\n"
          ],
          "name": "stdout"
        }
      ]
    },
    {
      "cell_type": "code",
      "metadata": {
        "colab": {
          "base_uri": "https://localhost:8080/",
          "height": 404
        },
        "id": "wZueQbhib4rq",
        "outputId": "2692f45b-4253-4d7f-b88f-07275fb3d58b"
      },
      "source": [
        "import keras\n",
        "from matplotlib import pyplot as plt\n",
        "plt.figure(figsize=(10,6))\n",
        "plt.plot(history.history['accuracy'])\n",
        "plt.plot(history.history['val_accuracy'])\n",
        "plt.title('Model accuracy')\n",
        "plt.ylabel('Accuracy')\n",
        "plt.xlabel('Epoch')\n",
        "plt.legend(['train', 'validation'], loc='lower right')\n",
        "plt.show()"
      ],
      "execution_count": null,
      "outputs": [
        {
          "output_type": "display_data",
          "data": {
            "image/png": "[encoded data removed]",
            "text/plain": [
              "<Figure size 720x432 with 1 Axes>"
            ]
          },
          "metadata": {
            "tags": [],
            "needs_background": "light"
          }
        }
      ]
    },
    {
      "cell_type": "code",
      "metadata": {
        "colab": {
          "base_uri": "https://localhost:8080/",
          "height": 404
        },
        "id": "DQnmbCoBb5L6",
        "outputId": "3f9c8e8d-6c42-48dd-a99d-3cf380be0aec"
      },
      "source": [
        "plt.figure(figsize=(10,6))\n",
        "plt.plot(history.history['loss'])\n",
        "plt.plot(history.history['val_loss'])\n",
        "plt.title('Model loss')\n",
        "plt.ylabel('Loss')\n",
        "plt.xlabel('Epoch')\n",
        "plt.legend(['train', 'validation'], loc='upper right')\n",
        "plt.show()"
      ],
      "execution_count": null,
      "outputs": [
        {
          "output_type": "display_data",
          "data": {
            "image/png": "[encoded data removed]",
            "text/plain": [
              "<Figure size 720x432 with 1 Axes>"
            ]
          },
          "metadata": {
            "tags": [],
            "needs_background": "light"
          }
        }
      ]
    },
    {
      "cell_type": "markdown",
      "metadata": {
        "id": "kZVyKPqQYYBm"
      },
      "source": [
        "### saving"
      ]
    },
    {
      "cell_type": "code",
      "metadata": {
        "id": "rRVhScUQ1Xv4"
      },
      "source": [
        "from keras.models import model_from_json\n",
        "\n",
        "model_json = model.to_json()\n",
        "with open(\"model.json\", \"w\") as json_file:\n",
        "    json_file.write(model_json)\n",
        "\n",
        "model.save_weights(\"/content/drive/My Drive/googledrive_segmentation/weight_cnn_CovidCtNet2d.h5\")"
      ],
      "execution_count": null,
      "outputs": []
    }
  ]
}