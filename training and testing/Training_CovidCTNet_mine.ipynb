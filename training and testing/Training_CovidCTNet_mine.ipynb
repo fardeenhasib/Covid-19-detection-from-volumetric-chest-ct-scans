{
  "nbformat": 4,
  "nbformat_minor": 0,
  "metadata": {
    "colab": {
      "name": "Training-CovidCTNet.ipynb",
      "provenance": [],
      "collapsed_sections": [
        "mIyC5aLK1Nlu",
        "mteGy4hL1Svw",
        "k0XZ8AiJFdau",
        "vI0EsJIn43Ud"
      ],
      "machine_shape": "hm"
    },
    "kernelspec": {
      "name": "python3",
      "display_name": "Python 3"
    },
    "accelerator": "GPU"
  },
  "cells": [
    {
      "cell_type": "markdown",
      "metadata": {
        "id": "-BwgP4GkdTFs"
      },
      "source": [
        "## Note\n",
        "The paramters in this sample code are similar to  our main training code but we test this code on limited number of data for the sake of speed\n"
      ]
    },
    {
      "cell_type": "markdown",
      "metadata": {
        "id": "mIyC5aLK1Nlu"
      },
      "source": [
        "## Mounting Drive"
      ]
    },
    {
      "cell_type": "code",
      "metadata": {
        "id": "LP9i6HoFkkt7",
        "colab": {
          "base_uri": "https://localhost:8080/"
        },
        "outputId": "0bedecac-3c98-4bd5-95d8-bbf4de57cbdf"
      },
      "source": [
        "from google.colab import drive\n",
        "drive.mount('/content/drive')"
      ],
      "execution_count": 2,
      "outputs": [
        {
          "output_type": "stream",
          "text": [
            "Go to this URL in a browser: https://accounts.google.com/o/oauth2/auth?client_id=947318989803-6bn6qk8qdgf4n4g3pfee6491hc0brc4i.apps.googleusercontent.com&redirect_uri=urn%3aietf%3awg%3aoauth%3a2.0%3aoob&scope=email%20https%3a%2f%2fwww.googleapis.com%2fauth%2fdocs.test%20https%3a%2f%2fwww.googleapis.com%2fauth%2fdrive%20https%3a%2f%2fwww.googleapis.com%2fauth%2fdrive.photos.readonly%20https%3a%2f%2fwww.googleapis.com%2fauth%2fpeopleapi.readonly%20https%3a%2f%2fwww.googleapis.com%2fauth%2fdrive.activity.readonly%20https%3a%2f%2fwww.googleapis.com%2fauth%2fexperimentsandconfigs%20https%3a%2f%2fwww.googleapis.com%2fauth%2fphotos.native&response_type=code\n",
            "\n",
            "Enter your authorization code:\n",
            "4/1AY0e-g7AL39VZ87GnnK37k2q-UCkxdAt202yK_0nkrdMFi31J8JpIlLhSzs\n",
            "Mounted at /content/drive\n"
          ],
          "name": "stdout"
        }
      ]
    },
    {
      "cell_type": "markdown",
      "metadata": {
        "id": "mteGy4hL1Svw"
      },
      "source": [
        "## Data directory "
      ]
    },
    {
      "cell_type": "code",
      "metadata": {
        "id": "jlWk34Uad57a",
        "colab": {
          "base_uri": "https://localhost:8080/"
        },
        "outputId": "14830bd5-fefa-4917-f2da-e0982204d567"
      },
      "source": [
        "import glob\n",
        "import os\n",
        "import numpy as np\n",
        "from tqdm import tqdm\n",
        "\n",
        "folder_npy = '/content/drive/MyDrive/ct-normal-slices-train'\n",
        "\n",
        "file_paths = glob.glob(os.path.join(folder_npy, '*.npy'))\n",
        "file_paths.sort()\n",
        "print(file_paths)\n",
        "print(len(file_paths))"
      ],
      "execution_count": 3,
      "outputs": [
        {
          "output_type": "stream",
          "text": [
            "['/content/drive/MyDrive/ct-normal-slices-train/CPCR_0001_296_383_383_CR_P001.npy', '/content/drive/MyDrive/ct-normal-slices-train/CPCR_0002_266_309_309_CR_P002.npy', '/content/drive/MyDrive/ct-normal-slices-train/CPCR_0003_268_372_372_CR_P003.npy', '/content/drive/MyDrive/ct-normal-slices-train/CPCR_0004_328_372_372_CR_P004.npy', '/content/drive/MyDrive/ct-normal-slices-train/CPCR_0005_288_369_369_CR_P005.npy', '/content/drive/MyDrive/ct-normal-slices-train/CPCR_0006_286_333_333_CR_P006.npy', '/content/drive/MyDrive/ct-normal-slices-train/CPCR_0007_302_310_310_CR_P007.npy', '/content/drive/MyDrive/ct-normal-slices-train/CPCR_0008_318_372_372_CR_P008.npy', '/content/drive/MyDrive/ct-normal-slices-train/CPCR_0009_346_366_366_CR_P009.npy', '/content/drive/MyDrive/ct-normal-slices-train/CPCR_0010_276_294_294_CR_P010.npy', '/content/drive/MyDrive/ct-normal-slices-train/CPCR_0011_270_333_333_CR_P011.npy', '/content/drive/MyDrive/ct-normal-slices-train/CPCR_0012_330_375_375_CR_P012.npy', '/content/drive/MyDrive/ct-normal-slices-train/CPCR_0013_342_354_354_CR_P013.npy', '/content/drive/MyDrive/ct-normal-slices-train/CPCR_0014_284_310_310_CR_P014.npy', '/content/drive/MyDrive/ct-normal-slices-train/CPCR_0015_296_347_347_CR_P015.npy', '/content/drive/MyDrive/ct-normal-slices-train/CPCR_0016_332_374_374_CR_P016.npy', '/content/drive/MyDrive/ct-normal-slices-train/CPCR_0017_236_319_319_CR_P017.npy', '/content/drive/MyDrive/ct-normal-slices-train/CPCR_0018_314_326_326_CR_P018.npy', '/content/drive/MyDrive/ct-normal-slices-train/CPCR_0019_300_359_359_CR_P019.npy', '/content/drive/MyDrive/ct-normal-slices-train/CPCR_0020_256_373_373_CR_P020.npy', '/content/drive/MyDrive/ct-normal-slices-train/CPCR_0021_326_375_375_CR_P021.npy', '/content/drive/MyDrive/ct-normal-slices-train/CPCR_0022_250_310_310_CR_P022.npy', '/content/drive/MyDrive/ct-normal-slices-train/CPCR_0023_294_372_372_CR_P023.npy', '/content/drive/MyDrive/ct-normal-slices-train/CPCR_0024_272_328_328_CR_P024.npy', '/content/drive/MyDrive/ct-normal-slices-train/CPCR_0025_318_317_317_CR_P025.npy', '/content/drive/MyDrive/ct-normal-slices-train/CPCR_0026_304_353_353_CR_P026.npy', '/content/drive/MyDrive/ct-normal-slices-train/CPCR_0027_268_372_372_CR_P027.npy', '/content/drive/MyDrive/ct-normal-slices-train/CPCR_0028_270_310_310_CR_P028.npy', '/content/drive/MyDrive/ct-normal-slices-train/CPCR_0029_262_361_361_CR_P029.npy', '/content/drive/MyDrive/ct-normal-slices-train/CPCR_0030_284_310_310_CR_P030.npy', '/content/drive/MyDrive/ct-normal-slices-train/CPCR_0031_326_327_327_CR_P050.npy', '/content/drive/MyDrive/ct-normal-slices-train/H_0001_288_368_368_normal001.npy', '/content/drive/MyDrive/ct-normal-slices-train/H_0002_334_384_384_normal002.npy', '/content/drive/MyDrive/ct-normal-slices-train/H_0003_338_397_397_normal003.npy', '/content/drive/MyDrive/ct-normal-slices-train/H_0004_256_340_340_normal004.npy', '/content/drive/MyDrive/ct-normal-slices-train/H_0005_286_310_310_normal005.npy', '/content/drive/MyDrive/ct-normal-slices-train/H_0006_288_321_321_normal006.npy', '/content/drive/MyDrive/ct-normal-slices-train/H_0007_284_372_372_normal007.npy', '/content/drive/MyDrive/ct-normal-slices-train/H_0008_278_337_337_normal008.npy', '/content/drive/MyDrive/ct-normal-slices-train/H_0009_290_395_395_normal009.npy', '/content/drive/MyDrive/ct-normal-slices-train/H_0010_304_388_388_normal010.npy', '/content/drive/MyDrive/ct-normal-slices-train/H_0011_276_382_382_normal011.npy', '/content/drive/MyDrive/ct-normal-slices-train/H_0012_320_380_380_normal012.npy', '/content/drive/MyDrive/ct-normal-slices-train/H_0013_372_397_397_normal013.npy', '/content/drive/MyDrive/ct-normal-slices-train/H_0014_280_322_322_normal014.npy', '/content/drive/MyDrive/ct-normal-slices-train/H_0015_290_352_352_normal015.npy', '/content/drive/MyDrive/ct-normal-slices-train/H_0016_248_308_308_normal016.npy', '/content/drive/MyDrive/ct-normal-slices-train/H_0017_354_376_376_normal017.npy', '/content/drive/MyDrive/ct-normal-slices-train/H_0018_272_352_352_normal018.npy', '/content/drive/MyDrive/ct-normal-slices-train/H_0019_266_318_318_normal019.npy', '/content/drive/MyDrive/ct-normal-slices-train/H_0020_274_310_310_normal020.npy', '/content/drive/MyDrive/ct-normal-slices-train/H_0021_310_301_301_normal021.npy', '/content/drive/MyDrive/ct-normal-slices-train/H_0022_298_372_372_normal022.npy', '/content/drive/MyDrive/ct-normal-slices-train/H_0023_324_310_310_normal023.npy', '/content/drive/MyDrive/ct-normal-slices-train/H_0024_334_302_302_normal024.npy', '/content/drive/MyDrive/ct-normal-slices-train/H_0025_312_318_318_normal025.npy', '/content/drive/MyDrive/ct-normal-slices-train/H_0026_294_333_333_normal026.npy', '/content/drive/MyDrive/ct-normal-slices-train/H_0027_336_394_394_normal027.npy', '/content/drive/MyDrive/ct-normal-slices-train/H_0028_288_372_372_normal028.npy', '/content/drive/MyDrive/ct-normal-slices-train/H_0029_274_366_366_normal029.npy', '/content/drive/MyDrive/ct-normal-slices-train/H_0030_260_323_323_normal030.npy', '/content/drive/MyDrive/ct-normal-slices-train/P_0001_336_302_302_cap001.npy', '/content/drive/MyDrive/ct-normal-slices-train/P_0002_262_323_323_cap002.npy', '/content/drive/MyDrive/ct-normal-slices-train/P_0003_268_316_316_cap003.npy', '/content/drive/MyDrive/ct-normal-slices-train/P_0004_362_343_343_cap004.npy', '/content/drive/MyDrive/ct-normal-slices-train/P_0005_274_344_344_cap005.npy', '/content/drive/MyDrive/ct-normal-slices-train/P_0006_314_347_347_cap006.npy', '/content/drive/MyDrive/ct-normal-slices-train/P_0007_318_329_329_cap007.npy', '/content/drive/MyDrive/ct-normal-slices-train/P_0008_342_312_312_cap008.npy', '/content/drive/MyDrive/ct-normal-slices-train/P_0009_380_340_340_cap009.npy', '/content/drive/MyDrive/ct-normal-slices-train/P_0010_318_346_346_cap010.npy', '/content/drive/MyDrive/ct-normal-slices-train/P_0011_318_395_395_cap011.npy', '/content/drive/MyDrive/ct-normal-slices-train/P_0012_374_402_402_cap012.npy', '/content/drive/MyDrive/ct-normal-slices-train/P_0013_282_372_372_cap013.npy', '/content/drive/MyDrive/ct-normal-slices-train/P_0014_324_357_357_cap014.npy', '/content/drive/MyDrive/ct-normal-slices-train/P_0015_302_310_310_cap015.npy', '/content/drive/MyDrive/ct-normal-slices-train/P_0016_260_319_319_cap016.npy', '/content/drive/MyDrive/ct-normal-slices-train/P_0017_274_330_330_cap017.npy', '/content/drive/MyDrive/ct-normal-slices-train/P_0018_282_297_297_cap018.npy', '/content/drive/MyDrive/ct-normal-slices-train/P_0019_272_310_310_cap019.npy', '/content/drive/MyDrive/ct-normal-slices-train/P_0020_266_307_307_cap020.npy', '/content/drive/MyDrive/ct-normal-slices-train/P_0021_310_310_310_cap021.npy', '/content/drive/MyDrive/ct-normal-slices-train/P_0022_328_392_392_cap022.npy', '/content/drive/MyDrive/ct-normal-slices-train/P_0023_372_352_352_cap023.npy', '/content/drive/MyDrive/ct-normal-slices-train/P_0024_302_354_354_cap024.npy', '/content/drive/MyDrive/ct-normal-slices-train/P_0025_352_444_444_cap025.npy', '/content/drive/MyDrive/ct-normal-slices-train/P_0026_286_479_479_cap026.npy', '/content/drive/MyDrive/ct-normal-slices-train/P_0027_370_308_308_cap027.npy', '/content/drive/MyDrive/ct-normal-slices-train/P_0028_316_337_337_cap028.npy', '/content/drive/MyDrive/ct-normal-slices-train/P_0029_502_358_358_cap029.npy', '/content/drive/MyDrive/ct-normal-slices-train/P_0030_576_370_370_cap030.npy']\n",
            "91\n"
          ],
          "name": "stdout"
        }
      ]
    },
    {
      "cell_type": "code",
      "metadata": {
        "id": "w1tCBzHmSx_5",
        "colab": {
          "base_uri": "https://localhost:8080/"
        },
        "outputId": "646ee2ec-f030-4724-c2c2-37d71e81799f"
      },
      "source": [
        "# Splite data for Health (h) class\n",
        "h_path = file_paths[31:61]\n",
        "print(h_path)"
      ],
      "execution_count": 10,
      "outputs": [
        {
          "output_type": "stream",
          "text": [
            "['/content/drive/MyDrive/ct-normal-slices-train/H_0001_288_368_368_normal001.npy', '/content/drive/MyDrive/ct-normal-slices-train/H_0002_334_384_384_normal002.npy', '/content/drive/MyDrive/ct-normal-slices-train/H_0003_338_397_397_normal003.npy', '/content/drive/MyDrive/ct-normal-slices-train/H_0004_256_340_340_normal004.npy', '/content/drive/MyDrive/ct-normal-slices-train/H_0005_286_310_310_normal005.npy', '/content/drive/MyDrive/ct-normal-slices-train/H_0006_288_321_321_normal006.npy', '/content/drive/MyDrive/ct-normal-slices-train/H_0007_284_372_372_normal007.npy', '/content/drive/MyDrive/ct-normal-slices-train/H_0008_278_337_337_normal008.npy', '/content/drive/MyDrive/ct-normal-slices-train/H_0009_290_395_395_normal009.npy', '/content/drive/MyDrive/ct-normal-slices-train/H_0010_304_388_388_normal010.npy', '/content/drive/MyDrive/ct-normal-slices-train/H_0011_276_382_382_normal011.npy', '/content/drive/MyDrive/ct-normal-slices-train/H_0012_320_380_380_normal012.npy', '/content/drive/MyDrive/ct-normal-slices-train/H_0013_372_397_397_normal013.npy', '/content/drive/MyDrive/ct-normal-slices-train/H_0014_280_322_322_normal014.npy', '/content/drive/MyDrive/ct-normal-slices-train/H_0015_290_352_352_normal015.npy', '/content/drive/MyDrive/ct-normal-slices-train/H_0016_248_308_308_normal016.npy', '/content/drive/MyDrive/ct-normal-slices-train/H_0017_354_376_376_normal017.npy', '/content/drive/MyDrive/ct-normal-slices-train/H_0018_272_352_352_normal018.npy', '/content/drive/MyDrive/ct-normal-slices-train/H_0019_266_318_318_normal019.npy', '/content/drive/MyDrive/ct-normal-slices-train/H_0020_274_310_310_normal020.npy', '/content/drive/MyDrive/ct-normal-slices-train/H_0021_310_301_301_normal021.npy', '/content/drive/MyDrive/ct-normal-slices-train/H_0022_298_372_372_normal022.npy', '/content/drive/MyDrive/ct-normal-slices-train/H_0023_324_310_310_normal023.npy', '/content/drive/MyDrive/ct-normal-slices-train/H_0024_334_302_302_normal024.npy', '/content/drive/MyDrive/ct-normal-slices-train/H_0025_312_318_318_normal025.npy', '/content/drive/MyDrive/ct-normal-slices-train/H_0026_294_333_333_normal026.npy', '/content/drive/MyDrive/ct-normal-slices-train/H_0027_336_394_394_normal027.npy', '/content/drive/MyDrive/ct-normal-slices-train/H_0028_288_372_372_normal028.npy', '/content/drive/MyDrive/ct-normal-slices-train/H_0029_274_366_366_normal029.npy', '/content/drive/MyDrive/ct-normal-slices-train/H_0030_260_323_323_normal030.npy']\n"
          ],
          "name": "stdout"
        }
      ]
    },
    {
      "cell_type": "markdown",
      "metadata": {
        "id": "k0XZ8AiJFdau"
      },
      "source": [
        "## BCDU-net"
      ]
    },
    {
      "cell_type": "code",
      "metadata": {
        "id": "VcaqgVJRwXu1"
      },
      "source": [
        "from __future__ import division\n",
        "from keras.models import Model\n",
        "from keras.layers import Input\n",
        "from keras.layers import concatenate\n",
        "from keras.layers import Conv2D\n",
        "from keras.layers import MaxPooling2D\n",
        "from keras.layers import UpSampling2D\n",
        "from keras.layers import Reshape\n",
        "from keras.layers import core\n",
        "from keras.layers import Dropout\n",
        "from keras.layers import Conv2DTranspose\n",
        "from keras.layers import BatchNormalization\n",
        "from keras.layers import Activation\n",
        "from keras.layers import ConvLSTM2D\n",
        "from keras.optimizers import Adam\n",
        "    \n",
        "def BCDU_net_D3(input_size = (128,128,1)):\n",
        "    N = input_size[0]\n",
        "    inputs = Input(input_size) \n",
        "    conv1 = Conv2D(32, 3, activation = 'relu', padding = 'same', kernel_initializer = 'he_normal')(inputs)\n",
        "    conv1 = Conv2D(32, 3, activation = 'relu', padding = 'same', kernel_initializer = 'he_normal')(conv1)\n",
        "  \n",
        "    pool1 = MaxPooling2D(pool_size=(2, 2))(conv1)\n",
        "    conv2 = Conv2D(64, 3, activation = 'relu', padding = 'same', kernel_initializer = 'he_normal')(pool1)\n",
        "    conv2 = Conv2D(64, 3, activation = 'relu', padding = 'same', kernel_initializer = 'he_normal')(conv2)\n",
        "    pool2 = MaxPooling2D(pool_size=(2, 2))(conv2)\n",
        "    conv3 = Conv2D(128, 3, activation = 'relu', padding = 'same', kernel_initializer = 'he_normal')(pool2)\n",
        "    conv3 = Conv2D(128, 3, activation = 'relu', padding = 'same', kernel_initializer = 'he_normal')(conv3)\n",
        "    drop3 = Dropout(0.5)(conv3)\n",
        "    pool3 = MaxPooling2D(pool_size=(2, 2))(conv3)\n",
        "    # D1\n",
        "    conv4 = Conv2D(256, 3, activation = 'relu', padding = 'same', kernel_initializer = 'he_normal')(pool3)     \n",
        "    conv4_1 = Conv2D(256, 3, activation = 'relu', padding = 'same', kernel_initializer = 'he_normal')(conv4)\n",
        "    drop4_1 = Dropout(0.5)(conv4_1)\n",
        "    # D2\n",
        "    conv4_2 = Conv2D(256, 3, activation = 'relu', padding = 'same', kernel_initializer = 'he_normal')(drop4_1)     \n",
        "    conv4_2 = Conv2D(256, 3, activation = 'relu', padding = 'same', kernel_initializer = 'he_normal')(conv4_2)\n",
        "    conv4_2 = Dropout(0.5)(conv4_2)\n",
        "    # D3\n",
        "    merge_dense = concatenate([conv4_2,drop4_1], axis = 3)\n",
        "    conv4_3 = Conv2D(256, 3, activation = 'relu', padding = 'same', kernel_initializer = 'he_normal')(merge_dense)     \n",
        "    conv4_3 = Conv2D(256, 3, activation = 'relu', padding = 'same', kernel_initializer = 'he_normal')(conv4_3)\n",
        "    drop4_3 = Dropout(0.5)(conv4_3)\n",
        "    \n",
        "    up6 = Conv2DTranspose(128, kernel_size=2, strides=2, padding='same',kernel_initializer = 'he_normal')(drop4_3)\n",
        "    up6 = BatchNormalization(axis=3)(up6)\n",
        "    up6 = Activation('relu')(up6)\n",
        "\n",
        "    x1 = Reshape(target_shape=(1, np.int32(N/4), np.int32(N/4), 128))(drop3)\n",
        "    x2 = Reshape(target_shape=(1, np.int32(N/4), np.int32(N/4), 128))(up6)\n",
        "    merge6  = concatenate([x1,x2], axis = 1) \n",
        "    merge6 = ConvLSTM2D(filters = 64, kernel_size=(3, 3), padding='same', return_sequences = False, go_backwards = True,kernel_initializer = 'he_normal')(merge6)\n",
        "            \n",
        "    conv6 = Conv2D(128, 3, activation = 'relu', padding = 'same', kernel_initializer = 'he_normal')(merge6)\n",
        "    conv6 = Conv2D(128, 3, activation = 'relu', padding = 'same', kernel_initializer = 'he_normal')(conv6)\n",
        "\n",
        "    up7 = Conv2DTranspose(64, kernel_size=2, strides=2, padding='same',kernel_initializer = 'he_normal')(conv6)\n",
        "    up7 = BatchNormalization(axis=3)(up7)\n",
        "    up7 = Activation('relu')(up7)\n",
        "\n",
        "    x1 = Reshape(target_shape=(1, np.int32(N/2), np.int32(N/2), 64))(conv2)\n",
        "    x2 = Reshape(target_shape=(1, np.int32(N/2), np.int32(N/2), 64))(up7)\n",
        "    merge7  = concatenate([x1,x2], axis = 1) \n",
        "    merge7 = ConvLSTM2D(filters = 32, kernel_size=(3, 3), padding='same', return_sequences = False, go_backwards = True,kernel_initializer = 'he_normal' )(merge7)\n",
        "        \n",
        "    conv7 = Conv2D(64, 3, activation = 'relu', padding = 'same', kernel_initializer = 'he_normal')(merge7)\n",
        "    conv7 = Conv2D(64, 3, activation = 'relu', padding = 'same', kernel_initializer = 'he_normal')(conv7)\n",
        "\n",
        "    up8 = Conv2DTranspose(32, kernel_size=2, strides=2, padding='same',kernel_initializer = 'he_normal')(conv7)\n",
        "    up8 = BatchNormalization(axis=3)(up8)\n",
        "    up8 = Activation('relu')(up8)    \n",
        "\n",
        "    x1 = Reshape(target_shape=(1, N, N, 32))(conv1)\n",
        "    x2 = Reshape(target_shape=(1, N, N, 32))(up8)\n",
        "    merge8  = concatenate([x1,x2], axis = 1) \n",
        "    merge8 = ConvLSTM2D(filters = 16, kernel_size=(3, 3), padding='same', return_sequences = False, go_backwards = True,kernel_initializer = 'he_normal' )(merge8)    \n",
        "    \n",
        "    conv8 = Conv2D(32, 3, activation = 'relu', padding = 'same', kernel_initializer = 'he_normal')(merge8)\n",
        "    conv8 = Conv2D(32, 3, activation = 'relu', padding = 'same', kernel_initializer = 'he_normal')(conv8)\n",
        "    conv8 = Conv2D(2, 3, activation = 'relu', padding = 'same', kernel_initializer = 'he_normal')(conv8)\n",
        "    conv9 = Conv2D(1, 1, activation = 'sigmoid')(conv8)\n",
        "\n",
        "    model = Model(inputs, conv9)\n",
        "    return model"
      ],
      "execution_count": 11,
      "outputs": []
    },
    {
      "cell_type": "code",
      "metadata": {
        "id": "w5V_IaQ7iciU",
        "colab": {
          "base_uri": "https://localhost:8080/"
        },
        "outputId": "fce59c3e-b009-49da-9da4-2e9cea0948c5"
      },
      "source": [
        "model = BCDU_net_D3(input_size = (128,128,1))\n",
        "model.summary()"
      ],
      "execution_count": 12,
      "outputs": [
        {
          "output_type": "stream",
          "text": [
            "Model: \"model_1\"\n",
            "__________________________________________________________________________________________________\n",
            "Layer (type)                    Output Shape         Param #     Connected to                     \n",
            "==================================================================================================\n",
            "input_2 (InputLayer)            [(None, 128, 128, 1) 0                                            \n",
            "__________________________________________________________________________________________________\n",
            "conv2d_20 (Conv2D)              (None, 128, 128, 32) 320         input_2[0][0]                    \n",
            "__________________________________________________________________________________________________\n",
            "conv2d_21 (Conv2D)              (None, 128, 128, 32) 9248        conv2d_20[0][0]                  \n",
            "__________________________________________________________________________________________________\n",
            "max_pooling2d_3 (MaxPooling2D)  (None, 64, 64, 32)   0           conv2d_21[0][0]                  \n",
            "__________________________________________________________________________________________________\n",
            "conv2d_22 (Conv2D)              (None, 64, 64, 64)   18496       max_pooling2d_3[0][0]            \n",
            "__________________________________________________________________________________________________\n",
            "conv2d_23 (Conv2D)              (None, 64, 64, 64)   36928       conv2d_22[0][0]                  \n",
            "__________________________________________________________________________________________________\n",
            "max_pooling2d_4 (MaxPooling2D)  (None, 32, 32, 64)   0           conv2d_23[0][0]                  \n",
            "__________________________________________________________________________________________________\n",
            "conv2d_24 (Conv2D)              (None, 32, 32, 128)  73856       max_pooling2d_4[0][0]            \n",
            "__________________________________________________________________________________________________\n",
            "conv2d_25 (Conv2D)              (None, 32, 32, 128)  147584      conv2d_24[0][0]                  \n",
            "__________________________________________________________________________________________________\n",
            "max_pooling2d_5 (MaxPooling2D)  (None, 16, 16, 128)  0           conv2d_25[0][0]                  \n",
            "__________________________________________________________________________________________________\n",
            "conv2d_26 (Conv2D)              (None, 16, 16, 256)  295168      max_pooling2d_5[0][0]            \n",
            "__________________________________________________________________________________________________\n",
            "conv2d_27 (Conv2D)              (None, 16, 16, 256)  590080      conv2d_26[0][0]                  \n",
            "__________________________________________________________________________________________________\n",
            "dropout_5 (Dropout)             (None, 16, 16, 256)  0           conv2d_27[0][0]                  \n",
            "__________________________________________________________________________________________________\n",
            "conv2d_28 (Conv2D)              (None, 16, 16, 256)  590080      dropout_5[0][0]                  \n",
            "__________________________________________________________________________________________________\n",
            "conv2d_29 (Conv2D)              (None, 16, 16, 256)  590080      conv2d_28[0][0]                  \n",
            "__________________________________________________________________________________________________\n",
            "dropout_6 (Dropout)             (None, 16, 16, 256)  0           conv2d_29[0][0]                  \n",
            "__________________________________________________________________________________________________\n",
            "concatenate_4 (Concatenate)     (None, 16, 16, 512)  0           dropout_6[0][0]                  \n",
            "                                                                 dropout_5[0][0]                  \n",
            "__________________________________________________________________________________________________\n",
            "conv2d_30 (Conv2D)              (None, 16, 16, 256)  1179904     concatenate_4[0][0]              \n",
            "__________________________________________________________________________________________________\n",
            "conv2d_31 (Conv2D)              (None, 16, 16, 256)  590080      conv2d_30[0][0]                  \n",
            "__________________________________________________________________________________________________\n",
            "dropout_7 (Dropout)             (None, 16, 16, 256)  0           conv2d_31[0][0]                  \n",
            "__________________________________________________________________________________________________\n",
            "conv2d_transpose_3 (Conv2DTrans (None, 32, 32, 128)  131200      dropout_7[0][0]                  \n",
            "__________________________________________________________________________________________________\n",
            "batch_normalization_3 (BatchNor (None, 32, 32, 128)  512         conv2d_transpose_3[0][0]         \n",
            "__________________________________________________________________________________________________\n",
            "dropout_4 (Dropout)             (None, 32, 32, 128)  0           conv2d_25[0][0]                  \n",
            "__________________________________________________________________________________________________\n",
            "activation_3 (Activation)       (None, 32, 32, 128)  0           batch_normalization_3[0][0]      \n",
            "__________________________________________________________________________________________________\n",
            "reshape_6 (Reshape)             (None, 1, 32, 32, 12 0           dropout_4[0][0]                  \n",
            "__________________________________________________________________________________________________\n",
            "reshape_7 (Reshape)             (None, 1, 32, 32, 12 0           activation_3[0][0]               \n",
            "__________________________________________________________________________________________________\n",
            "concatenate_5 (Concatenate)     (None, 2, 32, 32, 12 0           reshape_6[0][0]                  \n",
            "                                                                 reshape_7[0][0]                  \n",
            "__________________________________________________________________________________________________\n",
            "conv_lst_m2d_3 (ConvLSTM2D)     (None, 32, 32, 64)   442624      concatenate_5[0][0]              \n",
            "__________________________________________________________________________________________________\n",
            "conv2d_32 (Conv2D)              (None, 32, 32, 128)  73856       conv_lst_m2d_3[0][0]             \n",
            "__________________________________________________________________________________________________\n",
            "conv2d_33 (Conv2D)              (None, 32, 32, 128)  147584      conv2d_32[0][0]                  \n",
            "__________________________________________________________________________________________________\n",
            "conv2d_transpose_4 (Conv2DTrans (None, 64, 64, 64)   32832       conv2d_33[0][0]                  \n",
            "__________________________________________________________________________________________________\n",
            "batch_normalization_4 (BatchNor (None, 64, 64, 64)   256         conv2d_transpose_4[0][0]         \n",
            "__________________________________________________________________________________________________\n",
            "activation_4 (Activation)       (None, 64, 64, 64)   0           batch_normalization_4[0][0]      \n",
            "__________________________________________________________________________________________________\n",
            "reshape_8 (Reshape)             (None, 1, 64, 64, 64 0           conv2d_23[0][0]                  \n",
            "__________________________________________________________________________________________________\n",
            "reshape_9 (Reshape)             (None, 1, 64, 64, 64 0           activation_4[0][0]               \n",
            "__________________________________________________________________________________________________\n",
            "concatenate_6 (Concatenate)     (None, 2, 64, 64, 64 0           reshape_8[0][0]                  \n",
            "                                                                 reshape_9[0][0]                  \n",
            "__________________________________________________________________________________________________\n",
            "conv_lst_m2d_4 (ConvLSTM2D)     (None, 64, 64, 32)   110720      concatenate_6[0][0]              \n",
            "__________________________________________________________________________________________________\n",
            "conv2d_34 (Conv2D)              (None, 64, 64, 64)   18496       conv_lst_m2d_4[0][0]             \n",
            "__________________________________________________________________________________________________\n",
            "conv2d_35 (Conv2D)              (None, 64, 64, 64)   36928       conv2d_34[0][0]                  \n",
            "__________________________________________________________________________________________________\n",
            "conv2d_transpose_5 (Conv2DTrans (None, 128, 128, 32) 8224        conv2d_35[0][0]                  \n",
            "__________________________________________________________________________________________________\n",
            "batch_normalization_5 (BatchNor (None, 128, 128, 32) 128         conv2d_transpose_5[0][0]         \n",
            "__________________________________________________________________________________________________\n",
            "activation_5 (Activation)       (None, 128, 128, 32) 0           batch_normalization_5[0][0]      \n",
            "__________________________________________________________________________________________________\n",
            "reshape_10 (Reshape)            (None, 1, 128, 128,  0           conv2d_21[0][0]                  \n",
            "__________________________________________________________________________________________________\n",
            "reshape_11 (Reshape)            (None, 1, 128, 128,  0           activation_5[0][0]               \n",
            "__________________________________________________________________________________________________\n",
            "concatenate_7 (Concatenate)     (None, 2, 128, 128,  0           reshape_10[0][0]                 \n",
            "                                                                 reshape_11[0][0]                 \n",
            "__________________________________________________________________________________________________\n",
            "conv_lst_m2d_5 (ConvLSTM2D)     (None, 128, 128, 16) 27712       concatenate_7[0][0]              \n",
            "__________________________________________________________________________________________________\n",
            "conv2d_36 (Conv2D)              (None, 128, 128, 32) 4640        conv_lst_m2d_5[0][0]             \n",
            "__________________________________________________________________________________________________\n",
            "conv2d_37 (Conv2D)              (None, 128, 128, 32) 9248        conv2d_36[0][0]                  \n",
            "__________________________________________________________________________________________________\n",
            "conv2d_38 (Conv2D)              (None, 128, 128, 2)  578         conv2d_37[0][0]                  \n",
            "__________________________________________________________________________________________________\n",
            "conv2d_39 (Conv2D)              (None, 128, 128, 1)  3           conv2d_38[0][0]                  \n",
            "==================================================================================================\n",
            "Total params: 5,167,365\n",
            "Trainable params: 5,166,917\n",
            "Non-trainable params: 448\n",
            "__________________________________________________________________________________________________\n"
          ],
          "name": "stdout"
        }
      ]
    },
    {
      "cell_type": "markdown",
      "metadata": {
        "id": "cYyjkvWzI9gd"
      },
      "source": [
        "### Resizing the slices for BCDUNet model"
      ]
    },
    {
      "cell_type": "code",
      "metadata": {
        "id": "IMyjdb14yHBQ"
      },
      "source": [
        "from skimage.transform import resize"
      ],
      "execution_count": 13,
      "outputs": []
    },
    {
      "cell_type": "code",
      "metadata": {
        "id": "OoeYUbNSicbE",
        "colab": {
          "base_uri": "https://localhost:8080/"
        },
        "outputId": "c82c3e37-e4ce-40d7-a7b7-5824dc415cef"
      },
      "source": [
        "output = np.zeros((1,128,128))\n",
        "for i in tqdm(h_path):\n",
        "    data = np.load(i)\n",
        "    data = resize(data, (data.shape[0],128, 128),anti_aliasing=True)\n",
        "    output = np.append(output,data,axis=0)\n",
        "output = output[1:]"
      ],
      "execution_count": 14,
      "outputs": [
        {
          "output_type": "stream",
          "text": [
            "\n",
            "  0%|          | 0/30 [00:00<?, ?it/s]\u001b[A\n",
            "  3%|▎         | 1/30 [00:03<01:54,  3.94s/it]\u001b[A\n",
            "  7%|▋         | 2/30 [00:09<02:05,  4.50s/it]\u001b[A\n",
            " 10%|█         | 3/30 [00:15<02:08,  4.75s/it]\u001b[A\n",
            " 13%|█▎        | 4/30 [00:17<01:48,  4.17s/it]\u001b[A\n",
            " 17%|█▋        | 5/30 [00:20<01:33,  3.75s/it]\u001b[A\n",
            " 20%|██        | 6/30 [00:24<01:27,  3.64s/it]\u001b[A\n",
            " 23%|██▎       | 7/30 [00:27<01:24,  3.65s/it]\u001b[A\n",
            " 27%|██▋       | 8/30 [00:31<01:19,  3.63s/it]\u001b[A\n",
            " 30%|███       | 9/30 [00:37<01:29,  4.26s/it]\u001b[A\n",
            " 33%|███▎      | 10/30 [00:42<01:31,  4.57s/it]\u001b[A\n",
            " 37%|███▋      | 11/30 [00:52<02:00,  6.36s/it]\u001b[A\n",
            " 40%|████      | 12/30 [01:00<02:00,  6.71s/it]\u001b[A\n",
            " 43%|████▎     | 13/30 [01:17<02:46,  9.78s/it]\u001b[A\n",
            " 47%|████▋     | 14/30 [01:21<02:08,  8.02s/it]\u001b[A\n",
            " 50%|█████     | 15/30 [01:28<01:56,  7.79s/it]\u001b[A\n",
            " 53%|█████▎    | 16/30 [01:33<01:39,  7.08s/it]\u001b[A\n",
            " 57%|█████▋    | 17/30 [01:52<02:15, 10.42s/it]\u001b[A\n",
            " 60%|██████    | 18/30 [01:55<01:40,  8.40s/it]\u001b[A\n",
            " 63%|██████▎   | 19/30 [02:00<01:20,  7.27s/it]\u001b[A\n",
            " 67%|██████▋   | 20/30 [02:07<01:12,  7.25s/it]\u001b[A\n",
            " 70%|███████   | 21/30 [02:11<00:54,  6.08s/it]\u001b[A\n",
            " 73%|███████▎  | 22/30 [02:16<00:48,  6.01s/it]\u001b[A\n",
            " 77%|███████▋  | 23/30 [02:23<00:43,  6.21s/it]\u001b[A\n",
            " 80%|████████  | 24/30 [02:32<00:42,  7.09s/it]\u001b[A\n",
            " 83%|████████▎ | 25/30 [02:36<00:31,  6.24s/it]\u001b[A\n",
            " 87%|████████▋ | 26/30 [02:40<00:21,  5.42s/it]\u001b[A\n",
            " 90%|█████████ | 27/30 [02:53<00:23,  7.75s/it]\u001b[A\n",
            " 93%|█████████▎| 28/30 [02:59<00:14,  7.28s/it]\u001b[A\n",
            " 97%|█████████▋| 29/30 [03:06<00:07,  7.14s/it]\u001b[A\n",
            "100%|██████████| 30/30 [03:12<00:00,  6.43s/it]\n"
          ],
          "name": "stderr"
        }
      ]
    },
    {
      "cell_type": "markdown",
      "metadata": {
        "id": "6No6JNrR3PAl"
      },
      "source": [
        "### Adding noise"
      ]
    },
    {
      "cell_type": "code",
      "metadata": {
        "id": "5cMhBysijrPy",
        "colab": {
          "base_uri": "https://localhost:8080/"
        },
        "outputId": "7be397d2-d086-4c51-ab21-299ed8b7f22f"
      },
      "source": [
        "!pip install noise"
      ],
      "execution_count": 15,
      "outputs": [
        {
          "output_type": "stream",
          "text": [
            "Collecting noise\n",
            "\u001b[?25l  Downloading https://files.pythonhosted.org/packages/18/29/bb830ee6d934311e17a7a4fa1368faf3e73fbb09c0d80fc44e41828df177/noise-1.2.2.tar.gz (125kB)\n",
            "\r\u001b[K     |██▋                             | 10kB 18.5MB/s eta 0:00:01\r\u001b[K     |█████▏                          | 20kB 8.5MB/s eta 0:00:01\r\u001b[K     |███████▉                        | 30kB 7.0MB/s eta 0:00:01\r\u001b[K     |██████████▍                     | 40kB 6.5MB/s eta 0:00:01\r\u001b[K     |█████████████                   | 51kB 4.6MB/s eta 0:00:01\r\u001b[K     |███████████████▋                | 61kB 4.7MB/s eta 0:00:01\r\u001b[K     |██████████████████▎             | 71kB 5.2MB/s eta 0:00:01\r\u001b[K     |████████████████████▉           | 81kB 5.1MB/s eta 0:00:01\r\u001b[K     |███████████████████████▌        | 92kB 5.5MB/s eta 0:00:01\r\u001b[K     |██████████████████████████      | 102kB 4.5MB/s eta 0:00:01\r\u001b[K     |████████████████████████████▊   | 112kB 4.5MB/s eta 0:00:01\r\u001b[K     |███████████████████████████████▎| 122kB 4.5MB/s eta 0:00:01\r\u001b[K     |████████████████████████████████| 133kB 4.5MB/s \n",
            "\u001b[?25hBuilding wheels for collected packages: noise\n",
            "  Building wheel for noise (setup.py) ... \u001b[?25l\u001b[?25hdone\n",
            "  Created wheel for noise: filename=noise-1.2.2-cp37-cp37m-linux_x86_64.whl size=64280 sha256=a7fbfc6688980f55a515cf57f011177f81c0225e0c8a4a41986e8711e0958084\n",
            "  Stored in directory: /root/.cache/pip/wheels/fd/a3/c1/d36defe6e9f074b25dc0f018eb9f8fdd675a7ef87071ce3821\n",
            "Successfully built noise\n",
            "Installing collected packages: noise\n",
            "Successfully installed noise-1.2.2\n"
          ],
          "name": "stdout"
        }
      ]
    },
    {
      "cell_type": "code",
      "metadata": {
        "id": "L3dcZQOMjpat",
        "colab": {
          "base_uri": "https://localhost:8080/",
          "height": 285
        },
        "outputId": "02dd199f-454d-4e04-f506-748e533446dc"
      },
      "source": [
        "import noise\n",
        "import cv2\n",
        "\n",
        "def add_noise(input_array):\n",
        "    shape = (128,128)\n",
        "    scale = np.random.randint(10,30)\n",
        "    # scale = 12\n",
        "    # scale = 30\n",
        "    octaves = 10\n",
        "    persistence = 0.01*np.random.randint(-50,50)\n",
        "    # persistence = 0.1\n",
        "    lacunarity = 2.0\n",
        "    seed = np.random.randint(0,1000)\n",
        "    # seed = 33\n",
        "    world = np.zeros(shape)\n",
        "    for i in range(shape[0]):\n",
        "        for j in range(shape[1]):\n",
        "            world[i][j] = noise.pnoise2(i/scale, \n",
        "                                        j/scale, \n",
        "                                        octaves=octaves, \n",
        "                                        persistence=persistence, \n",
        "                                        lacunarity=lacunarity, \n",
        "                                        repeatx=140, \n",
        "                                        repeaty=140, \n",
        "                                        base=seed)\n",
        "    return cv2.addWeighted(input_array, 1, world, 1, 0)  \n",
        "\n",
        "import matplotlib.pyplot as plt\n",
        "a  = np.zeros((128,128))\n",
        "plt.imshow(add_noise(a)) "
      ],
      "execution_count": 17,
      "outputs": [
        {
          "output_type": "execute_result",
          "data": {
            "text/plain": [
              "<matplotlib.image.AxesImage at 0x7f8388188510>"
            ]
          },
          "metadata": {
            "tags": []
          },
          "execution_count": 17
        },
        {
          "output_type": "display_data",
          "data": {
            "image/png": "[encoded data removed]",
            "text/plain": [
              "<Figure size 432x288 with 1 Axes>"
            ]
          },
          "metadata": {
            "tags": [],
            "needs_background": "light"
          }
        }
      ]
    },
    {
      "cell_type": "code",
      "metadata": {
        "id": "scjv_v-5mq6Z",
        "colab": {
          "base_uri": "https://localhost:8080/"
        },
        "outputId": "5e70216b-7ec9-48ce-a96e-f6dee5bd1581"
      },
      "source": [
        "from tqdm import tqdm\n",
        "noisy_output = np.zeros(output.shape)\n",
        "for i in tqdm(range(output.shape[0])):\n",
        "    noisy_output[i] = add_noise(output[i,:,:])"
      ],
      "execution_count": 18,
      "outputs": [
        {
          "output_type": "stream",
          "text": [
            "\n",
            "  0%|          | 0/8928 [00:00<?, ?it/s]\u001b[A\n",
            "  0%|          | 4/8928 [00:00<04:40, 31.82it/s]\u001b[A\n",
            "  0%|          | 8/8928 [00:00<04:41, 31.68it/s]\u001b[A\n",
            "  0%|          | 12/8928 [00:00<04:40, 31.79it/s]\u001b[A\n",
            "  0%|          | 15/8928 [00:00<04:47, 31.05it/s]\u001b[A\n",
            "  0%|          | 18/8928 [00:00<04:52, 30.48it/s]\u001b[A\n",
            "  0%|          | 21/8928 [00:00<04:53, 30.31it/s]\u001b[A\n",
            "  0%|          | 24/8928 [00:00<05:03, 29.32it/s]\u001b[A\n",
            "  0%|          | 27/8928 [00:00<05:06, 29.05it/s]\u001b[A\n",
            "  0%|          | 30/8928 [00:01<05:09, 28.71it/s]\u001b[A\n",
            "  0%|          | 33/8928 [00:01<05:07, 28.97it/s]\u001b[A\n",
            "  0%|          | 37/8928 [00:01<05:01, 29.45it/s]\u001b[A\n",
            "  0%|          | 40/8928 [00:01<05:02, 29.35it/s]\u001b[A\n",
            "  0%|          | 44/8928 [00:01<04:58, 29.79it/s]\u001b[A\n",
            "  1%|          | 47/8928 [00:01<05:07, 28.84it/s]\u001b[A\n",
            "  1%|          | 50/8928 [00:01<05:16, 28.05it/s]\u001b[A\n",
            "  1%|          | 53/8928 [00:01<05:20, 27.71it/s]\u001b[A\n",
            "  1%|          | 56/8928 [00:01<05:24, 27.35it/s]\u001b[A\n",
            "  1%|          | 60/8928 [00:02<05:12, 28.33it/s]\u001b[A\n",
            "  1%|          | 63/8928 [00:02<05:12, 28.36it/s]\u001b[A\n",
            "  1%|          | 66/8928 [00:02<05:08, 28.74it/s]\u001b[A\n",
            "  1%|          | 70/8928 [00:02<05:02, 29.31it/s]\u001b[A\n",
            "  1%|          | 73/8928 [00:02<05:00, 29.43it/s]\u001b[A\n",
            "  1%|          | 77/8928 [00:02<04:57, 29.71it/s]\u001b[A\n",
            "  1%|          | 81/8928 [00:02<04:54, 30.01it/s]\u001b[A\n",
            "  1%|          | 85/8928 [00:02<04:58, 29.59it/s]\u001b[A\n",
            "  1%|          | 89/8928 [00:03<04:54, 30.03it/s]\u001b[A\n",
            "  1%|          | 93/8928 [00:03<04:49, 30.55it/s]\u001b[A\n",
            "  1%|          | 97/8928 [00:03<04:46, 30.80it/s]\u001b[A\n",
            "  1%|          | 101/8928 [00:03<04:46, 30.84it/s]\u001b[A\n",
            "  1%|          | 105/8928 [00:03<04:49, 30.50it/s]\u001b[A\n",
            "  1%|          | 109/8928 [00:03<04:45, 30.89it/s]\u001b[A\n",
            "  1%|▏         | 113/8928 [00:03<04:45, 30.85it/s]\u001b[A\n",
            "  1%|▏         | 117/8928 [00:03<04:47, 30.61it/s]\u001b[A\n",
            "  1%|▏         | 121/8928 [00:04<04:48, 30.48it/s]\u001b[A\n",
            "  1%|▏         | 125/8928 [00:04<04:49, 30.45it/s]\u001b[A\n",
            "  1%|▏         | 129/8928 [00:04<04:45, 30.80it/s]\u001b[A\n",
            "  1%|▏         | 133/8928 [00:04<04:45, 30.85it/s]\u001b[A\n",
            "  2%|▏         | 137/8928 [00:04<04:40, 31.31it/s]\u001b[A\n",
            "  2%|▏         | 141/8928 [00:04<04:39, 31.41it/s]\u001b[A\n",
            "  2%|▏         | 145/8928 [00:04<04:41, 31.25it/s]\u001b[A\n",
            "  2%|▏         | 149/8928 [00:04<04:47, 30.56it/s]\u001b[A\n",
            "  2%|▏         | 153/8928 [00:05<04:45, 30.75it/s]\u001b[A\n",
            "  2%|▏         | 157/8928 [00:05<04:42, 31.04it/s]\u001b[A\n",
            "  2%|▏         | 161/8928 [00:05<04:45, 30.69it/s]\u001b[A\n",
            "  2%|▏         | 165/8928 [00:05<04:48, 30.42it/s]\u001b[A\n",
            "  2%|▏         | 169/8928 [00:05<04:47, 30.48it/s]\u001b[A\n",
            "  2%|▏         | 173/8928 [00:05<04:44, 30.74it/s]\u001b[A\n",
            "  2%|▏         | 177/8928 [00:05<04:46, 30.49it/s]\u001b[A\n",
            "  2%|▏         | 181/8928 [00:06<04:50, 30.16it/s]\u001b[A\n",
            "  2%|▏         | 185/8928 [00:06<04:53, 29.79it/s]\u001b[A\n",
            "  2%|▏         | 188/8928 [00:06<04:53, 29.74it/s]\u001b[A\n",
            "  2%|▏         | 192/8928 [00:06<04:49, 30.22it/s]\u001b[A\n",
            "  2%|▏         | 196/8928 [00:06<04:47, 30.41it/s]\u001b[A\n",
            "  2%|▏         | 200/8928 [00:06<04:43, 30.82it/s]\u001b[A\n",
            "  2%|▏         | 204/8928 [00:06<04:42, 30.90it/s]\u001b[A\n",
            "  2%|▏         | 208/8928 [00:06<04:45, 30.58it/s]\u001b[A\n",
            "  2%|▏         | 212/8928 [00:07<04:46, 30.46it/s]\u001b[A\n",
            "  2%|▏         | 216/8928 [00:07<04:44, 30.58it/s]\u001b[A\n",
            "  2%|▏         | 220/8928 [00:07<04:42, 30.82it/s]\u001b[A\n",
            "  3%|▎         | 224/8928 [00:07<04:39, 31.11it/s]\u001b[A\n",
            "  3%|▎         | 228/8928 [00:07<04:38, 31.27it/s]\u001b[A\n",
            "  3%|▎         | 232/8928 [00:07<04:37, 31.29it/s]\u001b[A\n",
            "  3%|▎         | 236/8928 [00:07<04:39, 31.12it/s]\u001b[A\n",
            "  3%|▎         | 240/8928 [00:07<04:42, 30.74it/s]\u001b[A\n",
            "  3%|▎         | 244/8928 [00:08<04:47, 30.24it/s]\u001b[A\n",
            "  3%|▎         | 248/8928 [00:08<04:47, 30.24it/s]\u001b[A\n",
            "  3%|▎         | 252/8928 [00:08<04:44, 30.51it/s]\u001b[A\n",
            "  3%|▎         | 256/8928 [00:08<04:41, 30.80it/s]\u001b[A\n",
            "  3%|▎         | 260/8928 [00:08<04:37, 31.22it/s]\u001b[A\n",
            "  3%|▎         | 264/8928 [00:08<04:34, 31.60it/s]\u001b[A\n",
            "  3%|▎         | 268/8928 [00:08<04:35, 31.44it/s]\u001b[A\n",
            "  3%|▎         | 272/8928 [00:08<04:42, 30.66it/s]\u001b[A\n",
            "  3%|▎         | 276/8928 [00:09<04:42, 30.65it/s]\u001b[A\n",
            "  3%|▎         | 280/8928 [00:09<04:43, 30.51it/s]\u001b[A\n",
            "  3%|▎         | 284/8928 [00:09<04:43, 30.46it/s]\u001b[A\n",
            "  3%|▎         | 288/8928 [00:09<04:40, 30.84it/s]\u001b[A\n",
            "  3%|▎         | 292/8928 [00:09<04:38, 31.06it/s]\u001b[A\n",
            "  3%|▎         | 296/8928 [00:09<04:37, 31.16it/s]\u001b[A\n",
            "  3%|▎         | 300/8928 [00:09<04:37, 31.12it/s]\u001b[A\n",
            "  3%|▎         | 304/8928 [00:10<04:46, 30.14it/s]\u001b[A\n",
            "  3%|▎         | 308/8928 [00:10<04:44, 30.27it/s]\u001b[A\n",
            "  3%|▎         | 312/8928 [00:10<04:45, 30.13it/s]\u001b[A\n",
            "  4%|▎         | 316/8928 [00:10<04:41, 30.60it/s]\u001b[A\n",
            "  4%|▎         | 320/8928 [00:10<04:43, 30.32it/s]\u001b[A\n",
            "  4%|▎         | 324/8928 [00:10<04:45, 30.16it/s]\u001b[A\n",
            "  4%|▎         | 328/8928 [00:10<04:44, 30.23it/s]\u001b[A\n",
            "  4%|▎         | 332/8928 [00:10<04:46, 30.03it/s]\u001b[A\n",
            "  4%|▍         | 336/8928 [00:11<04:50, 29.61it/s]\u001b[A\n",
            "  4%|▍         | 339/8928 [00:11<04:51, 29.46it/s]\u001b[A\n",
            "  4%|▍         | 342/8928 [00:11<04:51, 29.50it/s]\u001b[A\n",
            "  4%|▍         | 345/8928 [00:11<04:52, 29.31it/s]\u001b[A\n",
            "  4%|▍         | 349/8928 [00:11<04:47, 29.84it/s]\u001b[A\n",
            "  4%|▍         | 353/8928 [00:11<04:42, 30.31it/s]\u001b[A\n",
            "  4%|▍         | 357/8928 [00:11<04:39, 30.64it/s]\u001b[A\n",
            "  4%|▍         | 361/8928 [00:11<04:37, 30.83it/s]\u001b[A\n",
            "  4%|▍         | 365/8928 [00:12<04:39, 30.66it/s]\u001b[A\n",
            "  4%|▍         | 369/8928 [00:12<04:39, 30.65it/s]\u001b[A\n",
            "  4%|▍         | 373/8928 [00:12<04:40, 30.48it/s]\u001b[A\n",
            "  4%|▍         | 377/8928 [00:12<04:40, 30.45it/s]\u001b[A\n",
            "  4%|▍         | 381/8928 [00:12<04:42, 30.26it/s]\u001b[A\n",
            "  4%|▍         | 385/8928 [00:12<04:43, 30.17it/s]\u001b[A\n",
            "  4%|▍         | 389/8928 [00:12<04:41, 30.29it/s]\u001b[A\n",
            "  4%|▍         | 393/8928 [00:12<04:41, 30.36it/s]\u001b[A\n",
            "  4%|▍         | 397/8928 [00:13<04:41, 30.31it/s]\u001b[A\n",
            "  4%|▍         | 401/8928 [00:13<04:41, 30.31it/s]\u001b[A\n",
            "  5%|▍         | 405/8928 [00:13<04:35, 30.94it/s]\u001b[A\n",
            "  5%|▍         | 409/8928 [00:13<04:35, 30.97it/s]\u001b[A\n",
            "  5%|▍         | 413/8928 [00:13<04:35, 30.92it/s]\u001b[A\n",
            "  5%|▍         | 417/8928 [00:13<04:33, 31.11it/s]\u001b[A\n",
            "  5%|▍         | 421/8928 [00:13<04:34, 31.01it/s]\u001b[A\n",
            "  5%|▍         | 425/8928 [00:13<04:37, 30.64it/s]\u001b[A\n",
            "  5%|▍         | 429/8928 [00:14<04:38, 30.47it/s]\u001b[A\n",
            "  5%|▍         | 433/8928 [00:14<04:35, 30.81it/s]\u001b[A\n",
            "  5%|▍         | 437/8928 [00:14<04:34, 30.88it/s]\u001b[A\n",
            "  5%|▍         | 441/8928 [00:14<04:36, 30.67it/s]\u001b[A\n",
            "  5%|▍         | 445/8928 [00:14<04:39, 30.38it/s]\u001b[A\n",
            "  5%|▌         | 449/8928 [00:14<04:37, 30.60it/s]\u001b[A\n",
            "  5%|▌         | 453/8928 [00:14<04:41, 30.07it/s]\u001b[A\n",
            "  5%|▌         | 457/8928 [00:15<04:42, 30.03it/s]\u001b[A\n",
            "  5%|▌         | 461/8928 [00:15<04:36, 30.67it/s]\u001b[A\n",
            "  5%|▌         | 465/8928 [00:15<04:38, 30.42it/s]\u001b[A\n",
            "  5%|▌         | 469/8928 [00:15<04:38, 30.33it/s]\u001b[A\n",
            "  5%|▌         | 473/8928 [00:15<04:33, 30.86it/s]\u001b[A\n",
            "  5%|▌         | 477/8928 [00:15<04:36, 30.58it/s]\u001b[A\n",
            "  5%|▌         | 481/8928 [00:15<04:40, 30.09it/s]\u001b[A\n",
            "  5%|▌         | 485/8928 [00:15<04:44, 29.65it/s]\u001b[A\n",
            "  5%|▌         | 488/8928 [00:16<04:45, 29.55it/s]\u001b[A\n",
            "  6%|▌         | 492/8928 [00:16<04:41, 29.95it/s]\u001b[A\n",
            "  6%|▌         | 495/8928 [00:16<04:45, 29.56it/s]\u001b[A\n",
            "  6%|▌         | 499/8928 [00:16<04:42, 29.89it/s]\u001b[A\n",
            "  6%|▌         | 502/8928 [00:16<04:48, 29.18it/s]\u001b[A\n",
            "  6%|▌         | 505/8928 [00:16<04:52, 28.76it/s]\u001b[A\n",
            "  6%|▌         | 508/8928 [00:16<04:53, 28.66it/s]\u001b[A\n",
            "  6%|▌         | 511/8928 [00:16<05:13, 26.82it/s]\u001b[A\n",
            "  6%|▌         | 514/8928 [00:16<05:05, 27.57it/s]\u001b[A\n",
            "  6%|▌         | 517/8928 [00:17<05:03, 27.67it/s]\u001b[A\n",
            "  6%|▌         | 520/8928 [00:17<05:00, 27.95it/s]\u001b[A\n",
            "  6%|▌         | 523/8928 [00:17<04:56, 28.37it/s]\u001b[A\n",
            "  6%|▌         | 527/8928 [00:17<04:50, 28.91it/s]\u001b[A\n",
            "  6%|▌         | 531/8928 [00:17<04:44, 29.50it/s]\u001b[A\n",
            "  6%|▌         | 535/8928 [00:17<04:40, 29.87it/s]\u001b[A\n",
            "  6%|▌         | 538/8928 [00:17<04:50, 28.92it/s]\u001b[A\n",
            "  6%|▌         | 541/8928 [00:17<04:50, 28.87it/s]\u001b[A\n",
            "  6%|▌         | 544/8928 [00:18<04:53, 28.59it/s]\u001b[A\n",
            "  6%|▌         | 547/8928 [00:18<04:52, 28.62it/s]\u001b[A\n",
            "  6%|▌         | 550/8928 [00:18<04:51, 28.71it/s]\u001b[A\n",
            "  6%|▌         | 553/8928 [00:18<04:48, 28.99it/s]\u001b[A\n",
            "  6%|▌         | 557/8928 [00:18<04:45, 29.36it/s]\u001b[A\n",
            "  6%|▋         | 561/8928 [00:18<04:40, 29.88it/s]\u001b[A\n",
            "  6%|▋         | 564/8928 [00:18<04:43, 29.45it/s]\u001b[A\n",
            "  6%|▋         | 567/8928 [00:18<04:45, 29.30it/s]\u001b[A\n",
            "  6%|▋         | 570/8928 [00:18<04:45, 29.24it/s]\u001b[A\n",
            "  6%|▋         | 573/8928 [00:19<04:48, 28.97it/s]\u001b[A\n",
            "  6%|▋         | 576/8928 [00:19<04:52, 28.54it/s]\u001b[A\n",
            "  6%|▋         | 580/8928 [00:19<04:46, 29.12it/s]\u001b[A\n",
            "  7%|▋         | 583/8928 [00:19<04:48, 28.95it/s]\u001b[A\n",
            "  7%|▋         | 587/8928 [00:19<04:45, 29.26it/s]\u001b[A\n",
            "  7%|▋         | 591/8928 [00:19<04:38, 29.92it/s]\u001b[A\n",
            "  7%|▋         | 594/8928 [00:19<04:41, 29.64it/s]\u001b[A\n",
            "  7%|▋         | 597/8928 [00:19<04:40, 29.73it/s]\u001b[A\n",
            "  7%|▋         | 601/8928 [00:19<04:39, 29.83it/s]\u001b[A\n",
            "  7%|▋         | 604/8928 [00:20<04:39, 29.80it/s]\u001b[A\n",
            "  7%|▋         | 608/8928 [00:20<04:33, 30.47it/s]\u001b[A\n",
            "  7%|▋         | 612/8928 [00:20<04:31, 30.62it/s]\u001b[A\n",
            "  7%|▋         | 616/8928 [00:20<04:33, 30.36it/s]\u001b[A\n",
            "  7%|▋         | 620/8928 [00:20<04:39, 29.74it/s]\u001b[A\n",
            "  7%|▋         | 624/8928 [00:20<04:36, 30.07it/s]\u001b[A\n",
            "  7%|▋         | 628/8928 [00:20<04:42, 29.41it/s]\u001b[A\n",
            "  7%|▋         | 631/8928 [00:20<04:46, 28.92it/s]\u001b[A\n",
            "  7%|▋         | 634/8928 [00:21<04:53, 28.31it/s]\u001b[A\n",
            "  7%|▋         | 637/8928 [00:21<04:53, 28.23it/s]\u001b[A\n",
            "  7%|▋         | 640/8928 [00:21<04:54, 28.10it/s]\u001b[A\n",
            "  7%|▋         | 643/8928 [00:21<04:56, 27.98it/s]\u001b[A\n",
            "  7%|▋         | 646/8928 [00:21<04:54, 28.08it/s]\u001b[A\n",
            "  7%|▋         | 649/8928 [00:21<04:53, 28.17it/s]\u001b[A\n",
            "  7%|▋         | 652/8928 [00:21<04:55, 27.97it/s]\u001b[A\n",
            "  7%|▋         | 655/8928 [00:21<04:59, 27.67it/s]\u001b[A\n",
            "  7%|▋         | 658/8928 [00:21<04:57, 27.81it/s]\u001b[A\n",
            "  7%|▋         | 661/8928 [00:22<04:58, 27.72it/s]\u001b[A\n",
            "  7%|▋         | 664/8928 [00:22<04:57, 27.81it/s]\u001b[A\n",
            "  7%|▋         | 667/8928 [00:22<04:51, 28.35it/s]\u001b[A\n",
            "  8%|▊         | 671/8928 [00:22<04:41, 29.32it/s]\u001b[A\n",
            "  8%|▊         | 674/8928 [00:22<04:42, 29.22it/s]\u001b[A\n",
            "  8%|▊         | 677/8928 [00:22<04:42, 29.20it/s]\u001b[A\n",
            "  8%|▊         | 680/8928 [00:22<04:40, 29.37it/s]\u001b[A\n",
            "  8%|▊         | 683/8928 [00:22<04:43, 29.06it/s]\u001b[A\n",
            "  8%|▊         | 686/8928 [00:22<04:45, 28.83it/s]\u001b[A\n",
            "  8%|▊         | 689/8928 [00:23<04:48, 28.58it/s]\u001b[A\n",
            "  8%|▊         | 693/8928 [00:23<04:41, 29.26it/s]\u001b[A\n",
            "  8%|▊         | 696/8928 [00:23<04:41, 29.28it/s]\u001b[A\n",
            "  8%|▊         | 700/8928 [00:23<04:35, 29.84it/s]\u001b[A\n",
            "  8%|▊         | 704/8928 [00:23<04:30, 30.38it/s]\u001b[A\n",
            "  8%|▊         | 708/8928 [00:23<04:31, 30.24it/s]\u001b[A\n",
            "  8%|▊         | 712/8928 [00:23<04:32, 30.13it/s]\u001b[A\n",
            "  8%|▊         | 716/8928 [00:23<04:33, 30.02it/s]\u001b[A\n",
            "  8%|▊         | 720/8928 [00:24<04:31, 30.27it/s]\u001b[A\n",
            "  8%|▊         | 724/8928 [00:24<04:36, 29.72it/s]\u001b[A\n",
            "  8%|▊         | 727/8928 [00:24<04:36, 29.67it/s]\u001b[A\n",
            "  8%|▊         | 731/8928 [00:24<04:30, 30.33it/s]\u001b[A\n",
            "  8%|▊         | 735/8928 [00:24<04:30, 30.30it/s]\u001b[A\n",
            "  8%|▊         | 739/8928 [00:24<04:28, 30.54it/s]\u001b[A\n",
            "  8%|▊         | 743/8928 [00:24<04:28, 30.53it/s]\u001b[A\n",
            "  8%|▊         | 747/8928 [00:24<04:29, 30.35it/s]\u001b[A\n",
            "  8%|▊         | 751/8928 [00:25<04:30, 30.22it/s]\u001b[A\n",
            "  8%|▊         | 755/8928 [00:25<04:30, 30.22it/s]\u001b[A\n",
            "  9%|▊         | 759/8928 [00:25<04:33, 29.84it/s]\u001b[A\n",
            "  9%|▊         | 762/8928 [00:25<04:33, 29.88it/s]\u001b[A\n",
            "  9%|▊         | 765/8928 [00:25<04:33, 29.85it/s]\u001b[A\n",
            "  9%|▊         | 769/8928 [00:25<04:30, 30.15it/s]\u001b[A\n",
            "  9%|▊         | 773/8928 [00:25<04:30, 30.19it/s]\u001b[A\n",
            "  9%|▊         | 777/8928 [00:25<04:27, 30.44it/s]\u001b[A\n",
            "  9%|▊         | 781/8928 [00:26<04:30, 30.13it/s]\u001b[A\n",
            "  9%|▉         | 785/8928 [00:26<04:29, 30.26it/s]\u001b[A\n",
            "  9%|▉         | 789/8928 [00:26<04:29, 30.17it/s]\u001b[A\n",
            "  9%|▉         | 793/8928 [00:26<04:26, 30.50it/s]\u001b[A\n",
            "  9%|▉         | 797/8928 [00:26<04:31, 29.94it/s]\u001b[A\n",
            "  9%|▉         | 800/8928 [00:26<04:36, 29.37it/s]\u001b[A\n",
            "  9%|▉         | 803/8928 [00:26<04:39, 29.10it/s]\u001b[A\n",
            "  9%|▉         | 806/8928 [00:26<04:42, 28.80it/s]\u001b[A\n",
            "  9%|▉         | 809/8928 [00:26<04:41, 28.89it/s]\u001b[A\n",
            "  9%|▉         | 812/8928 [00:27<04:39, 29.02it/s]\u001b[A\n",
            "  9%|▉         | 815/8928 [00:27<04:39, 28.99it/s]\u001b[A\n",
            "  9%|▉         | 818/8928 [00:27<04:39, 29.07it/s]\u001b[A\n",
            "  9%|▉         | 821/8928 [00:27<04:36, 29.31it/s]\u001b[A\n",
            "  9%|▉         | 824/8928 [00:27<04:41, 28.83it/s]\u001b[A\n",
            "  9%|▉         | 827/8928 [00:27<04:39, 29.03it/s]\u001b[A\n",
            "  9%|▉         | 831/8928 [00:27<04:32, 29.76it/s]\u001b[A\n",
            "  9%|▉         | 834/8928 [00:27<04:32, 29.74it/s]\u001b[A\n",
            "  9%|▉         | 838/8928 [00:27<04:29, 30.03it/s]\u001b[A\n",
            "  9%|▉         | 842/8928 [00:28<04:31, 29.81it/s]\u001b[A\n",
            "  9%|▉         | 846/8928 [00:28<04:27, 30.19it/s]\u001b[A\n",
            " 10%|▉         | 850/8928 [00:28<04:25, 30.37it/s]\u001b[A\n",
            " 10%|▉         | 854/8928 [00:28<04:24, 30.50it/s]\u001b[A\n",
            " 10%|▉         | 858/8928 [00:28<04:23, 30.64it/s]\u001b[A\n",
            " 10%|▉         | 862/8928 [00:28<04:23, 30.67it/s]\u001b[A\n",
            " 10%|▉         | 866/8928 [00:28<04:23, 30.63it/s]\u001b[A\n",
            " 10%|▉         | 870/8928 [00:29<04:22, 30.70it/s]\u001b[A\n",
            " 10%|▉         | 874/8928 [00:29<04:27, 30.09it/s]\u001b[A\n",
            " 10%|▉         | 878/8928 [00:29<04:31, 29.68it/s]\u001b[A\n",
            " 10%|▉         | 881/8928 [00:29<04:34, 29.32it/s]\u001b[A\n",
            " 10%|▉         | 884/8928 [00:29<04:35, 29.17it/s]\u001b[A\n",
            " 10%|▉         | 887/8928 [00:29<04:36, 29.11it/s]\u001b[A\n",
            " 10%|▉         | 890/8928 [00:29<04:34, 29.31it/s]\u001b[A\n",
            " 10%|█         | 894/8928 [00:29<04:31, 29.63it/s]\u001b[A\n",
            " 10%|█         | 897/8928 [00:29<04:33, 29.32it/s]\u001b[A\n",
            " 10%|█         | 900/8928 [00:30<04:33, 29.40it/s]\u001b[A\n",
            " 10%|█         | 903/8928 [00:30<04:32, 29.47it/s]\u001b[A\n",
            " 10%|█         | 906/8928 [00:30<04:36, 29.05it/s]\u001b[A\n",
            " 10%|█         | 909/8928 [00:30<04:35, 29.14it/s]\u001b[A\n",
            " 10%|█         | 912/8928 [00:30<04:35, 29.08it/s]\u001b[A\n",
            " 10%|█         | 915/8928 [00:30<04:33, 29.30it/s]\u001b[A\n",
            " 10%|█         | 918/8928 [00:30<04:36, 28.99it/s]\u001b[A\n",
            " 10%|█         | 921/8928 [00:30<04:35, 29.10it/s]\u001b[A\n",
            " 10%|█         | 925/8928 [00:30<04:29, 29.71it/s]\u001b[A\n",
            " 10%|█         | 928/8928 [00:31<04:35, 29.08it/s]\u001b[A\n",
            " 10%|█         | 931/8928 [00:31<04:44, 28.11it/s]\u001b[A\n",
            " 10%|█         | 934/8928 [00:31<04:44, 28.12it/s]\u001b[A\n",
            " 10%|█         | 937/8928 [00:31<04:45, 28.00it/s]\u001b[A\n",
            " 11%|█         | 940/8928 [00:31<04:45, 28.00it/s]\u001b[A\n",
            " 11%|█         | 943/8928 [00:31<04:41, 28.34it/s]\u001b[A\n",
            " 11%|█         | 946/8928 [00:31<04:38, 28.70it/s]\u001b[A\n",
            " 11%|█         | 949/8928 [00:31<04:35, 29.01it/s]\u001b[A\n",
            " 11%|█         | 952/8928 [00:31<04:33, 29.14it/s]\u001b[A\n",
            " 11%|█         | 955/8928 [00:31<04:32, 29.31it/s]\u001b[A\n",
            " 11%|█         | 958/8928 [00:32<04:31, 29.33it/s]\u001b[A\n",
            " 11%|█         | 962/8928 [00:32<04:28, 29.66it/s]\u001b[A\n",
            " 11%|█         | 965/8928 [00:32<04:28, 29.65it/s]\u001b[A\n",
            " 11%|█         | 968/8928 [00:32<04:28, 29.69it/s]\u001b[A\n",
            " 11%|█         | 971/8928 [00:32<04:30, 29.46it/s]\u001b[A\n",
            " 11%|█         | 975/8928 [00:32<04:26, 29.85it/s]\u001b[A\n",
            " 11%|█         | 979/8928 [00:32<04:23, 30.14it/s]\u001b[A\n",
            " 11%|█         | 983/8928 [00:32<04:20, 30.44it/s]\u001b[A\n",
            " 11%|█         | 987/8928 [00:33<04:21, 30.40it/s]\u001b[A\n",
            " 11%|█         | 991/8928 [00:33<04:19, 30.54it/s]\u001b[A\n",
            " 11%|█         | 995/8928 [00:33<04:23, 30.10it/s]\u001b[A\n",
            " 11%|█         | 999/8928 [00:33<04:25, 29.91it/s]\u001b[A\n",
            " 11%|█         | 1002/8928 [00:33<04:25, 29.87it/s]\u001b[A\n",
            " 11%|█▏        | 1006/8928 [00:33<04:20, 30.43it/s]\u001b[A\n",
            " 11%|█▏        | 1010/8928 [00:33<04:17, 30.77it/s]\u001b[A\n",
            " 11%|█▏        | 1014/8928 [00:33<04:19, 30.54it/s]\u001b[A\n",
            " 11%|█▏        | 1018/8928 [00:34<04:17, 30.71it/s]\u001b[A\n",
            " 11%|█▏        | 1022/8928 [00:34<04:20, 30.39it/s]\u001b[A\n",
            " 11%|█▏        | 1026/8928 [00:34<04:18, 30.52it/s]\u001b[A\n",
            " 12%|█▏        | 1030/8928 [00:34<04:15, 30.92it/s]\u001b[A\n",
            " 12%|█▏        | 1034/8928 [00:34<04:14, 31.06it/s]\u001b[A\n",
            " 12%|█▏        | 1038/8928 [00:34<04:15, 30.89it/s]\u001b[A\n",
            " 12%|█▏        | 1042/8928 [00:34<04:22, 29.99it/s]\u001b[A\n",
            " 12%|█▏        | 1046/8928 [00:34<04:28, 29.31it/s]\u001b[A\n",
            " 12%|█▏        | 1049/8928 [00:35<04:33, 28.85it/s]\u001b[A\n",
            " 12%|█▏        | 1052/8928 [00:35<04:36, 28.50it/s]\u001b[A\n",
            " 12%|█▏        | 1055/8928 [00:35<04:44, 27.68it/s]\u001b[A\n",
            " 12%|█▏        | 1058/8928 [00:35<04:42, 27.87it/s]\u001b[A\n",
            " 12%|█▏        | 1061/8928 [00:35<04:44, 27.67it/s]\u001b[A\n",
            " 12%|█▏        | 1064/8928 [00:35<04:43, 27.75it/s]\u001b[A\n",
            " 12%|█▏        | 1067/8928 [00:35<04:44, 27.61it/s]\u001b[A\n",
            " 12%|█▏        | 1070/8928 [00:35<04:44, 27.64it/s]\u001b[A\n",
            " 12%|█▏        | 1073/8928 [00:35<04:39, 28.12it/s]\u001b[A\n",
            " 12%|█▏        | 1076/8928 [00:36<04:37, 28.32it/s]\u001b[A\n",
            " 12%|█▏        | 1079/8928 [00:36<04:33, 28.70it/s]\u001b[A\n",
            " 12%|█▏        | 1082/8928 [00:36<04:38, 28.20it/s]\u001b[A\n",
            " 12%|█▏        | 1085/8928 [00:36<04:34, 28.55it/s]\u001b[A\n",
            " 12%|█▏        | 1089/8928 [00:36<04:28, 29.21it/s]\u001b[A\n",
            " 12%|█▏        | 1093/8928 [00:36<04:22, 29.80it/s]\u001b[A\n",
            " 12%|█▏        | 1096/8928 [00:36<04:24, 29.66it/s]\u001b[A\n",
            " 12%|█▏        | 1099/8928 [00:36<04:25, 29.53it/s]\u001b[A\n",
            " 12%|█▏        | 1103/8928 [00:36<04:21, 29.90it/s]\u001b[A\n",
            " 12%|█▏        | 1106/8928 [00:37<04:25, 29.47it/s]\u001b[A\n",
            " 12%|█▏        | 1109/8928 [00:37<04:26, 29.37it/s]\u001b[A\n",
            " 12%|█▏        | 1112/8928 [00:37<04:28, 29.08it/s]\u001b[A\n",
            " 12%|█▎        | 1116/8928 [00:37<04:23, 29.65it/s]\u001b[A\n",
            " 13%|█▎        | 1119/8928 [00:37<04:24, 29.52it/s]\u001b[A\n",
            " 13%|█▎        | 1122/8928 [00:37<04:26, 29.32it/s]\u001b[A\n",
            " 13%|█▎        | 1126/8928 [00:37<04:20, 29.94it/s]\u001b[A\n",
            " 13%|█▎        | 1129/8928 [00:37<04:20, 29.92it/s]\u001b[A\n",
            " 13%|█▎        | 1133/8928 [00:37<04:18, 30.21it/s]\u001b[A\n",
            " 13%|█▎        | 1137/8928 [00:38<04:19, 29.98it/s]\u001b[A\n",
            " 13%|█▎        | 1141/8928 [00:38<04:22, 29.62it/s]\u001b[A\n",
            " 13%|█▎        | 1145/8928 [00:38<04:18, 30.06it/s]\u001b[A\n",
            " 13%|█▎        | 1149/8928 [00:38<04:17, 30.21it/s]\u001b[A\n",
            " 13%|█▎        | 1153/8928 [00:38<04:19, 30.01it/s]\u001b[A\n",
            " 13%|█▎        | 1157/8928 [00:38<04:14, 30.56it/s]\u001b[A\n",
            " 13%|█▎        | 1161/8928 [00:38<04:15, 30.45it/s]\u001b[A\n",
            " 13%|█▎        | 1165/8928 [00:39<04:12, 30.71it/s]\u001b[A\n",
            " 13%|█▎        | 1169/8928 [00:39<04:16, 30.20it/s]\u001b[A\n",
            " 13%|█▎        | 1173/8928 [00:39<04:18, 30.05it/s]\u001b[A\n",
            " 13%|█▎        | 1177/8928 [00:39<04:18, 29.93it/s]\u001b[A\n",
            " 13%|█▎        | 1180/8928 [00:39<04:20, 29.74it/s]\u001b[A\n",
            " 13%|█▎        | 1183/8928 [00:39<04:22, 29.55it/s]\u001b[A\n",
            " 13%|█▎        | 1186/8928 [00:39<04:24, 29.26it/s]\u001b[A\n",
            " 13%|█▎        | 1189/8928 [00:39<04:24, 29.24it/s]\u001b[A\n",
            " 13%|█▎        | 1192/8928 [00:39<04:24, 29.26it/s]\u001b[A\n",
            " 13%|█▎        | 1195/8928 [00:40<04:27, 28.95it/s]\u001b[A\n",
            " 13%|█▎        | 1199/8928 [00:40<04:21, 29.61it/s]\u001b[A\n",
            " 13%|█▎        | 1202/8928 [00:40<04:21, 29.57it/s]\u001b[A\n",
            " 13%|█▎        | 1205/8928 [00:40<04:25, 29.04it/s]\u001b[A\n",
            " 14%|█▎        | 1208/8928 [00:40<04:25, 29.08it/s]\u001b[A\n",
            " 14%|█▎        | 1212/8928 [00:40<04:19, 29.77it/s]\u001b[A\n",
            " 14%|█▎        | 1216/8928 [00:40<04:11, 30.64it/s]\u001b[A\n",
            " 14%|█▎        | 1220/8928 [00:40<04:11, 30.60it/s]\u001b[A\n",
            " 14%|█▎        | 1224/8928 [00:40<04:14, 30.29it/s]\u001b[A\n",
            " 14%|█▍        | 1228/8928 [00:41<04:12, 30.50it/s]\u001b[A\n",
            " 14%|█▍        | 1232/8928 [00:41<04:13, 30.41it/s]\u001b[A\n",
            " 14%|█▍        | 1236/8928 [00:41<04:17, 29.84it/s]\u001b[A\n",
            " 14%|█▍        | 1239/8928 [00:41<04:24, 29.12it/s]\u001b[A\n",
            " 14%|█▍        | 1242/8928 [00:41<04:22, 29.33it/s]\u001b[A\n",
            " 14%|█▍        | 1245/8928 [00:41<04:24, 29.08it/s]\u001b[A\n",
            " 14%|█▍        | 1248/8928 [00:41<04:24, 29.00it/s]\u001b[A\n",
            " 14%|█▍        | 1251/8928 [00:41<04:22, 29.25it/s]\u001b[A\n",
            " 14%|█▍        | 1255/8928 [00:42<04:17, 29.74it/s]\u001b[A\n",
            " 14%|█▍        | 1259/8928 [00:42<04:14, 30.13it/s]\u001b[A\n",
            " 14%|█▍        | 1263/8928 [00:42<04:19, 29.57it/s]\u001b[A\n",
            " 14%|█▍        | 1266/8928 [00:42<04:19, 29.54it/s]\u001b[A\n",
            " 14%|█▍        | 1270/8928 [00:42<04:15, 29.96it/s]\u001b[A\n",
            " 14%|█▍        | 1274/8928 [00:42<04:18, 29.65it/s]\u001b[A\n",
            " 14%|█▍        | 1277/8928 [00:42<04:19, 29.47it/s]\u001b[A\n",
            " 14%|█▍        | 1280/8928 [00:42<04:18, 29.59it/s]\u001b[A\n",
            " 14%|█▍        | 1284/8928 [00:43<04:14, 30.03it/s]\u001b[A\n",
            " 14%|█▍        | 1288/8928 [00:43<04:14, 30.04it/s]\u001b[A\n",
            " 14%|█▍        | 1292/8928 [00:43<04:17, 29.64it/s]\u001b[A\n",
            " 15%|█▍        | 1295/8928 [00:43<04:18, 29.48it/s]\u001b[A\n",
            " 15%|█▍        | 1298/8928 [00:43<04:20, 29.33it/s]\u001b[A\n",
            " 15%|█▍        | 1302/8928 [00:43<04:15, 29.80it/s]\u001b[A\n",
            " 15%|█▍        | 1306/8928 [00:43<04:12, 30.21it/s]\u001b[A\n",
            " 15%|█▍        | 1310/8928 [00:43<04:11, 30.27it/s]\u001b[A\n",
            " 15%|█▍        | 1314/8928 [00:44<04:13, 29.98it/s]\u001b[A\n",
            " 15%|█▍        | 1318/8928 [00:44<04:13, 30.02it/s]\u001b[A\n",
            " 15%|█▍        | 1322/8928 [00:44<04:11, 30.23it/s]\u001b[A\n",
            " 15%|█▍        | 1326/8928 [00:44<04:12, 30.08it/s]\u001b[A\n",
            " 15%|█▍        | 1330/8928 [00:44<04:16, 29.63it/s]\u001b[A\n",
            " 15%|█▍        | 1334/8928 [00:44<04:12, 30.08it/s]\u001b[A\n",
            " 15%|█▍        | 1338/8928 [00:44<04:10, 30.25it/s]\u001b[A\n",
            " 15%|█▌        | 1342/8928 [00:44<04:10, 30.33it/s]\u001b[A\n",
            " 15%|█▌        | 1346/8928 [00:45<04:10, 30.22it/s]\u001b[A\n",
            " 15%|█▌        | 1350/8928 [00:45<04:11, 30.15it/s]\u001b[A\n",
            " 15%|█▌        | 1354/8928 [00:45<04:13, 29.93it/s]\u001b[A\n",
            " 15%|█▌        | 1357/8928 [00:45<04:13, 29.88it/s]\u001b[A\n",
            " 15%|█▌        | 1360/8928 [00:45<04:15, 29.61it/s]\u001b[A\n",
            " 15%|█▌        | 1363/8928 [00:45<04:16, 29.47it/s]\u001b[A\n",
            " 15%|█▌        | 1367/8928 [00:45<04:10, 30.14it/s]\u001b[A\n",
            " 15%|█▌        | 1371/8928 [00:45<04:08, 30.45it/s]\u001b[A\n",
            " 15%|█▌        | 1375/8928 [00:46<04:07, 30.49it/s]\u001b[A\n",
            " 15%|█▌        | 1379/8928 [00:46<04:09, 30.25it/s]\u001b[A\n",
            " 15%|█▌        | 1383/8928 [00:46<04:07, 30.50it/s]\u001b[A\n",
            " 16%|█▌        | 1387/8928 [00:46<04:07, 30.52it/s]\u001b[A\n",
            " 16%|█▌        | 1391/8928 [00:46<04:06, 30.58it/s]\u001b[A\n",
            " 16%|█▌        | 1395/8928 [00:46<04:08, 30.30it/s]\u001b[A\n",
            " 16%|█▌        | 1399/8928 [00:46<04:10, 30.08it/s]\u001b[A\n",
            " 16%|█▌        | 1403/8928 [00:46<04:08, 30.29it/s]\u001b[A\n",
            " 16%|█▌        | 1407/8928 [00:47<04:06, 30.57it/s]\u001b[A\n",
            " 16%|█▌        | 1411/8928 [00:47<04:06, 30.46it/s]\u001b[A\n",
            " 16%|█▌        | 1415/8928 [00:47<04:12, 29.78it/s]\u001b[A\n",
            " 16%|█▌        | 1419/8928 [00:47<04:08, 30.22it/s]\u001b[A\n",
            " 16%|█▌        | 1423/8928 [00:47<04:10, 29.98it/s]\u001b[A\n",
            " 16%|█▌        | 1427/8928 [00:47<04:09, 30.00it/s]\u001b[A\n",
            " 16%|█▌        | 1431/8928 [00:47<04:12, 29.69it/s]\u001b[A\n",
            " 16%|█▌        | 1435/8928 [00:48<04:10, 29.87it/s]\u001b[A\n",
            " 16%|█▌        | 1439/8928 [00:48<04:06, 30.36it/s]\u001b[A\n",
            " 16%|█▌        | 1443/8928 [00:48<04:07, 30.23it/s]\u001b[A\n",
            " 16%|█▌        | 1447/8928 [00:48<04:13, 29.55it/s]\u001b[A\n",
            " 16%|█▌        | 1450/8928 [00:48<04:16, 29.19it/s]\u001b[A\n",
            " 16%|█▋        | 1453/8928 [00:48<04:14, 29.38it/s]\u001b[A\n",
            " 16%|█▋        | 1456/8928 [00:48<04:14, 29.38it/s]\u001b[A\n",
            " 16%|█▋        | 1459/8928 [00:48<04:21, 28.51it/s]\u001b[A\n",
            " 16%|█▋        | 1462/8928 [00:48<04:20, 28.69it/s]\u001b[A\n",
            " 16%|█▋        | 1466/8928 [00:49<04:14, 29.30it/s]\u001b[A\n",
            " 16%|█▋        | 1469/8928 [00:49<04:15, 29.23it/s]\u001b[A\n",
            " 16%|█▋        | 1472/8928 [00:49<04:16, 29.04it/s]\u001b[A\n",
            " 17%|█▋        | 1475/8928 [00:49<04:22, 28.35it/s]\u001b[A\n",
            " 17%|█▋        | 1478/8928 [00:49<04:20, 28.62it/s]\u001b[A\n",
            " 17%|█▋        | 1481/8928 [00:49<04:18, 28.79it/s]\u001b[A\n",
            " 17%|█▋        | 1484/8928 [00:49<04:17, 28.90it/s]\u001b[A\n",
            " 17%|█▋        | 1488/8928 [00:49<04:13, 29.34it/s]\u001b[A\n",
            " 17%|█▋        | 1491/8928 [00:49<04:12, 29.49it/s]\u001b[A\n",
            " 17%|█▋        | 1494/8928 [00:50<04:22, 28.29it/s]\u001b[A\n",
            " 17%|█▋        | 1497/8928 [00:50<04:19, 28.68it/s]\u001b[A\n",
            " 17%|█▋        | 1500/8928 [00:50<04:18, 28.69it/s]\u001b[A\n",
            " 17%|█▋        | 1503/8928 [00:50<04:17, 28.82it/s]\u001b[A\n",
            " 17%|█▋        | 1506/8928 [00:50<04:16, 28.96it/s]\u001b[A\n",
            " 17%|█▋        | 1510/8928 [00:50<04:09, 29.75it/s]\u001b[A\n",
            " 17%|█▋        | 1513/8928 [00:50<04:12, 29.37it/s]\u001b[A\n",
            " 17%|█▋        | 1516/8928 [00:50<04:11, 29.46it/s]\u001b[A\n",
            " 17%|█▋        | 1519/8928 [00:50<04:13, 29.27it/s]\u001b[A\n",
            " 17%|█▋        | 1523/8928 [00:51<04:08, 29.75it/s]\u001b[A\n",
            " 17%|█▋        | 1526/8928 [00:51<04:08, 29.78it/s]\u001b[A\n",
            " 17%|█▋        | 1529/8928 [00:51<04:08, 29.83it/s]\u001b[A\n",
            " 17%|█▋        | 1533/8928 [00:51<04:04, 30.23it/s]\u001b[A\n",
            " 17%|█▋        | 1537/8928 [00:51<04:04, 30.25it/s]\u001b[A\n",
            " 17%|█▋        | 1541/8928 [00:51<04:04, 30.20it/s]\u001b[A\n",
            " 17%|█▋        | 1545/8928 [00:51<04:07, 29.85it/s]\u001b[A\n",
            " 17%|█▋        | 1548/8928 [00:51<04:08, 29.71it/s]\u001b[A\n",
            " 17%|█▋        | 1551/8928 [00:51<04:08, 29.66it/s]\u001b[A\n",
            " 17%|█▋        | 1554/8928 [00:52<04:10, 29.39it/s]\u001b[A\n",
            " 17%|█▋        | 1557/8928 [00:52<04:10, 29.38it/s]\u001b[A\n",
            " 17%|█▋        | 1560/8928 [00:52<04:09, 29.50it/s]\u001b[A\n",
            " 18%|█▊        | 1564/8928 [00:52<04:04, 30.11it/s]\u001b[A\n",
            " 18%|█▊        | 1568/8928 [00:52<04:07, 29.73it/s]\u001b[A\n",
            " 18%|█▊        | 1572/8928 [00:52<04:03, 30.15it/s]\u001b[A\n",
            " 18%|█▊        | 1576/8928 [00:52<04:02, 30.26it/s]\u001b[A\n",
            " 18%|█▊        | 1580/8928 [00:52<04:04, 30.05it/s]\u001b[A\n",
            " 18%|█▊        | 1584/8928 [00:53<04:05, 29.85it/s]\u001b[A\n",
            " 18%|█▊        | 1588/8928 [00:53<04:02, 30.24it/s]\u001b[A\n",
            " 18%|█▊        | 1592/8928 [00:53<04:00, 30.49it/s]\u001b[A\n",
            " 18%|█▊        | 1596/8928 [00:53<04:02, 30.24it/s]\u001b[A\n",
            " 18%|█▊        | 1600/8928 [00:53<04:01, 30.33it/s]\u001b[A\n",
            " 18%|█▊        | 1604/8928 [00:53<04:01, 30.30it/s]\u001b[A\n",
            " 18%|█▊        | 1608/8928 [00:53<04:00, 30.43it/s]\u001b[A\n",
            " 18%|█▊        | 1612/8928 [00:54<04:04, 29.87it/s]\u001b[A\n",
            " 18%|█▊        | 1615/8928 [00:54<04:08, 29.44it/s]\u001b[A\n",
            " 18%|█▊        | 1618/8928 [00:54<04:09, 29.30it/s]\u001b[A\n",
            " 18%|█▊        | 1621/8928 [00:54<04:12, 28.94it/s]\u001b[A\n",
            " 18%|█▊        | 1624/8928 [00:54<04:16, 28.46it/s]\u001b[A\n",
            " 18%|█▊        | 1627/8928 [00:54<04:17, 28.33it/s]\u001b[A\n",
            " 18%|█▊        | 1630/8928 [00:54<04:16, 28.47it/s]\u001b[A\n",
            " 18%|█▊        | 1633/8928 [00:54<04:16, 28.39it/s]\u001b[A\n",
            " 18%|█▊        | 1636/8928 [00:54<04:19, 28.05it/s]\u001b[A\n",
            " 18%|█▊        | 1639/8928 [00:54<04:19, 28.06it/s]\u001b[A\n",
            " 18%|█▊        | 1643/8928 [00:55<04:12, 28.87it/s]\u001b[A\n",
            " 18%|█▊        | 1646/8928 [00:55<04:11, 29.01it/s]\u001b[A\n",
            " 18%|█▊        | 1649/8928 [00:55<04:09, 29.13it/s]\u001b[A\n",
            " 19%|█▊        | 1652/8928 [00:55<04:09, 29.13it/s]\u001b[A\n",
            " 19%|█▊        | 1655/8928 [00:55<04:07, 29.33it/s]\u001b[A\n",
            " 19%|█▊        | 1658/8928 [00:55<04:09, 29.13it/s]\u001b[A\n",
            " 19%|█▊        | 1662/8928 [00:55<04:02, 29.91it/s]\u001b[A\n",
            " 19%|█▊        | 1665/8928 [00:55<04:04, 29.70it/s]\u001b[A\n",
            " 19%|█▊        | 1668/8928 [00:55<04:08, 29.26it/s]\u001b[A\n",
            " 19%|█▊        | 1672/8928 [00:56<04:03, 29.76it/s]\u001b[A\n",
            " 19%|█▉        | 1676/8928 [00:56<03:59, 30.33it/s]\u001b[A\n",
            " 19%|█▉        | 1680/8928 [00:56<03:59, 30.29it/s]\u001b[A\n",
            " 19%|█▉        | 1684/8928 [00:56<04:00, 30.12it/s]\u001b[A\n",
            " 19%|█▉        | 1688/8928 [00:56<03:57, 30.51it/s]\u001b[A\n",
            " 19%|█▉        | 1692/8928 [00:56<03:53, 30.97it/s]\u001b[A\n",
            " 19%|█▉        | 1696/8928 [00:56<03:54, 30.89it/s]\u001b[A\n",
            " 19%|█▉        | 1700/8928 [00:56<03:58, 30.31it/s]\u001b[A\n",
            " 19%|█▉        | 1704/8928 [00:57<03:57, 30.36it/s]\u001b[A\n",
            " 19%|█▉        | 1708/8928 [00:57<03:57, 30.35it/s]\u001b[A\n",
            " 19%|█▉        | 1712/8928 [00:57<03:56, 30.47it/s]\u001b[A\n",
            " 19%|█▉        | 1716/8928 [00:57<04:02, 29.73it/s]\u001b[A\n",
            " 19%|█▉        | 1720/8928 [00:57<03:57, 30.29it/s]\u001b[A\n",
            " 19%|█▉        | 1724/8928 [00:57<04:00, 30.00it/s]\u001b[A\n",
            " 19%|█▉        | 1728/8928 [00:57<04:01, 29.78it/s]\u001b[A\n",
            " 19%|█▉        | 1731/8928 [00:58<04:05, 29.37it/s]\u001b[A\n",
            " 19%|█▉        | 1734/8928 [00:58<04:04, 29.42it/s]\u001b[A\n",
            " 19%|█▉        | 1738/8928 [00:58<04:01, 29.82it/s]\u001b[A\n",
            " 20%|█▉        | 1741/8928 [00:58<04:02, 29.62it/s]\u001b[A\n",
            " 20%|█▉        | 1744/8928 [00:58<04:02, 29.66it/s]\u001b[A\n",
            " 20%|█▉        | 1748/8928 [00:58<03:58, 30.08it/s]\u001b[A\n",
            " 20%|█▉        | 1752/8928 [00:58<03:57, 30.25it/s]\u001b[A\n",
            " 20%|█▉        | 1756/8928 [00:58<03:57, 30.15it/s]\u001b[A\n",
            " 20%|█▉        | 1760/8928 [00:58<03:55, 30.37it/s]\u001b[A\n",
            " 20%|█▉        | 1764/8928 [00:59<03:54, 30.53it/s]\u001b[A\n",
            " 20%|█▉        | 1768/8928 [00:59<03:59, 29.96it/s]\u001b[A\n",
            " 20%|█▉        | 1771/8928 [00:59<04:00, 29.75it/s]\u001b[A\n",
            " 20%|█▉        | 1775/8928 [00:59<03:57, 30.15it/s]\u001b[A\n",
            " 20%|█▉        | 1779/8928 [00:59<03:54, 30.51it/s]\u001b[A\n",
            " 20%|█▉        | 1783/8928 [00:59<03:55, 30.31it/s]\u001b[A\n",
            " 20%|██        | 1787/8928 [00:59<04:00, 29.64it/s]\u001b[A\n",
            " 20%|██        | 1791/8928 [01:00<03:57, 30.02it/s]\u001b[A\n",
            " 20%|██        | 1795/8928 [01:00<03:59, 29.84it/s]\u001b[A\n",
            " 20%|██        | 1798/8928 [01:00<03:59, 29.72it/s]\u001b[A\n",
            " 20%|██        | 1802/8928 [01:00<03:56, 30.10it/s]\u001b[A\n",
            " 20%|██        | 1806/8928 [01:00<03:54, 30.36it/s]\u001b[A\n",
            " 20%|██        | 1810/8928 [01:00<03:53, 30.44it/s]\u001b[A\n",
            " 20%|██        | 1814/8928 [01:00<03:53, 30.53it/s]\u001b[A\n",
            " 20%|██        | 1818/8928 [01:00<03:51, 30.66it/s]\u001b[A\n",
            " 20%|██        | 1822/8928 [01:01<03:56, 30.04it/s]\u001b[A\n",
            " 20%|██        | 1826/8928 [01:01<03:59, 29.69it/s]\u001b[A\n",
            " 20%|██        | 1829/8928 [01:01<03:59, 29.59it/s]\u001b[A\n",
            " 21%|██        | 1832/8928 [01:01<04:01, 29.34it/s]\u001b[A\n",
            " 21%|██        | 1835/8928 [01:01<04:03, 29.16it/s]\u001b[A\n",
            " 21%|██        | 1839/8928 [01:01<03:58, 29.73it/s]\u001b[A\n",
            " 21%|██        | 1842/8928 [01:01<03:58, 29.71it/s]\u001b[A\n",
            " 21%|██        | 1845/8928 [01:01<04:02, 29.18it/s]\u001b[A\n",
            " 21%|██        | 1848/8928 [01:01<04:03, 29.07it/s]\u001b[A\n",
            " 21%|██        | 1851/8928 [01:02<04:07, 28.64it/s]\u001b[A\n",
            " 21%|██        | 1854/8928 [01:02<04:04, 28.95it/s]\u001b[A\n",
            " 21%|██        | 1857/8928 [01:02<04:03, 29.03it/s]\u001b[A\n",
            " 21%|██        | 1861/8928 [01:02<04:00, 29.43it/s]\u001b[A\n",
            " 21%|██        | 1864/8928 [01:02<04:04, 28.93it/s]\u001b[A\n",
            " 21%|██        | 1867/8928 [01:02<04:05, 28.82it/s]\u001b[A\n",
            " 21%|██        | 1870/8928 [01:02<04:05, 28.72it/s]\u001b[A\n",
            " 21%|██        | 1873/8928 [01:02<04:07, 28.50it/s]\u001b[A\n",
            " 21%|██        | 1876/8928 [01:02<04:06, 28.60it/s]\u001b[A\n",
            " 21%|██        | 1879/8928 [01:02<04:03, 29.00it/s]\u001b[A\n",
            " 21%|██        | 1883/8928 [01:03<03:59, 29.36it/s]\u001b[A\n",
            " 21%|██        | 1886/8928 [01:03<04:06, 28.53it/s]\u001b[A\n",
            " 21%|██        | 1890/8928 [01:03<04:00, 29.30it/s]\u001b[A\n",
            " 21%|██        | 1893/8928 [01:03<04:04, 28.83it/s]\u001b[A\n",
            " 21%|██        | 1896/8928 [01:03<04:06, 28.53it/s]\u001b[A\n",
            " 21%|██▏       | 1899/8928 [01:03<04:06, 28.50it/s]\u001b[A\n",
            " 21%|██▏       | 1902/8928 [01:03<04:04, 28.69it/s]\u001b[A\n",
            " 21%|██▏       | 1905/8928 [01:03<04:04, 28.70it/s]\u001b[A\n",
            " 21%|██▏       | 1909/8928 [01:04<03:59, 29.33it/s]\u001b[A\n",
            " 21%|██▏       | 1912/8928 [01:04<04:01, 29.11it/s]\u001b[A\n",
            " 21%|██▏       | 1915/8928 [01:04<03:59, 29.23it/s]\u001b[A\n",
            " 21%|██▏       | 1919/8928 [01:04<03:55, 29.79it/s]\u001b[A\n",
            " 22%|██▏       | 1922/8928 [01:04<03:54, 29.81it/s]\u001b[A\n",
            " 22%|██▏       | 1925/8928 [01:04<03:55, 29.71it/s]\u001b[A\n",
            " 22%|██▏       | 1928/8928 [01:04<03:58, 29.38it/s]\u001b[A\n",
            " 22%|██▏       | 1931/8928 [01:04<03:59, 29.20it/s]\u001b[A\n",
            " 22%|██▏       | 1934/8928 [01:04<04:00, 29.05it/s]\u001b[A\n",
            " 22%|██▏       | 1938/8928 [01:05<03:56, 29.53it/s]\u001b[A\n",
            " 22%|██▏       | 1941/8928 [01:05<03:57, 29.38it/s]\u001b[A\n",
            " 22%|██▏       | 1944/8928 [01:05<03:56, 29.51it/s]\u001b[A\n",
            " 22%|██▏       | 1947/8928 [01:05<03:57, 29.40it/s]\u001b[A\n",
            " 22%|██▏       | 1950/8928 [01:05<04:01, 28.95it/s]\u001b[A\n",
            " 22%|██▏       | 1953/8928 [01:05<04:03, 28.67it/s]\u001b[A\n",
            " 22%|██▏       | 1957/8928 [01:05<03:57, 29.38it/s]\u001b[A\n",
            " 22%|██▏       | 1960/8928 [01:05<03:58, 29.21it/s]\u001b[A\n",
            " 22%|██▏       | 1963/8928 [01:05<03:58, 29.21it/s]\u001b[A\n",
            " 22%|██▏       | 1966/8928 [01:05<04:00, 28.96it/s]\u001b[A\n",
            " 22%|██▏       | 1969/8928 [01:06<04:00, 28.99it/s]\u001b[A\n",
            " 22%|██▏       | 1972/8928 [01:06<04:01, 28.84it/s]\u001b[A\n",
            " 22%|██▏       | 1975/8928 [01:06<04:01, 28.75it/s]\u001b[A\n",
            " 22%|██▏       | 1978/8928 [01:06<04:05, 28.35it/s]\u001b[A\n",
            " 22%|██▏       | 1981/8928 [01:06<04:02, 28.66it/s]\u001b[A\n",
            " 22%|██▏       | 1984/8928 [01:06<04:07, 28.04it/s]\u001b[A\n",
            " 22%|██▏       | 1988/8928 [01:06<03:59, 28.93it/s]\u001b[A\n",
            " 22%|██▏       | 1991/8928 [01:06<04:03, 28.51it/s]\u001b[A\n",
            " 22%|██▏       | 1994/8928 [01:06<04:02, 28.56it/s]\u001b[A\n",
            " 22%|██▏       | 1997/8928 [01:07<04:04, 28.31it/s]\u001b[A\n",
            " 22%|██▏       | 2000/8928 [01:07<04:03, 28.41it/s]\u001b[A\n",
            " 22%|██▏       | 2003/8928 [01:07<04:03, 28.42it/s]\u001b[A\n",
            " 22%|██▏       | 2006/8928 [01:07<04:01, 28.72it/s]\u001b[A\n",
            " 23%|██▎       | 2009/8928 [01:07<03:58, 29.04it/s]\u001b[A\n",
            " 23%|██▎       | 2012/8928 [01:07<04:02, 28.58it/s]\u001b[A\n",
            " 23%|██▎       | 2015/8928 [01:07<04:01, 28.62it/s]\u001b[A\n",
            " 23%|██▎       | 2018/8928 [01:07<03:59, 28.79it/s]\u001b[A\n",
            " 23%|██▎       | 2021/8928 [01:07<03:58, 28.95it/s]\u001b[A\n",
            " 23%|██▎       | 2024/8928 [01:07<03:59, 28.82it/s]\u001b[A\n",
            " 23%|██▎       | 2027/8928 [01:08<04:02, 28.42it/s]\u001b[A\n",
            " 23%|██▎       | 2030/8928 [01:08<04:04, 28.26it/s]\u001b[A\n",
            " 23%|██▎       | 2033/8928 [01:08<04:09, 27.60it/s]\u001b[A\n",
            " 23%|██▎       | 2036/8928 [01:08<04:09, 27.60it/s]\u001b[A\n",
            " 23%|██▎       | 2039/8928 [01:08<04:06, 27.93it/s]\u001b[A\n",
            " 23%|██▎       | 2042/8928 [01:08<04:11, 27.37it/s]\u001b[A\n",
            " 23%|██▎       | 2045/8928 [01:08<04:07, 27.83it/s]\u001b[A\n",
            " 23%|██▎       | 2048/8928 [01:08<04:07, 27.77it/s]\u001b[A\n",
            " 23%|██▎       | 2051/8928 [01:08<04:03, 28.21it/s]\u001b[A\n",
            " 23%|██▎       | 2054/8928 [01:09<04:04, 28.13it/s]\u001b[A\n",
            " 23%|██▎       | 2057/8928 [01:09<04:04, 28.13it/s]\u001b[A\n",
            " 23%|██▎       | 2060/8928 [01:09<04:01, 28.38it/s]\u001b[A\n",
            " 23%|██▎       | 2063/8928 [01:09<04:00, 28.50it/s]\u001b[A\n",
            " 23%|██▎       | 2067/8928 [01:09<03:54, 29.30it/s]\u001b[A\n",
            " 23%|██▎       | 2070/8928 [01:09<03:57, 28.91it/s]\u001b[A\n",
            " 23%|██▎       | 2073/8928 [01:09<04:00, 28.56it/s]\u001b[A\n",
            " 23%|██▎       | 2077/8928 [01:09<03:54, 29.19it/s]\u001b[A\n",
            " 23%|██▎       | 2080/8928 [01:09<03:54, 29.21it/s]\u001b[A\n",
            " 23%|██▎       | 2083/8928 [01:10<03:54, 29.19it/s]\u001b[A\n",
            " 23%|██▎       | 2086/8928 [01:10<03:53, 29.31it/s]\u001b[A\n",
            " 23%|██▎       | 2089/8928 [01:10<03:54, 29.17it/s]\u001b[A\n",
            " 23%|██▎       | 2093/8928 [01:10<03:49, 29.74it/s]\u001b[A\n",
            " 23%|██▎       | 2097/8928 [01:10<03:46, 30.21it/s]\u001b[A\n",
            " 24%|██▎       | 2101/8928 [01:10<03:52, 29.40it/s]\u001b[A\n",
            " 24%|██▎       | 2105/8928 [01:10<03:48, 29.81it/s]\u001b[A\n",
            " 24%|██▎       | 2108/8928 [01:10<03:51, 29.42it/s]\u001b[A\n",
            " 24%|██▎       | 2111/8928 [01:11<03:51, 29.49it/s]\u001b[A\n",
            " 24%|██▎       | 2114/8928 [01:11<03:51, 29.39it/s]\u001b[A\n",
            " 24%|██▎       | 2117/8928 [01:11<03:53, 29.12it/s]\u001b[A\n",
            " 24%|██▎       | 2120/8928 [01:11<03:52, 29.32it/s]\u001b[A\n",
            " 24%|██▍       | 2123/8928 [01:11<03:52, 29.23it/s]\u001b[A\n",
            " 24%|██▍       | 2126/8928 [01:11<03:53, 29.15it/s]\u001b[A\n",
            " 24%|██▍       | 2130/8928 [01:11<03:49, 29.67it/s]\u001b[A\n",
            " 24%|██▍       | 2133/8928 [01:11<03:51, 29.32it/s]\u001b[A\n",
            " 24%|██▍       | 2136/8928 [01:11<03:52, 29.27it/s]\u001b[A\n",
            " 24%|██▍       | 2139/8928 [01:11<03:53, 29.07it/s]\u001b[A\n",
            " 24%|██▍       | 2142/8928 [01:12<03:55, 28.85it/s]\u001b[A\n",
            " 24%|██▍       | 2146/8928 [01:12<03:50, 29.39it/s]\u001b[A\n",
            " 24%|██▍       | 2149/8928 [01:12<03:57, 28.57it/s]\u001b[A\n",
            " 24%|██▍       | 2152/8928 [01:12<03:54, 28.87it/s]\u001b[A\n",
            " 24%|██▍       | 2155/8928 [01:12<03:54, 28.87it/s]\u001b[A\n",
            " 24%|██▍       | 2159/8928 [01:12<03:48, 29.64it/s]\u001b[A\n",
            " 24%|██▍       | 2162/8928 [01:12<03:52, 29.08it/s]\u001b[A\n",
            " 24%|██▍       | 2165/8928 [01:12<03:50, 29.29it/s]\u001b[A\n",
            " 24%|██▍       | 2169/8928 [01:12<03:46, 29.79it/s]\u001b[A\n",
            " 24%|██▍       | 2172/8928 [01:13<03:49, 29.38it/s]\u001b[A\n",
            " 24%|██▍       | 2176/8928 [01:13<03:45, 29.89it/s]\u001b[A\n",
            " 24%|██▍       | 2179/8928 [01:13<03:46, 29.77it/s]\u001b[A\n",
            " 24%|██▍       | 2182/8928 [01:13<03:46, 29.72it/s]\u001b[A\n",
            " 24%|██▍       | 2185/8928 [01:13<03:47, 29.70it/s]\u001b[A\n",
            " 25%|██▍       | 2189/8928 [01:13<03:43, 30.20it/s]\u001b[A\n",
            " 25%|██▍       | 2193/8928 [01:13<03:44, 29.94it/s]\u001b[A\n",
            " 25%|██▍       | 2196/8928 [01:13<03:50, 29.20it/s]\u001b[A\n",
            " 25%|██▍       | 2199/8928 [01:13<03:51, 29.07it/s]\u001b[A\n",
            " 25%|██▍       | 2202/8928 [01:14<03:51, 29.05it/s]\u001b[A\n",
            " 25%|██▍       | 2205/8928 [01:14<03:52, 28.86it/s]\u001b[A\n",
            " 25%|██▍       | 2208/8928 [01:14<03:51, 29.08it/s]\u001b[A\n",
            " 25%|██▍       | 2211/8928 [01:14<03:50, 29.16it/s]\u001b[A\n",
            " 25%|██▍       | 2214/8928 [01:14<03:52, 28.88it/s]\u001b[A\n",
            " 25%|██▍       | 2218/8928 [01:14<03:48, 29.43it/s]\u001b[A\n",
            " 25%|██▍       | 2222/8928 [01:14<03:42, 30.10it/s]\u001b[A\n",
            " 25%|██▍       | 2226/8928 [01:14<03:46, 29.61it/s]\u001b[A\n",
            " 25%|██▍       | 2230/8928 [01:15<03:43, 30.03it/s]\u001b[A\n",
            " 25%|██▌       | 2234/8928 [01:15<03:43, 29.96it/s]\u001b[A\n",
            " 25%|██▌       | 2238/8928 [01:15<03:41, 30.25it/s]\u001b[A\n",
            " 25%|██▌       | 2242/8928 [01:15<03:39, 30.47it/s]\u001b[A\n",
            " 25%|██▌       | 2246/8928 [01:15<03:43, 29.92it/s]\u001b[A\n",
            " 25%|██▌       | 2249/8928 [01:15<03:43, 29.83it/s]\u001b[A\n",
            " 25%|██▌       | 2252/8928 [01:15<03:46, 29.49it/s]\u001b[A\n",
            " 25%|██▌       | 2255/8928 [01:15<03:49, 29.08it/s]\u001b[A\n",
            " 25%|██▌       | 2258/8928 [01:15<03:53, 28.60it/s]\u001b[A\n",
            " 25%|██▌       | 2261/8928 [01:16<03:56, 28.22it/s]\u001b[A\n",
            " 25%|██▌       | 2264/8928 [01:16<03:53, 28.57it/s]\u001b[A\n",
            " 25%|██▌       | 2267/8928 [01:16<03:56, 28.22it/s]\u001b[A\n",
            " 25%|██▌       | 2271/8928 [01:16<03:50, 28.94it/s]\u001b[A\n",
            " 25%|██▌       | 2274/8928 [01:16<03:54, 28.43it/s]\u001b[A\n",
            " 26%|██▌       | 2277/8928 [01:16<03:55, 28.27it/s]\u001b[A\n",
            " 26%|██▌       | 2280/8928 [01:16<03:57, 27.99it/s]\u001b[A\n",
            " 26%|██▌       | 2283/8928 [01:16<04:00, 27.68it/s]\u001b[A\n",
            " 26%|██▌       | 2286/8928 [01:16<03:59, 27.71it/s]\u001b[A\n",
            " 26%|██▌       | 2289/8928 [01:17<03:55, 28.18it/s]\u001b[A\n",
            " 26%|██▌       | 2292/8928 [01:17<03:55, 28.22it/s]\u001b[A\n",
            " 26%|██▌       | 2295/8928 [01:17<03:55, 28.19it/s]\u001b[A\n",
            " 26%|██▌       | 2298/8928 [01:17<03:55, 28.18it/s]\u001b[A\n",
            " 26%|██▌       | 2301/8928 [01:17<04:01, 27.40it/s]\u001b[A\n",
            " 26%|██▌       | 2305/8928 [01:17<03:54, 28.29it/s]\u001b[A\n",
            " 26%|██▌       | 2308/8928 [01:17<03:53, 28.40it/s]\u001b[A\n",
            " 26%|██▌       | 2311/8928 [01:17<03:50, 28.67it/s]\u001b[A\n",
            " 26%|██▌       | 2314/8928 [01:17<03:49, 28.76it/s]\u001b[A\n",
            " 26%|██▌       | 2317/8928 [01:18<03:51, 28.59it/s]\u001b[A\n",
            " 26%|██▌       | 2320/8928 [01:18<03:49, 28.75it/s]\u001b[A\n",
            " 26%|██▌       | 2323/8928 [01:18<03:54, 28.18it/s]\u001b[A\n",
            " 26%|██▌       | 2326/8928 [01:18<03:51, 28.51it/s]\u001b[A\n",
            " 26%|██▌       | 2329/8928 [01:18<03:52, 28.34it/s]\u001b[A\n",
            " 26%|██▌       | 2332/8928 [01:18<03:50, 28.58it/s]\u001b[A\n",
            " 26%|██▌       | 2335/8928 [01:18<03:52, 28.42it/s]\u001b[A\n",
            " 26%|██▌       | 2338/8928 [01:18<03:51, 28.49it/s]\u001b[A\n",
            " 26%|██▌       | 2341/8928 [01:18<03:51, 28.40it/s]\u001b[A\n",
            " 26%|██▋       | 2344/8928 [01:19<03:51, 28.39it/s]\u001b[A\n",
            " 26%|██▋       | 2347/8928 [01:19<03:54, 28.09it/s]\u001b[A\n",
            " 26%|██▋       | 2350/8928 [01:19<03:51, 28.40it/s]\u001b[A\n",
            " 26%|██▋       | 2353/8928 [01:19<03:52, 28.29it/s]\u001b[A\n",
            " 26%|██▋       | 2356/8928 [01:19<03:48, 28.74it/s]\u001b[A\n",
            " 26%|██▋       | 2360/8928 [01:19<03:41, 29.68it/s]\u001b[A\n",
            " 26%|██▋       | 2363/8928 [01:19<03:46, 29.03it/s]\u001b[A\n",
            " 27%|██▋       | 2366/8928 [01:19<03:47, 28.82it/s]\u001b[A\n",
            " 27%|██▋       | 2369/8928 [01:19<03:51, 28.35it/s]\u001b[A\n",
            " 27%|██▋       | 2372/8928 [01:20<03:49, 28.52it/s]\u001b[A\n",
            " 27%|██▋       | 2375/8928 [01:20<03:48, 28.69it/s]\u001b[A\n",
            " 27%|██▋       | 2378/8928 [01:20<03:49, 28.51it/s]\u001b[A\n",
            " 27%|██▋       | 2381/8928 [01:20<03:51, 28.23it/s]\u001b[A\n",
            " 27%|██▋       | 2385/8928 [01:20<03:46, 28.95it/s]\u001b[A\n",
            " 27%|██▋       | 2388/8928 [01:20<03:46, 28.84it/s]\u001b[A\n",
            " 27%|██▋       | 2392/8928 [01:20<03:42, 29.31it/s]\u001b[A\n",
            " 27%|██▋       | 2395/8928 [01:20<03:43, 29.26it/s]\u001b[A\n",
            " 27%|██▋       | 2398/8928 [01:20<03:45, 28.96it/s]\u001b[A\n",
            " 27%|██▋       | 2401/8928 [01:21<03:46, 28.85it/s]\u001b[A\n",
            " 27%|██▋       | 2404/8928 [01:21<03:44, 29.02it/s]\u001b[A\n",
            " 27%|██▋       | 2407/8928 [01:21<03:47, 28.70it/s]\u001b[A\n",
            " 27%|██▋       | 2411/8928 [01:21<03:41, 29.37it/s]\u001b[A\n",
            " 27%|██▋       | 2414/8928 [01:21<03:42, 29.34it/s]\u001b[A\n",
            " 27%|██▋       | 2417/8928 [01:21<03:45, 28.92it/s]\u001b[A\n",
            " 27%|██▋       | 2420/8928 [01:21<03:43, 29.07it/s]\u001b[A\n",
            " 27%|██▋       | 2424/8928 [01:21<03:39, 29.63it/s]\u001b[A\n",
            " 27%|██▋       | 2427/8928 [01:21<03:43, 29.13it/s]\u001b[A\n",
            " 27%|██▋       | 2430/8928 [01:21<03:44, 29.00it/s]\u001b[A\n",
            " 27%|██▋       | 2433/8928 [01:22<03:46, 28.74it/s]\u001b[A\n",
            " 27%|██▋       | 2436/8928 [01:22<03:48, 28.38it/s]\u001b[A\n",
            " 27%|██▋       | 2439/8928 [01:22<03:47, 28.55it/s]\u001b[A\n",
            " 27%|██▋       | 2442/8928 [01:22<03:46, 28.62it/s]\u001b[A\n",
            " 27%|██▋       | 2445/8928 [01:22<03:44, 28.86it/s]\u001b[A\n",
            " 27%|██▋       | 2449/8928 [01:22<03:39, 29.49it/s]\u001b[A\n",
            " 27%|██▋       | 2452/8928 [01:22<03:39, 29.55it/s]\u001b[A\n",
            " 27%|██▋       | 2455/8928 [01:22<03:43, 29.00it/s]\u001b[A\n",
            " 28%|██▊       | 2458/8928 [01:22<03:42, 29.07it/s]\u001b[A\n",
            " 28%|██▊       | 2461/8928 [01:23<03:43, 28.94it/s]\u001b[A\n",
            " 28%|██▊       | 2464/8928 [01:23<03:47, 28.37it/s]\u001b[A\n",
            " 28%|██▊       | 2467/8928 [01:23<03:49, 28.18it/s]\u001b[A\n",
            " 28%|██▊       | 2471/8928 [01:23<03:42, 29.00it/s]\u001b[A\n",
            " 28%|██▊       | 2474/8928 [01:23<03:40, 29.24it/s]\u001b[A\n",
            " 28%|██▊       | 2478/8928 [01:23<03:36, 29.84it/s]\u001b[A\n",
            " 28%|██▊       | 2481/8928 [01:23<03:42, 29.03it/s]\u001b[A\n",
            " 28%|██▊       | 2484/8928 [01:23<03:43, 28.84it/s]\u001b[A\n",
            " 28%|██▊       | 2487/8928 [01:23<03:41, 29.03it/s]\u001b[A\n",
            " 28%|██▊       | 2490/8928 [01:24<03:42, 28.90it/s]\u001b[A\n",
            " 28%|██▊       | 2493/8928 [01:24<03:47, 28.32it/s]\u001b[A\n",
            " 28%|██▊       | 2496/8928 [01:24<03:46, 28.44it/s]\u001b[A\n",
            " 28%|██▊       | 2499/8928 [01:24<03:45, 28.57it/s]\u001b[A\n",
            " 28%|██▊       | 2503/8928 [01:24<03:39, 29.30it/s]\u001b[A\n",
            " 28%|██▊       | 2506/8928 [01:24<03:39, 29.20it/s]\u001b[A\n",
            " 28%|██▊       | 2509/8928 [01:24<03:39, 29.31it/s]\u001b[A\n",
            " 28%|██▊       | 2512/8928 [01:24<03:39, 29.19it/s]\u001b[A\n",
            " 28%|██▊       | 2515/8928 [01:24<03:44, 28.56it/s]\u001b[A\n",
            " 28%|██▊       | 2518/8928 [01:25<03:49, 27.99it/s]\u001b[A\n",
            " 28%|██▊       | 2522/8928 [01:25<03:41, 28.92it/s]\u001b[A\n",
            " 28%|██▊       | 2525/8928 [01:25<03:44, 28.47it/s]\u001b[A\n",
            " 28%|██▊       | 2529/8928 [01:25<03:39, 29.14it/s]\u001b[A\n",
            " 28%|██▊       | 2533/8928 [01:25<03:36, 29.57it/s]\u001b[A\n",
            " 28%|██▊       | 2536/8928 [01:25<03:36, 29.57it/s]\u001b[A\n",
            " 28%|██▊       | 2540/8928 [01:25<03:34, 29.78it/s]\u001b[A\n",
            " 28%|██▊       | 2543/8928 [01:25<03:40, 29.02it/s]\u001b[A\n",
            " 29%|██▊       | 2546/8928 [01:25<03:37, 29.29it/s]\u001b[A\n",
            " 29%|██▊       | 2549/8928 [01:26<03:37, 29.27it/s]\u001b[A\n",
            " 29%|██▊       | 2553/8928 [01:26<03:34, 29.77it/s]\u001b[A\n",
            " 29%|██▊       | 2556/8928 [01:26<03:37, 29.27it/s]\u001b[A\n",
            " 29%|██▊       | 2560/8928 [01:26<03:32, 30.03it/s]\u001b[A\n",
            " 29%|██▊       | 2564/8928 [01:26<03:30, 30.26it/s]\u001b[A\n",
            " 29%|██▉       | 2568/8928 [01:26<03:28, 30.57it/s]\u001b[A\n",
            " 29%|██▉       | 2572/8928 [01:26<03:32, 29.91it/s]\u001b[A\n",
            " 29%|██▉       | 2575/8928 [01:26<03:32, 29.87it/s]\u001b[A\n",
            " 29%|██▉       | 2578/8928 [01:27<03:32, 29.85it/s]\u001b[A\n",
            " 29%|██▉       | 2582/8928 [01:27<03:30, 30.12it/s]\u001b[A\n",
            " 29%|██▉       | 2586/8928 [01:27<03:32, 29.84it/s]\u001b[A\n",
            " 29%|██▉       | 2590/8928 [01:27<03:29, 30.31it/s]\u001b[A\n",
            " 29%|██▉       | 2594/8928 [01:27<03:29, 30.26it/s]\u001b[A\n",
            " 29%|██▉       | 2598/8928 [01:27<03:28, 30.38it/s]\u001b[A\n",
            " 29%|██▉       | 2602/8928 [01:27<03:32, 29.74it/s]\u001b[A\n",
            " 29%|██▉       | 2605/8928 [01:27<03:34, 29.54it/s]\u001b[A\n",
            " 29%|██▉       | 2608/8928 [01:28<03:36, 29.26it/s]\u001b[A\n",
            " 29%|██▉       | 2611/8928 [01:28<03:34, 29.41it/s]\u001b[A\n",
            " 29%|██▉       | 2614/8928 [01:28<03:36, 29.13it/s]\u001b[A\n",
            " 29%|██▉       | 2617/8928 [01:28<03:38, 28.91it/s]\u001b[A\n",
            " 29%|██▉       | 2620/8928 [01:28<03:36, 29.13it/s]\u001b[A\n",
            " 29%|██▉       | 2623/8928 [01:28<03:35, 29.31it/s]\u001b[A\n",
            " 29%|██▉       | 2626/8928 [01:28<03:35, 29.18it/s]\u001b[A\n",
            " 29%|██▉       | 2629/8928 [01:28<03:36, 29.14it/s]\u001b[A\n",
            " 29%|██▉       | 2632/8928 [01:28<03:38, 28.78it/s]\u001b[A\n",
            " 30%|██▉       | 2636/8928 [01:29<03:33, 29.48it/s]\u001b[A\n",
            " 30%|██▉       | 2639/8928 [01:29<03:36, 29.05it/s]\u001b[A\n",
            " 30%|██▉       | 2642/8928 [01:29<03:37, 28.94it/s]\u001b[A\n",
            " 30%|██▉       | 2645/8928 [01:29<03:38, 28.81it/s]\u001b[A\n",
            " 30%|██▉       | 2648/8928 [01:29<03:36, 29.01it/s]\u001b[A\n",
            " 30%|██▉       | 2651/8928 [01:29<03:36, 28.95it/s]\u001b[A\n",
            " 30%|██▉       | 2654/8928 [01:29<03:36, 28.99it/s]\u001b[A\n",
            " 30%|██▉       | 2657/8928 [01:29<03:39, 28.57it/s]\u001b[A\n",
            " 30%|██▉       | 2660/8928 [01:29<03:38, 28.65it/s]\u001b[A\n",
            " 30%|██▉       | 2663/8928 [01:29<03:40, 28.37it/s]\u001b[A\n",
            " 30%|██▉       | 2666/8928 [01:30<03:37, 28.77it/s]\u001b[A\n",
            " 30%|██▉       | 2669/8928 [01:30<03:37, 28.75it/s]\u001b[A\n",
            " 30%|██▉       | 2672/8928 [01:30<03:36, 28.85it/s]\u001b[A\n",
            " 30%|██▉       | 2676/8928 [01:30<03:31, 29.52it/s]\u001b[A\n",
            " 30%|███       | 2679/8928 [01:30<03:31, 29.56it/s]\u001b[A\n",
            " 30%|███       | 2682/8928 [01:30<03:33, 29.29it/s]\u001b[A\n",
            " 30%|███       | 2686/8928 [01:30<03:29, 29.84it/s]\u001b[A\n",
            " 30%|███       | 2689/8928 [01:30<03:31, 29.50it/s]\u001b[A\n",
            " 30%|███       | 2692/8928 [01:30<03:31, 29.44it/s]\u001b[A\n",
            " 30%|███       | 2695/8928 [01:31<03:31, 29.43it/s]\u001b[A\n",
            " 30%|███       | 2698/8928 [01:31<03:30, 29.54it/s]\u001b[A\n",
            " 30%|███       | 2701/8928 [01:31<03:32, 29.28it/s]\u001b[A\n",
            " 30%|███       | 2704/8928 [01:31<03:33, 29.21it/s]\u001b[A\n",
            " 30%|███       | 2707/8928 [01:31<03:35, 28.93it/s]\u001b[A\n",
            " 30%|███       | 2710/8928 [01:31<03:36, 28.67it/s]\u001b[A\n",
            " 30%|███       | 2713/8928 [01:31<03:35, 28.85it/s]\u001b[A\n",
            " 30%|███       | 2717/8928 [01:31<03:30, 29.47it/s]\u001b[A\n",
            " 30%|███       | 2720/8928 [01:31<03:33, 29.03it/s]\u001b[A\n",
            " 30%|███       | 2723/8928 [01:31<03:34, 28.90it/s]\u001b[A\n",
            " 31%|███       | 2726/8928 [01:32<03:36, 28.64it/s]\u001b[A\n",
            " 31%|███       | 2729/8928 [01:32<03:38, 28.35it/s]\u001b[A\n",
            " 31%|███       | 2732/8928 [01:32<03:40, 28.07it/s]\u001b[A\n",
            " 31%|███       | 2735/8928 [01:32<03:38, 28.35it/s]\u001b[A\n",
            " 31%|███       | 2738/8928 [01:32<03:40, 28.02it/s]\u001b[A\n",
            " 31%|███       | 2741/8928 [01:32<03:38, 28.31it/s]\u001b[A\n",
            " 31%|███       | 2744/8928 [01:32<03:38, 28.35it/s]\u001b[A\n",
            " 31%|███       | 2747/8928 [01:32<03:35, 28.63it/s]\u001b[A\n",
            " 31%|███       | 2750/8928 [01:32<03:34, 28.74it/s]\u001b[A\n",
            " 31%|███       | 2753/8928 [01:33<03:33, 28.91it/s]\u001b[A\n",
            " 31%|███       | 2756/8928 [01:33<03:31, 29.17it/s]\u001b[A\n",
            " 31%|███       | 2759/8928 [01:33<03:35, 28.62it/s]\u001b[A\n",
            " 31%|███       | 2762/8928 [01:33<03:32, 28.97it/s]\u001b[A\n",
            " 31%|███       | 2765/8928 [01:33<03:34, 28.68it/s]\u001b[A\n",
            " 31%|███       | 2768/8928 [01:33<03:33, 28.80it/s]\u001b[A\n",
            " 31%|███       | 2771/8928 [01:33<03:36, 28.45it/s]\u001b[A\n",
            " 31%|███       | 2774/8928 [01:33<03:34, 28.64it/s]\u001b[A\n",
            " 31%|███       | 2777/8928 [01:33<03:35, 28.57it/s]\u001b[A\n",
            " 31%|███       | 2780/8928 [01:33<03:33, 28.80it/s]\u001b[A\n",
            " 31%|███       | 2783/8928 [01:34<03:35, 28.58it/s]\u001b[A\n",
            " 31%|███       | 2787/8928 [01:34<03:29, 29.27it/s]\u001b[A\n",
            " 31%|███▏      | 2790/8928 [01:34<03:29, 29.30it/s]\u001b[A\n",
            " 31%|███▏      | 2794/8928 [01:34<03:26, 29.76it/s]\u001b[A\n",
            " 31%|███▏      | 2798/8928 [01:34<03:21, 30.44it/s]\u001b[A\n",
            " 31%|███▏      | 2802/8928 [01:34<03:27, 29.46it/s]\u001b[A\n",
            " 31%|███▏      | 2805/8928 [01:34<03:30, 29.15it/s]\u001b[A\n",
            " 31%|███▏      | 2808/8928 [01:34<03:32, 28.76it/s]\u001b[A\n",
            " 31%|███▏      | 2811/8928 [01:35<03:34, 28.57it/s]\u001b[A\n",
            " 32%|███▏      | 2814/8928 [01:35<03:32, 28.76it/s]\u001b[A\n",
            " 32%|███▏      | 2817/8928 [01:35<03:32, 28.71it/s]\u001b[A\n",
            " 32%|███▏      | 2820/8928 [01:35<03:35, 28.31it/s]\u001b[A\n",
            " 32%|███▏      | 2823/8928 [01:35<03:36, 28.20it/s]\u001b[A\n",
            " 32%|███▏      | 2826/8928 [01:35<03:36, 28.21it/s]\u001b[A\n",
            " 32%|███▏      | 2829/8928 [01:35<03:37, 28.08it/s]\u001b[A\n",
            " 32%|███▏      | 2833/8928 [01:35<03:30, 28.93it/s]\u001b[A\n",
            " 32%|███▏      | 2836/8928 [01:35<03:36, 28.09it/s]\u001b[A\n",
            " 32%|███▏      | 2839/8928 [01:36<03:38, 27.91it/s]\u001b[A\n",
            " 32%|███▏      | 2842/8928 [01:36<03:38, 27.81it/s]\u001b[A\n",
            " 32%|███▏      | 2845/8928 [01:36<03:35, 28.18it/s]\u001b[A\n",
            " 32%|███▏      | 2848/8928 [01:36<03:33, 28.51it/s]\u001b[A\n",
            " 32%|███▏      | 2851/8928 [01:36<03:32, 28.57it/s]\u001b[A\n",
            " 32%|███▏      | 2855/8928 [01:36<03:27, 29.31it/s]\u001b[A\n",
            " 32%|███▏      | 2858/8928 [01:36<03:26, 29.42it/s]\u001b[A\n",
            " 32%|███▏      | 2861/8928 [01:36<03:27, 29.27it/s]\u001b[A\n",
            " 32%|███▏      | 2864/8928 [01:36<03:31, 28.63it/s]\u001b[A\n",
            " 32%|███▏      | 2867/8928 [01:36<03:28, 29.00it/s]\u001b[A\n",
            " 32%|███▏      | 2870/8928 [01:37<03:27, 29.21it/s]\u001b[A\n",
            " 32%|███▏      | 2873/8928 [01:37<03:33, 28.32it/s]\u001b[A\n",
            " 32%|███▏      | 2876/8928 [01:37<03:33, 28.31it/s]\u001b[A\n",
            " 32%|███▏      | 2879/8928 [01:37<03:32, 28.43it/s]\u001b[A\n",
            " 32%|███▏      | 2882/8928 [01:37<03:33, 28.27it/s]\u001b[A\n",
            " 32%|███▏      | 2885/8928 [01:37<03:32, 28.46it/s]\u001b[A\n",
            " 32%|███▏      | 2888/8928 [01:37<03:33, 28.23it/s]\u001b[A\n",
            " 32%|███▏      | 2891/8928 [01:37<03:32, 28.35it/s]\u001b[A\n",
            " 32%|███▏      | 2894/8928 [01:37<03:31, 28.49it/s]\u001b[A\n",
            " 32%|███▏      | 2897/8928 [01:38<03:32, 28.37it/s]\u001b[A\n",
            " 32%|███▏      | 2900/8928 [01:38<03:32, 28.33it/s]\u001b[A\n",
            " 33%|███▎      | 2903/8928 [01:38<03:33, 28.19it/s]\u001b[A\n",
            " 33%|███▎      | 2906/8928 [01:38<03:29, 28.68it/s]\u001b[A\n",
            " 33%|███▎      | 2910/8928 [01:38<03:24, 29.43it/s]\u001b[A\n",
            " 33%|███▎      | 2913/8928 [01:38<03:24, 29.40it/s]\u001b[A\n",
            " 33%|███▎      | 2917/8928 [01:38<03:20, 29.93it/s]\u001b[A\n",
            " 33%|███▎      | 2920/8928 [01:38<03:22, 29.66it/s]\u001b[A\n",
            " 33%|███▎      | 2923/8928 [01:38<03:27, 28.97it/s]\u001b[A\n",
            " 33%|███▎      | 2926/8928 [01:39<03:25, 29.15it/s]\u001b[A\n",
            " 33%|███▎      | 2929/8928 [01:39<03:28, 28.75it/s]\u001b[A\n",
            " 33%|███▎      | 2932/8928 [01:39<03:29, 28.58it/s]\u001b[A\n",
            " 33%|███▎      | 2935/8928 [01:39<03:29, 28.55it/s]\u001b[A\n",
            " 33%|███▎      | 2938/8928 [01:39<03:31, 28.35it/s]\u001b[A\n",
            " 33%|███▎      | 2942/8928 [01:39<03:25, 29.18it/s]\u001b[A\n",
            " 33%|███▎      | 2945/8928 [01:39<03:25, 29.13it/s]\u001b[A\n",
            " 33%|███▎      | 2948/8928 [01:39<03:24, 29.20it/s]\u001b[A\n",
            " 33%|███▎      | 2951/8928 [01:39<03:30, 28.38it/s]\u001b[A\n",
            " 33%|███▎      | 2954/8928 [01:40<03:29, 28.51it/s]\u001b[A\n",
            " 33%|███▎      | 2957/8928 [01:40<03:27, 28.71it/s]\u001b[A\n",
            " 33%|███▎      | 2960/8928 [01:40<03:28, 28.68it/s]\u001b[A\n",
            " 33%|███▎      | 2963/8928 [01:40<03:27, 28.73it/s]\u001b[A\n",
            " 33%|███▎      | 2966/8928 [01:40<03:25, 28.98it/s]\u001b[A\n",
            " 33%|███▎      | 2969/8928 [01:40<03:25, 28.97it/s]\u001b[A\n",
            " 33%|███▎      | 2973/8928 [01:40<03:21, 29.51it/s]\u001b[A\n",
            " 33%|███▎      | 2976/8928 [01:40<03:22, 29.38it/s]\u001b[A\n",
            " 33%|███▎      | 2979/8928 [01:40<03:29, 28.46it/s]\u001b[A\n",
            " 33%|███▎      | 2982/8928 [01:40<03:31, 28.09it/s]\u001b[A\n",
            " 33%|███▎      | 2985/8928 [01:41<03:30, 28.28it/s]\u001b[A\n",
            " 33%|███▎      | 2988/8928 [01:41<03:32, 27.94it/s]\u001b[A\n",
            " 34%|███▎      | 2991/8928 [01:41<03:33, 27.76it/s]\u001b[A\n",
            " 34%|███▎      | 2994/8928 [01:41<03:36, 27.43it/s]\u001b[A\n",
            " 34%|███▎      | 2997/8928 [01:41<03:38, 27.15it/s]\u001b[A\n",
            " 34%|███▎      | 3000/8928 [01:41<03:34, 27.62it/s]\u001b[A\n",
            " 34%|███▎      | 3003/8928 [01:41<03:34, 27.67it/s]\u001b[A\n",
            " 34%|███▎      | 3006/8928 [01:41<03:33, 27.74it/s]\u001b[A\n",
            " 34%|███▎      | 3009/8928 [01:41<03:35, 27.53it/s]\u001b[A\n",
            " 34%|███▎      | 3012/8928 [01:42<03:32, 27.87it/s]\u001b[A\n",
            " 34%|███▍      | 3015/8928 [01:42<03:30, 28.03it/s]\u001b[A\n",
            " 34%|███▍      | 3018/8928 [01:42<03:33, 27.67it/s]\u001b[A\n",
            " 34%|███▍      | 3021/8928 [01:42<03:34, 27.56it/s]\u001b[A\n",
            " 34%|███▍      | 3024/8928 [01:42<03:32, 27.82it/s]\u001b[A\n",
            " 34%|███▍      | 3027/8928 [01:42<03:29, 28.15it/s]\u001b[A\n",
            " 34%|███▍      | 3030/8928 [01:42<03:27, 28.46it/s]\u001b[A\n",
            " 34%|███▍      | 3033/8928 [01:42<03:24, 28.82it/s]\u001b[A\n",
            " 34%|███▍      | 3036/8928 [01:42<03:26, 28.54it/s]\u001b[A\n",
            " 34%|███▍      | 3039/8928 [01:43<03:24, 28.80it/s]\u001b[A\n",
            " 34%|███▍      | 3042/8928 [01:43<03:25, 28.66it/s]\u001b[A\n",
            " 34%|███▍      | 3046/8928 [01:43<03:22, 29.02it/s]\u001b[A\n",
            " 34%|███▍      | 3049/8928 [01:43<03:22, 29.09it/s]\u001b[A\n",
            " 34%|███▍      | 3052/8928 [01:43<03:21, 29.17it/s]\u001b[A\n",
            " 34%|███▍      | 3055/8928 [01:43<03:21, 29.18it/s]\u001b[A\n",
            " 34%|███▍      | 3058/8928 [01:43<03:22, 29.02it/s]\u001b[A\n",
            " 34%|███▍      | 3061/8928 [01:43<03:22, 29.02it/s]\u001b[A\n",
            " 34%|███▍      | 3064/8928 [01:43<03:24, 28.64it/s]\u001b[A\n",
            " 34%|███▍      | 3067/8928 [01:43<03:25, 28.58it/s]\u001b[A\n",
            " 34%|███▍      | 3070/8928 [01:44<03:26, 28.42it/s]\u001b[A\n",
            " 34%|███▍      | 3073/8928 [01:44<03:23, 28.70it/s]\u001b[A\n",
            " 34%|███▍      | 3076/8928 [01:44<03:26, 28.27it/s]\u001b[A\n",
            " 34%|███▍      | 3079/8928 [01:44<03:24, 28.58it/s]\u001b[A\n",
            " 35%|███▍      | 3082/8928 [01:44<03:24, 28.58it/s]\u001b[A\n",
            " 35%|███▍      | 3085/8928 [01:44<03:24, 28.51it/s]\u001b[A\n",
            " 35%|███▍      | 3089/8928 [01:44<03:20, 29.18it/s]\u001b[A\n",
            " 35%|███▍      | 3092/8928 [01:44<03:24, 28.49it/s]\u001b[A\n",
            " 35%|███▍      | 3095/8928 [01:44<03:22, 28.85it/s]\u001b[A\n",
            " 35%|███▍      | 3098/8928 [01:45<03:26, 28.21it/s]\u001b[A\n",
            " 35%|███▍      | 3101/8928 [01:45<03:24, 28.47it/s]\u001b[A\n",
            " 35%|███▍      | 3104/8928 [01:45<03:24, 28.51it/s]\u001b[A\n",
            " 35%|███▍      | 3107/8928 [01:45<03:25, 28.39it/s]\u001b[A\n",
            " 35%|███▍      | 3110/8928 [01:45<03:22, 28.70it/s]\u001b[A\n",
            " 35%|███▍      | 3114/8928 [01:45<03:17, 29.40it/s]\u001b[A\n",
            " 35%|███▍      | 3117/8928 [01:45<03:19, 29.14it/s]\u001b[A\n",
            " 35%|███▍      | 3120/8928 [01:45<03:19, 29.15it/s]\u001b[A\n",
            " 35%|███▍      | 3123/8928 [01:45<03:19, 29.05it/s]\u001b[A\n",
            " 35%|███▌      | 3126/8928 [01:46<03:22, 28.62it/s]\u001b[A\n",
            " 35%|███▌      | 3129/8928 [01:46<03:21, 28.77it/s]\u001b[A\n",
            " 35%|███▌      | 3132/8928 [01:46<03:21, 28.70it/s]\u001b[A\n",
            " 35%|███▌      | 3135/8928 [01:46<03:20, 28.84it/s]\u001b[A\n",
            " 35%|███▌      | 3138/8928 [01:46<03:19, 28.98it/s]\u001b[A\n",
            " 35%|███▌      | 3142/8928 [01:46<03:15, 29.57it/s]\u001b[A\n",
            " 35%|███▌      | 3145/8928 [01:46<03:16, 29.36it/s]\u001b[A\n",
            " 35%|███▌      | 3148/8928 [01:46<03:16, 29.40it/s]\u001b[A\n",
            " 35%|███▌      | 3151/8928 [01:46<03:16, 29.37it/s]\u001b[A\n",
            " 35%|███▌      | 3154/8928 [01:46<03:16, 29.45it/s]\u001b[A\n",
            " 35%|███▌      | 3158/8928 [01:47<03:12, 29.92it/s]\u001b[A\n",
            " 35%|███▌      | 3161/8928 [01:47<03:16, 29.34it/s]\u001b[A\n",
            " 35%|███▌      | 3164/8928 [01:47<03:17, 29.19it/s]\u001b[A\n",
            " 35%|███▌      | 3167/8928 [01:47<03:16, 29.34it/s]\u001b[A\n",
            " 36%|███▌      | 3170/8928 [01:47<03:17, 29.18it/s]\u001b[A\n",
            " 36%|███▌      | 3173/8928 [01:47<03:19, 28.79it/s]\u001b[A\n",
            " 36%|███▌      | 3176/8928 [01:47<03:22, 28.43it/s]\u001b[A\n",
            " 36%|███▌      | 3179/8928 [01:47<03:23, 28.26it/s]\u001b[A\n",
            " 36%|███▌      | 3182/8928 [01:47<03:24, 28.15it/s]\u001b[A\n",
            " 36%|███▌      | 3185/8928 [01:48<03:26, 27.88it/s]\u001b[A\n",
            " 36%|███▌      | 3188/8928 [01:48<03:23, 28.20it/s]\u001b[A\n",
            " 36%|███▌      | 3191/8928 [01:48<03:25, 27.95it/s]\u001b[A\n",
            " 36%|███▌      | 3194/8928 [01:48<03:23, 28.16it/s]\u001b[A\n",
            " 36%|███▌      | 3197/8928 [01:48<03:22, 28.27it/s]\u001b[A\n",
            " 36%|███▌      | 3200/8928 [01:48<03:25, 27.88it/s]\u001b[A\n",
            " 36%|███▌      | 3203/8928 [01:48<03:25, 27.92it/s]\u001b[A\n",
            " 36%|███▌      | 3206/8928 [01:48<03:25, 27.86it/s]\u001b[A\n",
            " 36%|███▌      | 3209/8928 [01:48<03:26, 27.66it/s]\u001b[A\n",
            " 36%|███▌      | 3212/8928 [01:49<03:31, 26.98it/s]\u001b[A\n",
            " 36%|███▌      | 3215/8928 [01:49<03:30, 27.14it/s]\u001b[A\n",
            " 36%|███▌      | 3218/8928 [01:49<03:31, 26.98it/s]\u001b[A\n",
            " 36%|███▌      | 3221/8928 [01:49<03:30, 27.11it/s]\u001b[A\n",
            " 36%|███▌      | 3224/8928 [01:49<03:30, 27.06it/s]\u001b[A\n",
            " 36%|███▌      | 3227/8928 [01:49<03:32, 26.77it/s]\u001b[A\n",
            " 36%|███▌      | 3230/8928 [01:49<03:31, 26.96it/s]\u001b[A\n",
            " 36%|███▌      | 3233/8928 [01:49<03:28, 27.34it/s]\u001b[A\n",
            " 36%|███▌      | 3236/8928 [01:49<03:30, 26.99it/s]\u001b[A\n",
            " 36%|███▋      | 3239/8928 [01:50<03:31, 26.92it/s]\u001b[A\n",
            " 36%|███▋      | 3242/8928 [01:50<03:30, 27.05it/s]\u001b[A\n",
            " 36%|███▋      | 3245/8928 [01:50<03:32, 26.80it/s]\u001b[A\n",
            " 36%|███▋      | 3248/8928 [01:50<03:28, 27.24it/s]\u001b[A\n",
            " 36%|███▋      | 3251/8928 [01:50<03:27, 27.29it/s]\u001b[A\n",
            " 36%|███▋      | 3254/8928 [01:50<03:26, 27.54it/s]\u001b[A\n",
            " 36%|███▋      | 3257/8928 [01:50<03:22, 27.99it/s]\u001b[A\n",
            " 37%|███▋      | 3260/8928 [01:50<03:24, 27.69it/s]\u001b[A\n",
            " 37%|███▋      | 3263/8928 [01:50<03:23, 27.81it/s]\u001b[A\n",
            " 37%|███▋      | 3266/8928 [01:51<03:27, 27.24it/s]\u001b[A\n",
            " 37%|███▋      | 3270/8928 [01:51<03:19, 28.31it/s]\u001b[A\n",
            " 37%|███▋      | 3273/8928 [01:51<03:20, 28.17it/s]\u001b[A\n",
            " 37%|███▋      | 3276/8928 [01:51<03:21, 28.12it/s]\u001b[A\n",
            " 37%|███▋      | 3279/8928 [01:51<03:19, 28.36it/s]\u001b[A\n",
            " 37%|███▋      | 3282/8928 [01:51<03:20, 28.12it/s]\u001b[A\n",
            " 37%|███▋      | 3285/8928 [01:51<03:18, 28.43it/s]\u001b[A\n",
            " 37%|███▋      | 3288/8928 [01:51<03:15, 28.79it/s]\u001b[A\n",
            " 37%|███▋      | 3291/8928 [01:51<03:18, 28.37it/s]\u001b[A\n",
            " 37%|███▋      | 3294/8928 [01:52<03:17, 28.57it/s]\u001b[A\n",
            " 37%|███▋      | 3297/8928 [01:52<03:17, 28.58it/s]\u001b[A\n",
            " 37%|███▋      | 3300/8928 [01:52<03:17, 28.50it/s]\u001b[A\n",
            " 37%|███▋      | 3303/8928 [01:52<03:17, 28.52it/s]\u001b[A\n",
            " 37%|███▋      | 3306/8928 [01:52<03:15, 28.73it/s]\u001b[A\n",
            " 37%|███▋      | 3309/8928 [01:52<03:17, 28.48it/s]\u001b[A\n",
            " 37%|███▋      | 3312/8928 [01:52<03:16, 28.59it/s]\u001b[A\n",
            " 37%|███▋      | 3315/8928 [01:52<03:18, 28.25it/s]\u001b[A\n",
            " 37%|███▋      | 3318/8928 [01:52<03:20, 27.97it/s]\u001b[A\n",
            " 37%|███▋      | 3321/8928 [01:52<03:20, 27.94it/s]\u001b[A\n",
            " 37%|███▋      | 3324/8928 [01:53<03:23, 27.49it/s]\u001b[A\n",
            " 37%|███▋      | 3327/8928 [01:53<03:19, 28.01it/s]\u001b[A\n",
            " 37%|███▋      | 3330/8928 [01:53<03:15, 28.58it/s]\u001b[A\n",
            " 37%|███▋      | 3334/8928 [01:53<03:12, 29.11it/s]\u001b[A\n",
            " 37%|███▋      | 3337/8928 [01:53<03:10, 29.34it/s]\u001b[A\n",
            " 37%|███▋      | 3340/8928 [01:53<03:10, 29.27it/s]\u001b[A\n",
            " 37%|███▋      | 3343/8928 [01:53<03:13, 28.88it/s]\u001b[A\n",
            " 37%|███▋      | 3347/8928 [01:53<03:09, 29.52it/s]\u001b[A\n",
            " 38%|███▊      | 3350/8928 [01:53<03:10, 29.36it/s]\u001b[A\n",
            " 38%|███▊      | 3353/8928 [01:54<03:10, 29.32it/s]\u001b[A\n",
            " 38%|███▊      | 3356/8928 [01:54<03:10, 29.23it/s]\u001b[A\n",
            " 38%|███▊      | 3359/8928 [01:54<03:16, 28.35it/s]\u001b[A\n",
            " 38%|███▊      | 3362/8928 [01:54<03:17, 28.22it/s]\u001b[A\n",
            " 38%|███▊      | 3365/8928 [01:54<03:19, 27.84it/s]\u001b[A\n",
            " 38%|███▊      | 3368/8928 [01:54<03:23, 27.34it/s]\u001b[A\n",
            " 38%|███▊      | 3371/8928 [01:54<03:24, 27.24it/s]\u001b[A\n",
            " 38%|███▊      | 3374/8928 [01:54<03:28, 26.70it/s]\u001b[A\n",
            " 38%|███▊      | 3377/8928 [01:54<03:32, 26.17it/s]\u001b[A\n",
            " 38%|███▊      | 3380/8928 [01:55<03:30, 26.35it/s]\u001b[A\n",
            " 38%|███▊      | 3383/8928 [01:55<03:27, 26.76it/s]\u001b[A\n",
            " 38%|███▊      | 3386/8928 [01:55<03:24, 27.07it/s]\u001b[A\n",
            " 38%|███▊      | 3389/8928 [01:55<03:22, 27.36it/s]\u001b[A\n",
            " 38%|███▊      | 3392/8928 [01:55<03:24, 27.11it/s]\u001b[A\n",
            " 38%|███▊      | 3395/8928 [01:55<03:21, 27.51it/s]\u001b[A\n",
            " 38%|███▊      | 3398/8928 [01:55<03:19, 27.69it/s]\u001b[A\n",
            " 38%|███▊      | 3401/8928 [01:55<03:19, 27.70it/s]\u001b[A\n",
            " 38%|███▊      | 3404/8928 [01:55<03:17, 27.95it/s]\u001b[A\n",
            " 38%|███▊      | 3407/8928 [01:56<03:18, 27.77it/s]\u001b[A\n",
            " 38%|███▊      | 3410/8928 [01:56<03:14, 28.38it/s]\u001b[A\n",
            " 38%|███▊      | 3413/8928 [01:56<03:11, 28.77it/s]\u001b[A\n",
            " 38%|███▊      | 3417/8928 [01:56<03:07, 29.47it/s]\u001b[A\n",
            " 38%|███▊      | 3420/8928 [01:56<03:08, 29.25it/s]\u001b[A\n",
            " 38%|███▊      | 3423/8928 [01:56<03:10, 28.86it/s]\u001b[A\n",
            " 38%|███▊      | 3426/8928 [01:56<03:12, 28.59it/s]\u001b[A\n",
            " 38%|███▊      | 3429/8928 [01:56<03:11, 28.70it/s]\u001b[A\n",
            " 38%|███▊      | 3432/8928 [01:56<03:11, 28.77it/s]\u001b[A\n",
            " 38%|███▊      | 3436/8928 [01:57<03:06, 29.47it/s]\u001b[A\n",
            " 39%|███▊      | 3439/8928 [01:57<03:06, 29.46it/s]\u001b[A\n",
            " 39%|███▊      | 3442/8928 [01:57<03:07, 29.21it/s]\u001b[A\n",
            " 39%|███▊      | 3445/8928 [01:57<03:08, 29.15it/s]\u001b[A\n",
            " 39%|███▊      | 3448/8928 [01:57<03:06, 29.33it/s]\u001b[A\n",
            " 39%|███▊      | 3451/8928 [01:57<03:09, 28.93it/s]\u001b[A\n",
            " 39%|███▊      | 3454/8928 [01:57<03:09, 28.94it/s]\u001b[A\n",
            " 39%|███▊      | 3457/8928 [01:57<03:08, 28.98it/s]\u001b[A\n",
            " 39%|███▉      | 3460/8928 [01:57<03:07, 29.12it/s]\u001b[A\n",
            " 39%|███▉      | 3463/8928 [01:57<03:07, 29.09it/s]\u001b[A\n",
            " 39%|███▉      | 3466/8928 [01:58<03:08, 28.93it/s]\u001b[A\n",
            " 39%|███▉      | 3469/8928 [01:58<03:09, 28.75it/s]\u001b[A\n",
            " 39%|███▉      | 3472/8928 [01:58<03:12, 28.30it/s]\u001b[A\n",
            " 39%|███▉      | 3475/8928 [01:58<03:12, 28.31it/s]\u001b[A\n",
            " 39%|███▉      | 3478/8928 [01:58<03:11, 28.46it/s]\u001b[A\n",
            " 39%|███▉      | 3482/8928 [01:58<03:07, 29.08it/s]\u001b[A\n",
            " 39%|███▉      | 3485/8928 [01:58<03:06, 29.14it/s]\u001b[A\n",
            " 39%|███▉      | 3488/8928 [01:58<03:05, 29.27it/s]\u001b[A\n",
            " 39%|███▉      | 3491/8928 [01:58<03:09, 28.72it/s]\u001b[A\n",
            " 39%|███▉      | 3494/8928 [01:59<03:07, 28.92it/s]\u001b[A\n",
            " 39%|███▉      | 3497/8928 [01:59<03:07, 28.97it/s]\u001b[A\n",
            " 39%|███▉      | 3500/8928 [01:59<03:09, 28.71it/s]\u001b[A\n",
            " 39%|███▉      | 3503/8928 [01:59<03:07, 28.91it/s]\u001b[A\n",
            " 39%|███▉      | 3506/8928 [01:59<03:06, 29.08it/s]\u001b[A\n",
            " 39%|███▉      | 3509/8928 [01:59<03:06, 29.10it/s]\u001b[A\n",
            " 39%|███▉      | 3512/8928 [01:59<03:05, 29.24it/s]\u001b[A\n",
            " 39%|███▉      | 3515/8928 [01:59<03:07, 28.90it/s]\u001b[A\n",
            " 39%|███▉      | 3518/8928 [01:59<03:09, 28.51it/s]\u001b[A\n",
            " 39%|███▉      | 3521/8928 [01:59<03:10, 28.44it/s]\u001b[A\n",
            " 39%|███▉      | 3524/8928 [02:00<03:14, 27.79it/s]\u001b[A\n",
            " 40%|███▉      | 3527/8928 [02:00<03:14, 27.76it/s]\u001b[A\n",
            " 40%|███▉      | 3530/8928 [02:00<03:17, 27.39it/s]\u001b[A\n",
            " 40%|███▉      | 3533/8928 [02:00<03:14, 27.69it/s]\u001b[A\n",
            " 40%|███▉      | 3536/8928 [02:00<03:11, 28.20it/s]\u001b[A\n",
            " 40%|███▉      | 3539/8928 [02:00<03:11, 28.20it/s]\u001b[A\n",
            " 40%|███▉      | 3542/8928 [02:00<03:11, 28.17it/s]\u001b[A\n",
            " 40%|███▉      | 3545/8928 [02:00<03:07, 28.64it/s]\u001b[A\n",
            " 40%|███▉      | 3548/8928 [02:00<03:10, 28.18it/s]\u001b[A\n",
            " 40%|███▉      | 3551/8928 [02:01<03:12, 27.89it/s]\u001b[A\n",
            " 40%|███▉      | 3554/8928 [02:01<03:14, 27.61it/s]\u001b[A\n",
            " 40%|███▉      | 3558/8928 [02:01<03:08, 28.53it/s]\u001b[A\n",
            " 40%|███▉      | 3561/8928 [02:01<03:09, 28.38it/s]\u001b[A\n",
            " 40%|███▉      | 3564/8928 [02:01<03:09, 28.37it/s]\u001b[A\n",
            " 40%|███▉      | 3567/8928 [02:01<03:07, 28.60it/s]\u001b[A\n",
            " 40%|███▉      | 3570/8928 [02:01<03:05, 28.96it/s]\u001b[A\n",
            " 40%|████      | 3573/8928 [02:01<03:04, 28.99it/s]\u001b[A\n",
            " 40%|████      | 3576/8928 [02:01<03:08, 28.39it/s]\u001b[A\n",
            " 40%|████      | 3579/8928 [02:02<03:07, 28.52it/s]\u001b[A\n",
            " 40%|████      | 3582/8928 [02:02<03:07, 28.46it/s]\u001b[A\n",
            " 40%|████      | 3585/8928 [02:02<03:06, 28.67it/s]\u001b[A\n",
            " 40%|████      | 3588/8928 [02:02<03:06, 28.56it/s]\u001b[A\n",
            " 40%|████      | 3591/8928 [02:02<03:05, 28.73it/s]\u001b[A\n",
            " 40%|████      | 3594/8928 [02:02<03:05, 28.83it/s]\u001b[A\n",
            " 40%|████      | 3597/8928 [02:02<03:05, 28.69it/s]\u001b[A\n",
            " 40%|████      | 3600/8928 [02:02<03:08, 28.27it/s]\u001b[A\n",
            " 40%|████      | 3603/8928 [02:02<03:09, 28.12it/s]\u001b[A\n",
            " 40%|████      | 3606/8928 [02:02<03:06, 28.55it/s]\u001b[A\n",
            " 40%|████      | 3609/8928 [02:03<03:06, 28.59it/s]\u001b[A\n",
            " 40%|████      | 3612/8928 [02:03<03:08, 28.14it/s]\u001b[A\n",
            " 40%|████      | 3615/8928 [02:03<03:09, 28.05it/s]\u001b[A\n",
            " 41%|████      | 3618/8928 [02:03<03:08, 28.16it/s]\u001b[A\n",
            " 41%|████      | 3621/8928 [02:03<03:07, 28.29it/s]\u001b[A\n",
            " 41%|████      | 3625/8928 [02:03<03:02, 29.02it/s]\u001b[A\n",
            " 41%|████      | 3629/8928 [02:03<02:58, 29.70it/s]\u001b[A\n",
            " 41%|████      | 3632/8928 [02:03<02:59, 29.47it/s]\u001b[A\n",
            " 41%|████      | 3635/8928 [02:03<02:59, 29.48it/s]\u001b[A\n",
            " 41%|████      | 3638/8928 [02:04<03:01, 29.22it/s]\u001b[A\n",
            " 41%|████      | 3641/8928 [02:04<03:03, 28.78it/s]\u001b[A\n",
            " 41%|████      | 3644/8928 [02:04<03:04, 28.62it/s]\u001b[A\n",
            " 41%|████      | 3647/8928 [02:04<03:03, 28.80it/s]\u001b[A\n",
            " 41%|████      | 3650/8928 [02:04<03:02, 28.94it/s]\u001b[A\n",
            " 41%|████      | 3653/8928 [02:04<03:02, 28.83it/s]\u001b[A\n",
            " 41%|████      | 3656/8928 [02:04<03:02, 28.81it/s]\u001b[A\n",
            " 41%|████      | 3659/8928 [02:04<03:00, 29.14it/s]\u001b[A\n",
            " 41%|████      | 3662/8928 [02:04<03:05, 28.44it/s]\u001b[A\n",
            " 41%|████      | 3665/8928 [02:05<03:03, 28.73it/s]\u001b[A\n",
            " 41%|████      | 3668/8928 [02:05<03:02, 28.77it/s]\u001b[A\n",
            " 41%|████      | 3671/8928 [02:05<03:07, 28.10it/s]\u001b[A\n",
            " 41%|████      | 3674/8928 [02:05<03:11, 27.39it/s]\u001b[A\n",
            " 41%|████      | 3677/8928 [02:05<03:06, 28.11it/s]\u001b[A\n",
            " 41%|████      | 3680/8928 [02:05<03:05, 28.33it/s]\u001b[A\n",
            " 41%|████▏     | 3683/8928 [02:05<03:04, 28.45it/s]\u001b[A\n",
            " 41%|████▏     | 3687/8928 [02:05<03:00, 29.08it/s]\u001b[A\n",
            " 41%|████▏     | 3690/8928 [02:05<03:02, 28.69it/s]\u001b[A\n",
            " 41%|████▏     | 3693/8928 [02:06<03:05, 28.25it/s]\u001b[A\n",
            " 41%|████▏     | 3696/8928 [02:06<03:07, 27.92it/s]\u001b[A\n",
            " 41%|████▏     | 3699/8928 [02:06<03:06, 28.06it/s]\u001b[A\n",
            " 41%|████▏     | 3702/8928 [02:06<03:08, 27.68it/s]\u001b[A\n",
            " 41%|████▏     | 3705/8928 [02:06<03:05, 28.17it/s]\u001b[A\n",
            " 42%|████▏     | 3708/8928 [02:06<03:02, 28.53it/s]\u001b[A\n",
            " 42%|████▏     | 3711/8928 [02:06<03:04, 28.22it/s]\u001b[A\n",
            " 42%|████▏     | 3714/8928 [02:06<03:02, 28.52it/s]\u001b[A\n",
            " 42%|████▏     | 3718/8928 [02:06<02:58, 29.19it/s]\u001b[A\n",
            " 42%|████▏     | 3721/8928 [02:06<03:00, 28.81it/s]\u001b[A\n",
            " 42%|████▏     | 3724/8928 [02:07<03:00, 28.79it/s]\u001b[A\n",
            " 42%|████▏     | 3727/8928 [02:07<03:03, 28.39it/s]\u001b[A\n",
            " 42%|████▏     | 3730/8928 [02:07<03:07, 27.78it/s]\u001b[A\n",
            " 42%|████▏     | 3733/8928 [02:07<03:03, 28.26it/s]\u001b[A\n",
            " 42%|████▏     | 3736/8928 [02:07<03:00, 28.75it/s]\u001b[A\n",
            " 42%|████▏     | 3739/8928 [02:07<03:00, 28.74it/s]\u001b[A\n",
            " 42%|████▏     | 3742/8928 [02:07<03:02, 28.46it/s]\u001b[A\n",
            " 42%|████▏     | 3745/8928 [02:07<03:02, 28.34it/s]\u001b[A\n",
            " 42%|████▏     | 3748/8928 [02:07<03:01, 28.55it/s]\u001b[A\n",
            " 42%|████▏     | 3751/8928 [02:08<03:02, 28.44it/s]\u001b[A\n",
            " 42%|████▏     | 3754/8928 [02:08<03:04, 28.12it/s]\u001b[A\n",
            " 42%|████▏     | 3757/8928 [02:08<03:06, 27.79it/s]\u001b[A\n",
            " 42%|████▏     | 3760/8928 [02:08<03:04, 28.01it/s]\u001b[A\n",
            " 42%|████▏     | 3763/8928 [02:08<03:02, 28.34it/s]\u001b[A\n",
            " 42%|████▏     | 3766/8928 [02:08<03:02, 28.24it/s]\u001b[A\n",
            " 42%|████▏     | 3769/8928 [02:08<03:04, 28.03it/s]\u001b[A\n",
            " 42%|████▏     | 3772/8928 [02:08<03:02, 28.31it/s]\u001b[A\n",
            " 42%|████▏     | 3775/8928 [02:08<03:01, 28.37it/s]\u001b[A\n",
            " 42%|████▏     | 3778/8928 [02:09<03:02, 28.28it/s]\u001b[A\n",
            " 42%|████▏     | 3781/8928 [02:09<03:01, 28.38it/s]\u001b[A\n",
            " 42%|████▏     | 3784/8928 [02:09<02:59, 28.59it/s]\u001b[A\n",
            " 42%|████▏     | 3787/8928 [02:09<03:00, 28.46it/s]\u001b[A\n",
            " 42%|████▏     | 3790/8928 [02:09<03:01, 28.35it/s]\u001b[A\n",
            " 42%|████▏     | 3793/8928 [02:09<03:00, 28.38it/s]\u001b[A\n",
            " 43%|████▎     | 3796/8928 [02:09<03:01, 28.35it/s]\u001b[A\n",
            " 43%|████▎     | 3799/8928 [02:09<03:01, 28.33it/s]\u001b[A\n",
            " 43%|████▎     | 3802/8928 [02:09<03:02, 28.01it/s]\u001b[A\n",
            " 43%|████▎     | 3805/8928 [02:09<03:01, 28.26it/s]\u001b[A\n",
            " 43%|████▎     | 3808/8928 [02:10<03:00, 28.29it/s]\u001b[A\n",
            " 43%|████▎     | 3811/8928 [02:10<02:59, 28.44it/s]\u001b[A\n",
            " 43%|████▎     | 3814/8928 [02:10<03:00, 28.37it/s]\u001b[A\n",
            " 43%|████▎     | 3817/8928 [02:10<03:07, 27.21it/s]\u001b[A\n",
            " 43%|████▎     | 3820/8928 [02:10<03:09, 26.98it/s]\u001b[A\n",
            " 43%|████▎     | 3823/8928 [02:10<03:06, 27.41it/s]\u001b[A\n",
            " 43%|████▎     | 3826/8928 [02:10<03:04, 27.70it/s]\u001b[A\n",
            " 43%|████▎     | 3829/8928 [02:10<03:04, 27.68it/s]\u001b[A\n",
            " 43%|████▎     | 3832/8928 [02:10<03:03, 27.81it/s]\u001b[A\n",
            " 43%|████▎     | 3835/8928 [02:11<03:00, 28.16it/s]\u001b[A\n",
            " 43%|████▎     | 3838/8928 [02:11<03:02, 27.96it/s]\u001b[A\n",
            " 43%|████▎     | 3841/8928 [02:11<03:00, 28.21it/s]\u001b[A\n",
            " 43%|████▎     | 3844/8928 [02:11<03:00, 28.13it/s]\u001b[A\n",
            " 43%|████▎     | 3847/8928 [02:11<03:00, 28.13it/s]\u001b[A\n",
            " 43%|████▎     | 3850/8928 [02:11<02:57, 28.61it/s]\u001b[A\n",
            " 43%|████▎     | 3854/8928 [02:11<02:52, 29.36it/s]\u001b[A\n",
            " 43%|████▎     | 3857/8928 [02:11<02:51, 29.49it/s]\u001b[A\n",
            " 43%|████▎     | 3860/8928 [02:11<02:56, 28.68it/s]\u001b[A\n",
            " 43%|████▎     | 3863/8928 [02:12<02:58, 28.44it/s]\u001b[A\n",
            " 43%|████▎     | 3866/8928 [02:12<02:55, 28.86it/s]\u001b[A\n",
            " 43%|████▎     | 3869/8928 [02:12<02:55, 28.87it/s]\u001b[A\n",
            " 43%|████▎     | 3872/8928 [02:12<02:58, 28.26it/s]\u001b[A\n",
            " 43%|████▎     | 3875/8928 [02:12<02:55, 28.75it/s]\u001b[A\n",
            " 43%|████▎     | 3879/8928 [02:12<02:52, 29.29it/s]\u001b[A\n",
            " 43%|████▎     | 3883/8928 [02:12<02:48, 29.92it/s]\u001b[A\n",
            " 44%|████▎     | 3886/8928 [02:12<02:49, 29.78it/s]\u001b[A\n",
            " 44%|████▎     | 3889/8928 [02:12<02:56, 28.58it/s]\u001b[A\n",
            " 44%|████▎     | 3892/8928 [02:13<02:56, 28.51it/s]\u001b[A\n",
            " 44%|████▎     | 3895/8928 [02:13<02:59, 28.03it/s]\u001b[A\n",
            " 44%|████▎     | 3898/8928 [02:13<02:59, 27.95it/s]\u001b[A\n",
            " 44%|████▎     | 3901/8928 [02:13<02:57, 28.34it/s]\u001b[A\n",
            " 44%|████▎     | 3905/8928 [02:13<02:52, 29.04it/s]\u001b[A\n",
            " 44%|████▍     | 3909/8928 [02:13<02:48, 29.86it/s]\u001b[A\n",
            " 44%|████▍     | 3912/8928 [02:13<02:51, 29.26it/s]\u001b[A\n",
            " 44%|████▍     | 3915/8928 [02:13<02:51, 29.18it/s]\u001b[A\n",
            " 44%|████▍     | 3918/8928 [02:13<02:53, 28.85it/s]\u001b[A\n",
            " 44%|████▍     | 3921/8928 [02:14<02:55, 28.57it/s]\u001b[A\n",
            " 44%|████▍     | 3924/8928 [02:14<02:57, 28.26it/s]\u001b[A\n",
            " 44%|████▍     | 3927/8928 [02:14<03:00, 27.76it/s]\u001b[A\n",
            " 44%|████▍     | 3930/8928 [02:14<03:02, 27.34it/s]\u001b[A\n",
            " 44%|████▍     | 3933/8928 [02:14<03:02, 27.35it/s]\u001b[A\n",
            " 44%|████▍     | 3936/8928 [02:14<03:01, 27.47it/s]\u001b[A\n",
            " 44%|████▍     | 3939/8928 [02:14<03:04, 27.00it/s]\u001b[A\n",
            " 44%|████▍     | 3942/8928 [02:14<03:02, 27.26it/s]\u001b[A\n",
            " 44%|████▍     | 3945/8928 [02:14<03:02, 27.29it/s]\u001b[A\n",
            " 44%|████▍     | 3948/8928 [02:15<03:01, 27.39it/s]\u001b[A\n",
            " 44%|████▍     | 3951/8928 [02:15<02:59, 27.70it/s]\u001b[A\n",
            " 44%|████▍     | 3954/8928 [02:15<02:55, 28.30it/s]\u001b[A\n",
            " 44%|████▍     | 3957/8928 [02:15<02:57, 27.93it/s]\u001b[A\n",
            " 44%|████▍     | 3960/8928 [02:15<02:54, 28.42it/s]\u001b[A\n",
            " 44%|████▍     | 3963/8928 [02:15<02:52, 28.79it/s]\u001b[A\n",
            " 44%|████▍     | 3967/8928 [02:15<02:48, 29.42it/s]\u001b[A\n",
            " 44%|████▍     | 3970/8928 [02:15<02:51, 28.93it/s]\u001b[A\n",
            " 45%|████▍     | 3973/8928 [02:15<02:53, 28.50it/s]\u001b[A\n",
            " 45%|████▍     | 3976/8928 [02:15<02:58, 27.68it/s]\u001b[A\n",
            " 45%|████▍     | 3979/8928 [02:16<02:56, 27.96it/s]\u001b[A\n",
            " 45%|████▍     | 3982/8928 [02:16<02:56, 28.01it/s]\u001b[A\n",
            " 45%|████▍     | 3985/8928 [02:16<02:58, 27.72it/s]\u001b[A\n",
            " 45%|████▍     | 3988/8928 [02:16<02:58, 27.60it/s]\u001b[A\n",
            " 45%|████▍     | 3991/8928 [02:16<02:55, 28.15it/s]\u001b[A\n",
            " 45%|████▍     | 3995/8928 [02:16<02:50, 28.89it/s]\u001b[A\n",
            " 45%|████▍     | 3998/8928 [02:16<02:51, 28.79it/s]\u001b[A\n",
            " 45%|████▍     | 4001/8928 [02:16<02:49, 28.99it/s]\u001b[A\n",
            " 45%|████▍     | 4004/8928 [02:16<02:49, 29.02it/s]\u001b[A\n",
            " 45%|████▍     | 4007/8928 [02:17<02:54, 28.15it/s]\u001b[A\n",
            " 45%|████▍     | 4010/8928 [02:17<02:53, 28.39it/s]\u001b[A\n",
            " 45%|████▍     | 4013/8928 [02:17<02:53, 28.35it/s]\u001b[A\n",
            " 45%|████▍     | 4017/8928 [02:17<02:48, 29.13it/s]\u001b[A\n",
            " 45%|████▌     | 4020/8928 [02:17<02:48, 29.09it/s]\u001b[A\n",
            " 45%|████▌     | 4024/8928 [02:17<02:46, 29.49it/s]\u001b[A\n",
            " 45%|████▌     | 4027/8928 [02:17<02:49, 28.91it/s]\u001b[A\n",
            " 45%|████▌     | 4030/8928 [02:17<02:50, 28.72it/s]\u001b[A\n",
            " 45%|████▌     | 4033/8928 [02:17<02:50, 28.75it/s]\u001b[A\n",
            " 45%|████▌     | 4036/8928 [02:18<02:50, 28.65it/s]\u001b[A\n",
            " 45%|████▌     | 4039/8928 [02:18<02:52, 28.36it/s]\u001b[A\n",
            " 45%|████▌     | 4042/8928 [02:18<02:51, 28.51it/s]\u001b[A\n",
            " 45%|████▌     | 4045/8928 [02:18<02:49, 28.80it/s]\u001b[A\n",
            " 45%|████▌     | 4048/8928 [02:18<03:01, 26.88it/s]\u001b[A\n",
            " 45%|████▌     | 4051/8928 [02:18<02:58, 27.32it/s]\u001b[A\n",
            " 45%|████▌     | 4054/8928 [02:18<02:54, 27.89it/s]\u001b[A\n",
            " 45%|████▌     | 4057/8928 [02:18<02:55, 27.75it/s]\u001b[A\n",
            " 45%|████▌     | 4060/8928 [02:18<02:55, 27.69it/s]\u001b[A\n",
            " 46%|████▌     | 4063/8928 [02:19<02:55, 27.73it/s]\u001b[A\n",
            " 46%|████▌     | 4066/8928 [02:19<02:52, 28.12it/s]\u001b[A\n",
            " 46%|████▌     | 4069/8928 [02:19<02:51, 28.32it/s]\u001b[A\n",
            " 46%|████▌     | 4072/8928 [02:19<02:48, 28.75it/s]\u001b[A\n",
            " 46%|████▌     | 4075/8928 [02:19<02:47, 28.89it/s]\u001b[A\n",
            " 46%|████▌     | 4078/8928 [02:19<02:48, 28.87it/s]\u001b[A\n",
            " 46%|████▌     | 4082/8928 [02:19<02:44, 29.40it/s]\u001b[A\n",
            " 46%|████▌     | 4085/8928 [02:19<02:43, 29.55it/s]\u001b[A\n",
            " 46%|████▌     | 4088/8928 [02:19<02:48, 28.78it/s]\u001b[A\n",
            " 46%|████▌     | 4091/8928 [02:20<02:48, 28.76it/s]\u001b[A\n",
            " 46%|████▌     | 4094/8928 [02:20<02:47, 28.84it/s]\u001b[A\n",
            " 46%|████▌     | 4097/8928 [02:20<02:47, 28.91it/s]\u001b[A\n",
            " 46%|████▌     | 4100/8928 [02:20<02:45, 29.15it/s]\u001b[A\n",
            " 46%|████▌     | 4103/8928 [02:20<02:46, 28.92it/s]\u001b[A\n",
            " 46%|████▌     | 4106/8928 [02:20<02:48, 28.61it/s]\u001b[A\n",
            " 46%|████▌     | 4109/8928 [02:20<02:46, 28.92it/s]\u001b[A\n",
            " 46%|████▌     | 4112/8928 [02:20<02:46, 28.93it/s]\u001b[A\n",
            " 46%|████▌     | 4115/8928 [02:20<02:48, 28.61it/s]\u001b[A\n",
            " 46%|████▌     | 4118/8928 [02:20<02:48, 28.56it/s]\u001b[A\n",
            " 46%|████▌     | 4121/8928 [02:21<02:49, 28.37it/s]\u001b[A\n",
            " 46%|████▌     | 4124/8928 [02:21<02:48, 28.51it/s]\u001b[A\n",
            " 46%|████▌     | 4127/8928 [02:21<02:47, 28.74it/s]\u001b[A\n",
            " 46%|████▋     | 4130/8928 [02:21<02:47, 28.62it/s]\u001b[A\n",
            " 46%|████▋     | 4133/8928 [02:21<02:49, 28.33it/s]\u001b[A\n",
            " 46%|████▋     | 4136/8928 [02:21<02:48, 28.50it/s]\u001b[A\n",
            " 46%|████▋     | 4139/8928 [02:21<02:49, 28.22it/s]\u001b[A\n",
            " 46%|████▋     | 4142/8928 [02:21<02:51, 27.91it/s]\u001b[A\n",
            " 46%|████▋     | 4145/8928 [02:21<02:49, 28.15it/s]\u001b[A\n",
            " 46%|████▋     | 4148/8928 [02:22<02:48, 28.35it/s]\u001b[A\n",
            " 46%|████▋     | 4151/8928 [02:22<02:46, 28.64it/s]\u001b[A\n",
            " 47%|████▋     | 4154/8928 [02:22<02:46, 28.71it/s]\u001b[A\n",
            " 47%|████▋     | 4157/8928 [02:22<02:48, 28.25it/s]\u001b[A\n",
            " 47%|████▋     | 4160/8928 [02:22<02:51, 27.87it/s]\u001b[A\n",
            " 47%|████▋     | 4163/8928 [02:22<02:48, 28.24it/s]\u001b[A\n",
            " 47%|████▋     | 4166/8928 [02:22<02:49, 28.05it/s]\u001b[A\n",
            " 47%|████▋     | 4170/8928 [02:22<02:44, 28.88it/s]\u001b[A\n",
            " 47%|████▋     | 4173/8928 [02:22<02:44, 28.85it/s]\u001b[A\n",
            " 47%|████▋     | 4177/8928 [02:23<02:41, 29.44it/s]\u001b[A\n",
            " 47%|████▋     | 4180/8928 [02:23<02:42, 29.20it/s]\u001b[A\n",
            " 47%|████▋     | 4183/8928 [02:23<02:43, 29.09it/s]\u001b[A\n",
            " 47%|████▋     | 4186/8928 [02:23<02:46, 28.47it/s]\u001b[A\n",
            " 47%|████▋     | 4189/8928 [02:23<02:44, 28.81it/s]\u001b[A\n",
            " 47%|████▋     | 4192/8928 [02:23<02:44, 28.86it/s]\u001b[A\n",
            " 47%|████▋     | 4195/8928 [02:23<02:45, 28.66it/s]\u001b[A\n",
            " 47%|████▋     | 4198/8928 [02:23<02:46, 28.47it/s]\u001b[A\n",
            " 47%|████▋     | 4201/8928 [02:23<02:44, 28.79it/s]\u001b[A\n",
            " 47%|████▋     | 4204/8928 [02:23<02:43, 28.95it/s]\u001b[A\n",
            " 47%|████▋     | 4207/8928 [02:24<02:44, 28.75it/s]\u001b[A\n",
            " 47%|████▋     | 4210/8928 [02:24<02:45, 28.46it/s]\u001b[A\n",
            " 47%|████▋     | 4213/8928 [02:24<02:46, 28.30it/s]\u001b[A\n",
            " 47%|████▋     | 4216/8928 [02:24<02:45, 28.55it/s]\u001b[A\n",
            " 47%|████▋     | 4220/8928 [02:24<02:40, 29.31it/s]\u001b[A\n",
            " 47%|████▋     | 4223/8928 [02:24<02:42, 28.92it/s]\u001b[A\n",
            " 47%|████▋     | 4226/8928 [02:24<02:43, 28.74it/s]\u001b[A\n",
            " 47%|████▋     | 4229/8928 [02:24<02:41, 29.08it/s]\u001b[A\n",
            " 47%|████▋     | 4233/8928 [02:24<02:38, 29.59it/s]\u001b[A\n",
            " 47%|████▋     | 4236/8928 [02:25<02:37, 29.70it/s]\u001b[A\n",
            " 47%|████▋     | 4239/8928 [02:25<02:41, 29.09it/s]\u001b[A\n",
            " 48%|████▊     | 4242/8928 [02:25<02:41, 29.07it/s]\u001b[A\n",
            " 48%|████▊     | 4245/8928 [02:25<02:43, 28.72it/s]\u001b[A\n",
            " 48%|████▊     | 4248/8928 [02:25<02:43, 28.56it/s]\u001b[A\n",
            " 48%|████▊     | 4251/8928 [02:25<02:45, 28.32it/s]\u001b[A\n",
            " 48%|████▊     | 4255/8928 [02:25<02:40, 29.04it/s]\u001b[A\n",
            " 48%|████▊     | 4258/8928 [02:25<02:42, 28.81it/s]\u001b[A\n",
            " 48%|████▊     | 4261/8928 [02:25<02:43, 28.63it/s]\u001b[A\n",
            " 48%|████▊     | 4264/8928 [02:26<02:42, 28.78it/s]\u001b[A\n",
            " 48%|████▊     | 4267/8928 [02:26<02:42, 28.71it/s]\u001b[A\n",
            " 48%|████▊     | 4270/8928 [02:26<02:42, 28.70it/s]\u001b[A\n",
            " 48%|████▊     | 4273/8928 [02:26<02:44, 28.30it/s]\u001b[A\n",
            " 48%|████▊     | 4276/8928 [02:26<02:41, 28.74it/s]\u001b[A\n",
            " 48%|████▊     | 4279/8928 [02:26<02:41, 28.77it/s]\u001b[A\n",
            " 48%|████▊     | 4282/8928 [02:26<02:41, 28.77it/s]\u001b[A\n",
            " 48%|████▊     | 4285/8928 [02:26<02:41, 28.74it/s]\u001b[A\n",
            " 48%|████▊     | 4288/8928 [02:26<02:41, 28.73it/s]\u001b[A\n",
            " 48%|████▊     | 4291/8928 [02:26<02:42, 28.55it/s]\u001b[A\n",
            " 48%|████▊     | 4294/8928 [02:27<02:43, 28.29it/s]\u001b[A\n",
            " 48%|████▊     | 4297/8928 [02:27<02:42, 28.52it/s]\u001b[A\n",
            " 48%|████▊     | 4300/8928 [02:27<02:43, 28.37it/s]\u001b[A\n",
            " 48%|████▊     | 4303/8928 [02:27<02:43, 28.28it/s]\u001b[A\n",
            " 48%|████▊     | 4306/8928 [02:27<02:43, 28.25it/s]\u001b[A\n",
            " 48%|████▊     | 4310/8928 [02:27<02:39, 28.99it/s]\u001b[A\n",
            " 48%|████▊     | 4313/8928 [02:27<02:41, 28.64it/s]\u001b[A\n",
            " 48%|████▊     | 4316/8928 [02:27<02:42, 28.44it/s]\u001b[A\n",
            " 48%|████▊     | 4319/8928 [02:27<02:42, 28.43it/s]\u001b[A\n",
            " 48%|████▊     | 4323/8928 [02:28<02:38, 29.00it/s]\u001b[A\n",
            " 48%|████▊     | 4326/8928 [02:28<02:37, 29.18it/s]\u001b[A\n",
            " 48%|████▊     | 4329/8928 [02:28<02:37, 29.19it/s]\u001b[A\n",
            " 49%|████▊     | 4332/8928 [02:28<02:41, 28.39it/s]\u001b[A\n",
            " 49%|████▊     | 4335/8928 [02:28<02:43, 28.02it/s]\u001b[A\n",
            " 49%|████▊     | 4338/8928 [02:28<02:42, 28.16it/s]\u001b[A\n",
            " 49%|████▊     | 4341/8928 [02:28<02:40, 28.51it/s]\u001b[A\n",
            " 49%|████▊     | 4344/8928 [02:28<02:38, 28.89it/s]\u001b[A\n",
            " 49%|████▊     | 4347/8928 [02:28<02:40, 28.46it/s]\u001b[A\n",
            " 49%|████▊     | 4350/8928 [02:29<02:42, 28.15it/s]\u001b[A\n",
            " 49%|████▉     | 4353/8928 [02:29<02:43, 27.96it/s]\u001b[A\n",
            " 49%|████▉     | 4356/8928 [02:29<02:43, 28.05it/s]\u001b[A\n",
            " 49%|████▉     | 4359/8928 [02:29<02:40, 28.52it/s]\u001b[A\n",
            " 49%|████▉     | 4362/8928 [02:29<02:40, 28.40it/s]\u001b[A\n",
            " 49%|████▉     | 4365/8928 [02:29<02:41, 28.33it/s]\u001b[A\n",
            " 49%|████▉     | 4368/8928 [02:29<02:41, 28.28it/s]\u001b[A\n",
            " 49%|████▉     | 4371/8928 [02:29<02:42, 27.96it/s]\u001b[A\n",
            " 49%|████▉     | 4374/8928 [02:29<02:42, 27.94it/s]\u001b[A\n",
            " 49%|████▉     | 4377/8928 [02:29<02:42, 27.92it/s]\u001b[A\n",
            " 49%|████▉     | 4380/8928 [02:30<02:44, 27.63it/s]\u001b[A\n",
            " 49%|████▉     | 4383/8928 [02:30<02:41, 28.06it/s]\u001b[A\n",
            " 49%|████▉     | 4386/8928 [02:30<02:40, 28.29it/s]\u001b[A\n",
            " 49%|████▉     | 4389/8928 [02:30<02:40, 28.29it/s]\u001b[A\n",
            " 49%|████▉     | 4392/8928 [02:30<02:39, 28.40it/s]\u001b[A\n",
            " 49%|████▉     | 4395/8928 [02:30<02:38, 28.52it/s]\u001b[A\n",
            " 49%|████▉     | 4398/8928 [02:30<02:38, 28.50it/s]\u001b[A\n",
            " 49%|████▉     | 4401/8928 [02:30<02:37, 28.68it/s]\u001b[A\n",
            " 49%|████▉     | 4404/8928 [02:30<02:37, 28.80it/s]\u001b[A\n",
            " 49%|████▉     | 4407/8928 [02:31<02:40, 28.18it/s]\u001b[A\n",
            " 49%|████▉     | 4410/8928 [02:31<02:40, 28.23it/s]\u001b[A\n",
            " 49%|████▉     | 4413/8928 [02:31<02:37, 28.61it/s]\u001b[A\n",
            " 49%|████▉     | 4416/8928 [02:31<02:39, 28.30it/s]\u001b[A\n",
            " 49%|████▉     | 4419/8928 [02:31<02:38, 28.44it/s]\u001b[A\n",
            " 50%|████▉     | 4422/8928 [02:31<02:39, 28.28it/s]\u001b[A\n",
            " 50%|████▉     | 4425/8928 [02:31<02:36, 28.73it/s]\u001b[A\n",
            " 50%|████▉     | 4428/8928 [02:31<02:34, 29.08it/s]\u001b[A\n",
            " 50%|████▉     | 4431/8928 [02:31<02:36, 28.79it/s]\u001b[A\n",
            " 50%|████▉     | 4434/8928 [02:31<02:37, 28.60it/s]\u001b[A\n",
            " 50%|████▉     | 4437/8928 [02:32<02:36, 28.69it/s]\u001b[A\n",
            " 50%|████▉     | 4440/8928 [02:32<02:39, 28.16it/s]\u001b[A\n",
            " 50%|████▉     | 4443/8928 [02:32<02:37, 28.52it/s]\u001b[A\n",
            " 50%|████▉     | 4446/8928 [02:32<02:35, 28.90it/s]\u001b[A\n",
            " 50%|████▉     | 4449/8928 [02:32<02:37, 28.50it/s]\u001b[A\n",
            " 50%|████▉     | 4452/8928 [02:32<02:35, 28.86it/s]\u001b[A\n",
            " 50%|████▉     | 4456/8928 [02:32<02:30, 29.63it/s]\u001b[A\n",
            " 50%|████▉     | 4460/8928 [02:32<02:29, 29.89it/s]\u001b[A\n",
            " 50%|████▉     | 4463/8928 [02:32<02:32, 29.33it/s]\u001b[A\n",
            " 50%|█████     | 4466/8928 [02:33<02:36, 28.59it/s]\u001b[A\n",
            " 50%|█████     | 4469/8928 [02:33<02:40, 27.80it/s]\u001b[A\n",
            " 50%|█████     | 4472/8928 [02:33<02:38, 28.09it/s]\u001b[A\n",
            " 50%|█████     | 4475/8928 [02:33<02:40, 27.67it/s]\u001b[A\n",
            " 50%|█████     | 4478/8928 [02:33<02:41, 27.54it/s]\u001b[A\n",
            " 50%|█████     | 4481/8928 [02:33<02:41, 27.52it/s]\u001b[A\n",
            " 50%|█████     | 4484/8928 [02:33<02:40, 27.76it/s]\u001b[A\n",
            " 50%|█████     | 4487/8928 [02:33<02:38, 27.99it/s]\u001b[A\n",
            " 50%|█████     | 4490/8928 [02:33<02:38, 27.91it/s]\u001b[A\n",
            " 50%|█████     | 4493/8928 [02:34<02:38, 27.90it/s]\u001b[A\n",
            " 50%|█████     | 4496/8928 [02:34<02:38, 27.88it/s]\u001b[A\n",
            " 50%|█████     | 4499/8928 [02:34<02:40, 27.53it/s]\u001b[A\n",
            " 50%|█████     | 4502/8928 [02:34<02:37, 28.02it/s]\u001b[A\n",
            " 50%|█████     | 4506/8928 [02:34<02:32, 29.02it/s]\u001b[A\n",
            " 51%|█████     | 4509/8928 [02:34<02:32, 29.04it/s]\u001b[A\n",
            " 51%|█████     | 4512/8928 [02:34<02:30, 29.26it/s]\u001b[A\n",
            " 51%|█████     | 4515/8928 [02:34<02:31, 29.22it/s]\u001b[A\n",
            " 51%|█████     | 4518/8928 [02:34<02:31, 29.03it/s]\u001b[A\n",
            " 51%|█████     | 4521/8928 [02:35<02:30, 29.22it/s]\u001b[A\n",
            " 51%|█████     | 4524/8928 [02:35<02:30, 29.29it/s]\u001b[A\n",
            " 51%|█████     | 4527/8928 [02:35<02:35, 28.38it/s]\u001b[A\n",
            " 51%|█████     | 4530/8928 [02:35<02:33, 28.72it/s]\u001b[A\n",
            " 51%|█████     | 4533/8928 [02:35<02:33, 28.62it/s]\u001b[A\n",
            " 51%|█████     | 4536/8928 [02:35<02:35, 28.22it/s]\u001b[A\n",
            " 51%|█████     | 4539/8928 [02:35<02:36, 27.96it/s]\u001b[A\n",
            " 51%|█████     | 4542/8928 [02:35<02:34, 28.32it/s]\u001b[A\n",
            " 51%|█████     | 4545/8928 [02:35<02:35, 28.25it/s]\u001b[A\n",
            " 51%|█████     | 4549/8928 [02:36<02:30, 29.00it/s]\u001b[A\n",
            " 51%|█████     | 4552/8928 [02:36<02:30, 29.05it/s]\u001b[A\n",
            " 51%|█████     | 4555/8928 [02:36<02:30, 29.06it/s]\u001b[A\n",
            " 51%|█████     | 4558/8928 [02:36<02:31, 28.88it/s]\u001b[A\n",
            " 51%|█████     | 4561/8928 [02:36<02:31, 28.79it/s]\u001b[A\n",
            " 51%|█████     | 4564/8928 [02:36<02:31, 28.88it/s]\u001b[A\n",
            " 51%|█████     | 4568/8928 [02:36<02:28, 29.37it/s]\u001b[A\n",
            " 51%|█████     | 4572/8928 [02:36<02:26, 29.74it/s]\u001b[A\n",
            " 51%|█████     | 4575/8928 [02:36<02:30, 28.85it/s]\u001b[A\n",
            " 51%|█████▏    | 4578/8928 [02:37<02:34, 28.12it/s]\u001b[A\n",
            " 51%|█████▏    | 4581/8928 [02:37<02:32, 28.41it/s]\u001b[A\n",
            " 51%|█████▏    | 4584/8928 [02:37<02:32, 28.42it/s]\u001b[A\n",
            " 51%|█████▏    | 4587/8928 [02:37<02:35, 27.93it/s]\u001b[A\n",
            " 51%|█████▏    | 4590/8928 [02:37<02:32, 28.41it/s]\u001b[A\n",
            " 51%|█████▏    | 4593/8928 [02:37<02:34, 28.03it/s]\u001b[A\n",
            " 51%|█████▏    | 4596/8928 [02:37<02:34, 28.04it/s]\u001b[A\n",
            " 52%|█████▏    | 4599/8928 [02:37<02:33, 28.20it/s]\u001b[A\n",
            " 52%|█████▏    | 4602/8928 [02:37<02:34, 27.96it/s]\u001b[A\n",
            " 52%|█████▏    | 4605/8928 [02:37<02:31, 28.51it/s]\u001b[A\n",
            " 52%|█████▏    | 4609/8928 [02:38<02:28, 29.14it/s]\u001b[A\n",
            " 52%|█████▏    | 4612/8928 [02:38<02:28, 29.07it/s]\u001b[A\n",
            " 52%|█████▏    | 4615/8928 [02:38<02:29, 28.91it/s]\u001b[A\n",
            " 52%|█████▏    | 4618/8928 [02:38<02:32, 28.24it/s]\u001b[A\n",
            " 52%|█████▏    | 4621/8928 [02:38<02:30, 28.60it/s]\u001b[A\n",
            " 52%|█████▏    | 4624/8928 [02:38<02:30, 28.67it/s]\u001b[A\n",
            " 52%|█████▏    | 4627/8928 [02:38<02:30, 28.54it/s]\u001b[A\n",
            " 52%|█████▏    | 4630/8928 [02:38<02:28, 28.93it/s]\u001b[A\n",
            " 52%|█████▏    | 4633/8928 [02:38<02:29, 28.80it/s]\u001b[A\n",
            " 52%|█████▏    | 4636/8928 [02:39<02:27, 29.08it/s]\u001b[A\n",
            " 52%|█████▏    | 4639/8928 [02:39<02:26, 29.19it/s]\u001b[A\n",
            " 52%|█████▏    | 4642/8928 [02:39<02:26, 29.18it/s]\u001b[A\n",
            " 52%|█████▏    | 4645/8928 [02:39<02:29, 28.65it/s]\u001b[A\n",
            " 52%|█████▏    | 4648/8928 [02:39<02:29, 28.66it/s]\u001b[A\n",
            " 52%|█████▏    | 4652/8928 [02:39<02:26, 29.25it/s]\u001b[A\n",
            " 52%|█████▏    | 4655/8928 [02:39<02:27, 28.98it/s]\u001b[A\n",
            " 52%|█████▏    | 4658/8928 [02:39<02:33, 27.87it/s]\u001b[A\n",
            " 52%|█████▏    | 4661/8928 [02:39<02:30, 28.29it/s]\u001b[A\n",
            " 52%|█████▏    | 4664/8928 [02:40<02:32, 28.01it/s]\u001b[A\n",
            " 52%|█████▏    | 4667/8928 [02:40<02:31, 28.12it/s]\u001b[A\n",
            " 52%|█████▏    | 4670/8928 [02:40<02:32, 27.99it/s]\u001b[A\n",
            " 52%|█████▏    | 4674/8928 [02:40<02:28, 28.69it/s]\u001b[A\n",
            " 52%|█████▏    | 4677/8928 [02:40<02:27, 28.80it/s]\u001b[A\n",
            " 52%|█████▏    | 4680/8928 [02:40<02:26, 29.06it/s]\u001b[A\n",
            " 52%|█████▏    | 4683/8928 [02:40<02:24, 29.33it/s]\u001b[A\n",
            " 52%|█████▏    | 4686/8928 [02:40<02:24, 29.41it/s]\u001b[A\n",
            " 53%|█████▎    | 4689/8928 [02:40<02:24, 29.29it/s]\u001b[A\n",
            " 53%|█████▎    | 4692/8928 [02:40<02:26, 28.90it/s]\u001b[A\n",
            " 53%|█████▎    | 4695/8928 [02:41<02:26, 28.98it/s]\u001b[A\n",
            " 53%|█████▎    | 4698/8928 [02:41<02:25, 29.05it/s]\u001b[A\n",
            " 53%|█████▎    | 4701/8928 [02:41<02:29, 28.32it/s]\u001b[A\n",
            " 53%|█████▎    | 4704/8928 [02:41<02:29, 28.18it/s]\u001b[A\n",
            " 53%|█████▎    | 4707/8928 [02:41<02:31, 27.86it/s]\u001b[A\n",
            " 53%|█████▎    | 4710/8928 [02:41<02:33, 27.49it/s]\u001b[A\n",
            " 53%|█████▎    | 4713/8928 [02:41<02:30, 27.95it/s]\u001b[A\n",
            " 53%|█████▎    | 4716/8928 [02:41<02:31, 27.89it/s]\u001b[A\n",
            " 53%|█████▎    | 4719/8928 [02:41<02:29, 28.09it/s]\u001b[A\n",
            " 53%|█████▎    | 4723/8928 [02:42<02:26, 28.74it/s]\u001b[A\n",
            " 53%|█████▎    | 4726/8928 [02:42<02:28, 28.37it/s]\u001b[A\n",
            " 53%|█████▎    | 4729/8928 [02:42<02:27, 28.43it/s]\u001b[A\n",
            " 53%|█████▎    | 4732/8928 [02:42<02:30, 27.88it/s]\u001b[A\n",
            " 53%|█████▎    | 4735/8928 [02:42<02:28, 28.24it/s]\u001b[A\n",
            " 53%|█████▎    | 4738/8928 [02:42<02:26, 28.56it/s]\u001b[A\n",
            " 53%|█████▎    | 4741/8928 [02:42<02:27, 28.48it/s]\u001b[A\n",
            " 53%|█████▎    | 4744/8928 [02:42<02:27, 28.45it/s]\u001b[A\n",
            " 53%|█████▎    | 4747/8928 [02:42<02:28, 28.10it/s]\u001b[A\n",
            " 53%|█████▎    | 4750/8928 [02:43<02:26, 28.44it/s]\u001b[A\n",
            " 53%|█████▎    | 4753/8928 [02:43<02:26, 28.57it/s]\u001b[A\n",
            " 53%|█████▎    | 4756/8928 [02:43<02:24, 28.85it/s]\u001b[A\n",
            " 53%|█████▎    | 4760/8928 [02:43<02:21, 29.40it/s]\u001b[A\n",
            " 53%|█████▎    | 4763/8928 [02:43<02:23, 29.12it/s]\u001b[A\n",
            " 53%|█████▎    | 4766/8928 [02:43<02:23, 28.96it/s]\u001b[A\n",
            " 53%|█████▎    | 4769/8928 [02:43<02:28, 28.05it/s]\u001b[A\n",
            " 53%|█████▎    | 4772/8928 [02:43<02:25, 28.52it/s]\u001b[A\n",
            " 53%|█████▎    | 4775/8928 [02:43<02:27, 28.11it/s]\u001b[A\n",
            " 54%|█████▎    | 4778/8928 [02:44<02:27, 28.23it/s]\u001b[A\n",
            " 54%|█████▎    | 4781/8928 [02:44<02:28, 27.88it/s]\u001b[A\n",
            " 54%|█████▎    | 4784/8928 [02:44<02:27, 28.08it/s]\u001b[A\n",
            " 54%|█████▎    | 4787/8928 [02:44<02:26, 28.27it/s]\u001b[A\n",
            " 54%|█████▎    | 4790/8928 [02:44<02:27, 28.15it/s]\u001b[A\n",
            " 54%|█████▎    | 4793/8928 [02:44<02:25, 28.37it/s]\u001b[A\n",
            " 54%|█████▎    | 4796/8928 [02:44<02:25, 28.47it/s]\u001b[A\n",
            " 54%|█████▍    | 4799/8928 [02:44<02:24, 28.67it/s]\u001b[A\n",
            " 54%|█████▍    | 4802/8928 [02:44<02:23, 28.74it/s]\u001b[A\n",
            " 54%|█████▍    | 4805/8928 [02:44<02:22, 29.01it/s]\u001b[A\n",
            " 54%|█████▍    | 4808/8928 [02:45<02:25, 28.39it/s]\u001b[A\n",
            " 54%|█████▍    | 4811/8928 [02:45<02:25, 28.39it/s]\u001b[A\n",
            " 54%|█████▍    | 4814/8928 [02:45<02:25, 28.27it/s]\u001b[A\n",
            " 54%|█████▍    | 4817/8928 [02:45<02:25, 28.30it/s]\u001b[A\n",
            " 54%|█████▍    | 4820/8928 [02:45<02:23, 28.60it/s]\u001b[A\n",
            " 54%|█████▍    | 4824/8928 [02:45<02:19, 29.39it/s]\u001b[A\n",
            " 54%|█████▍    | 4827/8928 [02:45<02:19, 29.44it/s]\u001b[A\n",
            " 54%|█████▍    | 4831/8928 [02:45<02:17, 29.80it/s]\u001b[A\n",
            " 54%|█████▍    | 4834/8928 [02:45<02:19, 29.29it/s]\u001b[A\n",
            " 54%|█████▍    | 4837/8928 [02:46<02:20, 29.19it/s]\u001b[A\n",
            " 54%|█████▍    | 4840/8928 [02:46<02:23, 28.45it/s]\u001b[A\n",
            " 54%|█████▍    | 4843/8928 [02:46<02:23, 28.40it/s]\u001b[A\n",
            " 54%|█████▍    | 4846/8928 [02:46<02:21, 28.78it/s]\u001b[A\n",
            " 54%|█████▍    | 4849/8928 [02:46<02:20, 29.11it/s]\u001b[A\n",
            " 54%|█████▍    | 4853/8928 [02:46<02:17, 29.70it/s]\u001b[A\n",
            " 54%|█████▍    | 4856/8928 [02:46<02:18, 29.43it/s]\u001b[A\n",
            " 54%|█████▍    | 4859/8928 [02:46<02:19, 29.25it/s]\u001b[A\n",
            " 54%|█████▍    | 4862/8928 [02:46<02:22, 28.45it/s]\u001b[A\n",
            " 54%|█████▍    | 4865/8928 [02:47<02:25, 27.99it/s]\u001b[A\n",
            " 55%|█████▍    | 4868/8928 [02:47<02:24, 28.05it/s]\u001b[A\n",
            " 55%|█████▍    | 4871/8928 [02:47<02:25, 27.82it/s]\u001b[A\n",
            " 55%|█████▍    | 4874/8928 [02:47<02:26, 27.72it/s]\u001b[A\n",
            " 55%|█████▍    | 4877/8928 [02:47<02:25, 27.75it/s]\u001b[A\n",
            " 55%|█████▍    | 4880/8928 [02:47<02:25, 27.76it/s]\u001b[A\n",
            " 55%|█████▍    | 4883/8928 [02:47<02:28, 27.15it/s]\u001b[A\n",
            " 55%|█████▍    | 4886/8928 [02:47<02:31, 26.72it/s]\u001b[A\n",
            " 55%|█████▍    | 4889/8928 [02:47<02:32, 26.51it/s]\u001b[A\n",
            " 55%|█████▍    | 4892/8928 [02:48<02:29, 27.01it/s]\u001b[A\n",
            " 55%|█████▍    | 4895/8928 [02:48<02:28, 27.12it/s]\u001b[A\n",
            " 55%|█████▍    | 4898/8928 [02:48<02:27, 27.27it/s]\u001b[A\n",
            " 55%|█████▍    | 4901/8928 [02:48<02:27, 27.29it/s]\u001b[A\n",
            " 55%|█████▍    | 4904/8928 [02:48<02:25, 27.72it/s]\u001b[A\n",
            " 55%|█████▍    | 4907/8928 [02:48<02:24, 27.80it/s]\u001b[A\n",
            " 55%|█████▍    | 4910/8928 [02:48<02:25, 27.65it/s]\u001b[A\n",
            " 55%|█████▌    | 4913/8928 [02:48<02:26, 27.44it/s]\u001b[A\n",
            " 55%|█████▌    | 4916/8928 [02:48<02:25, 27.49it/s]\u001b[A\n",
            " 55%|█████▌    | 4919/8928 [02:49<02:25, 27.49it/s]\u001b[A\n",
            " 55%|█████▌    | 4922/8928 [02:49<02:23, 27.99it/s]\u001b[A\n",
            " 55%|█████▌    | 4925/8928 [02:49<02:22, 28.09it/s]\u001b[A\n",
            " 55%|█████▌    | 4928/8928 [02:49<02:23, 27.94it/s]\u001b[A\n",
            " 55%|█████▌    | 4931/8928 [02:49<02:21, 28.25it/s]\u001b[A\n",
            " 55%|█████▌    | 4934/8928 [02:49<02:19, 28.57it/s]\u001b[A\n",
            " 55%|█████▌    | 4937/8928 [02:49<02:21, 28.21it/s]\u001b[A\n",
            " 55%|█████▌    | 4940/8928 [02:49<02:24, 27.59it/s]\u001b[A\n",
            " 55%|█████▌    | 4943/8928 [02:49<02:24, 27.60it/s]\u001b[A\n",
            " 55%|█████▌    | 4946/8928 [02:49<02:21, 28.17it/s]\u001b[A\n",
            " 55%|█████▌    | 4949/8928 [02:50<02:21, 28.10it/s]\u001b[A\n",
            " 55%|█████▌    | 4952/8928 [02:50<02:21, 28.04it/s]\u001b[A\n",
            " 55%|█████▌    | 4955/8928 [02:50<02:24, 27.54it/s]\u001b[A\n",
            " 56%|█████▌    | 4958/8928 [02:50<02:22, 27.89it/s]\u001b[A\n",
            " 56%|█████▌    | 4961/8928 [02:50<02:19, 28.48it/s]\u001b[A\n",
            " 56%|█████▌    | 4964/8928 [02:50<02:18, 28.65it/s]\u001b[A\n",
            " 56%|█████▌    | 4967/8928 [02:50<02:18, 28.58it/s]\u001b[A\n",
            " 56%|█████▌    | 4970/8928 [02:50<02:19, 28.38it/s]\u001b[A\n",
            " 56%|█████▌    | 4973/8928 [02:50<02:18, 28.63it/s]\u001b[A\n",
            " 56%|█████▌    | 4976/8928 [02:51<02:19, 28.40it/s]\u001b[A\n",
            " 56%|█████▌    | 4979/8928 [02:51<02:18, 28.58it/s]\u001b[A\n",
            " 56%|█████▌    | 4982/8928 [02:51<02:20, 28.12it/s]\u001b[A\n",
            " 56%|█████▌    | 4985/8928 [02:51<02:20, 28.06it/s]\u001b[A\n",
            " 56%|█████▌    | 4988/8928 [02:51<02:22, 27.72it/s]\u001b[A\n",
            " 56%|█████▌    | 4991/8928 [02:51<02:23, 27.34it/s]\u001b[A\n",
            " 56%|█████▌    | 4994/8928 [02:51<02:24, 27.23it/s]\u001b[A\n",
            " 56%|█████▌    | 4997/8928 [02:51<02:25, 26.92it/s]\u001b[A\n",
            " 56%|█████▌    | 5000/8928 [02:51<02:28, 26.51it/s]\u001b[A\n",
            " 56%|█████▌    | 5003/8928 [02:52<02:25, 26.93it/s]\u001b[A\n",
            " 56%|█████▌    | 5006/8928 [02:52<02:25, 26.92it/s]\u001b[A\n",
            " 56%|█████▌    | 5009/8928 [02:52<02:23, 27.24it/s]\u001b[A\n",
            " 56%|█████▌    | 5012/8928 [02:52<02:26, 26.81it/s]\u001b[A\n",
            " 56%|█████▌    | 5015/8928 [02:52<02:24, 27.05it/s]\u001b[A\n",
            " 56%|█████▌    | 5018/8928 [02:52<02:23, 27.31it/s]\u001b[A\n",
            " 56%|█████▌    | 5021/8928 [02:52<02:21, 27.58it/s]\u001b[A\n",
            " 56%|█████▋    | 5024/8928 [02:52<02:22, 27.39it/s]\u001b[A\n",
            " 56%|█████▋    | 5027/8928 [02:52<02:24, 27.00it/s]\u001b[A\n",
            " 56%|█████▋    | 5030/8928 [02:53<02:22, 27.39it/s]\u001b[A\n",
            " 56%|█████▋    | 5033/8928 [02:53<02:20, 27.81it/s]\u001b[A\n",
            " 56%|█████▋    | 5036/8928 [02:53<02:18, 28.11it/s]\u001b[A\n",
            " 56%|█████▋    | 5039/8928 [02:53<02:20, 27.68it/s]\u001b[A\n",
            " 56%|█████▋    | 5042/8928 [02:53<02:18, 27.99it/s]\u001b[A\n",
            " 57%|█████▋    | 5045/8928 [02:53<02:18, 28.05it/s]\u001b[A\n",
            " 57%|█████▋    | 5048/8928 [02:53<02:18, 27.93it/s]\u001b[A\n",
            " 57%|█████▋    | 5051/8928 [02:53<02:17, 28.18it/s]\u001b[A\n",
            " 57%|█████▋    | 5054/8928 [02:53<02:17, 28.14it/s]\u001b[A\n",
            " 57%|█████▋    | 5057/8928 [02:53<02:20, 27.61it/s]\u001b[A\n",
            " 57%|█████▋    | 5060/8928 [02:54<02:19, 27.81it/s]\u001b[A\n",
            " 57%|█████▋    | 5063/8928 [02:54<02:18, 27.95it/s]\u001b[A\n",
            " 57%|█████▋    | 5066/8928 [02:54<02:22, 27.08it/s]\u001b[A\n",
            " 57%|█████▋    | 5069/8928 [02:54<02:21, 27.18it/s]\u001b[A\n",
            " 57%|█████▋    | 5072/8928 [02:54<02:24, 26.66it/s]\u001b[A\n",
            " 57%|█████▋    | 5075/8928 [02:54<02:23, 26.79it/s]\u001b[A\n",
            " 57%|█████▋    | 5078/8928 [02:54<02:22, 27.00it/s]\u001b[A\n",
            " 57%|█████▋    | 5081/8928 [02:54<02:22, 27.05it/s]\u001b[A\n",
            " 57%|█████▋    | 5084/8928 [02:54<02:21, 27.22it/s]\u001b[A\n",
            " 57%|█████▋    | 5087/8928 [02:55<02:23, 26.83it/s]\u001b[A\n",
            " 57%|█████▋    | 5090/8928 [02:55<02:19, 27.47it/s]\u001b[A\n",
            " 57%|█████▋    | 5093/8928 [02:55<02:19, 27.56it/s]\u001b[A\n",
            " 57%|█████▋    | 5096/8928 [02:55<02:17, 27.87it/s]\u001b[A\n",
            " 57%|█████▋    | 5099/8928 [02:55<02:17, 27.82it/s]\u001b[A\n",
            " 57%|█████▋    | 5102/8928 [02:55<02:17, 27.90it/s]\u001b[A\n",
            " 57%|█████▋    | 5105/8928 [02:55<02:18, 27.54it/s]\u001b[A\n",
            " 57%|█████▋    | 5108/8928 [02:55<02:18, 27.67it/s]\u001b[A\n",
            " 57%|█████▋    | 5111/8928 [02:55<02:18, 27.57it/s]\u001b[A\n",
            " 57%|█████▋    | 5114/8928 [02:56<02:15, 28.06it/s]\u001b[A\n",
            " 57%|█████▋    | 5117/8928 [02:56<02:16, 27.92it/s]\u001b[A\n",
            " 57%|█████▋    | 5120/8928 [02:56<02:18, 27.58it/s]\u001b[A\n",
            " 57%|█████▋    | 5123/8928 [02:56<02:18, 27.48it/s]\u001b[A\n",
            " 57%|█████▋    | 5126/8928 [02:56<02:16, 27.90it/s]\u001b[A\n",
            " 57%|█████▋    | 5129/8928 [02:56<02:13, 28.37it/s]\u001b[A\n",
            " 57%|█████▋    | 5132/8928 [02:56<02:12, 28.59it/s]\u001b[A\n",
            " 58%|█████▊    | 5135/8928 [02:56<02:12, 28.53it/s]\u001b[A\n",
            " 58%|█████▊    | 5138/8928 [02:56<02:15, 27.98it/s]\u001b[A\n",
            " 58%|█████▊    | 5141/8928 [02:57<02:13, 28.26it/s]\u001b[A\n",
            " 58%|█████▊    | 5144/8928 [02:57<02:13, 28.41it/s]\u001b[A\n",
            " 58%|█████▊    | 5147/8928 [02:57<02:14, 28.13it/s]\u001b[A\n",
            " 58%|█████▊    | 5150/8928 [02:57<02:14, 28.11it/s]\u001b[A\n",
            " 58%|█████▊    | 5153/8928 [02:57<02:11, 28.62it/s]\u001b[A\n",
            " 58%|█████▊    | 5156/8928 [02:57<02:11, 28.63it/s]\u001b[A\n",
            " 58%|█████▊    | 5160/8928 [02:57<02:08, 29.39it/s]\u001b[A\n",
            " 58%|█████▊    | 5164/8928 [02:57<02:06, 29.82it/s]\u001b[A\n",
            " 58%|█████▊    | 5167/8928 [02:57<02:08, 29.25it/s]\u001b[A\n",
            " 58%|█████▊    | 5170/8928 [02:58<02:09, 29.05it/s]\u001b[A\n",
            " 58%|█████▊    | 5173/8928 [02:58<02:10, 28.70it/s]\u001b[A\n",
            " 58%|█████▊    | 5176/8928 [02:58<02:12, 28.34it/s]\u001b[A\n",
            " 58%|█████▊    | 5179/8928 [02:58<02:13, 28.02it/s]\u001b[A\n",
            " 58%|█████▊    | 5182/8928 [02:58<02:14, 27.93it/s]\u001b[A\n",
            " 58%|█████▊    | 5185/8928 [02:58<02:13, 27.96it/s]\u001b[A\n",
            " 58%|█████▊    | 5188/8928 [02:58<02:14, 27.89it/s]\u001b[A\n",
            " 58%|█████▊    | 5191/8928 [02:58<02:14, 27.89it/s]\u001b[A\n",
            " 58%|█████▊    | 5194/8928 [02:58<02:15, 27.62it/s]\u001b[A\n",
            " 58%|█████▊    | 5197/8928 [02:58<02:17, 27.18it/s]\u001b[A\n",
            " 58%|█████▊    | 5200/8928 [02:59<02:17, 27.15it/s]\u001b[A\n",
            " 58%|█████▊    | 5203/8928 [02:59<02:15, 27.41it/s]\u001b[A\n",
            " 58%|█████▊    | 5206/8928 [02:59<02:15, 27.46it/s]\u001b[A\n",
            " 58%|█████▊    | 5209/8928 [02:59<02:12, 28.05it/s]\u001b[A\n",
            " 58%|█████▊    | 5213/8928 [02:59<02:07, 29.11it/s]\u001b[A\n",
            " 58%|█████▊    | 5217/8928 [02:59<02:04, 29.72it/s]\u001b[A\n",
            " 58%|█████▊    | 5220/8928 [02:59<02:05, 29.54it/s]\u001b[A\n",
            " 59%|█████▊    | 5223/8928 [02:59<02:06, 29.26it/s]\u001b[A\n",
            " 59%|█████▊    | 5226/8928 [02:59<02:07, 28.98it/s]\u001b[A\n",
            " 59%|█████▊    | 5229/8928 [03:00<02:09, 28.53it/s]\u001b[A\n",
            " 59%|█████▊    | 5232/8928 [03:00<02:11, 28.19it/s]\u001b[A\n",
            " 59%|█████▊    | 5235/8928 [03:00<02:10, 28.31it/s]\u001b[A\n",
            " 59%|█████▊    | 5238/8928 [03:00<02:08, 28.72it/s]\u001b[A\n",
            " 59%|█████▊    | 5242/8928 [03:00<02:06, 29.04it/s]\u001b[A\n",
            " 59%|█████▊    | 5245/8928 [03:00<02:05, 29.26it/s]\u001b[A\n",
            " 59%|█████▉    | 5248/8928 [03:00<02:08, 28.55it/s]\u001b[A\n",
            " 59%|█████▉    | 5251/8928 [03:00<02:09, 28.33it/s]\u001b[A\n",
            " 59%|█████▉    | 5254/8928 [03:00<02:07, 28.75it/s]\u001b[A\n",
            " 59%|█████▉    | 5257/8928 [03:01<02:08, 28.60it/s]\u001b[A\n",
            " 59%|█████▉    | 5260/8928 [03:01<02:08, 28.51it/s]\u001b[A\n",
            " 59%|█████▉    | 5263/8928 [03:01<02:09, 28.32it/s]\u001b[A\n",
            " 59%|█████▉    | 5266/8928 [03:01<02:10, 28.13it/s]\u001b[A\n",
            " 59%|█████▉    | 5269/8928 [03:01<02:10, 28.07it/s]\u001b[A\n",
            " 59%|█████▉    | 5273/8928 [03:01<02:05, 29.05it/s]\u001b[A\n",
            " 59%|█████▉    | 5276/8928 [03:01<02:05, 29.03it/s]\u001b[A\n",
            " 59%|█████▉    | 5279/8928 [03:01<02:04, 29.28it/s]\u001b[A\n",
            " 59%|█████▉    | 5282/8928 [03:01<02:07, 28.62it/s]\u001b[A\n",
            " 59%|█████▉    | 5285/8928 [03:02<02:07, 28.61it/s]\u001b[A\n",
            " 59%|█████▉    | 5288/8928 [03:02<02:08, 28.29it/s]\u001b[A\n",
            " 59%|█████▉    | 5291/8928 [03:02<02:11, 27.72it/s]\u001b[A\n",
            " 59%|█████▉    | 5294/8928 [03:02<02:09, 28.03it/s]\u001b[A\n",
            " 59%|█████▉    | 5297/8928 [03:02<02:07, 28.37it/s]\u001b[A\n",
            " 59%|█████▉    | 5300/8928 [03:02<02:07, 28.47it/s]\u001b[A\n",
            " 59%|█████▉    | 5304/8928 [03:02<02:03, 29.36it/s]\u001b[A\n",
            " 59%|█████▉    | 5307/8928 [03:02<02:02, 29.52it/s]\u001b[A\n",
            " 59%|█████▉    | 5310/8928 [03:02<02:05, 28.89it/s]\u001b[A\n",
            " 60%|█████▉    | 5313/8928 [03:03<02:04, 29.08it/s]\u001b[A\n",
            " 60%|█████▉    | 5316/8928 [03:03<02:07, 28.29it/s]\u001b[A\n",
            " 60%|█████▉    | 5319/8928 [03:03<02:08, 28.07it/s]\u001b[A\n",
            " 60%|█████▉    | 5322/8928 [03:03<02:09, 27.93it/s]\u001b[A\n",
            " 60%|█████▉    | 5325/8928 [03:03<02:07, 28.15it/s]\u001b[A\n",
            " 60%|█████▉    | 5328/8928 [03:03<02:06, 28.36it/s]\u001b[A\n",
            " 60%|█████▉    | 5331/8928 [03:03<02:05, 28.74it/s]\u001b[A\n",
            " 60%|█████▉    | 5335/8928 [03:03<02:00, 29.71it/s]\u001b[A\n",
            " 60%|█████▉    | 5338/8928 [03:03<02:04, 28.75it/s]\u001b[A\n",
            " 60%|█████▉    | 5341/8928 [03:03<02:04, 28.78it/s]\u001b[A\n",
            " 60%|█████▉    | 5344/8928 [03:04<02:05, 28.53it/s]\u001b[A\n",
            " 60%|█████▉    | 5347/8928 [03:04<02:06, 28.33it/s]\u001b[A\n",
            " 60%|█████▉    | 5350/8928 [03:04<02:06, 28.18it/s]\u001b[A\n",
            " 60%|█████▉    | 5353/8928 [03:04<02:05, 28.54it/s]\u001b[A\n",
            " 60%|█████▉    | 5356/8928 [03:04<02:03, 28.82it/s]\u001b[A\n",
            " 60%|██████    | 5359/8928 [03:04<02:02, 29.07it/s]\u001b[A\n",
            " 60%|██████    | 5362/8928 [03:04<02:04, 28.59it/s]\u001b[A\n",
            " 60%|██████    | 5366/8928 [03:04<02:02, 29.12it/s]\u001b[A\n",
            " 60%|██████    | 5369/8928 [03:04<02:03, 28.70it/s]\u001b[A\n",
            " 60%|██████    | 5372/8928 [03:05<02:04, 28.63it/s]\u001b[A\n",
            " 60%|██████    | 5376/8928 [03:05<02:00, 29.42it/s]\u001b[A\n",
            " 60%|██████    | 5379/8928 [03:05<02:02, 29.03it/s]\u001b[A\n",
            " 60%|██████    | 5382/8928 [03:05<02:02, 28.96it/s]\u001b[A\n",
            " 60%|██████    | 5385/8928 [03:05<02:02, 28.82it/s]\u001b[A\n",
            " 60%|██████    | 5388/8928 [03:05<02:03, 28.71it/s]\u001b[A\n",
            " 60%|██████    | 5391/8928 [03:05<02:02, 28.90it/s]\u001b[A\n",
            " 60%|██████    | 5394/8928 [03:05<02:01, 29.14it/s]\u001b[A\n",
            " 60%|██████    | 5397/8928 [03:05<02:06, 27.80it/s]\u001b[A\n",
            " 60%|██████    | 5400/8928 [03:06<02:06, 27.96it/s]\u001b[A\n",
            " 61%|██████    | 5403/8928 [03:06<02:08, 27.41it/s]\u001b[A\n",
            " 61%|██████    | 5406/8928 [03:06<02:07, 27.64it/s]\u001b[A\n",
            " 61%|██████    | 5409/8928 [03:06<02:05, 28.01it/s]\u001b[A\n",
            " 61%|██████    | 5412/8928 [03:06<02:06, 27.89it/s]\u001b[A\n",
            " 61%|██████    | 5415/8928 [03:06<02:08, 27.40it/s]\u001b[A\n",
            " 61%|██████    | 5418/8928 [03:06<02:09, 27.19it/s]\u001b[A\n",
            " 61%|██████    | 5421/8928 [03:06<02:07, 27.42it/s]\u001b[A\n",
            " 61%|██████    | 5424/8928 [03:06<02:06, 27.71it/s]\u001b[A\n",
            " 61%|██████    | 5428/8928 [03:07<02:02, 28.65it/s]\u001b[A\n",
            " 61%|██████    | 5431/8928 [03:07<02:02, 28.59it/s]\u001b[A\n",
            " 61%|██████    | 5434/8928 [03:07<02:01, 28.71it/s]\u001b[A\n",
            " 61%|██████    | 5437/8928 [03:07<02:01, 28.71it/s]\u001b[A\n",
            " 61%|██████    | 5440/8928 [03:07<01:59, 29.08it/s]\u001b[A\n",
            " 61%|██████    | 5443/8928 [03:07<01:59, 29.23it/s]\u001b[A\n",
            " 61%|██████    | 5446/8928 [03:07<02:01, 28.74it/s]\u001b[A\n",
            " 61%|██████    | 5449/8928 [03:07<02:01, 28.61it/s]\u001b[A\n",
            " 61%|██████    | 5452/8928 [03:07<02:03, 28.20it/s]\u001b[A\n",
            " 61%|██████    | 5455/8928 [03:08<02:04, 27.89it/s]\u001b[A\n",
            " 61%|██████    | 5458/8928 [03:08<02:02, 28.24it/s]\u001b[A\n",
            " 61%|██████    | 5462/8928 [03:08<01:59, 28.97it/s]\u001b[A\n",
            " 61%|██████    | 5465/8928 [03:08<02:00, 28.81it/s]\u001b[A\n",
            " 61%|██████    | 5468/8928 [03:08<01:59, 29.00it/s]\u001b[A\n",
            " 61%|██████▏   | 5471/8928 [03:08<01:58, 29.06it/s]\u001b[A\n",
            " 61%|██████▏   | 5474/8928 [03:08<02:00, 28.77it/s]\u001b[A\n",
            " 61%|██████▏   | 5477/8928 [03:08<02:00, 28.59it/s]\u001b[A\n",
            " 61%|██████▏   | 5480/8928 [03:08<02:01, 28.35it/s]\u001b[A\n",
            " 61%|██████▏   | 5483/8928 [03:08<02:02, 28.15it/s]\u001b[A\n",
            " 61%|██████▏   | 5486/8928 [03:09<02:01, 28.30it/s]\u001b[A\n",
            " 61%|██████▏   | 5489/8928 [03:09<02:00, 28.56it/s]\u001b[A\n",
            " 62%|██████▏   | 5492/8928 [03:09<01:58, 28.89it/s]\u001b[A\n",
            " 62%|██████▏   | 5495/8928 [03:09<01:58, 28.98it/s]\u001b[A\n",
            " 62%|██████▏   | 5498/8928 [03:09<01:57, 29.28it/s]\u001b[A\n",
            " 62%|██████▏   | 5501/8928 [03:09<01:58, 28.92it/s]\u001b[A\n",
            " 62%|██████▏   | 5504/8928 [03:09<02:00, 28.42it/s]\u001b[A\n",
            " 62%|██████▏   | 5507/8928 [03:09<02:02, 27.84it/s]\u001b[A\n",
            " 62%|██████▏   | 5511/8928 [03:09<01:59, 28.65it/s]\u001b[A\n",
            " 62%|██████▏   | 5514/8928 [03:10<01:59, 28.57it/s]\u001b[A\n",
            " 62%|██████▏   | 5517/8928 [03:10<01:58, 28.74it/s]\u001b[A\n",
            " 62%|██████▏   | 5520/8928 [03:10<01:59, 28.51it/s]\u001b[A\n",
            " 62%|██████▏   | 5523/8928 [03:10<02:00, 28.31it/s]\u001b[A\n",
            " 62%|██████▏   | 5527/8928 [03:10<01:56, 29.09it/s]\u001b[A\n",
            " 62%|██████▏   | 5530/8928 [03:10<01:56, 29.29it/s]\u001b[A\n",
            " 62%|██████▏   | 5533/8928 [03:10<01:57, 28.83it/s]\u001b[A\n",
            " 62%|██████▏   | 5536/8928 [03:10<01:56, 29.03it/s]\u001b[A\n",
            " 62%|██████▏   | 5539/8928 [03:10<01:57, 28.76it/s]\u001b[A\n",
            " 62%|██████▏   | 5542/8928 [03:11<01:56, 29.02it/s]\u001b[A\n",
            " 62%|██████▏   | 5545/8928 [03:11<01:58, 28.63it/s]\u001b[A\n",
            " 62%|██████▏   | 5548/8928 [03:11<01:57, 28.65it/s]\u001b[A\n",
            " 62%|██████▏   | 5551/8928 [03:11<01:57, 28.73it/s]\u001b[A\n",
            " 62%|██████▏   | 5554/8928 [03:11<01:57, 28.76it/s]\u001b[A\n",
            " 62%|██████▏   | 5558/8928 [03:11<01:54, 29.37it/s]\u001b[A\n",
            " 62%|██████▏   | 5561/8928 [03:11<01:54, 29.53it/s]\u001b[A\n",
            " 62%|██████▏   | 5564/8928 [03:11<01:55, 29.15it/s]\u001b[A\n",
            " 62%|██████▏   | 5567/8928 [03:11<01:55, 29.11it/s]\u001b[A\n",
            " 62%|██████▏   | 5570/8928 [03:11<01:55, 28.99it/s]\u001b[A\n",
            " 62%|██████▏   | 5573/8928 [03:12<01:56, 28.76it/s]\u001b[A\n",
            " 62%|██████▏   | 5576/8928 [03:12<01:57, 28.61it/s]\u001b[A\n",
            " 62%|██████▏   | 5579/8928 [03:12<01:59, 28.02it/s]\u001b[A\n",
            " 63%|██████▎   | 5582/8928 [03:12<02:00, 27.83it/s]\u001b[A\n",
            " 63%|██████▎   | 5585/8928 [03:12<02:03, 27.04it/s]\u001b[A\n",
            " 63%|██████▎   | 5588/8928 [03:12<02:05, 26.64it/s]\u001b[A\n",
            " 63%|██████▎   | 5591/8928 [03:12<02:03, 27.12it/s]\u001b[A\n",
            " 63%|██████▎   | 5594/8928 [03:12<02:02, 27.24it/s]\u001b[A\n",
            " 63%|██████▎   | 5597/8928 [03:12<02:01, 27.40it/s]\u001b[A\n",
            " 63%|██████▎   | 5600/8928 [03:13<02:04, 26.80it/s]\u001b[A\n",
            " 63%|██████▎   | 5603/8928 [03:13<02:04, 26.65it/s]\u001b[A\n",
            " 63%|██████▎   | 5606/8928 [03:13<02:04, 26.59it/s]\u001b[A\n",
            " 63%|██████▎   | 5609/8928 [03:13<02:04, 26.73it/s]\u001b[A\n",
            " 63%|██████▎   | 5612/8928 [03:13<02:05, 26.47it/s]\u001b[A\n",
            " 63%|██████▎   | 5615/8928 [03:13<02:02, 27.05it/s]\u001b[A\n",
            " 63%|██████▎   | 5618/8928 [03:13<02:02, 26.98it/s]\u001b[A\n",
            " 63%|██████▎   | 5621/8928 [03:13<02:04, 26.62it/s]\u001b[A\n",
            " 63%|██████▎   | 5624/8928 [03:13<02:01, 27.10it/s]\u001b[A\n",
            " 63%|██████▎   | 5627/8928 [03:14<02:02, 26.90it/s]\u001b[A\n",
            " 63%|██████▎   | 5630/8928 [03:14<02:01, 27.19it/s]\u001b[A\n",
            " 63%|██████▎   | 5633/8928 [03:14<02:01, 27.03it/s]\u001b[A\n",
            " 63%|██████▎   | 5636/8928 [03:14<02:02, 26.96it/s]\u001b[A\n",
            " 63%|██████▎   | 5639/8928 [03:14<02:00, 27.20it/s]\u001b[A\n",
            " 63%|██████▎   | 5642/8928 [03:14<01:59, 27.51it/s]\u001b[A\n",
            " 63%|██████▎   | 5645/8928 [03:14<01:58, 27.63it/s]\u001b[A\n",
            " 63%|██████▎   | 5648/8928 [03:14<01:59, 27.36it/s]\u001b[A\n",
            " 63%|██████▎   | 5651/8928 [03:14<01:57, 27.79it/s]\u001b[A\n",
            " 63%|██████▎   | 5654/8928 [03:15<01:57, 27.89it/s]\u001b[A\n",
            " 63%|██████▎   | 5657/8928 [03:15<01:56, 28.08it/s]\u001b[A\n",
            " 63%|██████▎   | 5660/8928 [03:15<01:59, 27.42it/s]\u001b[A\n",
            " 63%|██████▎   | 5663/8928 [03:15<01:57, 27.80it/s]\u001b[A\n",
            " 63%|██████▎   | 5666/8928 [03:15<01:58, 27.45it/s]\u001b[A\n",
            " 63%|██████▎   | 5669/8928 [03:15<01:57, 27.80it/s]\u001b[A\n",
            " 64%|██████▎   | 5672/8928 [03:15<01:56, 27.91it/s]\u001b[A\n",
            " 64%|██████▎   | 5675/8928 [03:15<01:55, 28.06it/s]\u001b[A\n",
            " 64%|██████▎   | 5678/8928 [03:15<01:56, 27.86it/s]\u001b[A\n",
            " 64%|██████▎   | 5681/8928 [03:16<01:57, 27.62it/s]\u001b[A\n",
            " 64%|██████▎   | 5684/8928 [03:16<01:56, 27.79it/s]\u001b[A\n",
            " 64%|██████▎   | 5687/8928 [03:16<01:59, 27.18it/s]\u001b[A\n",
            " 64%|██████▎   | 5690/8928 [03:16<01:58, 27.27it/s]\u001b[A\n",
            " 64%|██████▍   | 5693/8928 [03:16<01:58, 27.36it/s]\u001b[A\n",
            " 64%|██████▍   | 5696/8928 [03:16<01:56, 27.63it/s]\u001b[A\n",
            " 64%|██████▍   | 5699/8928 [03:16<01:58, 27.29it/s]\u001b[A\n",
            " 64%|██████▍   | 5702/8928 [03:16<01:57, 27.43it/s]\u001b[A\n",
            " 64%|██████▍   | 5705/8928 [03:16<01:58, 27.22it/s]\u001b[A\n",
            " 64%|██████▍   | 5708/8928 [03:17<01:59, 26.89it/s]\u001b[A\n",
            " 64%|██████▍   | 5711/8928 [03:17<01:58, 27.19it/s]\u001b[A\n",
            " 64%|██████▍   | 5714/8928 [03:17<01:58, 27.11it/s]\u001b[A\n",
            " 64%|██████▍   | 5717/8928 [03:17<01:58, 27.09it/s]\u001b[A\n",
            " 64%|██████▍   | 5720/8928 [03:17<01:59, 26.90it/s]\u001b[A\n",
            " 64%|██████▍   | 5723/8928 [03:17<01:59, 26.88it/s]\u001b[A\n",
            " 64%|██████▍   | 5726/8928 [03:17<02:00, 26.55it/s]\u001b[A\n",
            " 64%|██████▍   | 5729/8928 [03:17<02:04, 25.70it/s]\u001b[A\n",
            " 64%|██████▍   | 5732/8928 [03:17<02:02, 26.04it/s]\u001b[A\n",
            " 64%|██████▍   | 5735/8928 [03:18<01:58, 26.87it/s]\u001b[A\n",
            " 64%|██████▍   | 5738/8928 [03:18<01:58, 26.81it/s]\u001b[A\n",
            " 64%|██████▍   | 5741/8928 [03:18<02:00, 26.51it/s]\u001b[A\n",
            " 64%|██████▍   | 5744/8928 [03:18<01:58, 26.78it/s]\u001b[A\n",
            " 64%|██████▍   | 5747/8928 [03:18<01:57, 27.10it/s]\u001b[A\n",
            " 64%|██████▍   | 5750/8928 [03:18<01:58, 26.88it/s]\u001b[A\n",
            " 64%|██████▍   | 5753/8928 [03:18<01:56, 27.19it/s]\u001b[A\n",
            " 64%|██████▍   | 5756/8928 [03:18<01:54, 27.66it/s]\u001b[A\n",
            " 65%|██████▍   | 5759/8928 [03:18<01:52, 28.07it/s]\u001b[A\n",
            " 65%|██████▍   | 5762/8928 [03:19<01:52, 28.04it/s]\u001b[A\n",
            " 65%|██████▍   | 5765/8928 [03:19<01:54, 27.74it/s]\u001b[A\n",
            " 65%|██████▍   | 5768/8928 [03:19<01:56, 27.18it/s]\u001b[A\n",
            " 65%|██████▍   | 5771/8928 [03:19<01:55, 27.40it/s]\u001b[A\n",
            " 65%|██████▍   | 5774/8928 [03:19<01:54, 27.56it/s]\u001b[A\n",
            " 65%|██████▍   | 5777/8928 [03:19<01:53, 27.78it/s]\u001b[A\n",
            " 65%|██████▍   | 5780/8928 [03:19<01:50, 28.37it/s]\u001b[A\n",
            " 65%|██████▍   | 5783/8928 [03:19<01:50, 28.59it/s]\u001b[A\n",
            " 65%|██████▍   | 5786/8928 [03:19<01:49, 28.76it/s]\u001b[A\n",
            " 65%|██████▍   | 5789/8928 [03:19<01:49, 28.72it/s]\u001b[A\n",
            " 65%|██████▍   | 5792/8928 [03:20<01:49, 28.63it/s]\u001b[A\n",
            " 65%|██████▍   | 5795/8928 [03:20<01:49, 28.60it/s]\u001b[A\n",
            " 65%|██████▍   | 5798/8928 [03:20<01:52, 27.88it/s]\u001b[A\n",
            " 65%|██████▍   | 5801/8928 [03:20<01:52, 27.90it/s]\u001b[A\n",
            " 65%|██████▌   | 5804/8928 [03:20<01:52, 27.81it/s]\u001b[A\n",
            " 65%|██████▌   | 5807/8928 [03:20<01:52, 27.72it/s]\u001b[A\n",
            " 65%|██████▌   | 5810/8928 [03:20<01:53, 27.45it/s]\u001b[A\n",
            " 65%|██████▌   | 5813/8928 [03:20<01:53, 27.51it/s]\u001b[A\n",
            " 65%|██████▌   | 5816/8928 [03:20<01:55, 26.93it/s]\u001b[A\n",
            " 65%|██████▌   | 5819/8928 [03:21<01:56, 26.79it/s]\u001b[A\n",
            " 65%|██████▌   | 5822/8928 [03:21<01:55, 26.84it/s]\u001b[A\n",
            " 65%|██████▌   | 5825/8928 [03:21<01:56, 26.67it/s]\u001b[A\n",
            " 65%|██████▌   | 5828/8928 [03:21<01:59, 25.98it/s]\u001b[A\n",
            " 65%|██████▌   | 5831/8928 [03:21<01:57, 26.31it/s]\u001b[A\n",
            " 65%|██████▌   | 5834/8928 [03:21<01:55, 26.88it/s]\u001b[A\n",
            " 65%|██████▌   | 5837/8928 [03:21<01:52, 27.47it/s]\u001b[A\n",
            " 65%|██████▌   | 5840/8928 [03:21<01:52, 27.41it/s]\u001b[A\n",
            " 65%|██████▌   | 5843/8928 [03:21<01:51, 27.55it/s]\u001b[A\n",
            " 65%|██████▌   | 5846/8928 [03:22<01:52, 27.31it/s]\u001b[A\n",
            " 66%|██████▌   | 5849/8928 [03:22<01:51, 27.61it/s]\u001b[A\n",
            " 66%|██████▌   | 5852/8928 [03:22<01:49, 28.04it/s]\u001b[A\n",
            " 66%|██████▌   | 5855/8928 [03:22<01:47, 28.50it/s]\u001b[A\n",
            " 66%|██████▌   | 5859/8928 [03:22<01:44, 29.23it/s]\u001b[A\n",
            " 66%|██████▌   | 5862/8928 [03:22<01:44, 29.38it/s]\u001b[A\n",
            " 66%|██████▌   | 5865/8928 [03:22<01:44, 29.24it/s]\u001b[A\n",
            " 66%|██████▌   | 5868/8928 [03:22<01:46, 28.79it/s]\u001b[A\n",
            " 66%|██████▌   | 5871/8928 [03:22<01:46, 28.82it/s]\u001b[A\n",
            " 66%|██████▌   | 5874/8928 [03:23<01:45, 29.06it/s]\u001b[A\n",
            " 66%|██████▌   | 5877/8928 [03:23<01:46, 28.68it/s]\u001b[A\n",
            " 66%|██████▌   | 5880/8928 [03:23<01:49, 27.74it/s]\u001b[A\n",
            " 66%|██████▌   | 5884/8928 [03:23<01:45, 28.72it/s]\u001b[A\n",
            " 66%|██████▌   | 5888/8928 [03:23<01:43, 29.50it/s]\u001b[A\n",
            " 66%|██████▌   | 5891/8928 [03:23<01:43, 29.31it/s]\u001b[A\n",
            " 66%|██████▌   | 5894/8928 [03:23<01:44, 29.12it/s]\u001b[A\n",
            " 66%|██████▌   | 5897/8928 [03:23<01:44, 29.01it/s]\u001b[A\n",
            " 66%|██████▌   | 5900/8928 [03:23<01:43, 29.17it/s]\u001b[A\n",
            " 66%|██████▌   | 5903/8928 [03:24<01:45, 28.71it/s]\u001b[A\n",
            " 66%|██████▌   | 5906/8928 [03:24<01:48, 27.97it/s]\u001b[A\n",
            " 66%|██████▌   | 5909/8928 [03:24<01:48, 27.89it/s]\u001b[A\n",
            " 66%|██████▌   | 5912/8928 [03:24<01:47, 27.99it/s]\u001b[A\n",
            " 66%|██████▋   | 5915/8928 [03:24<01:47, 27.93it/s]\u001b[A\n",
            " 66%|██████▋   | 5918/8928 [03:24<01:48, 27.84it/s]\u001b[A\n",
            " 66%|██████▋   | 5921/8928 [03:24<01:46, 28.30it/s]\u001b[A\n",
            " 66%|██████▋   | 5924/8928 [03:24<01:46, 28.25it/s]\u001b[A\n",
            " 66%|██████▋   | 5927/8928 [03:24<01:45, 28.49it/s]\u001b[A\n",
            " 66%|██████▋   | 5930/8928 [03:25<01:45, 28.30it/s]\u001b[A\n",
            " 66%|██████▋   | 5933/8928 [03:25<01:48, 27.73it/s]\u001b[A\n",
            " 66%|██████▋   | 5936/8928 [03:25<01:46, 28.00it/s]\u001b[A\n",
            " 67%|██████▋   | 5939/8928 [03:25<01:45, 28.46it/s]\u001b[A\n",
            " 67%|██████▋   | 5942/8928 [03:25<01:43, 28.77it/s]\u001b[A\n",
            " 67%|██████▋   | 5945/8928 [03:25<01:51, 26.82it/s]\u001b[A\n",
            " 67%|██████▋   | 5949/8928 [03:25<01:46, 27.93it/s]\u001b[A\n",
            " 67%|██████▋   | 5952/8928 [03:25<01:46, 27.91it/s]\u001b[A\n",
            " 67%|██████▋   | 5955/8928 [03:25<01:46, 27.79it/s]\u001b[A\n",
            " 67%|██████▋   | 5958/8928 [03:26<01:46, 27.79it/s]\u001b[A\n",
            " 67%|██████▋   | 5961/8928 [03:26<01:45, 28.14it/s]\u001b[A\n",
            " 67%|██████▋   | 5964/8928 [03:26<01:45, 27.98it/s]\u001b[A\n",
            " 67%|██████▋   | 5967/8928 [03:26<01:45, 28.01it/s]\u001b[A\n",
            " 67%|██████▋   | 5970/8928 [03:26<01:43, 28.48it/s]\u001b[A\n",
            " 67%|██████▋   | 5973/8928 [03:26<01:43, 28.62it/s]\u001b[A\n",
            " 67%|██████▋   | 5976/8928 [03:26<01:43, 28.45it/s]\u001b[A\n",
            " 67%|██████▋   | 5979/8928 [03:26<01:43, 28.61it/s]\u001b[A\n",
            " 67%|██████▋   | 5983/8928 [03:26<01:40, 29.24it/s]\u001b[A\n",
            " 67%|██████▋   | 5986/8928 [03:26<01:40, 29.42it/s]\u001b[A\n",
            " 67%|██████▋   | 5989/8928 [03:27<01:39, 29.47it/s]\u001b[A\n",
            " 67%|██████▋   | 5992/8928 [03:27<01:41, 29.04it/s]\u001b[A\n",
            " 67%|██████▋   | 5995/8928 [03:27<01:41, 28.80it/s]\u001b[A\n",
            " 67%|██████▋   | 5999/8928 [03:27<01:39, 29.40it/s]\u001b[A\n",
            " 67%|██████▋   | 6002/8928 [03:27<01:39, 29.48it/s]\u001b[A\n",
            " 67%|██████▋   | 6005/8928 [03:27<01:39, 29.28it/s]\u001b[A\n",
            " 67%|██████▋   | 6008/8928 [03:27<01:41, 28.82it/s]\u001b[A\n",
            " 67%|██████▋   | 6011/8928 [03:27<01:40, 29.06it/s]\u001b[A\n",
            " 67%|██████▋   | 6014/8928 [03:27<01:40, 29.05it/s]\u001b[A\n",
            " 67%|██████▋   | 6017/8928 [03:28<01:40, 29.01it/s]\u001b[A\n",
            " 67%|██████▋   | 6020/8928 [03:28<01:40, 28.94it/s]\u001b[A\n",
            " 67%|██████▋   | 6023/8928 [03:28<01:42, 28.38it/s]\u001b[A\n",
            " 67%|██████▋   | 6026/8928 [03:28<01:43, 28.08it/s]\u001b[A\n",
            " 68%|██████▊   | 6029/8928 [03:28<01:41, 28.60it/s]\u001b[A\n",
            " 68%|██████▊   | 6033/8928 [03:28<01:38, 29.38it/s]\u001b[A\n",
            " 68%|██████▊   | 6036/8928 [03:28<01:38, 29.31it/s]\u001b[A\n",
            " 68%|██████▊   | 6039/8928 [03:28<01:38, 29.23it/s]\u001b[A\n",
            " 68%|██████▊   | 6042/8928 [03:28<01:39, 28.89it/s]\u001b[A\n",
            " 68%|██████▊   | 6045/8928 [03:29<01:39, 29.01it/s]\u001b[A\n",
            " 68%|██████▊   | 6048/8928 [03:29<01:41, 28.27it/s]\u001b[A\n",
            " 68%|██████▊   | 6051/8928 [03:29<01:40, 28.49it/s]\u001b[A\n",
            " 68%|██████▊   | 6054/8928 [03:29<01:39, 28.91it/s]\u001b[A\n",
            " 68%|██████▊   | 6057/8928 [03:29<01:40, 28.59it/s]\u001b[A\n",
            " 68%|██████▊   | 6060/8928 [03:29<01:40, 28.59it/s]\u001b[A\n",
            " 68%|██████▊   | 6064/8928 [03:29<01:37, 29.34it/s]\u001b[A\n",
            " 68%|██████▊   | 6068/8928 [03:29<01:36, 29.71it/s]\u001b[A\n",
            " 68%|██████▊   | 6071/8928 [03:29<01:36, 29.51it/s]\u001b[A\n",
            " 68%|██████▊   | 6074/8928 [03:30<01:37, 29.32it/s]\u001b[A\n",
            " 68%|██████▊   | 6077/8928 [03:30<01:37, 29.13it/s]\u001b[A\n",
            " 68%|██████▊   | 6080/8928 [03:30<01:40, 28.42it/s]\u001b[A\n",
            " 68%|██████▊   | 6083/8928 [03:30<01:38, 28.78it/s]\u001b[A\n",
            " 68%|██████▊   | 6086/8928 [03:30<01:38, 28.98it/s]\u001b[A\n",
            " 68%|██████▊   | 6089/8928 [03:30<01:39, 28.61it/s]\u001b[A\n",
            " 68%|██████▊   | 6092/8928 [03:30<01:40, 28.17it/s]\u001b[A\n",
            " 68%|██████▊   | 6095/8928 [03:30<01:39, 28.48it/s]\u001b[A\n",
            " 68%|██████▊   | 6098/8928 [03:30<01:38, 28.82it/s]\u001b[A\n",
            " 68%|██████▊   | 6101/8928 [03:30<01:39, 28.48it/s]\u001b[A\n",
            " 68%|██████▊   | 6104/8928 [03:31<01:37, 28.83it/s]\u001b[A\n",
            " 68%|██████▊   | 6107/8928 [03:31<01:37, 28.93it/s]\u001b[A\n",
            " 68%|██████▊   | 6110/8928 [03:31<01:38, 28.65it/s]\u001b[A\n",
            " 68%|██████▊   | 6113/8928 [03:31<01:37, 28.87it/s]\u001b[A\n",
            " 69%|██████▊   | 6116/8928 [03:31<01:37, 28.75it/s]\u001b[A\n",
            " 69%|██████▊   | 6119/8928 [03:31<01:37, 28.81it/s]\u001b[A\n",
            " 69%|██████▊   | 6123/8928 [03:31<01:34, 29.63it/s]\u001b[A\n",
            " 69%|██████▊   | 6127/8928 [03:31<01:33, 29.93it/s]\u001b[A\n",
            " 69%|██████▊   | 6131/8928 [03:31<01:31, 30.41it/s]\u001b[A\n",
            " 69%|██████▊   | 6135/8928 [03:32<01:32, 30.25it/s]\u001b[A\n",
            " 69%|██████▉   | 6139/8928 [03:32<01:33, 29.84it/s]\u001b[A\n",
            " 69%|██████▉   | 6142/8928 [03:32<01:34, 29.49it/s]\u001b[A\n",
            " 69%|██████▉   | 6145/8928 [03:32<01:34, 29.43it/s]\u001b[A\n",
            " 69%|██████▉   | 6148/8928 [03:32<01:37, 28.66it/s]\u001b[A\n",
            " 69%|██████▉   | 6151/8928 [03:32<01:37, 28.50it/s]\u001b[A\n",
            " 69%|██████▉   | 6154/8928 [03:32<01:37, 28.38it/s]\u001b[A\n",
            " 69%|██████▉   | 6157/8928 [03:32<01:37, 28.41it/s]\u001b[A\n",
            " 69%|██████▉   | 6160/8928 [03:32<01:36, 28.68it/s]\u001b[A\n",
            " 69%|██████▉   | 6163/8928 [03:33<01:36, 28.54it/s]\u001b[A\n",
            " 69%|██████▉   | 6166/8928 [03:33<01:36, 28.48it/s]\u001b[A\n",
            " 69%|██████▉   | 6169/8928 [03:33<01:36, 28.70it/s]\u001b[A\n",
            " 69%|██████▉   | 6172/8928 [03:33<01:36, 28.68it/s]\u001b[A\n",
            " 69%|██████▉   | 6175/8928 [03:33<01:36, 28.48it/s]\u001b[A\n",
            " 69%|██████▉   | 6178/8928 [03:33<01:36, 28.57it/s]\u001b[A\n",
            " 69%|██████▉   | 6181/8928 [03:33<01:35, 28.67it/s]\u001b[A\n",
            " 69%|██████▉   | 6184/8928 [03:33<01:36, 28.34it/s]\u001b[A\n",
            " 69%|██████▉   | 6187/8928 [03:33<01:35, 28.72it/s]\u001b[A\n",
            " 69%|██████▉   | 6191/8928 [03:34<01:33, 29.35it/s]\u001b[A\n",
            " 69%|██████▉   | 6194/8928 [03:34<01:33, 29.20it/s]\u001b[A\n",
            " 69%|██████▉   | 6197/8928 [03:34<01:37, 28.10it/s]\u001b[A\n",
            " 69%|██████▉   | 6200/8928 [03:34<01:36, 28.32it/s]\u001b[A\n",
            " 69%|██████▉   | 6203/8928 [03:34<01:35, 28.43it/s]\u001b[A\n",
            " 70%|██████▉   | 6206/8928 [03:34<01:34, 28.82it/s]\u001b[A\n",
            " 70%|██████▉   | 6209/8928 [03:34<01:35, 28.59it/s]\u001b[A\n",
            " 70%|██████▉   | 6212/8928 [03:34<01:34, 28.68it/s]\u001b[A\n",
            " 70%|██████▉   | 6215/8928 [03:34<01:34, 28.63it/s]\u001b[A\n",
            " 70%|██████▉   | 6218/8928 [03:35<01:35, 28.43it/s]\u001b[A\n",
            " 70%|██████▉   | 6221/8928 [03:35<01:34, 28.60it/s]\u001b[A\n",
            " 70%|██████▉   | 6224/8928 [03:35<01:35, 28.43it/s]\u001b[A\n",
            " 70%|██████▉   | 6227/8928 [03:35<01:35, 28.29it/s]\u001b[A\n",
            " 70%|██████▉   | 6230/8928 [03:35<01:36, 27.99it/s]\u001b[A\n",
            " 70%|██████▉   | 6234/8928 [03:35<01:33, 28.88it/s]\u001b[A\n",
            " 70%|██████▉   | 6237/8928 [03:35<01:32, 29.20it/s]\u001b[A\n",
            " 70%|██████▉   | 6240/8928 [03:35<01:31, 29.24it/s]\u001b[A\n",
            " 70%|██████▉   | 6244/8928 [03:35<01:29, 29.83it/s]\u001b[A\n",
            " 70%|██████▉   | 6247/8928 [03:35<01:30, 29.79it/s]\u001b[A\n",
            " 70%|███████   | 6250/8928 [03:36<01:30, 29.60it/s]\u001b[A\n",
            " 70%|███████   | 6253/8928 [03:36<01:30, 29.61it/s]\u001b[A\n",
            " 70%|███████   | 6256/8928 [03:36<01:31, 29.09it/s]\u001b[A\n",
            " 70%|███████   | 6259/8928 [03:36<01:33, 28.67it/s]\u001b[A\n",
            " 70%|███████   | 6262/8928 [03:36<01:33, 28.40it/s]\u001b[A\n",
            " 70%|███████   | 6266/8928 [03:36<01:31, 29.14it/s]\u001b[A\n",
            " 70%|███████   | 6269/8928 [03:36<01:32, 28.66it/s]\u001b[A\n",
            " 70%|███████   | 6272/8928 [03:36<01:35, 27.86it/s]\u001b[A\n",
            " 70%|███████   | 6275/8928 [03:36<01:36, 27.47it/s]\u001b[A\n",
            " 70%|███████   | 6278/8928 [03:37<01:36, 27.51it/s]\u001b[A\n",
            " 70%|███████   | 6281/8928 [03:37<01:34, 28.13it/s]\u001b[A\n",
            " 70%|███████   | 6284/8928 [03:37<01:34, 28.04it/s]\u001b[A\n",
            " 70%|███████   | 6288/8928 [03:37<01:31, 28.88it/s]\u001b[A\n",
            " 70%|███████   | 6291/8928 [03:37<01:31, 28.69it/s]\u001b[A\n",
            " 71%|███████   | 6295/8928 [03:37<01:28, 29.66it/s]\u001b[A\n",
            " 71%|███████   | 6298/8928 [03:37<01:29, 29.45it/s]\u001b[A\n",
            " 71%|███████   | 6301/8928 [03:37<01:29, 29.35it/s]\u001b[A\n",
            " 71%|███████   | 6305/8928 [03:37<01:27, 29.84it/s]\u001b[A\n",
            " 71%|███████   | 6308/8928 [03:38<01:28, 29.77it/s]\u001b[A\n",
            " 71%|███████   | 6311/8928 [03:38<01:29, 29.26it/s]\u001b[A\n",
            " 71%|███████   | 6314/8928 [03:38<01:29, 29.05it/s]\u001b[A\n",
            " 71%|███████   | 6317/8928 [03:38<01:29, 29.18it/s]\u001b[A\n",
            " 71%|███████   | 6320/8928 [03:38<01:29, 29.03it/s]\u001b[A\n",
            " 71%|███████   | 6324/8928 [03:38<01:28, 29.55it/s]\u001b[A\n",
            " 71%|███████   | 6327/8928 [03:38<01:29, 29.04it/s]\u001b[A\n",
            " 71%|███████   | 6330/8928 [03:38<01:29, 28.99it/s]\u001b[A\n",
            " 71%|███████   | 6333/8928 [03:38<01:32, 28.06it/s]\u001b[A\n",
            " 71%|███████   | 6337/8928 [03:39<01:30, 28.73it/s]\u001b[A\n",
            " 71%|███████   | 6341/8928 [03:39<01:28, 29.28it/s]\u001b[A\n",
            " 71%|███████   | 6344/8928 [03:39<01:28, 29.19it/s]\u001b[A\n",
            " 71%|███████   | 6348/8928 [03:39<01:27, 29.63it/s]\u001b[A\n",
            " 71%|███████   | 6351/8928 [03:39<01:26, 29.72it/s]\u001b[A\n",
            " 71%|███████   | 6355/8928 [03:39<01:25, 29.97it/s]\u001b[A\n",
            " 71%|███████   | 6359/8928 [03:39<01:28, 29.11it/s]\u001b[A\n",
            " 71%|███████▏  | 6362/8928 [03:39<01:30, 28.43it/s]\u001b[A\n",
            " 71%|███████▏  | 6365/8928 [03:40<01:31, 28.02it/s]\u001b[A\n",
            " 71%|███████▏  | 6368/8928 [03:40<01:31, 27.89it/s]\u001b[A\n",
            " 71%|███████▏  | 6371/8928 [03:40<01:30, 28.20it/s]\u001b[A\n",
            " 71%|███████▏  | 6374/8928 [03:40<01:30, 28.09it/s]\u001b[A\n",
            " 71%|███████▏  | 6377/8928 [03:40<01:29, 28.41it/s]\u001b[A\n",
            " 71%|███████▏  | 6380/8928 [03:40<01:30, 28.24it/s]\u001b[A\n",
            " 71%|███████▏  | 6383/8928 [03:40<01:28, 28.65it/s]\u001b[A\n",
            " 72%|███████▏  | 6386/8928 [03:40<01:30, 27.99it/s]\u001b[A\n",
            " 72%|███████▏  | 6389/8928 [03:40<01:31, 27.73it/s]\u001b[A\n",
            " 72%|███████▏  | 6392/8928 [03:41<01:30, 28.05it/s]\u001b[A\n",
            " 72%|███████▏  | 6395/8928 [03:41<01:30, 27.96it/s]\u001b[A\n",
            " 72%|███████▏  | 6398/8928 [03:41<01:29, 28.38it/s]\u001b[A\n",
            " 72%|███████▏  | 6401/8928 [03:41<01:31, 27.58it/s]\u001b[A\n",
            " 72%|███████▏  | 6404/8928 [03:41<01:29, 28.14it/s]\u001b[A\n",
            " 72%|███████▏  | 6407/8928 [03:41<01:28, 28.57it/s]\u001b[A\n",
            " 72%|███████▏  | 6410/8928 [03:41<01:28, 28.48it/s]\u001b[A\n",
            " 72%|███████▏  | 6413/8928 [03:41<01:27, 28.71it/s]\u001b[A\n",
            " 72%|███████▏  | 6416/8928 [03:41<01:27, 28.83it/s]\u001b[A\n",
            " 72%|███████▏  | 6419/8928 [03:41<01:28, 28.21it/s]\u001b[A\n",
            " 72%|███████▏  | 6422/8928 [03:42<01:28, 28.23it/s]\u001b[A\n",
            " 72%|███████▏  | 6425/8928 [03:42<01:28, 28.25it/s]\u001b[A\n",
            " 72%|███████▏  | 6428/8928 [03:42<01:28, 28.38it/s]\u001b[A\n",
            " 72%|███████▏  | 6432/8928 [03:42<01:25, 29.30it/s]\u001b[A\n",
            " 72%|███████▏  | 6435/8928 [03:42<01:25, 29.31it/s]\u001b[A\n",
            " 72%|███████▏  | 6438/8928 [03:42<01:26, 28.86it/s]\u001b[A\n",
            " 72%|███████▏  | 6441/8928 [03:42<01:27, 28.26it/s]\u001b[A\n",
            " 72%|███████▏  | 6444/8928 [03:42<01:28, 28.21it/s]\u001b[A\n",
            " 72%|███████▏  | 6447/8928 [03:42<01:32, 26.89it/s]\u001b[A\n",
            " 72%|███████▏  | 6450/8928 [03:43<01:32, 26.92it/s]\u001b[A\n",
            " 72%|███████▏  | 6453/8928 [03:43<01:29, 27.65it/s]\u001b[A\n",
            " 72%|███████▏  | 6456/8928 [03:43<01:28, 27.79it/s]\u001b[A\n",
            " 72%|███████▏  | 6459/8928 [03:43<01:27, 28.37it/s]\u001b[A\n",
            " 72%|███████▏  | 6463/8928 [03:43<01:24, 29.15it/s]\u001b[A\n",
            " 72%|███████▏  | 6466/8928 [03:43<01:26, 28.57it/s]\u001b[A\n",
            " 72%|███████▏  | 6469/8928 [03:43<01:25, 28.78it/s]\u001b[A\n",
            " 72%|███████▏  | 6472/8928 [03:43<01:25, 28.57it/s]\u001b[A\n",
            " 73%|███████▎  | 6475/8928 [03:43<01:27, 28.10it/s]\u001b[A\n",
            " 73%|███████▎  | 6478/8928 [03:44<01:26, 28.26it/s]\u001b[A\n",
            " 73%|███████▎  | 6481/8928 [03:44<01:28, 27.77it/s]\u001b[A\n",
            " 73%|███████▎  | 6484/8928 [03:44<01:29, 27.23it/s]\u001b[A\n",
            " 73%|███████▎  | 6487/8928 [03:44<01:29, 27.33it/s]\u001b[A\n",
            " 73%|███████▎  | 6491/8928 [03:44<01:25, 28.45it/s]\u001b[A\n",
            " 73%|███████▎  | 6494/8928 [03:44<01:26, 28.25it/s]\u001b[A\n",
            " 73%|███████▎  | 6497/8928 [03:44<01:25, 28.35it/s]\u001b[A\n",
            " 73%|███████▎  | 6500/8928 [03:44<01:25, 28.45it/s]\u001b[A\n",
            " 73%|███████▎  | 6503/8928 [03:44<01:24, 28.67it/s]\u001b[A\n",
            " 73%|███████▎  | 6506/8928 [03:45<01:25, 28.38it/s]\u001b[A\n",
            " 73%|███████▎  | 6509/8928 [03:45<01:25, 28.27it/s]\u001b[A\n",
            " 73%|███████▎  | 6512/8928 [03:45<01:24, 28.68it/s]\u001b[A\n",
            " 73%|███████▎  | 6515/8928 [03:45<01:26, 27.98it/s]\u001b[A\n",
            " 73%|███████▎  | 6518/8928 [03:45<01:25, 28.11it/s]\u001b[A\n",
            " 73%|███████▎  | 6522/8928 [03:45<01:23, 28.96it/s]\u001b[A\n",
            " 73%|███████▎  | 6525/8928 [03:45<01:22, 29.07it/s]\u001b[A\n",
            " 73%|███████▎  | 6528/8928 [03:45<01:22, 28.96it/s]\u001b[A\n",
            " 73%|███████▎  | 6531/8928 [03:45<01:22, 29.15it/s]\u001b[A\n",
            " 73%|███████▎  | 6534/8928 [03:46<01:22, 28.94it/s]\u001b[A\n",
            " 73%|███████▎  | 6537/8928 [03:46<01:22, 28.97it/s]\u001b[A\n",
            " 73%|███████▎  | 6540/8928 [03:46<01:22, 29.07it/s]\u001b[A\n",
            " 73%|███████▎  | 6543/8928 [03:46<01:24, 28.29it/s]\u001b[A\n",
            " 73%|███████▎  | 6546/8928 [03:46<01:25, 27.98it/s]\u001b[A\n",
            " 73%|███████▎  | 6550/8928 [03:46<01:22, 28.95it/s]\u001b[A\n",
            " 73%|███████▎  | 6553/8928 [03:46<01:22, 28.76it/s]\u001b[A\n",
            " 73%|███████▎  | 6556/8928 [03:46<01:24, 28.16it/s]\u001b[A\n",
            " 73%|███████▎  | 6559/8928 [03:46<01:24, 27.94it/s]\u001b[A\n",
            " 73%|███████▎  | 6562/8928 [03:47<01:25, 27.79it/s]\u001b[A\n",
            " 74%|███████▎  | 6566/8928 [03:47<01:22, 28.55it/s]\u001b[A\n",
            " 74%|███████▎  | 6569/8928 [03:47<01:23, 28.31it/s]\u001b[A\n",
            " 74%|███████▎  | 6572/8928 [03:47<01:22, 28.52it/s]\u001b[A\n",
            " 74%|███████▎  | 6575/8928 [03:47<01:25, 27.67it/s]\u001b[A\n",
            " 74%|███████▎  | 6578/8928 [03:47<01:23, 28.08it/s]\u001b[A\n",
            " 74%|███████▎  | 6581/8928 [03:47<01:24, 27.82it/s]\u001b[A\n",
            " 74%|███████▎  | 6584/8928 [03:47<01:26, 27.25it/s]\u001b[A\n",
            " 74%|███████▍  | 6587/8928 [03:47<01:25, 27.36it/s]\u001b[A\n",
            " 74%|███████▍  | 6590/8928 [03:48<01:25, 27.39it/s]\u001b[A\n",
            " 74%|███████▍  | 6593/8928 [03:48<01:25, 27.24it/s]\u001b[A\n",
            " 74%|███████▍  | 6596/8928 [03:48<01:27, 26.78it/s]\u001b[A\n",
            " 74%|███████▍  | 6599/8928 [03:48<01:25, 27.36it/s]\u001b[A\n",
            " 74%|███████▍  | 6602/8928 [03:48<01:24, 27.67it/s]\u001b[A\n",
            " 74%|███████▍  | 6605/8928 [03:48<01:23, 27.90it/s]\u001b[A\n",
            " 74%|███████▍  | 6608/8928 [03:48<01:21, 28.50it/s]\u001b[A\n",
            " 74%|███████▍  | 6611/8928 [03:48<01:21, 28.48it/s]\u001b[A\n",
            " 74%|███████▍  | 6614/8928 [03:48<01:21, 28.39it/s]\u001b[A\n",
            " 74%|███████▍  | 6617/8928 [03:48<01:21, 28.30it/s]\u001b[A\n",
            " 74%|███████▍  | 6620/8928 [03:49<01:25, 27.01it/s]\u001b[A\n",
            " 74%|███████▍  | 6623/8928 [03:49<01:24, 27.32it/s]\u001b[A\n",
            " 74%|███████▍  | 6626/8928 [03:49<01:24, 27.38it/s]\u001b[A\n",
            " 74%|███████▍  | 6629/8928 [03:49<01:23, 27.58it/s]\u001b[A\n",
            " 74%|███████▍  | 6632/8928 [03:49<01:21, 28.05it/s]\u001b[A\n",
            " 74%|███████▍  | 6635/8928 [03:49<01:23, 27.44it/s]\u001b[A\n",
            " 74%|███████▍  | 6638/8928 [03:49<01:23, 27.48it/s]\u001b[A\n",
            " 74%|███████▍  | 6641/8928 [03:49<01:22, 27.87it/s]\u001b[A\n",
            " 74%|███████▍  | 6644/8928 [03:49<01:21, 28.06it/s]\u001b[A\n",
            " 74%|███████▍  | 6647/8928 [03:50<01:20, 28.16it/s]\u001b[A\n",
            " 74%|███████▍  | 6650/8928 [03:50<01:23, 27.32it/s]\u001b[A\n",
            " 75%|███████▍  | 6653/8928 [03:50<01:24, 27.05it/s]\u001b[A\n",
            " 75%|███████▍  | 6656/8928 [03:50<01:23, 27.10it/s]\u001b[A\n",
            " 75%|███████▍  | 6659/8928 [03:50<01:24, 26.73it/s]\u001b[A\n",
            " 75%|███████▍  | 6662/8928 [03:50<01:22, 27.50it/s]\u001b[A\n",
            " 75%|███████▍  | 6665/8928 [03:50<01:20, 27.99it/s]\u001b[A\n",
            " 75%|███████▍  | 6668/8928 [03:50<01:19, 28.53it/s]\u001b[A\n",
            " 75%|███████▍  | 6671/8928 [03:50<01:19, 28.27it/s]\u001b[A\n",
            " 75%|███████▍  | 6674/8928 [03:51<01:18, 28.62it/s]\u001b[A\n",
            " 75%|███████▍  | 6677/8928 [03:51<01:18, 28.63it/s]\u001b[A\n",
            " 75%|███████▍  | 6680/8928 [03:51<01:18, 28.48it/s]\u001b[A\n",
            " 75%|███████▍  | 6683/8928 [03:51<01:19, 28.37it/s]\u001b[A\n",
            " 75%|███████▍  | 6686/8928 [03:51<01:19, 28.26it/s]\u001b[A\n",
            " 75%|███████▍  | 6689/8928 [03:51<01:18, 28.47it/s]\u001b[A\n",
            " 75%|███████▍  | 6692/8928 [03:51<01:17, 28.74it/s]\u001b[A\n",
            " 75%|███████▍  | 6695/8928 [03:51<01:19, 28.12it/s]\u001b[A\n",
            " 75%|███████▌  | 6698/8928 [03:51<01:19, 28.09it/s]\u001b[A\n",
            " 75%|███████▌  | 6701/8928 [03:51<01:18, 28.25it/s]\u001b[A\n",
            " 75%|███████▌  | 6704/8928 [03:52<01:18, 28.34it/s]\u001b[A\n",
            " 75%|███████▌  | 6707/8928 [03:52<01:17, 28.49it/s]\u001b[A\n",
            " 75%|███████▌  | 6710/8928 [03:52<01:17, 28.79it/s]\u001b[A\n",
            " 75%|███████▌  | 6713/8928 [03:52<01:16, 29.11it/s]\u001b[A\n",
            " 75%|███████▌  | 6716/8928 [03:52<01:16, 28.97it/s]\u001b[A\n",
            " 75%|███████▌  | 6719/8928 [03:52<01:17, 28.49it/s]\u001b[A\n",
            " 75%|███████▌  | 6722/8928 [03:52<01:18, 28.19it/s]\u001b[A\n",
            " 75%|███████▌  | 6725/8928 [03:52<01:18, 28.12it/s]\u001b[A\n",
            " 75%|███████▌  | 6728/8928 [03:52<01:19, 27.83it/s]\u001b[A\n",
            " 75%|███████▌  | 6731/8928 [03:53<01:18, 28.03it/s]\u001b[A\n",
            " 75%|███████▌  | 6734/8928 [03:53<01:18, 27.83it/s]\u001b[A\n",
            " 75%|███████▌  | 6737/8928 [03:53<01:19, 27.57it/s]\u001b[A\n",
            " 75%|███████▌  | 6740/8928 [03:53<01:19, 27.48it/s]\u001b[A\n",
            " 76%|███████▌  | 6743/8928 [03:53<01:21, 26.95it/s]\u001b[A\n",
            " 76%|███████▌  | 6746/8928 [03:53<01:20, 27.24it/s]\u001b[A\n",
            " 76%|███████▌  | 6749/8928 [03:53<01:20, 26.93it/s]\u001b[A\n",
            " 76%|███████▌  | 6752/8928 [03:53<01:20, 27.07it/s]\u001b[A\n",
            " 76%|███████▌  | 6755/8928 [03:53<01:19, 27.21it/s]\u001b[A\n",
            " 76%|███████▌  | 6758/8928 [03:54<01:20, 27.06it/s]\u001b[A\n",
            " 76%|███████▌  | 6761/8928 [03:54<01:18, 27.52it/s]\u001b[A\n",
            " 76%|███████▌  | 6764/8928 [03:54<01:19, 27.33it/s]\u001b[A\n",
            " 76%|███████▌  | 6767/8928 [03:54<01:19, 27.12it/s]\u001b[A\n",
            " 76%|███████▌  | 6770/8928 [03:54<01:20, 26.72it/s]\u001b[A\n",
            " 76%|███████▌  | 6773/8928 [03:54<01:20, 26.73it/s]\u001b[A\n",
            " 76%|███████▌  | 6776/8928 [03:54<01:22, 26.24it/s]\u001b[A\n",
            " 76%|███████▌  | 6779/8928 [03:54<01:21, 26.41it/s]\u001b[A\n",
            " 76%|███████▌  | 6782/8928 [03:54<01:19, 26.83it/s]\u001b[A\n",
            " 76%|███████▌  | 6785/8928 [03:55<01:20, 26.47it/s]\u001b[A\n",
            " 76%|███████▌  | 6788/8928 [03:55<01:19, 26.89it/s]\u001b[A\n",
            " 76%|███████▌  | 6791/8928 [03:55<01:20, 26.52it/s]\u001b[A\n",
            " 76%|███████▌  | 6794/8928 [03:55<01:19, 26.85it/s]\u001b[A\n",
            " 76%|███████▌  | 6797/8928 [03:55<01:18, 27.29it/s]\u001b[A\n",
            " 76%|███████▌  | 6800/8928 [03:55<01:16, 27.89it/s]\u001b[A\n",
            " 76%|███████▌  | 6803/8928 [03:55<01:17, 27.56it/s]\u001b[A\n",
            " 76%|███████▌  | 6806/8928 [03:55<01:16, 27.91it/s]\u001b[A\n",
            " 76%|███████▋  | 6809/8928 [03:55<01:15, 28.18it/s]\u001b[A\n",
            " 76%|███████▋  | 6812/8928 [03:56<01:15, 27.90it/s]\u001b[A\n",
            " 76%|███████▋  | 6815/8928 [03:56<01:16, 27.68it/s]\u001b[A\n",
            " 76%|███████▋  | 6818/8928 [03:56<01:15, 27.78it/s]\u001b[A\n",
            " 76%|███████▋  | 6821/8928 [03:56<01:15, 27.99it/s]\u001b[A\n",
            " 76%|███████▋  | 6824/8928 [03:56<01:16, 27.66it/s]\u001b[A\n",
            " 76%|███████▋  | 6827/8928 [03:56<01:17, 27.10it/s]\u001b[A\n",
            " 77%|███████▋  | 6830/8928 [03:56<01:15, 27.81it/s]\u001b[A\n",
            " 77%|███████▋  | 6833/8928 [03:56<01:14, 28.20it/s]\u001b[A\n",
            " 77%|███████▋  | 6836/8928 [03:56<01:13, 28.33it/s]\u001b[A\n",
            " 77%|███████▋  | 6839/8928 [03:56<01:12, 28.62it/s]\u001b[A\n",
            " 77%|███████▋  | 6842/8928 [03:57<01:12, 28.87it/s]\u001b[A\n",
            " 77%|███████▋  | 6846/8928 [03:57<01:10, 29.36it/s]\u001b[A\n",
            " 77%|███████▋  | 6849/8928 [03:57<01:11, 29.09it/s]\u001b[A\n",
            " 77%|███████▋  | 6853/8928 [03:57<01:10, 29.43it/s]\u001b[A\n",
            " 77%|███████▋  | 6856/8928 [03:57<01:10, 29.51it/s]\u001b[A\n",
            " 77%|███████▋  | 6860/8928 [03:57<01:09, 29.87it/s]\u001b[A\n",
            " 77%|███████▋  | 6863/8928 [03:57<01:11, 28.70it/s]\u001b[A\n",
            " 77%|███████▋  | 6866/8928 [03:57<01:12, 28.48it/s]\u001b[A\n",
            " 77%|███████▋  | 6869/8928 [03:58<01:12, 28.48it/s]\u001b[A\n",
            " 77%|███████▋  | 6872/8928 [03:58<01:12, 28.36it/s]\u001b[A\n",
            " 77%|███████▋  | 6875/8928 [03:58<01:12, 28.15it/s]\u001b[A\n",
            " 77%|███████▋  | 6878/8928 [03:58<01:13, 28.05it/s]\u001b[A\n",
            " 77%|███████▋  | 6881/8928 [03:58<01:12, 28.22it/s]\u001b[A\n",
            " 77%|███████▋  | 6884/8928 [03:58<01:13, 28.00it/s]\u001b[A\n",
            " 77%|███████▋  | 6887/8928 [03:58<01:12, 28.25it/s]\u001b[A\n",
            " 77%|███████▋  | 6891/8928 [03:58<01:09, 29.18it/s]\u001b[A\n",
            " 77%|███████▋  | 6894/8928 [03:58<01:11, 28.62it/s]\u001b[A\n",
            " 77%|███████▋  | 6897/8928 [03:59<01:11, 28.37it/s]\u001b[A\n",
            " 77%|███████▋  | 6901/8928 [03:59<01:09, 29.06it/s]\u001b[A\n",
            " 77%|███████▋  | 6904/8928 [03:59<01:10, 28.69it/s]\u001b[A\n",
            " 77%|███████▋  | 6908/8928 [03:59<01:08, 29.31it/s]\u001b[A\n",
            " 77%|███████▋  | 6911/8928 [03:59<01:08, 29.40it/s]\u001b[A\n",
            " 77%|███████▋  | 6915/8928 [03:59<01:07, 29.96it/s]\u001b[A\n",
            " 77%|███████▋  | 6919/8928 [03:59<01:07, 29.80it/s]\u001b[A\n",
            " 78%|███████▊  | 6922/8928 [03:59<01:08, 29.41it/s]\u001b[A\n",
            " 78%|███████▊  | 6925/8928 [03:59<01:09, 28.63it/s]\u001b[A\n",
            " 78%|███████▊  | 6928/8928 [04:00<01:10, 28.31it/s]\u001b[A\n",
            " 78%|███████▊  | 6931/8928 [04:00<01:09, 28.64it/s]\u001b[A\n",
            " 78%|███████▊  | 6934/8928 [04:00<01:10, 28.47it/s]\u001b[A\n",
            " 78%|███████▊  | 6938/8928 [04:00<01:08, 29.21it/s]\u001b[A\n",
            " 78%|███████▊  | 6941/8928 [04:00<01:08, 29.04it/s]\u001b[A\n",
            " 78%|███████▊  | 6944/8928 [04:00<01:09, 28.44it/s]\u001b[A\n",
            " 78%|███████▊  | 6948/8928 [04:00<01:07, 29.12it/s]\u001b[A\n",
            " 78%|███████▊  | 6951/8928 [04:00<01:08, 29.02it/s]\u001b[A\n",
            " 78%|███████▊  | 6954/8928 [04:00<01:09, 28.35it/s]\u001b[A\n",
            " 78%|███████▊  | 6957/8928 [04:01<01:10, 28.04it/s]\u001b[A\n",
            " 78%|███████▊  | 6960/8928 [04:01<01:10, 27.88it/s]\u001b[A\n",
            " 78%|███████▊  | 6963/8928 [04:01<01:11, 27.66it/s]\u001b[A\n",
            " 78%|███████▊  | 6966/8928 [04:01<01:11, 27.62it/s]\u001b[A\n",
            " 78%|███████▊  | 6969/8928 [04:01<01:12, 27.11it/s]\u001b[A\n",
            " 78%|███████▊  | 6972/8928 [04:01<01:11, 27.48it/s]\u001b[A\n",
            " 78%|███████▊  | 6976/8928 [04:01<01:08, 28.37it/s]\u001b[A\n",
            " 78%|███████▊  | 6979/8928 [04:01<01:08, 28.60it/s]\u001b[A\n",
            " 78%|███████▊  | 6982/8928 [04:01<01:09, 28.06it/s]\u001b[A\n",
            " 78%|███████▊  | 6985/8928 [04:02<01:09, 28.03it/s]\u001b[A\n",
            " 78%|███████▊  | 6988/8928 [04:02<01:09, 27.72it/s]\u001b[A\n",
            " 78%|███████▊  | 6991/8928 [04:02<01:09, 27.96it/s]\u001b[A\n",
            " 78%|███████▊  | 6994/8928 [04:02<01:09, 27.88it/s]\u001b[A\n",
            " 78%|███████▊  | 6997/8928 [04:02<01:09, 27.65it/s]\u001b[A\n",
            " 78%|███████▊  | 7000/8928 [04:02<01:08, 28.13it/s]\u001b[A\n",
            " 78%|███████▊  | 7003/8928 [04:02<01:07, 28.63it/s]\u001b[A\n",
            " 78%|███████▊  | 7007/8928 [04:02<01:05, 29.30it/s]\u001b[A\n",
            " 79%|███████▊  | 7010/8928 [04:02<01:05, 29.22it/s]\u001b[A\n",
            " 79%|███████▊  | 7013/8928 [04:03<01:05, 29.20it/s]\u001b[A\n",
            " 79%|███████▊  | 7016/8928 [04:03<01:05, 29.17it/s]\u001b[A\n",
            " 79%|███████▊  | 7019/8928 [04:03<01:07, 28.14it/s]\u001b[A\n",
            " 79%|███████▊  | 7022/8928 [04:03<01:08, 27.93it/s]\u001b[A\n",
            " 79%|███████▊  | 7025/8928 [04:03<01:08, 27.59it/s]\u001b[A\n",
            " 79%|███████▊  | 7028/8928 [04:03<01:07, 27.99it/s]\u001b[A\n",
            " 79%|███████▉  | 7031/8928 [04:03<01:07, 28.02it/s]\u001b[A\n",
            " 79%|███████▉  | 7034/8928 [04:03<01:07, 28.16it/s]\u001b[A\n",
            " 79%|███████▉  | 7037/8928 [04:03<01:06, 28.36it/s]\u001b[A\n",
            " 79%|███████▉  | 7040/8928 [04:04<01:07, 28.07it/s]\u001b[A\n",
            " 79%|███████▉  | 7043/8928 [04:04<01:07, 28.02it/s]\u001b[A\n",
            " 79%|███████▉  | 7046/8928 [04:04<01:05, 28.52it/s]\u001b[A\n",
            " 79%|███████▉  | 7049/8928 [04:04<01:07, 28.03it/s]\u001b[A\n",
            " 79%|███████▉  | 7052/8928 [04:04<01:07, 27.84it/s]\u001b[A\n",
            " 79%|███████▉  | 7056/8928 [04:04<01:05, 28.64it/s]\u001b[A\n",
            " 79%|███████▉  | 7059/8928 [04:04<01:05, 28.66it/s]\u001b[A\n",
            " 79%|███████▉  | 7062/8928 [04:04<01:06, 28.24it/s]\u001b[A\n",
            " 79%|███████▉  | 7065/8928 [04:04<01:06, 28.20it/s]\u001b[A\n",
            " 79%|███████▉  | 7068/8928 [04:04<01:05, 28.36it/s]\u001b[A\n",
            " 79%|███████▉  | 7071/8928 [04:05<01:06, 27.88it/s]\u001b[A\n",
            " 79%|███████▉  | 7074/8928 [04:05<01:05, 28.30it/s]\u001b[A\n",
            " 79%|███████▉  | 7077/8928 [04:05<01:06, 28.04it/s]\u001b[A\n",
            " 79%|███████▉  | 7080/8928 [04:05<01:06, 27.59it/s]\u001b[A\n",
            " 79%|███████▉  | 7083/8928 [04:05<01:06, 27.84it/s]\u001b[A\n",
            " 79%|███████▉  | 7086/8928 [04:05<01:06, 27.86it/s]\u001b[A\n",
            " 79%|███████▉  | 7089/8928 [04:05<01:07, 27.18it/s]\u001b[A\n",
            " 79%|███████▉  | 7092/8928 [04:05<01:06, 27.41it/s]\u001b[A\n",
            " 79%|███████▉  | 7095/8928 [04:05<01:05, 27.79it/s]\u001b[A\n",
            " 80%|███████▉  | 7098/8928 [04:06<01:05, 28.09it/s]\u001b[A\n",
            " 80%|███████▉  | 7101/8928 [04:06<01:05, 27.80it/s]\u001b[A\n",
            " 80%|███████▉  | 7104/8928 [04:06<01:07, 26.95it/s]\u001b[A\n",
            " 80%|███████▉  | 7107/8928 [04:06<01:07, 26.87it/s]\u001b[A\n",
            " 80%|███████▉  | 7110/8928 [04:06<01:06, 27.26it/s]\u001b[A\n",
            " 80%|███████▉  | 7113/8928 [04:06<01:06, 27.45it/s]\u001b[A\n",
            " 80%|███████▉  | 7116/8928 [04:06<01:04, 28.08it/s]\u001b[A\n",
            " 80%|███████▉  | 7119/8928 [04:06<01:04, 27.88it/s]\u001b[A\n",
            " 80%|███████▉  | 7122/8928 [04:06<01:04, 28.22it/s]\u001b[A\n",
            " 80%|███████▉  | 7125/8928 [04:07<01:03, 28.31it/s]\u001b[A\n",
            " 80%|███████▉  | 7128/8928 [04:07<01:03, 28.29it/s]\u001b[A\n",
            " 80%|███████▉  | 7131/8928 [04:07<01:04, 27.78it/s]\u001b[A\n",
            " 80%|███████▉  | 7135/8928 [04:07<01:02, 28.69it/s]\u001b[A\n",
            " 80%|███████▉  | 7138/8928 [04:07<01:02, 28.61it/s]\u001b[A\n",
            " 80%|███████▉  | 7141/8928 [04:07<01:02, 28.72it/s]\u001b[A\n",
            " 80%|████████  | 7144/8928 [04:07<01:02, 28.58it/s]\u001b[A\n",
            " 80%|████████  | 7147/8928 [04:07<01:02, 28.64it/s]\u001b[A\n",
            " 80%|████████  | 7150/8928 [04:07<01:03, 28.17it/s]\u001b[A\n",
            " 80%|████████  | 7153/8928 [04:08<01:04, 27.57it/s]\u001b[A\n",
            " 80%|████████  | 7156/8928 [04:08<01:04, 27.52it/s]\u001b[A\n",
            " 80%|████████  | 7159/8928 [04:08<01:03, 27.88it/s]\u001b[A\n",
            " 80%|████████  | 7162/8928 [04:08<01:02, 28.47it/s]\u001b[A\n",
            " 80%|████████  | 7165/8928 [04:08<01:01, 28.74it/s]\u001b[A\n",
            " 80%|████████  | 7168/8928 [04:08<01:00, 28.97it/s]\u001b[A\n",
            " 80%|████████  | 7171/8928 [04:08<01:01, 28.76it/s]\u001b[A\n",
            " 80%|████████  | 7174/8928 [04:08<01:01, 28.67it/s]\u001b[A\n",
            " 80%|████████  | 7177/8928 [04:08<01:02, 28.04it/s]\u001b[A\n",
            " 80%|████████  | 7180/8928 [04:08<01:03, 27.72it/s]\u001b[A\n",
            " 80%|████████  | 7183/8928 [04:09<01:02, 27.95it/s]\u001b[A\n",
            " 80%|████████  | 7186/8928 [04:09<01:02, 28.07it/s]\u001b[A\n",
            " 81%|████████  | 7189/8928 [04:09<01:01, 28.13it/s]\u001b[A\n",
            " 81%|████████  | 7192/8928 [04:09<01:01, 28.43it/s]\u001b[A\n",
            " 81%|████████  | 7195/8928 [04:09<01:01, 28.40it/s]\u001b[A\n",
            " 81%|████████  | 7198/8928 [04:09<01:01, 27.99it/s]\u001b[A\n",
            " 81%|████████  | 7201/8928 [04:09<01:01, 28.28it/s]\u001b[A\n",
            " 81%|████████  | 7204/8928 [04:09<01:02, 27.40it/s]\u001b[A\n",
            " 81%|████████  | 7207/8928 [04:09<01:03, 26.95it/s]\u001b[A\n",
            " 81%|████████  | 7210/8928 [04:10<01:03, 26.88it/s]\u001b[A\n",
            " 81%|████████  | 7213/8928 [04:10<01:02, 27.58it/s]\u001b[A\n",
            " 81%|████████  | 7216/8928 [04:10<01:02, 27.41it/s]\u001b[A\n",
            " 81%|████████  | 7220/8928 [04:10<01:00, 28.39it/s]\u001b[A\n",
            " 81%|████████  | 7224/8928 [04:10<00:58, 28.97it/s]\u001b[A\n",
            " 81%|████████  | 7227/8928 [04:10<01:00, 28.27it/s]\u001b[A\n",
            " 81%|████████  | 7230/8928 [04:10<00:59, 28.39it/s]\u001b[A\n",
            " 81%|████████  | 7233/8928 [04:10<01:00, 27.97it/s]\u001b[A\n",
            " 81%|████████  | 7236/8928 [04:10<01:00, 27.92it/s]\u001b[A\n",
            " 81%|████████  | 7239/8928 [04:11<01:00, 27.95it/s]\u001b[A\n",
            " 81%|████████  | 7242/8928 [04:11<00:59, 28.30it/s]\u001b[A\n",
            " 81%|████████  | 7245/8928 [04:11<01:00, 27.77it/s]\u001b[A\n",
            " 81%|████████  | 7249/8928 [04:11<00:58, 28.83it/s]\u001b[A\n",
            " 81%|████████  | 7253/8928 [04:11<00:56, 29.41it/s]\u001b[A\n",
            " 81%|████████▏ | 7256/8928 [04:11<00:56, 29.37it/s]\u001b[A\n",
            " 81%|████████▏ | 7260/8928 [04:11<00:55, 29.85it/s]\u001b[A\n",
            " 81%|████████▏ | 7263/8928 [04:11<00:55, 29.86it/s]\u001b[A\n",
            " 81%|████████▏ | 7266/8928 [04:12<00:57, 28.68it/s]\u001b[A\n",
            " 81%|████████▏ | 7269/8928 [04:12<00:57, 28.88it/s]\u001b[A\n",
            " 81%|████████▏ | 7272/8928 [04:12<00:57, 28.57it/s]\u001b[A\n",
            " 81%|████████▏ | 7275/8928 [04:12<00:58, 28.10it/s]\u001b[A\n",
            " 82%|████████▏ | 7278/8928 [04:12<00:57, 28.46it/s]\u001b[A\n",
            " 82%|████████▏ | 7281/8928 [04:12<00:58, 28.01it/s]\u001b[A\n",
            " 82%|████████▏ | 7284/8928 [04:12<00:58, 28.30it/s]\u001b[A\n",
            " 82%|████████▏ | 7287/8928 [04:12<00:57, 28.59it/s]\u001b[A\n",
            " 82%|████████▏ | 7290/8928 [04:12<00:56, 28.79it/s]\u001b[A\n",
            " 82%|████████▏ | 7293/8928 [04:12<00:58, 28.08it/s]\u001b[A\n",
            " 82%|████████▏ | 7296/8928 [04:13<00:58, 27.75it/s]\u001b[A\n",
            " 82%|████████▏ | 7299/8928 [04:13<00:58, 27.77it/s]\u001b[A\n",
            " 82%|████████▏ | 7302/8928 [04:13<00:58, 27.85it/s]\u001b[A\n",
            " 82%|████████▏ | 7306/8928 [04:13<00:56, 28.73it/s]\u001b[A\n",
            " 82%|████████▏ | 7310/8928 [04:13<00:55, 29.42it/s]\u001b[A\n",
            " 82%|████████▏ | 7313/8928 [04:13<00:54, 29.43it/s]\u001b[A\n",
            " 82%|████████▏ | 7317/8928 [04:13<00:53, 29.90it/s]\u001b[A\n",
            " 82%|████████▏ | 7320/8928 [04:13<00:54, 29.26it/s]\u001b[A\n",
            " 82%|████████▏ | 7323/8928 [04:13<00:54, 29.46it/s]\u001b[A\n",
            " 82%|████████▏ | 7326/8928 [04:14<00:55, 29.07it/s]\u001b[A\n",
            " 82%|████████▏ | 7329/8928 [04:14<00:55, 28.68it/s]\u001b[A\n",
            " 82%|████████▏ | 7332/8928 [04:14<00:56, 28.17it/s]\u001b[A\n",
            " 82%|████████▏ | 7336/8928 [04:14<00:54, 29.15it/s]\u001b[A\n",
            " 82%|████████▏ | 7339/8928 [04:14<00:54, 29.08it/s]\u001b[A\n",
            " 82%|████████▏ | 7342/8928 [04:14<00:54, 29.26it/s]\u001b[A\n",
            " 82%|████████▏ | 7345/8928 [04:14<00:54, 28.95it/s]\u001b[A\n",
            " 82%|████████▏ | 7348/8928 [04:14<00:54, 29.04it/s]\u001b[A\n",
            " 82%|████████▏ | 7351/8928 [04:14<00:54, 29.00it/s]\u001b[A\n",
            " 82%|████████▏ | 7354/8928 [04:15<00:54, 29.00it/s]\u001b[A\n",
            " 82%|████████▏ | 7357/8928 [04:15<00:54, 28.69it/s]\u001b[A\n",
            " 82%|████████▏ | 7360/8928 [04:15<00:55, 28.17it/s]\u001b[A\n",
            " 82%|████████▏ | 7363/8928 [04:15<00:56, 27.69it/s]\u001b[A\n",
            " 83%|████████▎ | 7366/8928 [04:15<00:57, 27.36it/s]\u001b[A\n",
            " 83%|████████▎ | 7369/8928 [04:15<00:57, 27.23it/s]\u001b[A\n",
            " 83%|████████▎ | 7372/8928 [04:15<00:56, 27.79it/s]\u001b[A\n",
            " 83%|████████▎ | 7375/8928 [04:15<00:54, 28.36it/s]\u001b[A\n",
            " 83%|████████▎ | 7378/8928 [04:15<00:56, 27.63it/s]\u001b[A\n",
            " 83%|████████▎ | 7381/8928 [04:16<00:56, 27.22it/s]\u001b[A\n",
            " 83%|████████▎ | 7384/8928 [04:16<00:56, 27.17it/s]\u001b[A\n",
            " 83%|████████▎ | 7387/8928 [04:16<00:56, 27.39it/s]\u001b[A\n",
            " 83%|████████▎ | 7390/8928 [04:16<00:56, 27.44it/s]\u001b[A\n",
            " 83%|████████▎ | 7393/8928 [04:16<00:54, 27.94it/s]\u001b[A\n",
            " 83%|████████▎ | 7396/8928 [04:16<00:54, 28.24it/s]\u001b[A\n",
            " 83%|████████▎ | 7399/8928 [04:16<00:54, 28.19it/s]\u001b[A\n",
            " 83%|████████▎ | 7402/8928 [04:16<00:55, 27.58it/s]\u001b[A\n",
            " 83%|████████▎ | 7405/8928 [04:16<00:55, 27.55it/s]\u001b[A\n",
            " 83%|████████▎ | 7408/8928 [04:17<00:56, 27.08it/s]\u001b[A\n",
            " 83%|████████▎ | 7411/8928 [04:17<00:55, 27.34it/s]\u001b[A\n",
            " 83%|████████▎ | 7414/8928 [04:17<00:54, 27.57it/s]\u001b[A\n",
            " 83%|████████▎ | 7417/8928 [04:17<00:54, 27.88it/s]\u001b[A\n",
            " 83%|████████▎ | 7420/8928 [04:17<00:53, 28.31it/s]\u001b[A\n",
            " 83%|████████▎ | 7423/8928 [04:17<00:54, 27.78it/s]\u001b[A\n",
            " 83%|████████▎ | 7426/8928 [04:17<00:53, 27.88it/s]\u001b[A\n",
            " 83%|████████▎ | 7429/8928 [04:17<00:53, 27.89it/s]\u001b[A\n",
            " 83%|████████▎ | 7432/8928 [04:17<00:55, 26.91it/s]\u001b[A\n",
            " 83%|████████▎ | 7435/8928 [04:18<00:56, 26.51it/s]\u001b[A\n",
            " 83%|████████▎ | 7438/8928 [04:18<00:56, 26.47it/s]\u001b[A\n",
            " 83%|████████▎ | 7441/8928 [04:18<00:56, 26.26it/s]\u001b[A\n",
            " 83%|████████▎ | 7444/8928 [04:18<00:56, 26.32it/s]\u001b[A\n",
            " 83%|████████▎ | 7447/8928 [04:18<00:56, 26.41it/s]\u001b[A\n",
            " 83%|████████▎ | 7450/8928 [04:18<00:54, 26.90it/s]\u001b[A\n",
            " 83%|████████▎ | 7453/8928 [04:18<00:54, 26.99it/s]\u001b[A\n",
            " 84%|████████▎ | 7456/8928 [04:18<00:54, 27.21it/s]\u001b[A\n",
            " 84%|████████▎ | 7459/8928 [04:18<00:55, 26.60it/s]\u001b[A\n",
            " 84%|████████▎ | 7462/8928 [04:19<00:54, 26.81it/s]\u001b[A\n",
            " 84%|████████▎ | 7465/8928 [04:19<00:54, 26.61it/s]\u001b[A\n",
            " 84%|████████▎ | 7468/8928 [04:19<00:54, 26.96it/s]\u001b[A\n",
            " 84%|████████▎ | 7471/8928 [04:19<00:54, 26.88it/s]\u001b[A\n",
            " 84%|████████▎ | 7474/8928 [04:19<00:53, 27.20it/s]\u001b[A\n",
            " 84%|████████▎ | 7477/8928 [04:19<00:51, 27.93it/s]\u001b[A\n",
            " 84%|████████▍ | 7481/8928 [04:19<00:50, 28.73it/s]\u001b[A\n",
            " 84%|████████▍ | 7484/8928 [04:19<00:51, 28.23it/s]\u001b[A\n",
            " 84%|████████▍ | 7487/8928 [04:19<00:53, 27.04it/s]\u001b[A\n",
            " 84%|████████▍ | 7490/8928 [04:20<00:52, 27.46it/s]\u001b[A\n",
            " 84%|████████▍ | 7493/8928 [04:20<00:51, 28.06it/s]\u001b[A\n",
            " 84%|████████▍ | 7496/8928 [04:20<00:50, 28.47it/s]\u001b[A\n",
            " 84%|████████▍ | 7499/8928 [04:20<00:50, 28.49it/s]\u001b[A\n",
            " 84%|████████▍ | 7502/8928 [04:20<00:49, 28.59it/s]\u001b[A\n",
            " 84%|████████▍ | 7505/8928 [04:20<00:49, 28.57it/s]\u001b[A\n",
            " 84%|████████▍ | 7509/8928 [04:20<00:48, 29.23it/s]\u001b[A\n",
            " 84%|████████▍ | 7512/8928 [04:20<00:49, 28.56it/s]\u001b[A\n",
            " 84%|████████▍ | 7515/8928 [04:20<00:49, 28.66it/s]\u001b[A\n",
            " 84%|████████▍ | 7518/8928 [04:21<00:48, 28.82it/s]\u001b[A\n",
            " 84%|████████▍ | 7521/8928 [04:21<00:48, 28.75it/s]\u001b[A\n",
            " 84%|████████▍ | 7524/8928 [04:21<00:48, 28.87it/s]\u001b[A\n",
            " 84%|████████▍ | 7527/8928 [04:21<00:48, 28.60it/s]\u001b[A\n",
            " 84%|████████▍ | 7530/8928 [04:21<00:48, 28.97it/s]\u001b[A\n",
            " 84%|████████▍ | 7533/8928 [04:21<00:48, 28.86it/s]\u001b[A\n",
            " 84%|████████▍ | 7536/8928 [04:21<00:47, 29.06it/s]\u001b[A\n",
            " 84%|████████▍ | 7539/8928 [04:21<00:47, 29.26it/s]\u001b[A\n",
            " 84%|████████▍ | 7542/8928 [04:21<00:48, 28.80it/s]\u001b[A\n",
            " 85%|████████▍ | 7545/8928 [04:21<00:48, 28.65it/s]\u001b[A\n",
            " 85%|████████▍ | 7548/8928 [04:22<00:48, 28.36it/s]\u001b[A\n",
            " 85%|████████▍ | 7551/8928 [04:22<00:49, 28.10it/s]\u001b[A\n",
            " 85%|████████▍ | 7554/8928 [04:22<00:48, 28.41it/s]\u001b[A\n",
            " 85%|████████▍ | 7558/8928 [04:22<00:46, 29.25it/s]\u001b[A\n",
            " 85%|████████▍ | 7561/8928 [04:22<00:47, 28.69it/s]\u001b[A\n",
            " 85%|████████▍ | 7565/8928 [04:22<00:46, 29.48it/s]\u001b[A\n",
            " 85%|████████▍ | 7568/8928 [04:22<00:47, 28.83it/s]\u001b[A\n",
            " 85%|████████▍ | 7571/8928 [04:22<00:48, 28.01it/s]\u001b[A\n",
            " 85%|████████▍ | 7574/8928 [04:22<00:47, 28.42it/s]\u001b[A\n",
            " 85%|████████▍ | 7577/8928 [04:23<00:48, 27.59it/s]\u001b[A\n",
            " 85%|████████▍ | 7580/8928 [04:23<00:48, 27.76it/s]\u001b[A\n",
            " 85%|████████▍ | 7583/8928 [04:23<00:48, 27.95it/s]\u001b[A\n",
            " 85%|████████▍ | 7586/8928 [04:23<00:47, 28.20it/s]\u001b[A\n",
            " 85%|████████▌ | 7589/8928 [04:23<00:46, 28.69it/s]\u001b[A\n",
            " 85%|████████▌ | 7593/8928 [04:23<00:45, 29.39it/s]\u001b[A\n",
            " 85%|████████▌ | 7596/8928 [04:23<00:45, 29.42it/s]\u001b[A\n",
            " 85%|████████▌ | 7599/8928 [04:23<00:46, 28.43it/s]\u001b[A\n",
            " 85%|████████▌ | 7602/8928 [04:23<00:45, 28.85it/s]\u001b[A\n",
            " 85%|████████▌ | 7605/8928 [04:24<00:45, 29.02it/s]\u001b[A\n",
            " 85%|████████▌ | 7609/8928 [04:24<00:44, 29.43it/s]\u001b[A\n",
            " 85%|████████▌ | 7612/8928 [04:24<00:44, 29.29it/s]\u001b[A\n",
            " 85%|████████▌ | 7615/8928 [04:24<00:44, 29.23it/s]\u001b[A\n",
            " 85%|████████▌ | 7618/8928 [04:24<00:44, 29.20it/s]\u001b[A\n",
            " 85%|████████▌ | 7622/8928 [04:24<00:43, 29.92it/s]\u001b[A\n",
            " 85%|████████▌ | 7625/8928 [04:24<00:45, 28.64it/s]\u001b[A\n",
            " 85%|████████▌ | 7628/8928 [04:24<00:44, 28.90it/s]\u001b[A\n",
            " 85%|████████▌ | 7631/8928 [04:24<00:46, 28.00it/s]\u001b[A\n",
            " 86%|████████▌ | 7634/8928 [04:25<00:46, 27.64it/s]\u001b[A\n",
            " 86%|████████▌ | 7637/8928 [04:25<00:47, 27.47it/s]\u001b[A\n",
            " 86%|████████▌ | 7640/8928 [04:25<00:46, 27.81it/s]\u001b[A\n",
            " 86%|████████▌ | 7643/8928 [04:25<00:45, 28.17it/s]\u001b[A\n",
            " 86%|████████▌ | 7646/8928 [04:25<00:45, 27.88it/s]\u001b[A\n",
            " 86%|████████▌ | 7649/8928 [04:25<00:45, 28.20it/s]\u001b[A\n",
            " 86%|████████▌ | 7652/8928 [04:25<00:44, 28.58it/s]\u001b[A\n",
            " 86%|████████▌ | 7655/8928 [04:25<00:44, 28.37it/s]\u001b[A\n",
            " 86%|████████▌ | 7658/8928 [04:25<00:46, 27.44it/s]\u001b[A\n",
            " 86%|████████▌ | 7661/8928 [04:26<00:47, 26.81it/s]\u001b[A\n",
            " 86%|████████▌ | 7664/8928 [04:26<00:47, 26.41it/s]\u001b[A\n",
            " 86%|████████▌ | 7667/8928 [04:26<00:47, 26.41it/s]\u001b[A\n",
            " 86%|████████▌ | 7670/8928 [04:26<00:46, 26.78it/s]\u001b[A\n",
            " 86%|████████▌ | 7673/8928 [04:26<00:46, 27.06it/s]\u001b[A\n",
            " 86%|████████▌ | 7676/8928 [04:26<00:45, 27.41it/s]\u001b[A\n",
            " 86%|████████▌ | 7679/8928 [04:26<00:44, 27.93it/s]\u001b[A\n",
            " 86%|████████▌ | 7682/8928 [04:26<00:44, 27.79it/s]\u001b[A\n",
            " 86%|████████▌ | 7685/8928 [04:26<00:44, 27.95it/s]\u001b[A\n",
            " 86%|████████▌ | 7688/8928 [04:26<00:43, 28.40it/s]\u001b[A\n",
            " 86%|████████▌ | 7692/8928 [04:27<00:42, 29.11it/s]\u001b[A\n",
            " 86%|████████▌ | 7695/8928 [04:27<00:43, 28.36it/s]\u001b[A\n",
            " 86%|████████▌ | 7698/8928 [04:27<00:42, 28.66it/s]\u001b[A\n",
            " 86%|████████▋ | 7702/8928 [04:27<00:41, 29.45it/s]\u001b[A\n",
            " 86%|████████▋ | 7705/8928 [04:27<00:42, 28.90it/s]\u001b[A\n",
            " 86%|████████▋ | 7708/8928 [04:27<00:42, 28.57it/s]\u001b[A\n",
            " 86%|████████▋ | 7711/8928 [04:27<00:42, 28.39it/s]\u001b[A\n",
            " 86%|████████▋ | 7714/8928 [04:27<00:43, 27.61it/s]\u001b[A\n",
            " 86%|████████▋ | 7717/8928 [04:28<00:44, 27.16it/s]\u001b[A\n",
            " 86%|████████▋ | 7721/8928 [04:28<00:42, 28.26it/s]\u001b[A\n",
            " 87%|████████▋ | 7724/8928 [04:28<00:42, 28.63it/s]\u001b[A\n",
            " 87%|████████▋ | 7728/8928 [04:28<00:41, 29.20it/s]\u001b[A\n",
            " 87%|████████▋ | 7731/8928 [04:28<00:40, 29.31it/s]\u001b[A\n",
            " 87%|████████▋ | 7735/8928 [04:28<00:39, 30.14it/s]\u001b[A\n",
            " 87%|████████▋ | 7739/8928 [04:28<00:39, 30.39it/s]\u001b[A\n",
            " 87%|████████▋ | 7743/8928 [04:28<00:38, 30.59it/s]\u001b[A\n",
            " 87%|████████▋ | 7747/8928 [04:28<00:39, 29.91it/s]\u001b[A\n",
            " 87%|████████▋ | 7750/8928 [04:29<00:39, 29.89it/s]\u001b[A\n",
            " 87%|████████▋ | 7753/8928 [04:29<00:40, 29.06it/s]\u001b[A\n",
            " 87%|████████▋ | 7756/8928 [04:29<00:40, 28.87it/s]\u001b[A\n",
            " 87%|████████▋ | 7759/8928 [04:29<00:40, 28.75it/s]\u001b[A\n",
            " 87%|████████▋ | 7763/8928 [04:29<00:39, 29.38it/s]\u001b[A\n",
            " 87%|████████▋ | 7767/8928 [04:29<00:38, 29.97it/s]\u001b[A\n",
            " 87%|████████▋ | 7771/8928 [04:29<00:39, 29.53it/s]\u001b[A\n",
            " 87%|████████▋ | 7774/8928 [04:29<00:39, 29.09it/s]\u001b[A\n",
            " 87%|████████▋ | 7777/8928 [04:30<00:40, 28.24it/s]\u001b[A\n",
            " 87%|████████▋ | 7780/8928 [04:30<00:41, 27.97it/s]\u001b[A\n",
            " 87%|████████▋ | 7783/8928 [04:30<00:41, 27.35it/s]\u001b[A\n",
            " 87%|████████▋ | 7787/8928 [04:30<00:40, 28.49it/s]\u001b[A\n",
            " 87%|████████▋ | 7790/8928 [04:30<00:39, 28.49it/s]\u001b[A\n",
            " 87%|████████▋ | 7793/8928 [04:30<00:40, 27.92it/s]\u001b[A\n",
            " 87%|████████▋ | 7796/8928 [04:30<00:39, 28.33it/s]\u001b[A\n",
            " 87%|████████▋ | 7799/8928 [04:30<00:39, 28.39it/s]\u001b[A\n",
            " 87%|████████▋ | 7802/8928 [04:30<00:39, 28.78it/s]\u001b[A\n",
            " 87%|████████▋ | 7805/8928 [04:31<00:39, 28.58it/s]\u001b[A\n",
            " 87%|████████▋ | 7808/8928 [04:31<00:39, 28.64it/s]\u001b[A\n",
            " 87%|████████▋ | 7811/8928 [04:31<00:38, 28.73it/s]\u001b[A\n",
            " 88%|████████▊ | 7814/8928 [04:31<00:38, 28.96it/s]\u001b[A\n",
            " 88%|████████▊ | 7817/8928 [04:31<00:38, 28.51it/s]\u001b[A\n",
            " 88%|████████▊ | 7820/8928 [04:31<00:38, 28.70it/s]\u001b[A\n",
            " 88%|████████▊ | 7823/8928 [04:31<00:38, 29.07it/s]\u001b[A\n",
            " 88%|████████▊ | 7826/8928 [04:31<00:38, 28.80it/s]\u001b[A\n",
            " 88%|████████▊ | 7829/8928 [04:31<00:39, 28.17it/s]\u001b[A\n",
            " 88%|████████▊ | 7832/8928 [04:31<00:38, 28.43it/s]\u001b[A\n",
            " 88%|████████▊ | 7835/8928 [04:32<00:38, 28.26it/s]\u001b[A\n",
            " 88%|████████▊ | 7838/8928 [04:32<00:39, 27.61it/s]\u001b[A\n",
            " 88%|████████▊ | 7841/8928 [04:32<00:38, 28.17it/s]\u001b[A\n",
            " 88%|████████▊ | 7845/8928 [04:32<00:37, 28.91it/s]\u001b[A\n",
            " 88%|████████▊ | 7848/8928 [04:32<00:37, 28.96it/s]\u001b[A\n",
            " 88%|████████▊ | 7852/8928 [04:32<00:36, 29.63it/s]\u001b[A\n",
            " 88%|████████▊ | 7855/8928 [04:32<00:36, 29.32it/s]\u001b[A\n",
            " 88%|████████▊ | 7858/8928 [04:32<00:37, 28.78it/s]\u001b[A\n",
            " 88%|████████▊ | 7861/8928 [04:32<00:36, 28.96it/s]\u001b[A\n",
            " 88%|████████▊ | 7864/8928 [04:33<00:36, 29.26it/s]\u001b[A\n",
            " 88%|████████▊ | 7867/8928 [04:33<00:36, 28.78it/s]\u001b[A\n",
            " 88%|████████▊ | 7870/8928 [04:33<00:37, 28.48it/s]\u001b[A\n",
            " 88%|████████▊ | 7874/8928 [04:33<00:36, 29.16it/s]\u001b[A\n",
            " 88%|████████▊ | 7877/8928 [04:33<00:36, 29.13it/s]\u001b[A\n",
            " 88%|████████▊ | 7880/8928 [04:33<00:35, 29.14it/s]\u001b[A\n",
            " 88%|████████▊ | 7883/8928 [04:33<00:36, 28.75it/s]\u001b[A\n",
            " 88%|████████▊ | 7886/8928 [04:33<00:36, 28.54it/s]\u001b[A\n",
            " 88%|████████▊ | 7889/8928 [04:33<00:36, 28.53it/s]\u001b[A\n",
            " 88%|████████▊ | 7892/8928 [04:34<00:36, 28.24it/s]\u001b[A\n",
            " 88%|████████▊ | 7895/8928 [04:34<00:36, 28.49it/s]\u001b[A\n",
            " 88%|████████▊ | 7898/8928 [04:34<00:36, 28.49it/s]\u001b[A\n",
            " 88%|████████▊ | 7901/8928 [04:34<00:35, 28.69it/s]\u001b[A\n",
            " 89%|████████▊ | 7904/8928 [04:34<00:35, 28.66it/s]\u001b[A\n",
            " 89%|████████▊ | 7907/8928 [04:34<00:35, 28.91it/s]\u001b[A\n",
            " 89%|████████▊ | 7910/8928 [04:34<00:36, 28.14it/s]\u001b[A\n",
            " 89%|████████▊ | 7913/8928 [04:34<00:35, 28.31it/s]\u001b[A\n",
            " 89%|████████▊ | 7916/8928 [04:34<00:36, 27.99it/s]\u001b[A\n",
            " 89%|████████▊ | 7919/8928 [04:34<00:36, 27.76it/s]\u001b[A\n",
            " 89%|████████▊ | 7922/8928 [04:35<00:35, 28.18it/s]\u001b[A\n",
            " 89%|████████▉ | 7925/8928 [04:35<00:36, 27.62it/s]\u001b[A\n",
            " 89%|████████▉ | 7928/8928 [04:35<00:36, 27.17it/s]\u001b[A\n",
            " 89%|████████▉ | 7931/8928 [04:35<00:36, 27.43it/s]\u001b[A\n",
            " 89%|████████▉ | 7934/8928 [04:35<00:36, 27.24it/s]\u001b[A\n",
            " 89%|████████▉ | 7937/8928 [04:35<00:36, 27.41it/s]\u001b[A\n",
            " 89%|████████▉ | 7940/8928 [04:35<00:35, 27.72it/s]\u001b[A\n",
            " 89%|████████▉ | 7943/8928 [04:35<00:35, 27.80it/s]\u001b[A\n",
            " 89%|████████▉ | 7946/8928 [04:35<00:35, 28.03it/s]\u001b[A\n",
            " 89%|████████▉ | 7949/8928 [04:36<00:34, 28.39it/s]\u001b[A\n",
            " 89%|████████▉ | 7953/8928 [04:36<00:33, 29.15it/s]\u001b[A\n",
            " 89%|████████▉ | 7956/8928 [04:36<00:33, 29.19it/s]\u001b[A\n",
            " 89%|████████▉ | 7959/8928 [04:36<00:33, 28.93it/s]\u001b[A\n",
            " 89%|████████▉ | 7963/8928 [04:36<00:32, 29.61it/s]\u001b[A\n",
            " 89%|████████▉ | 7966/8928 [04:36<00:33, 29.14it/s]\u001b[A\n",
            " 89%|████████▉ | 7969/8928 [04:36<00:32, 29.25it/s]\u001b[A\n",
            " 89%|████████▉ | 7972/8928 [04:36<00:32, 29.06it/s]\u001b[A\n",
            " 89%|████████▉ | 7975/8928 [04:36<00:32, 29.11it/s]\u001b[A\n",
            " 89%|████████▉ | 7978/8928 [04:37<00:32, 29.05it/s]\u001b[A\n",
            " 89%|████████▉ | 7981/8928 [04:37<00:32, 28.93it/s]\u001b[A\n",
            " 89%|████████▉ | 7984/8928 [04:37<00:32, 28.86it/s]\u001b[A\n",
            " 89%|████████▉ | 7987/8928 [04:37<00:32, 28.67it/s]\u001b[A\n",
            " 89%|████████▉ | 7990/8928 [04:37<00:33, 28.03it/s]\u001b[A\n",
            " 90%|████████▉ | 7994/8928 [04:37<00:32, 28.99it/s]\u001b[A\n",
            " 90%|████████▉ | 7997/8928 [04:37<00:32, 28.99it/s]\u001b[A\n",
            " 90%|████████▉ | 8000/8928 [04:37<00:32, 28.20it/s]\u001b[A\n",
            " 90%|████████▉ | 8003/8928 [04:37<00:33, 27.98it/s]\u001b[A\n",
            " 90%|████████▉ | 8006/8928 [04:38<00:32, 28.07it/s]\u001b[A\n",
            " 90%|████████▉ | 8010/8928 [04:38<00:31, 28.99it/s]\u001b[A\n",
            " 90%|████████▉ | 8013/8928 [04:38<00:32, 28.37it/s]\u001b[A\n",
            " 90%|████████▉ | 8016/8928 [04:38<00:32, 28.48it/s]\u001b[A\n",
            " 90%|████████▉ | 8019/8928 [04:38<00:32, 28.04it/s]\u001b[A\n",
            " 90%|████████▉ | 8022/8928 [04:38<00:31, 28.35it/s]\u001b[A\n",
            " 90%|████████▉ | 8025/8928 [04:38<00:32, 27.86it/s]\u001b[A\n",
            " 90%|████████▉ | 8028/8928 [04:38<00:31, 28.45it/s]\u001b[A\n",
            " 90%|████████▉ | 8031/8928 [04:38<00:31, 28.21it/s]\u001b[A\n",
            " 90%|████████▉ | 8034/8928 [04:39<00:31, 28.15it/s]\u001b[A\n",
            " 90%|█████████ | 8037/8928 [04:39<00:31, 28.39it/s]\u001b[A\n",
            " 90%|█████████ | 8040/8928 [04:39<00:31, 28.38it/s]\u001b[A\n",
            " 90%|█████████ | 8043/8928 [04:39<00:31, 28.22it/s]\u001b[A\n",
            " 90%|█████████ | 8046/8928 [04:39<00:30, 28.58it/s]\u001b[A\n",
            " 90%|█████████ | 8049/8928 [04:39<00:31, 28.35it/s]\u001b[A\n",
            " 90%|█████████ | 8052/8928 [04:39<00:30, 28.77it/s]\u001b[A\n",
            " 90%|█████████ | 8055/8928 [04:39<00:30, 29.08it/s]\u001b[A\n",
            " 90%|█████████ | 8058/8928 [04:39<00:30, 28.32it/s]\u001b[A\n",
            " 90%|█████████ | 8061/8928 [04:39<00:30, 28.39it/s]\u001b[A\n",
            " 90%|█████████ | 8064/8928 [04:40<00:30, 28.71it/s]\u001b[A\n",
            " 90%|█████████ | 8067/8928 [04:40<00:29, 28.81it/s]\u001b[A\n",
            " 90%|█████████ | 8070/8928 [04:40<00:29, 28.71it/s]\u001b[A\n",
            " 90%|█████████ | 8074/8928 [04:40<00:28, 29.54it/s]\u001b[A\n",
            " 90%|█████████ | 8077/8928 [04:40<00:28, 29.43it/s]\u001b[A\n",
            " 91%|█████████ | 8080/8928 [04:40<00:29, 28.76it/s]\u001b[A\n",
            " 91%|█████████ | 8083/8928 [04:40<00:29, 28.72it/s]\u001b[A\n",
            " 91%|█████████ | 8086/8928 [04:40<00:29, 28.75it/s]\u001b[A\n",
            " 91%|█████████ | 8089/8928 [04:40<00:29, 28.82it/s]\u001b[A\n",
            " 91%|█████████ | 8092/8928 [04:41<00:29, 28.68it/s]\u001b[A\n",
            " 91%|█████████ | 8095/8928 [04:41<00:29, 27.96it/s]\u001b[A\n",
            " 91%|█████████ | 8098/8928 [04:41<00:30, 27.43it/s]\u001b[A\n",
            " 91%|█████████ | 8101/8928 [04:41<00:30, 27.40it/s]\u001b[A\n",
            " 91%|█████████ | 8105/8928 [04:41<00:28, 28.46it/s]\u001b[A\n",
            " 91%|█████████ | 8108/8928 [04:41<00:29, 28.03it/s]\u001b[A\n",
            " 91%|█████████ | 8111/8928 [04:41<00:28, 28.25it/s]\u001b[A\n",
            " 91%|█████████ | 8114/8928 [04:41<00:28, 28.71it/s]\u001b[A\n",
            " 91%|█████████ | 8117/8928 [04:41<00:28, 28.96it/s]\u001b[A\n",
            " 91%|█████████ | 8120/8928 [04:42<00:28, 28.63it/s]\u001b[A\n",
            " 91%|█████████ | 8123/8928 [04:42<00:28, 28.74it/s]\u001b[A\n",
            " 91%|█████████ | 8127/8928 [04:42<00:27, 29.50it/s]\u001b[A\n",
            " 91%|█████████ | 8130/8928 [04:42<00:27, 29.40it/s]\u001b[A\n",
            " 91%|█████████ | 8134/8928 [04:42<00:26, 29.83it/s]\u001b[A\n",
            " 91%|█████████ | 8137/8928 [04:42<00:26, 29.80it/s]\u001b[A\n",
            " 91%|█████████ | 8140/8928 [04:42<00:26, 29.69it/s]\u001b[A\n",
            " 91%|█████████ | 8143/8928 [04:42<00:26, 29.38it/s]\u001b[A\n",
            " 91%|█████████ | 8146/8928 [04:42<00:27, 28.76it/s]\u001b[A\n",
            " 91%|█████████▏| 8149/8928 [04:43<00:27, 28.44it/s]\u001b[A\n",
            " 91%|█████████▏| 8152/8928 [04:43<00:26, 28.85it/s]\u001b[A\n",
            " 91%|█████████▏| 8155/8928 [04:43<00:26, 29.17it/s]\u001b[A\n",
            " 91%|█████████▏| 8158/8928 [04:43<00:26, 28.79it/s]\u001b[A\n",
            " 91%|█████████▏| 8161/8928 [04:43<00:26, 29.13it/s]\u001b[A\n",
            " 91%|█████████▏| 8165/8928 [04:43<00:25, 29.63it/s]\u001b[A\n",
            " 91%|█████████▏| 8169/8928 [04:43<00:25, 30.05it/s]\u001b[A\n",
            " 92%|█████████▏| 8173/8928 [04:43<00:25, 30.04it/s]\u001b[A\n",
            " 92%|█████████▏| 8177/8928 [04:43<00:25, 29.51it/s]\u001b[A\n",
            " 92%|█████████▏| 8180/8928 [04:44<00:25, 29.63it/s]\u001b[A\n",
            " 92%|█████████▏| 8183/8928 [04:44<00:25, 29.59it/s]\u001b[A\n",
            " 92%|█████████▏| 8186/8928 [04:44<00:25, 29.39it/s]\u001b[A\n",
            " 92%|█████████▏| 8189/8928 [04:44<00:25, 29.02it/s]\u001b[A\n",
            " 92%|█████████▏| 8192/8928 [04:44<00:25, 28.92it/s]\u001b[A\n",
            " 92%|█████████▏| 8195/8928 [04:44<00:25, 28.93it/s]\u001b[A\n",
            " 92%|█████████▏| 8198/8928 [04:44<00:25, 29.11it/s]\u001b[A\n",
            " 92%|█████████▏| 8201/8928 [04:44<00:25, 28.53it/s]\u001b[A\n",
            " 92%|█████████▏| 8204/8928 [04:44<00:25, 28.20it/s]\u001b[A\n",
            " 92%|█████████▏| 8207/8928 [04:45<00:25, 28.02it/s]\u001b[A\n",
            " 92%|█████████▏| 8210/8928 [04:45<00:25, 28.32it/s]\u001b[A\n",
            " 92%|█████████▏| 8213/8928 [04:45<00:25, 27.60it/s]\u001b[A\n",
            " 92%|█████████▏| 8216/8928 [04:45<00:25, 27.87it/s]\u001b[A\n",
            " 92%|█████████▏| 8219/8928 [04:45<00:25, 27.70it/s]\u001b[A\n",
            " 92%|█████████▏| 8222/8928 [04:45<00:24, 28.33it/s]\u001b[A\n",
            " 92%|█████████▏| 8225/8928 [04:45<00:24, 28.22it/s]\u001b[A\n",
            " 92%|█████████▏| 8228/8928 [04:45<00:24, 28.02it/s]\u001b[A\n",
            " 92%|█████████▏| 8231/8928 [04:45<00:24, 28.39it/s]\u001b[A\n",
            " 92%|█████████▏| 8234/8928 [04:45<00:24, 28.32it/s]\u001b[A\n",
            " 92%|█████████▏| 8237/8928 [04:46<00:24, 28.54it/s]\u001b[A\n",
            " 92%|█████████▏| 8240/8928 [04:46<00:24, 28.09it/s]\u001b[A\n",
            " 92%|█████████▏| 8243/8928 [04:46<00:23, 28.58it/s]\u001b[A\n",
            " 92%|█████████▏| 8247/8928 [04:46<00:23, 29.10it/s]\u001b[A\n",
            " 92%|█████████▏| 8251/8928 [04:46<00:22, 29.52it/s]\u001b[A\n",
            " 92%|█████████▏| 8254/8928 [04:46<00:22, 29.53it/s]\u001b[A\n",
            " 92%|█████████▏| 8257/8928 [04:46<00:22, 29.26it/s]\u001b[A\n",
            " 93%|█████████▎| 8260/8928 [04:46<00:23, 28.25it/s]\u001b[A\n",
            " 93%|█████████▎| 8263/8928 [04:46<00:23, 27.98it/s]\u001b[A\n",
            " 93%|█████████▎| 8266/8928 [04:47<00:23, 28.12it/s]\u001b[A\n",
            " 93%|█████████▎| 8269/8928 [04:47<00:23, 28.16it/s]\u001b[A\n",
            " 93%|█████████▎| 8272/8928 [04:47<00:23, 27.70it/s]\u001b[A\n",
            " 93%|█████████▎| 8275/8928 [04:47<00:23, 27.93it/s]\u001b[A\n",
            " 93%|█████████▎| 8278/8928 [04:47<00:23, 27.95it/s]\u001b[A\n",
            " 93%|█████████▎| 8281/8928 [04:47<00:22, 28.34it/s]\u001b[A\n",
            " 93%|█████████▎| 8284/8928 [04:47<00:22, 28.79it/s]\u001b[A\n",
            " 93%|█████████▎| 8287/8928 [04:47<00:22, 28.98it/s]\u001b[A\n",
            " 93%|█████████▎| 8290/8928 [04:47<00:22, 28.81it/s]\u001b[A\n",
            " 93%|█████████▎| 8293/8928 [04:48<00:22, 28.86it/s]\u001b[A\n",
            " 93%|█████████▎| 8296/8928 [04:48<00:22, 28.27it/s]\u001b[A\n",
            " 93%|█████████▎| 8299/8928 [04:48<00:22, 27.74it/s]\u001b[A\n",
            " 93%|█████████▎| 8302/8928 [04:48<00:22, 27.75it/s]\u001b[A\n",
            " 93%|█████████▎| 8305/8928 [04:48<00:23, 27.02it/s]\u001b[A\n",
            " 93%|█████████▎| 8308/8928 [04:48<00:22, 27.68it/s]\u001b[A\n",
            " 93%|█████████▎| 8311/8928 [04:48<00:22, 27.75it/s]\u001b[A\n",
            " 93%|█████████▎| 8314/8928 [04:48<00:22, 27.86it/s]\u001b[A\n",
            " 93%|█████████▎| 8317/8928 [04:48<00:21, 27.92it/s]\u001b[A\n",
            " 93%|█████████▎| 8320/8928 [04:49<00:21, 28.02it/s]\u001b[A\n",
            " 93%|█████████▎| 8323/8928 [04:49<00:22, 27.44it/s]\u001b[A\n",
            " 93%|█████████▎| 8326/8928 [04:49<00:21, 27.48it/s]\u001b[A\n",
            " 93%|█████████▎| 8329/8928 [04:49<00:21, 27.54it/s]\u001b[A\n",
            " 93%|█████████▎| 8332/8928 [04:49<00:21, 28.19it/s]\u001b[A\n",
            " 93%|█████████▎| 8335/8928 [04:49<00:21, 27.19it/s]\u001b[A\n",
            " 93%|█████████▎| 8338/8928 [04:49<00:21, 27.67it/s]\u001b[A\n",
            " 93%|█████████▎| 8341/8928 [04:49<00:21, 27.51it/s]\u001b[A\n",
            " 93%|█████████▎| 8344/8928 [04:49<00:20, 27.84it/s]\u001b[A\n",
            " 93%|█████████▎| 8347/8928 [04:50<00:22, 26.16it/s]\u001b[A\n",
            " 94%|█████████▎| 8350/8928 [04:50<00:21, 26.54it/s]\u001b[A\n",
            " 94%|█████████▎| 8353/8928 [04:50<00:21, 27.18it/s]\u001b[A\n",
            " 94%|█████████▎| 8356/8928 [04:50<00:21, 27.12it/s]\u001b[A\n",
            " 94%|█████████▎| 8359/8928 [04:50<00:20, 27.64it/s]\u001b[A\n",
            " 94%|█████████▎| 8362/8928 [04:50<00:20, 27.73it/s]\u001b[A\n",
            " 94%|█████████▎| 8365/8928 [04:50<00:20, 27.38it/s]\u001b[A\n",
            " 94%|█████████▎| 8368/8928 [04:50<00:20, 27.93it/s]\u001b[A\n",
            " 94%|█████████▍| 8371/8928 [04:50<00:20, 27.74it/s]\u001b[A\n",
            " 94%|█████████▍| 8374/8928 [04:50<00:19, 28.35it/s]\u001b[A\n",
            " 94%|█████████▍| 8377/8928 [04:51<00:19, 28.48it/s]\u001b[A\n",
            " 94%|█████████▍| 8380/8928 [04:51<00:19, 28.30it/s]\u001b[A\n",
            " 94%|█████████▍| 8383/8928 [04:51<00:19, 28.37it/s]\u001b[A\n",
            " 94%|█████████▍| 8386/8928 [04:51<00:19, 28.40it/s]\u001b[A\n",
            " 94%|█████████▍| 8389/8928 [04:51<00:19, 28.13it/s]\u001b[A\n",
            " 94%|█████████▍| 8392/8928 [04:51<00:18, 28.48it/s]\u001b[A\n",
            " 94%|█████████▍| 8395/8928 [04:51<00:18, 28.42it/s]\u001b[A\n",
            " 94%|█████████▍| 8399/8928 [04:51<00:17, 29.42it/s]\u001b[A\n",
            " 94%|█████████▍| 8402/8928 [04:51<00:17, 29.56it/s]\u001b[A\n",
            " 94%|█████████▍| 8405/8928 [04:52<00:17, 29.09it/s]\u001b[A\n",
            " 94%|█████████▍| 8408/8928 [04:52<00:17, 29.31it/s]\u001b[A\n",
            " 94%|█████████▍| 8412/8928 [04:52<00:17, 29.64it/s]\u001b[A\n",
            " 94%|█████████▍| 8415/8928 [04:52<00:17, 28.89it/s]\u001b[A\n",
            " 94%|█████████▍| 8418/8928 [04:52<00:17, 28.80it/s]\u001b[A\n",
            " 94%|█████████▍| 8422/8928 [04:52<00:17, 29.49it/s]\u001b[A\n",
            " 94%|█████████▍| 8426/8928 [04:52<00:16, 29.99it/s]\u001b[A\n",
            " 94%|█████████▍| 8430/8928 [04:52<00:16, 29.85it/s]\u001b[A\n",
            " 94%|█████████▍| 8433/8928 [04:52<00:16, 29.22it/s]\u001b[A\n",
            " 94%|█████████▍| 8436/8928 [04:53<00:17, 27.86it/s]\u001b[A\n",
            " 95%|█████████▍| 8439/8928 [04:53<00:17, 28.27it/s]\u001b[A\n",
            " 95%|█████████▍| 8442/8928 [04:53<00:17, 27.86it/s]\u001b[A\n",
            " 95%|█████████▍| 8445/8928 [04:53<00:17, 27.59it/s]\u001b[A\n",
            " 95%|█████████▍| 8448/8928 [04:53<00:17, 27.28it/s]\u001b[A\n",
            " 95%|█████████▍| 8451/8928 [04:53<00:17, 27.80it/s]\u001b[A\n",
            " 95%|█████████▍| 8454/8928 [04:53<00:17, 27.53it/s]\u001b[A\n",
            " 95%|█████████▍| 8457/8928 [04:53<00:17, 26.78it/s]\u001b[A\n",
            " 95%|█████████▍| 8460/8928 [04:53<00:17, 26.92it/s]\u001b[A\n",
            " 95%|█████████▍| 8463/8928 [04:54<00:17, 26.85it/s]\u001b[A\n",
            " 95%|█████████▍| 8466/8928 [04:54<00:17, 26.59it/s]\u001b[A\n",
            " 95%|█████████▍| 8469/8928 [04:54<00:16, 27.07it/s]\u001b[A\n",
            " 95%|█████████▍| 8472/8928 [04:54<00:17, 26.60it/s]\u001b[A\n",
            " 95%|█████████▍| 8475/8928 [04:54<00:16, 26.90it/s]\u001b[A\n",
            " 95%|█████████▍| 8478/8928 [04:54<00:16, 27.10it/s]\u001b[A\n",
            " 95%|█████████▍| 8481/8928 [04:54<00:17, 26.24it/s]\u001b[A\n",
            " 95%|█████████▌| 8484/8928 [04:54<00:16, 26.71it/s]\u001b[A\n",
            " 95%|█████████▌| 8487/8928 [04:55<00:16, 26.79it/s]\u001b[A\n",
            " 95%|█████████▌| 8490/8928 [04:55<00:16, 26.62it/s]\u001b[A\n",
            " 95%|█████████▌| 8493/8928 [04:55<00:16, 26.37it/s]\u001b[A\n",
            " 95%|█████████▌| 8496/8928 [04:55<00:16, 26.81it/s]\u001b[A\n",
            " 95%|█████████▌| 8499/8928 [04:55<00:15, 27.30it/s]\u001b[A\n",
            " 95%|█████████▌| 8502/8928 [04:55<00:15, 27.38it/s]\u001b[A\n",
            " 95%|█████████▌| 8505/8928 [04:55<00:15, 27.06it/s]\u001b[A\n",
            " 95%|█████████▌| 8508/8928 [04:55<00:15, 26.96it/s]\u001b[A\n",
            " 95%|█████████▌| 8511/8928 [04:55<00:15, 27.70it/s]\u001b[A\n",
            " 95%|█████████▌| 8514/8928 [04:55<00:15, 27.27it/s]\u001b[A\n",
            " 95%|█████████▌| 8517/8928 [04:56<00:14, 27.74it/s]\u001b[A\n",
            " 95%|█████████▌| 8520/8928 [04:56<00:14, 27.59it/s]\u001b[A\n",
            " 95%|█████████▌| 8523/8928 [04:56<00:14, 27.74it/s]\u001b[A\n",
            " 95%|█████████▌| 8526/8928 [04:56<00:14, 27.71it/s]\u001b[A\n",
            " 96%|█████████▌| 8529/8928 [04:56<00:14, 28.27it/s]\u001b[A\n",
            " 96%|█████████▌| 8533/8928 [04:56<00:13, 29.20it/s]\u001b[A\n",
            " 96%|█████████▌| 8537/8928 [04:56<00:13, 29.69it/s]\u001b[A\n",
            " 96%|█████████▌| 8540/8928 [04:56<00:13, 29.71it/s]\u001b[A\n",
            " 96%|█████████▌| 8543/8928 [04:56<00:13, 29.10it/s]\u001b[A\n",
            " 96%|█████████▌| 8546/8928 [04:57<00:13, 29.00it/s]\u001b[A\n",
            " 96%|█████████▌| 8549/8928 [04:57<00:13, 28.31it/s]\u001b[A\n",
            " 96%|█████████▌| 8552/8928 [04:57<00:13, 27.57it/s]\u001b[A\n",
            " 96%|█████████▌| 8555/8928 [04:57<00:13, 27.48it/s]\u001b[A\n",
            " 96%|█████████▌| 8558/8928 [04:57<00:13, 27.16it/s]\u001b[A\n",
            " 96%|█████████▌| 8562/8928 [04:57<00:12, 28.18it/s]\u001b[A\n",
            " 96%|█████████▌| 8566/8928 [04:57<00:12, 29.11it/s]\u001b[A\n",
            " 96%|█████████▌| 8569/8928 [04:57<00:12, 28.52it/s]\u001b[A\n",
            " 96%|█████████▌| 8572/8928 [04:58<00:12, 27.94it/s]\u001b[A\n",
            " 96%|█████████▌| 8575/8928 [04:58<00:12, 28.46it/s]\u001b[A\n",
            " 96%|█████████▌| 8578/8928 [04:58<00:12, 27.93it/s]\u001b[A\n",
            " 96%|█████████▌| 8581/8928 [04:58<00:12, 28.46it/s]\u001b[A\n",
            " 96%|█████████▌| 8584/8928 [04:58<00:11, 28.78it/s]\u001b[A\n",
            " 96%|█████████▌| 8587/8928 [04:58<00:11, 28.49it/s]\u001b[A\n",
            " 96%|█████████▌| 8590/8928 [04:58<00:11, 28.84it/s]\u001b[A\n",
            " 96%|█████████▋| 8594/8928 [04:58<00:11, 29.41it/s]\u001b[A\n",
            " 96%|█████████▋| 8597/8928 [04:58<00:11, 29.19it/s]\u001b[A\n",
            " 96%|█████████▋| 8600/8928 [04:58<00:11, 28.82it/s]\u001b[A\n",
            " 96%|█████████▋| 8603/8928 [04:59<00:11, 28.49it/s]\u001b[A\n",
            " 96%|█████████▋| 8606/8928 [04:59<00:11, 27.50it/s]\u001b[A\n",
            " 96%|█████████▋| 8609/8928 [04:59<00:11, 27.07it/s]\u001b[A\n",
            " 96%|█████████▋| 8612/8928 [04:59<00:12, 26.02it/s]\u001b[A\n",
            " 96%|█████████▋| 8615/8928 [04:59<00:11, 26.31it/s]\u001b[A\n",
            " 97%|█████████▋| 8618/8928 [04:59<00:11, 26.86it/s]\u001b[A\n",
            " 97%|█████████▋| 8621/8928 [04:59<00:11, 26.96it/s]\u001b[A\n",
            " 97%|█████████▋| 8624/8928 [04:59<00:11, 26.95it/s]\u001b[A\n",
            " 97%|█████████▋| 8627/8928 [05:00<00:11, 26.92it/s]\u001b[A\n",
            " 97%|█████████▋| 8630/8928 [05:00<00:10, 27.21it/s]\u001b[A\n",
            " 97%|█████████▋| 8633/8928 [05:00<00:11, 26.65it/s]\u001b[A\n",
            " 97%|█████████▋| 8636/8928 [05:00<00:10, 26.56it/s]\u001b[A\n",
            " 97%|█████████▋| 8639/8928 [05:00<00:10, 26.72it/s]\u001b[A\n",
            " 97%|█████████▋| 8642/8928 [05:00<00:10, 27.12it/s]\u001b[A\n",
            " 97%|█████████▋| 8645/8928 [05:00<00:10, 26.79it/s]\u001b[A\n",
            " 97%|█████████▋| 8648/8928 [05:00<00:10, 26.37it/s]\u001b[A\n",
            " 97%|█████████▋| 8651/8928 [05:00<00:10, 26.68it/s]\u001b[A\n",
            " 97%|█████████▋| 8654/8928 [05:01<00:10, 26.44it/s]\u001b[A\n",
            " 97%|█████████▋| 8657/8928 [05:01<00:10, 26.39it/s]\u001b[A\n",
            " 97%|█████████▋| 8660/8928 [05:01<00:09, 26.84it/s]\u001b[A\n",
            " 97%|█████████▋| 8663/8928 [05:01<00:09, 26.84it/s]\u001b[A\n",
            " 97%|█████████▋| 8666/8928 [05:01<00:09, 27.42it/s]\u001b[A\n",
            " 97%|█████████▋| 8669/8928 [05:01<00:09, 27.96it/s]\u001b[A\n",
            " 97%|█████████▋| 8672/8928 [05:01<00:09, 27.78it/s]\u001b[A\n",
            " 97%|█████████▋| 8675/8928 [05:01<00:08, 28.33it/s]\u001b[A\n",
            " 97%|█████████▋| 8678/8928 [05:01<00:08, 28.04it/s]\u001b[A\n",
            " 97%|█████████▋| 8681/8928 [05:01<00:08, 27.72it/s]\u001b[A\n",
            " 97%|█████████▋| 8684/8928 [05:02<00:08, 27.82it/s]\u001b[A\n",
            " 97%|█████████▋| 8687/8928 [05:02<00:09, 26.28it/s]\u001b[A\n",
            " 97%|█████████▋| 8690/8928 [05:02<00:09, 26.08it/s]\u001b[A\n",
            " 97%|█████████▋| 8693/8928 [05:02<00:09, 25.51it/s]\u001b[A\n",
            " 97%|█████████▋| 8696/8928 [05:02<00:09, 25.75it/s]\u001b[A\n",
            " 97%|█████████▋| 8699/8928 [05:02<00:08, 26.58it/s]\u001b[A\n",
            " 97%|█████████▋| 8702/8928 [05:02<00:08, 27.30it/s]\u001b[A\n",
            " 98%|█████████▊| 8705/8928 [05:02<00:08, 27.80it/s]\u001b[A\n",
            " 98%|█████████▊| 8708/8928 [05:03<00:07, 27.64it/s]\u001b[A\n",
            " 98%|█████████▊| 8711/8928 [05:03<00:07, 27.41it/s]\u001b[A\n",
            " 98%|█████████▊| 8714/8928 [05:03<00:07, 27.11it/s]\u001b[A\n",
            " 98%|█████████▊| 8717/8928 [05:03<00:07, 27.83it/s]\u001b[A\n",
            " 98%|█████████▊| 8720/8928 [05:03<00:07, 27.62it/s]\u001b[A\n",
            " 98%|█████████▊| 8724/8928 [05:03<00:07, 28.50it/s]\u001b[A\n",
            " 98%|█████████▊| 8727/8928 [05:03<00:07, 28.59it/s]\u001b[A\n",
            " 98%|█████████▊| 8730/8928 [05:03<00:06, 28.73it/s]\u001b[A\n",
            " 98%|█████████▊| 8733/8928 [05:03<00:06, 27.91it/s]\u001b[A\n",
            " 98%|█████████▊| 8736/8928 [05:04<00:06, 28.06it/s]\u001b[A\n",
            " 98%|█████████▊| 8739/8928 [05:04<00:06, 28.03it/s]\u001b[A\n",
            " 98%|█████████▊| 8742/8928 [05:04<00:06, 28.22it/s]\u001b[A\n",
            " 98%|█████████▊| 8745/8928 [05:04<00:06, 28.22it/s]\u001b[A\n",
            " 98%|█████████▊| 8749/8928 [05:04<00:06, 28.94it/s]\u001b[A\n",
            " 98%|█████████▊| 8752/8928 [05:04<00:06, 29.03it/s]\u001b[A\n",
            " 98%|█████████▊| 8755/8928 [05:04<00:06, 28.35it/s]\u001b[A\n",
            " 98%|█████████▊| 8758/8928 [05:04<00:06, 28.08it/s]\u001b[A\n",
            " 98%|█████████▊| 8761/8928 [05:04<00:05, 28.26it/s]\u001b[A\n",
            " 98%|█████████▊| 8764/8928 [05:04<00:05, 28.29it/s]\u001b[A\n",
            " 98%|█████████▊| 8767/8928 [05:05<00:05, 28.03it/s]\u001b[A\n",
            " 98%|█████████▊| 8770/8928 [05:05<00:05, 28.02it/s]\u001b[A\n",
            " 98%|█████████▊| 8773/8928 [05:05<00:05, 26.94it/s]\u001b[A\n",
            " 98%|█████████▊| 8776/8928 [05:05<00:05, 27.09it/s]\u001b[A\n",
            " 98%|█████████▊| 8779/8928 [05:05<00:05, 27.34it/s]\u001b[A\n",
            " 98%|█████████▊| 8782/8928 [05:05<00:05, 26.94it/s]\u001b[A\n",
            " 98%|█████████▊| 8785/8928 [05:05<00:05, 27.15it/s]\u001b[A\n",
            " 98%|█████████▊| 8788/8928 [05:05<00:05, 26.56it/s]\u001b[A\n",
            " 98%|█████████▊| 8791/8928 [05:05<00:05, 26.40it/s]\u001b[A\n",
            " 98%|█████████▊| 8794/8928 [05:06<00:04, 26.96it/s]\u001b[A\n",
            " 99%|█████████▊| 8797/8928 [05:06<00:04, 27.08it/s]\u001b[A\n",
            " 99%|█████████▊| 8800/8928 [05:06<00:04, 26.98it/s]\u001b[A\n",
            " 99%|█████████▊| 8803/8928 [05:06<00:04, 27.32it/s]\u001b[A\n",
            " 99%|█████████▊| 8806/8928 [05:06<00:04, 27.78it/s]\u001b[A\n",
            " 99%|█████████▊| 8809/8928 [05:06<00:04, 28.16it/s]\u001b[A\n",
            " 99%|█████████▊| 8812/8928 [05:06<00:04, 28.43it/s]\u001b[A\n",
            " 99%|█████████▊| 8815/8928 [05:06<00:03, 28.86it/s]\u001b[A\n",
            " 99%|█████████▉| 8818/8928 [05:06<00:03, 28.46it/s]\u001b[A\n",
            " 99%|█████████▉| 8821/8928 [05:07<00:03, 28.46it/s]\u001b[A\n",
            " 99%|█████████▉| 8824/8928 [05:07<00:03, 27.71it/s]\u001b[A\n",
            " 99%|█████████▉| 8827/8928 [05:07<00:03, 27.71it/s]\u001b[A\n",
            " 99%|█████████▉| 8830/8928 [05:07<00:03, 27.45it/s]\u001b[A\n",
            " 99%|█████████▉| 8833/8928 [05:07<00:03, 27.19it/s]\u001b[A\n",
            " 99%|█████████▉| 8837/8928 [05:07<00:03, 28.28it/s]\u001b[A\n",
            " 99%|█████████▉| 8840/8928 [05:07<00:03, 28.17it/s]\u001b[A\n",
            " 99%|█████████▉| 8843/8928 [05:07<00:03, 27.62it/s]\u001b[A\n",
            " 99%|█████████▉| 8846/8928 [05:07<00:03, 27.32it/s]\u001b[A\n",
            " 99%|█████████▉| 8849/8928 [05:08<00:02, 27.70it/s]\u001b[A\n",
            " 99%|█████████▉| 8852/8928 [05:08<00:02, 27.64it/s]\u001b[A\n",
            " 99%|█████████▉| 8855/8928 [05:08<00:02, 26.91it/s]\u001b[A\n",
            " 99%|█████████▉| 8858/8928 [05:08<00:02, 27.40it/s]\u001b[A\n",
            " 99%|█████████▉| 8861/8928 [05:08<00:02, 27.59it/s]\u001b[A\n",
            " 99%|█████████▉| 8864/8928 [05:08<00:02, 27.49it/s]\u001b[A\n",
            " 99%|█████████▉| 8867/8928 [05:08<00:02, 27.73it/s]\u001b[A\n",
            " 99%|█████████▉| 8870/8928 [05:08<00:02, 26.90it/s]\u001b[A\n",
            " 99%|█████████▉| 8873/8928 [05:08<00:02, 25.85it/s]\u001b[A\n",
            " 99%|█████████▉| 8876/8928 [05:09<00:02, 25.69it/s]\u001b[A\n",
            " 99%|█████████▉| 8879/8928 [05:09<00:01, 26.23it/s]\u001b[A\n",
            " 99%|█████████▉| 8882/8928 [05:09<00:01, 25.92it/s]\u001b[A\n",
            "100%|█████████▉| 8885/8928 [05:09<00:01, 25.88it/s]\u001b[A\n",
            "100%|█████████▉| 8888/8928 [05:09<00:01, 26.78it/s]\u001b[A\n",
            "100%|█████████▉| 8891/8928 [05:09<00:01, 27.39it/s]\u001b[A\n",
            "100%|█████████▉| 8894/8928 [05:09<00:01, 27.02it/s]\u001b[A\n",
            "100%|█████████▉| 8897/8928 [05:09<00:01, 26.82it/s]\u001b[A\n",
            "100%|█████████▉| 8900/8928 [05:09<00:01, 26.56it/s]\u001b[A\n",
            "100%|█████████▉| 8903/8928 [05:10<00:00, 26.45it/s]\u001b[A\n",
            "100%|█████████▉| 8906/8928 [05:10<00:00, 27.00it/s]\u001b[A\n",
            "100%|█████████▉| 8909/8928 [05:10<00:00, 27.19it/s]\u001b[A\n",
            "100%|█████████▉| 8912/8928 [05:10<00:00, 27.94it/s]\u001b[A\n",
            "100%|█████████▉| 8915/8928 [05:10<00:00, 28.13it/s]\u001b[A\n",
            "100%|█████████▉| 8918/8928 [05:10<00:00, 27.75it/s]\u001b[A\n",
            "100%|█████████▉| 8921/8928 [05:10<00:00, 28.12it/s]\u001b[A\n",
            "100%|█████████▉| 8924/8928 [05:10<00:00, 28.55it/s]\u001b[A\n",
            "100%|██████████| 8928/8928 [05:10<00:00, 28.71it/s]\n"
          ],
          "name": "stderr"
        }
      ]
    },
    {
      "cell_type": "code",
      "metadata": {
        "id": "YJxRbOlFNBpg"
      },
      "source": [
        "'''\n",
        "Change half of data to original slices (without noise)\n",
        "Suggestion: you can use random permutation to clean half of data\n",
        "suggestyion: you can change the rate of being nosisy or clean! \n",
        "'''\n",
        "noisy_output[int(noisy_output.shape[0]/2):] = output[int(noisy_output.shape[0]/2):]"
      ],
      "execution_count": 19,
      "outputs": []
    },
    {
      "cell_type": "code",
      "metadata": {
        "id": "FzN8ZpyM1bcG"
      },
      "source": [
        "#target (without noise)\n",
        "output = np.reshape(output,(output.shape[0],output.shape[1],output.shape[2],1))\n",
        "\n",
        "#input (half noisy)\n",
        "noisy_output = np.reshape(noisy_output,(noisy_output.shape[0],noisy_output.shape[1],noisy_output.shape[2],1))"
      ],
      "execution_count": 20,
      "outputs": []
    },
    {
      "cell_type": "markdown",
      "metadata": {
        "id": "GBeuAoKw4vlg"
      },
      "source": [
        "### Training the model"
      ]
    },
    {
      "cell_type": "code",
      "metadata": {
        "id": "zkaTkPEPicW9"
      },
      "source": [
        "model.compile(optimizer = Adam(lr = 1e-3), loss = 'binary_crossentropy')"
      ],
      "execution_count": 21,
      "outputs": []
    },
    {
      "cell_type": "code",
      "metadata": {
        "id": "wOlc-A2o5wte",
        "colab": {
          "base_uri": "https://localhost:8080/"
        },
        "outputId": "e5a90c5d-cdbb-4969-e4c8-e41b529cfc9c"
      },
      "source": [
        "history = model.fit(noisy_output, output,\n",
        "            batch_size = 5,\n",
        "            epochs = 3,\n",
        "            shuffle=True,\n",
        "            verbose=1)"
      ],
      "execution_count": 22,
      "outputs": [
        {
          "output_type": "stream",
          "text": [
            "Epoch 1/3\n",
            "1786/1786 [==============================] - 181s 80ms/step - loss: 0.3834\n",
            "Epoch 2/3\n",
            "1786/1786 [==============================] - 142s 80ms/step - loss: 0.3640\n",
            "Epoch 3/3\n",
            "1786/1786 [==============================] - 143s 80ms/step - loss: 0.3638\n"
          ],
          "name": "stdout"
        }
      ]
    },
    {
      "cell_type": "code",
      "metadata": {
        "id": "xGnOVm70kw67"
      },
      "source": [
        "'''\n",
        "However, you can save weights of your model for future use\n",
        "'''\n",
        "model.save_weights('/content/drive/My Drive/weight_half_lung_noisy.hdf5')\n",
        "model.load_weights('/content/drive/My Drive/weight_half_lung_noisy.hdf5')"
      ],
      "execution_count": 25,
      "outputs": []
    },
    {
      "cell_type": "markdown",
      "metadata": {
        "id": "vI0EsJIn43Ud"
      },
      "source": [
        "## 3D CNN model"
      ]
    },
    {
      "cell_type": "code",
      "metadata": {
        "id": "sUlX-rkTwO21",
        "colab": {
          "base_uri": "https://localhost:8080/"
        },
        "outputId": "9b0597db-b8df-4c89-8baf-549a6440f60a"
      },
      "source": [
        "'''\n",
        "Load all data to pass through BCDUNet to bold infections in out pipeline\n",
        "Splite data for each class of COVID (c), Health or Control (h) and Pneumonia or CAP (p)\n",
        "\n",
        "'''\n",
        "c_path = file_paths[:31]\n",
        "h_path = file_paths[31:61]\n",
        "p_path = file_paths[61:91]\n",
        "my_file_paths = c_path+h_path+p_path\n",
        "print(my_file_paths)\n",
        "print(len(my_file_paths))\n"
      ],
      "execution_count": 26,
      "outputs": [
        {
          "output_type": "stream",
          "text": [
            "['/content/drive/MyDrive/ct-normal-slices-train/CPCR_0001_296_383_383_CR_P001.npy', '/content/drive/MyDrive/ct-normal-slices-train/CPCR_0002_266_309_309_CR_P002.npy', '/content/drive/MyDrive/ct-normal-slices-train/CPCR_0003_268_372_372_CR_P003.npy', '/content/drive/MyDrive/ct-normal-slices-train/CPCR_0004_328_372_372_CR_P004.npy', '/content/drive/MyDrive/ct-normal-slices-train/CPCR_0005_288_369_369_CR_P005.npy', '/content/drive/MyDrive/ct-normal-slices-train/CPCR_0006_286_333_333_CR_P006.npy', '/content/drive/MyDrive/ct-normal-slices-train/CPCR_0007_302_310_310_CR_P007.npy', '/content/drive/MyDrive/ct-normal-slices-train/CPCR_0008_318_372_372_CR_P008.npy', '/content/drive/MyDrive/ct-normal-slices-train/CPCR_0009_346_366_366_CR_P009.npy', '/content/drive/MyDrive/ct-normal-slices-train/CPCR_0010_276_294_294_CR_P010.npy', '/content/drive/MyDrive/ct-normal-slices-train/CPCR_0011_270_333_333_CR_P011.npy', '/content/drive/MyDrive/ct-normal-slices-train/CPCR_0012_330_375_375_CR_P012.npy', '/content/drive/MyDrive/ct-normal-slices-train/CPCR_0013_342_354_354_CR_P013.npy', '/content/drive/MyDrive/ct-normal-slices-train/CPCR_0014_284_310_310_CR_P014.npy', '/content/drive/MyDrive/ct-normal-slices-train/CPCR_0015_296_347_347_CR_P015.npy', '/content/drive/MyDrive/ct-normal-slices-train/CPCR_0016_332_374_374_CR_P016.npy', '/content/drive/MyDrive/ct-normal-slices-train/CPCR_0017_236_319_319_CR_P017.npy', '/content/drive/MyDrive/ct-normal-slices-train/CPCR_0018_314_326_326_CR_P018.npy', '/content/drive/MyDrive/ct-normal-slices-train/CPCR_0019_300_359_359_CR_P019.npy', '/content/drive/MyDrive/ct-normal-slices-train/CPCR_0020_256_373_373_CR_P020.npy', '/content/drive/MyDrive/ct-normal-slices-train/CPCR_0021_326_375_375_CR_P021.npy', '/content/drive/MyDrive/ct-normal-slices-train/CPCR_0022_250_310_310_CR_P022.npy', '/content/drive/MyDrive/ct-normal-slices-train/CPCR_0023_294_372_372_CR_P023.npy', '/content/drive/MyDrive/ct-normal-slices-train/CPCR_0024_272_328_328_CR_P024.npy', '/content/drive/MyDrive/ct-normal-slices-train/CPCR_0025_318_317_317_CR_P025.npy', '/content/drive/MyDrive/ct-normal-slices-train/CPCR_0026_304_353_353_CR_P026.npy', '/content/drive/MyDrive/ct-normal-slices-train/CPCR_0027_268_372_372_CR_P027.npy', '/content/drive/MyDrive/ct-normal-slices-train/CPCR_0028_270_310_310_CR_P028.npy', '/content/drive/MyDrive/ct-normal-slices-train/CPCR_0029_262_361_361_CR_P029.npy', '/content/drive/MyDrive/ct-normal-slices-train/CPCR_0030_284_310_310_CR_P030.npy', '/content/drive/MyDrive/ct-normal-slices-train/CPCR_0031_326_327_327_CR_P050.npy', '/content/drive/MyDrive/ct-normal-slices-train/H_0001_288_368_368_normal001.npy', '/content/drive/MyDrive/ct-normal-slices-train/H_0002_334_384_384_normal002.npy', '/content/drive/MyDrive/ct-normal-slices-train/H_0003_338_397_397_normal003.npy', '/content/drive/MyDrive/ct-normal-slices-train/H_0004_256_340_340_normal004.npy', '/content/drive/MyDrive/ct-normal-slices-train/H_0005_286_310_310_normal005.npy', '/content/drive/MyDrive/ct-normal-slices-train/H_0006_288_321_321_normal006.npy', '/content/drive/MyDrive/ct-normal-slices-train/H_0007_284_372_372_normal007.npy', '/content/drive/MyDrive/ct-normal-slices-train/H_0008_278_337_337_normal008.npy', '/content/drive/MyDrive/ct-normal-slices-train/H_0009_290_395_395_normal009.npy', '/content/drive/MyDrive/ct-normal-slices-train/H_0010_304_388_388_normal010.npy', '/content/drive/MyDrive/ct-normal-slices-train/H_0011_276_382_382_normal011.npy', '/content/drive/MyDrive/ct-normal-slices-train/H_0012_320_380_380_normal012.npy', '/content/drive/MyDrive/ct-normal-slices-train/H_0013_372_397_397_normal013.npy', '/content/drive/MyDrive/ct-normal-slices-train/H_0014_280_322_322_normal014.npy', '/content/drive/MyDrive/ct-normal-slices-train/H_0015_290_352_352_normal015.npy', '/content/drive/MyDrive/ct-normal-slices-train/H_0016_248_308_308_normal016.npy', '/content/drive/MyDrive/ct-normal-slices-train/H_0017_354_376_376_normal017.npy', '/content/drive/MyDrive/ct-normal-slices-train/H_0018_272_352_352_normal018.npy', '/content/drive/MyDrive/ct-normal-slices-train/H_0019_266_318_318_normal019.npy', '/content/drive/MyDrive/ct-normal-slices-train/H_0020_274_310_310_normal020.npy', '/content/drive/MyDrive/ct-normal-slices-train/H_0021_310_301_301_normal021.npy', '/content/drive/MyDrive/ct-normal-slices-train/H_0022_298_372_372_normal022.npy', '/content/drive/MyDrive/ct-normal-slices-train/H_0023_324_310_310_normal023.npy', '/content/drive/MyDrive/ct-normal-slices-train/H_0024_334_302_302_normal024.npy', '/content/drive/MyDrive/ct-normal-slices-train/H_0025_312_318_318_normal025.npy', '/content/drive/MyDrive/ct-normal-slices-train/H_0026_294_333_333_normal026.npy', '/content/drive/MyDrive/ct-normal-slices-train/H_0027_336_394_394_normal027.npy', '/content/drive/MyDrive/ct-normal-slices-train/H_0028_288_372_372_normal028.npy', '/content/drive/MyDrive/ct-normal-slices-train/H_0029_274_366_366_normal029.npy', '/content/drive/MyDrive/ct-normal-slices-train/H_0030_260_323_323_normal030.npy', '/content/drive/MyDrive/ct-normal-slices-train/P_0001_336_302_302_cap001.npy', '/content/drive/MyDrive/ct-normal-slices-train/P_0002_262_323_323_cap002.npy', '/content/drive/MyDrive/ct-normal-slices-train/P_0003_268_316_316_cap003.npy', '/content/drive/MyDrive/ct-normal-slices-train/P_0004_362_343_343_cap004.npy', '/content/drive/MyDrive/ct-normal-slices-train/P_0005_274_344_344_cap005.npy', '/content/drive/MyDrive/ct-normal-slices-train/P_0006_314_347_347_cap006.npy', '/content/drive/MyDrive/ct-normal-slices-train/P_0007_318_329_329_cap007.npy', '/content/drive/MyDrive/ct-normal-slices-train/P_0008_342_312_312_cap008.npy', '/content/drive/MyDrive/ct-normal-slices-train/P_0009_380_340_340_cap009.npy', '/content/drive/MyDrive/ct-normal-slices-train/P_0010_318_346_346_cap010.npy', '/content/drive/MyDrive/ct-normal-slices-train/P_0011_318_395_395_cap011.npy', '/content/drive/MyDrive/ct-normal-slices-train/P_0012_374_402_402_cap012.npy', '/content/drive/MyDrive/ct-normal-slices-train/P_0013_282_372_372_cap013.npy', '/content/drive/MyDrive/ct-normal-slices-train/P_0014_324_357_357_cap014.npy', '/content/drive/MyDrive/ct-normal-slices-train/P_0015_302_310_310_cap015.npy', '/content/drive/MyDrive/ct-normal-slices-train/P_0016_260_319_319_cap016.npy', '/content/drive/MyDrive/ct-normal-slices-train/P_0017_274_330_330_cap017.npy', '/content/drive/MyDrive/ct-normal-slices-train/P_0018_282_297_297_cap018.npy', '/content/drive/MyDrive/ct-normal-slices-train/P_0019_272_310_310_cap019.npy', '/content/drive/MyDrive/ct-normal-slices-train/P_0020_266_307_307_cap020.npy', '/content/drive/MyDrive/ct-normal-slices-train/P_0021_310_310_310_cap021.npy', '/content/drive/MyDrive/ct-normal-slices-train/P_0022_328_392_392_cap022.npy', '/content/drive/MyDrive/ct-normal-slices-train/P_0023_372_352_352_cap023.npy', '/content/drive/MyDrive/ct-normal-slices-train/P_0024_302_354_354_cap024.npy', '/content/drive/MyDrive/ct-normal-slices-train/P_0025_352_444_444_cap025.npy', '/content/drive/MyDrive/ct-normal-slices-train/P_0026_286_479_479_cap026.npy', '/content/drive/MyDrive/ct-normal-slices-train/P_0027_370_308_308_cap027.npy', '/content/drive/MyDrive/ct-normal-slices-train/P_0028_316_337_337_cap028.npy', '/content/drive/MyDrive/ct-normal-slices-train/P_0029_502_358_358_cap029.npy', '/content/drive/MyDrive/ct-normal-slices-train/P_0030_576_370_370_cap030.npy']\n",
            "91\n"
          ],
          "name": "stdout"
        }
      ]
    },
    {
      "cell_type": "markdown",
      "metadata": {
        "id": "Ve_jRExW5tFq"
      },
      "source": [
        "### Go Through BCDUNet all slices and pack them"
      ]
    },
    {
      "cell_type": "code",
      "metadata": {
        "id": "NPwaQl94p_FI",
        "colab": {
          "base_uri": "https://localhost:8080/"
        },
        "outputId": "7cad5bf4-0893-4eaf-a5dd-5a36e9316345"
      },
      "source": [
        "'''\n",
        "Here, we:\n",
        "1- Resize different size of slices (2D) -> in x,y axes\n",
        "2- Predict all slices of a patient using BCDUNET\n",
        "3- Do subtraction\n",
        "1- Resize different size of CT images (3D) -> in z axis\n",
        "'''\n",
        "\n",
        "\n",
        "from scipy import signal\n",
        "\n",
        "dataset = np.zeros((len(my_file_paths),50,128,128))\n",
        "counter = 0\n",
        "for j in tqdm(my_file_paths):\n",
        "    print(j)\n",
        "    CT = np.load(j)\n",
        "    CT_resized = resize(CT, (CT.shape[0],128, 128),anti_aliasing=True)\n",
        "    out = model.predict(np.reshape(CT_resized,(CT_resized.shape[0],CT_resized.shape[1],CT_resized.shape[2],1)))\n",
        "    c = CT_resized-out[:,:,:,0]\n",
        "    dataset[counter] = resize(c,(50,128,128))\n",
        "    counter +=1"
      ],
      "execution_count": 27,
      "outputs": [
        {
          "output_type": "stream",
          "text": [
            "\n",
            "  0%|          | 0/91 [00:00<?, ?it/s]\u001b[A"
          ],
          "name": "stderr"
        },
        {
          "output_type": "stream",
          "text": [
            "/content/drive/MyDrive/ct-normal-slices-train/CPCR_0001_296_383_383_CR_P001.npy\n"
          ],
          "name": "stdout"
        },
        {
          "output_type": "stream",
          "text": [
            "\n",
            "  1%|          | 1/91 [00:08<13:14,  8.82s/it]\u001b[A"
          ],
          "name": "stderr"
        },
        {
          "output_type": "stream",
          "text": [
            "/content/drive/MyDrive/ct-normal-slices-train/CPCR_0002_266_309_309_CR_P002.npy\n"
          ],
          "name": "stdout"
        },
        {
          "output_type": "stream",
          "text": [
            "\n",
            "  2%|▏         | 2/91 [00:15<11:57,  8.06s/it]\u001b[A"
          ],
          "name": "stderr"
        },
        {
          "output_type": "stream",
          "text": [
            "/content/drive/MyDrive/ct-normal-slices-train/CPCR_0003_268_372_372_CR_P003.npy\n"
          ],
          "name": "stdout"
        },
        {
          "output_type": "stream",
          "text": [
            "\n",
            "  3%|▎         | 3/91 [00:22<11:38,  7.93s/it]\u001b[A"
          ],
          "name": "stderr"
        },
        {
          "output_type": "stream",
          "text": [
            "/content/drive/MyDrive/ct-normal-slices-train/CPCR_0004_328_372_372_CR_P004.npy\n"
          ],
          "name": "stdout"
        },
        {
          "output_type": "stream",
          "text": [
            "\n",
            "  4%|▍         | 4/91 [00:31<12:00,  8.28s/it]\u001b[A"
          ],
          "name": "stderr"
        },
        {
          "output_type": "stream",
          "text": [
            "/content/drive/MyDrive/ct-normal-slices-train/CPCR_0005_288_369_369_CR_P005.npy\n"
          ],
          "name": "stdout"
        },
        {
          "output_type": "stream",
          "text": [
            "\n",
            "  5%|▌         | 5/91 [00:40<12:06,  8.45s/it]\u001b[A"
          ],
          "name": "stderr"
        },
        {
          "output_type": "stream",
          "text": [
            "/content/drive/MyDrive/ct-normal-slices-train/CPCR_0006_286_333_333_CR_P006.npy\n"
          ],
          "name": "stdout"
        },
        {
          "output_type": "stream",
          "text": [
            "\n",
            "  7%|▋         | 6/91 [00:46<10:51,  7.66s/it]\u001b[A"
          ],
          "name": "stderr"
        },
        {
          "output_type": "stream",
          "text": [
            "/content/drive/MyDrive/ct-normal-slices-train/CPCR_0007_302_310_310_CR_P007.npy\n"
          ],
          "name": "stdout"
        },
        {
          "output_type": "stream",
          "text": [
            "\n",
            "  8%|▊         | 7/91 [00:51<09:47,  6.99s/it]\u001b[A"
          ],
          "name": "stderr"
        },
        {
          "output_type": "stream",
          "text": [
            "/content/drive/MyDrive/ct-normal-slices-train/CPCR_0008_318_372_372_CR_P008.npy\n"
          ],
          "name": "stdout"
        },
        {
          "output_type": "stream",
          "text": [
            "\n",
            "  9%|▉         | 8/91 [01:00<10:16,  7.43s/it]\u001b[A"
          ],
          "name": "stderr"
        },
        {
          "output_type": "stream",
          "text": [
            "/content/drive/MyDrive/ct-normal-slices-train/CPCR_0009_346_366_366_CR_P009.npy\n"
          ],
          "name": "stdout"
        },
        {
          "output_type": "stream",
          "text": [
            "\n",
            " 10%|▉         | 9/91 [01:10<11:07,  8.14s/it]\u001b[A"
          ],
          "name": "stderr"
        },
        {
          "output_type": "stream",
          "text": [
            "/content/drive/MyDrive/ct-normal-slices-train/CPCR_0010_276_294_294_CR_P010.npy\n"
          ],
          "name": "stdout"
        },
        {
          "output_type": "stream",
          "text": [
            "\n",
            " 11%|█         | 10/91 [01:15<09:59,  7.40s/it]\u001b[A"
          ],
          "name": "stderr"
        },
        {
          "output_type": "stream",
          "text": [
            "/content/drive/MyDrive/ct-normal-slices-train/CPCR_0011_270_333_333_CR_P011.npy\n"
          ],
          "name": "stdout"
        },
        {
          "output_type": "stream",
          "text": [
            "\n",
            " 12%|█▏        | 11/91 [01:20<08:38,  6.48s/it]\u001b[A"
          ],
          "name": "stderr"
        },
        {
          "output_type": "stream",
          "text": [
            "/content/drive/MyDrive/ct-normal-slices-train/CPCR_0012_330_375_375_CR_P012.npy\n"
          ],
          "name": "stdout"
        },
        {
          "output_type": "stream",
          "text": [
            "\n",
            " 13%|█▎        | 12/91 [01:26<08:35,  6.53s/it]\u001b[A"
          ],
          "name": "stderr"
        },
        {
          "output_type": "stream",
          "text": [
            "/content/drive/MyDrive/ct-normal-slices-train/CPCR_0013_342_354_354_CR_P013.npy\n"
          ],
          "name": "stdout"
        },
        {
          "output_type": "stream",
          "text": [
            "\n",
            " 14%|█▍        | 13/91 [01:35<09:11,  7.08s/it]\u001b[A"
          ],
          "name": "stderr"
        },
        {
          "output_type": "stream",
          "text": [
            "/content/drive/MyDrive/ct-normal-slices-train/CPCR_0014_284_310_310_CR_P014.npy\n"
          ],
          "name": "stdout"
        },
        {
          "output_type": "stream",
          "text": [
            "\n",
            " 15%|█▌        | 14/91 [01:41<08:46,  6.84s/it]\u001b[A"
          ],
          "name": "stderr"
        },
        {
          "output_type": "stream",
          "text": [
            "/content/drive/MyDrive/ct-normal-slices-train/CPCR_0015_296_347_347_CR_P015.npy\n"
          ],
          "name": "stdout"
        },
        {
          "output_type": "stream",
          "text": [
            "\n",
            " 16%|█▋        | 15/91 [01:47<08:26,  6.67s/it]\u001b[A"
          ],
          "name": "stderr"
        },
        {
          "output_type": "stream",
          "text": [
            "/content/drive/MyDrive/ct-normal-slices-train/CPCR_0016_332_374_374_CR_P016.npy\n"
          ],
          "name": "stdout"
        },
        {
          "output_type": "stream",
          "text": [
            "\n",
            " 18%|█▊        | 16/91 [01:54<08:33,  6.84s/it]\u001b[A"
          ],
          "name": "stderr"
        },
        {
          "output_type": "stream",
          "text": [
            "/content/drive/MyDrive/ct-normal-slices-train/CPCR_0017_236_319_319_CR_P017.npy\n"
          ],
          "name": "stdout"
        },
        {
          "output_type": "stream",
          "text": [
            "\n",
            " 19%|█▊        | 17/91 [02:03<09:01,  7.32s/it]\u001b[A"
          ],
          "name": "stderr"
        },
        {
          "output_type": "stream",
          "text": [
            "/content/drive/MyDrive/ct-normal-slices-train/CPCR_0018_314_326_326_CR_P018.npy\n"
          ],
          "name": "stdout"
        },
        {
          "output_type": "stream",
          "text": [
            "\n",
            " 20%|█▉        | 18/91 [02:11<09:20,  7.67s/it]\u001b[A"
          ],
          "name": "stderr"
        },
        {
          "output_type": "stream",
          "text": [
            "/content/drive/MyDrive/ct-normal-slices-train/CPCR_0019_300_359_359_CR_P019.npy\n"
          ],
          "name": "stdout"
        },
        {
          "output_type": "stream",
          "text": [
            "\n",
            " 21%|██        | 19/91 [02:20<09:37,  8.02s/it]\u001b[A"
          ],
          "name": "stderr"
        },
        {
          "output_type": "stream",
          "text": [
            "/content/drive/MyDrive/ct-normal-slices-train/CPCR_0020_256_373_373_CR_P020.npy\n"
          ],
          "name": "stdout"
        },
        {
          "output_type": "stream",
          "text": [
            "\n",
            " 22%|██▏       | 20/91 [02:26<08:45,  7.40s/it]\u001b[A"
          ],
          "name": "stderr"
        },
        {
          "output_type": "stream",
          "text": [
            "/content/drive/MyDrive/ct-normal-slices-train/CPCR_0021_326_375_375_CR_P021.npy\n"
          ],
          "name": "stdout"
        },
        {
          "output_type": "stream",
          "text": [
            "\n",
            " 23%|██▎       | 21/91 [02:36<09:28,  8.12s/it]\u001b[A"
          ],
          "name": "stderr"
        },
        {
          "output_type": "stream",
          "text": [
            "/content/drive/MyDrive/ct-normal-slices-train/CPCR_0022_250_310_310_CR_P022.npy\n"
          ],
          "name": "stdout"
        },
        {
          "output_type": "stream",
          "text": [
            "\n",
            " 24%|██▍       | 22/91 [02:41<08:23,  7.29s/it]\u001b[A"
          ],
          "name": "stderr"
        },
        {
          "output_type": "stream",
          "text": [
            "/content/drive/MyDrive/ct-normal-slices-train/CPCR_0023_294_372_372_CR_P023.npy\n"
          ],
          "name": "stdout"
        },
        {
          "output_type": "stream",
          "text": [
            "\n",
            " 25%|██▌       | 23/91 [02:52<09:21,  8.26s/it]\u001b[A"
          ],
          "name": "stderr"
        },
        {
          "output_type": "stream",
          "text": [
            "/content/drive/MyDrive/ct-normal-slices-train/CPCR_0024_272_328_328_CR_P024.npy\n"
          ],
          "name": "stdout"
        },
        {
          "output_type": "stream",
          "text": [
            "\n",
            " 26%|██▋       | 24/91 [02:58<08:26,  7.56s/it]\u001b[A"
          ],
          "name": "stderr"
        },
        {
          "output_type": "stream",
          "text": [
            "/content/drive/MyDrive/ct-normal-slices-train/CPCR_0025_318_317_317_CR_P025.npy\n"
          ],
          "name": "stdout"
        },
        {
          "output_type": "stream",
          "text": [
            "\n",
            " 27%|██▋       | 25/91 [03:05<08:05,  7.36s/it]\u001b[A"
          ],
          "name": "stderr"
        },
        {
          "output_type": "stream",
          "text": [
            "/content/drive/MyDrive/ct-normal-slices-train/CPCR_0026_304_353_353_CR_P026.npy\n"
          ],
          "name": "stdout"
        },
        {
          "output_type": "stream",
          "text": [
            "\n",
            " 29%|██▊       | 26/91 [03:11<07:43,  7.13s/it]\u001b[A"
          ],
          "name": "stderr"
        },
        {
          "output_type": "stream",
          "text": [
            "/content/drive/MyDrive/ct-normal-slices-train/CPCR_0027_268_372_372_CR_P027.npy\n"
          ],
          "name": "stdout"
        },
        {
          "output_type": "stream",
          "text": [
            "\n",
            " 30%|██▉       | 27/91 [03:18<07:31,  7.05s/it]\u001b[A"
          ],
          "name": "stderr"
        },
        {
          "output_type": "stream",
          "text": [
            "/content/drive/MyDrive/ct-normal-slices-train/CPCR_0028_270_310_310_CR_P028.npy\n"
          ],
          "name": "stdout"
        },
        {
          "output_type": "stream",
          "text": [
            "\n",
            " 31%|███       | 28/91 [03:24<06:58,  6.65s/it]\u001b[A"
          ],
          "name": "stderr"
        },
        {
          "output_type": "stream",
          "text": [
            "/content/drive/MyDrive/ct-normal-slices-train/CPCR_0029_262_361_361_CR_P029.npy\n"
          ],
          "name": "stdout"
        },
        {
          "output_type": "stream",
          "text": [
            "\n",
            " 32%|███▏      | 29/91 [03:30<06:46,  6.56s/it]\u001b[A"
          ],
          "name": "stderr"
        },
        {
          "output_type": "stream",
          "text": [
            "/content/drive/MyDrive/ct-normal-slices-train/CPCR_0030_284_310_310_CR_P030.npy\n"
          ],
          "name": "stdout"
        },
        {
          "output_type": "stream",
          "text": [
            "\n",
            " 33%|███▎      | 30/91 [03:36<06:35,  6.48s/it]\u001b[A"
          ],
          "name": "stderr"
        },
        {
          "output_type": "stream",
          "text": [
            "/content/drive/MyDrive/ct-normal-slices-train/CPCR_0031_326_327_327_CR_P050.npy\n"
          ],
          "name": "stdout"
        },
        {
          "output_type": "stream",
          "text": [
            "\n",
            " 34%|███▍      | 31/91 [03:41<06:01,  6.02s/it]\u001b[A"
          ],
          "name": "stderr"
        },
        {
          "output_type": "stream",
          "text": [
            "/content/drive/MyDrive/ct-normal-slices-train/H_0001_288_368_368_normal001.npy\n"
          ],
          "name": "stdout"
        },
        {
          "output_type": "stream",
          "text": [
            "\n",
            " 35%|███▌      | 32/91 [03:46<05:24,  5.50s/it]\u001b[A"
          ],
          "name": "stderr"
        },
        {
          "output_type": "stream",
          "text": [
            "/content/drive/MyDrive/ct-normal-slices-train/H_0002_334_384_384_normal002.npy\n"
          ],
          "name": "stdout"
        },
        {
          "output_type": "stream",
          "text": [
            "\n",
            " 36%|███▋      | 33/91 [03:51<05:23,  5.58s/it]\u001b[A"
          ],
          "name": "stderr"
        },
        {
          "output_type": "stream",
          "text": [
            "/content/drive/MyDrive/ct-normal-slices-train/H_0003_338_397_397_normal003.npy\n"
          ],
          "name": "stdout"
        },
        {
          "output_type": "stream",
          "text": [
            "\n",
            " 37%|███▋      | 34/91 [03:58<05:37,  5.93s/it]\u001b[A"
          ],
          "name": "stderr"
        },
        {
          "output_type": "stream",
          "text": [
            "/content/drive/MyDrive/ct-normal-slices-train/H_0004_256_340_340_normal004.npy\n"
          ],
          "name": "stdout"
        },
        {
          "output_type": "stream",
          "text": [
            "\n",
            " 38%|███▊      | 35/91 [04:02<04:55,  5.28s/it]\u001b[A"
          ],
          "name": "stderr"
        },
        {
          "output_type": "stream",
          "text": [
            "/content/drive/MyDrive/ct-normal-slices-train/H_0005_286_310_310_normal005.npy\n"
          ],
          "name": "stdout"
        },
        {
          "output_type": "stream",
          "text": [
            "\n",
            " 40%|███▉      | 36/91 [04:06<04:27,  4.86s/it]\u001b[A"
          ],
          "name": "stderr"
        },
        {
          "output_type": "stream",
          "text": [
            "/content/drive/MyDrive/ct-normal-slices-train/H_0006_288_321_321_normal006.npy\n"
          ],
          "name": "stdout"
        },
        {
          "output_type": "stream",
          "text": [
            "\n",
            " 41%|████      | 37/91 [04:10<04:09,  4.62s/it]\u001b[A"
          ],
          "name": "stderr"
        },
        {
          "output_type": "stream",
          "text": [
            "/content/drive/MyDrive/ct-normal-slices-train/H_0007_284_372_372_normal007.npy\n"
          ],
          "name": "stdout"
        },
        {
          "output_type": "stream",
          "text": [
            "\n",
            " 42%|████▏     | 38/91 [04:15<04:07,  4.66s/it]\u001b[A"
          ],
          "name": "stderr"
        },
        {
          "output_type": "stream",
          "text": [
            "/content/drive/MyDrive/ct-normal-slices-train/H_0008_278_337_337_normal008.npy\n"
          ],
          "name": "stdout"
        },
        {
          "output_type": "stream",
          "text": [
            "\n",
            " 43%|████▎     | 39/91 [04:19<03:57,  4.57s/it]\u001b[A"
          ],
          "name": "stderr"
        },
        {
          "output_type": "stream",
          "text": [
            "/content/drive/MyDrive/ct-normal-slices-train/H_0009_290_395_395_normal009.npy\n"
          ],
          "name": "stdout"
        },
        {
          "output_type": "stream",
          "text": [
            "\n",
            " 44%|████▍     | 40/91 [04:28<04:55,  5.80s/it]\u001b[A"
          ],
          "name": "stderr"
        },
        {
          "output_type": "stream",
          "text": [
            "/content/drive/MyDrive/ct-normal-slices-train/H_0010_304_388_388_normal010.npy\n"
          ],
          "name": "stdout"
        },
        {
          "output_type": "stream",
          "text": [
            "\n",
            " 45%|████▌     | 41/91 [04:36<05:20,  6.41s/it]\u001b[A"
          ],
          "name": "stderr"
        },
        {
          "output_type": "stream",
          "text": [
            "/content/drive/MyDrive/ct-normal-slices-train/H_0011_276_382_382_normal011.npy\n"
          ],
          "name": "stdout"
        },
        {
          "output_type": "stream",
          "text": [
            "\n",
            " 46%|████▌     | 42/91 [04:45<06:02,  7.39s/it]\u001b[A"
          ],
          "name": "stderr"
        },
        {
          "output_type": "stream",
          "text": [
            "/content/drive/MyDrive/ct-normal-slices-train/H_0012_320_380_380_normal012.npy\n"
          ],
          "name": "stdout"
        },
        {
          "output_type": "stream",
          "text": [
            "\n",
            " 47%|████▋     | 43/91 [04:54<06:10,  7.73s/it]\u001b[A"
          ],
          "name": "stderr"
        },
        {
          "output_type": "stream",
          "text": [
            "/content/drive/MyDrive/ct-normal-slices-train/H_0013_372_397_397_normal013.npy\n"
          ],
          "name": "stdout"
        },
        {
          "output_type": "stream",
          "text": [
            "\n",
            " 48%|████▊     | 44/91 [05:10<08:07, 10.38s/it]\u001b[A"
          ],
          "name": "stderr"
        },
        {
          "output_type": "stream",
          "text": [
            "/content/drive/MyDrive/ct-normal-slices-train/H_0014_280_322_322_normal014.npy\n"
          ],
          "name": "stdout"
        },
        {
          "output_type": "stream",
          "text": [
            "\n",
            " 49%|████▉     | 45/91 [05:16<06:54,  9.00s/it]\u001b[A"
          ],
          "name": "stderr"
        },
        {
          "output_type": "stream",
          "text": [
            "/content/drive/MyDrive/ct-normal-slices-train/H_0015_290_352_352_normal015.npy\n"
          ],
          "name": "stdout"
        },
        {
          "output_type": "stream",
          "text": [
            "\n",
            " 51%|█████     | 46/91 [05:26<06:52,  9.16s/it]\u001b[A"
          ],
          "name": "stderr"
        },
        {
          "output_type": "stream",
          "text": [
            "/content/drive/MyDrive/ct-normal-slices-train/H_0016_248_308_308_normal016.npy\n"
          ],
          "name": "stdout"
        },
        {
          "output_type": "stream",
          "text": [
            "\n",
            " 52%|█████▏    | 47/91 [05:31<05:48,  7.92s/it]\u001b[A"
          ],
          "name": "stderr"
        },
        {
          "output_type": "stream",
          "text": [
            "/content/drive/MyDrive/ct-normal-slices-train/H_0017_354_376_376_normal017.npy\n"
          ],
          "name": "stdout"
        },
        {
          "output_type": "stream",
          "text": [
            "\n",
            " 53%|█████▎    | 48/91 [05:42<06:29,  9.05s/it]\u001b[A"
          ],
          "name": "stderr"
        },
        {
          "output_type": "stream",
          "text": [
            "/content/drive/MyDrive/ct-normal-slices-train/H_0018_272_352_352_normal018.npy\n"
          ],
          "name": "stdout"
        },
        {
          "output_type": "stream",
          "text": [
            "\n",
            " 54%|█████▍    | 49/91 [05:49<05:44,  8.21s/it]\u001b[A"
          ],
          "name": "stderr"
        },
        {
          "output_type": "stream",
          "text": [
            "/content/drive/MyDrive/ct-normal-slices-train/H_0019_266_318_318_normal019.npy\n"
          ],
          "name": "stdout"
        },
        {
          "output_type": "stream",
          "text": [
            "\n",
            " 55%|█████▍    | 50/91 [05:54<05:01,  7.36s/it]\u001b[A"
          ],
          "name": "stderr"
        },
        {
          "output_type": "stream",
          "text": [
            "/content/drive/MyDrive/ct-normal-slices-train/H_0020_274_310_310_normal020.npy\n"
          ],
          "name": "stdout"
        },
        {
          "output_type": "stream",
          "text": [
            "\n",
            " 56%|█████▌    | 51/91 [06:01<04:44,  7.11s/it]\u001b[A"
          ],
          "name": "stderr"
        },
        {
          "output_type": "stream",
          "text": [
            "/content/drive/MyDrive/ct-normal-slices-train/H_0021_310_301_301_normal021.npy\n"
          ],
          "name": "stdout"
        },
        {
          "output_type": "stream",
          "text": [
            "\n",
            " 57%|█████▋    | 52/91 [06:07<04:24,  6.78s/it]\u001b[A"
          ],
          "name": "stderr"
        },
        {
          "output_type": "stream",
          "text": [
            "/content/drive/MyDrive/ct-normal-slices-train/H_0022_298_372_372_normal022.npy\n"
          ],
          "name": "stdout"
        },
        {
          "output_type": "stream",
          "text": [
            "\n",
            " 58%|█████▊    | 53/91 [06:16<04:52,  7.71s/it]\u001b[A"
          ],
          "name": "stderr"
        },
        {
          "output_type": "stream",
          "text": [
            "/content/drive/MyDrive/ct-normal-slices-train/H_0023_324_310_310_normal023.npy\n"
          ],
          "name": "stdout"
        },
        {
          "output_type": "stream",
          "text": [
            "\n",
            " 59%|█████▉    | 54/91 [06:25<05:00,  8.12s/it]\u001b[A"
          ],
          "name": "stderr"
        },
        {
          "output_type": "stream",
          "text": [
            "/content/drive/MyDrive/ct-normal-slices-train/H_0024_334_302_302_normal024.npy\n"
          ],
          "name": "stdout"
        },
        {
          "output_type": "stream",
          "text": [
            "\n",
            " 60%|██████    | 55/91 [06:30<04:11,  6.97s/it]\u001b[A"
          ],
          "name": "stderr"
        },
        {
          "output_type": "stream",
          "text": [
            "/content/drive/MyDrive/ct-normal-slices-train/H_0025_312_318_318_normal025.npy\n"
          ],
          "name": "stdout"
        },
        {
          "output_type": "stream",
          "text": [
            "\n",
            " 62%|██████▏   | 56/91 [06:35<03:40,  6.30s/it]\u001b[A"
          ],
          "name": "stderr"
        },
        {
          "output_type": "stream",
          "text": [
            "/content/drive/MyDrive/ct-normal-slices-train/H_0026_294_333_333_normal026.npy\n"
          ],
          "name": "stdout"
        },
        {
          "output_type": "stream",
          "text": [
            "\n",
            " 63%|██████▎   | 57/91 [06:41<03:34,  6.32s/it]\u001b[A"
          ],
          "name": "stderr"
        },
        {
          "output_type": "stream",
          "text": [
            "/content/drive/MyDrive/ct-normal-slices-train/H_0027_336_394_394_normal027.npy\n"
          ],
          "name": "stdout"
        },
        {
          "output_type": "stream",
          "text": [
            "\n",
            " 64%|██████▎   | 58/91 [06:58<05:16,  9.58s/it]\u001b[A"
          ],
          "name": "stderr"
        },
        {
          "output_type": "stream",
          "text": [
            "/content/drive/MyDrive/ct-normal-slices-train/H_0028_288_372_372_normal028.npy\n"
          ],
          "name": "stdout"
        },
        {
          "output_type": "stream",
          "text": [
            "\n",
            " 65%|██████▍   | 59/91 [07:06<04:51,  9.12s/it]\u001b[A"
          ],
          "name": "stderr"
        },
        {
          "output_type": "stream",
          "text": [
            "/content/drive/MyDrive/ct-normal-slices-train/H_0029_274_366_366_normal029.npy\n"
          ],
          "name": "stdout"
        },
        {
          "output_type": "stream",
          "text": [
            "\n",
            " 66%|██████▌   | 60/91 [07:10<03:56,  7.64s/it]\u001b[A"
          ],
          "name": "stderr"
        },
        {
          "output_type": "stream",
          "text": [
            "/content/drive/MyDrive/ct-normal-slices-train/H_0030_260_323_323_normal030.npy\n"
          ],
          "name": "stdout"
        },
        {
          "output_type": "stream",
          "text": [
            "\n",
            " 67%|██████▋   | 61/91 [07:14<03:14,  6.47s/it]\u001b[A"
          ],
          "name": "stderr"
        },
        {
          "output_type": "stream",
          "text": [
            "/content/drive/MyDrive/ct-normal-slices-train/P_0001_336_302_302_cap001.npy\n"
          ],
          "name": "stdout"
        },
        {
          "output_type": "stream",
          "text": [
            "\n",
            " 68%|██████▊   | 62/91 [07:25<03:50,  7.94s/it]\u001b[A"
          ],
          "name": "stderr"
        },
        {
          "output_type": "stream",
          "text": [
            "/content/drive/MyDrive/ct-normal-slices-train/P_0002_262_323_323_cap002.npy\n"
          ],
          "name": "stdout"
        },
        {
          "output_type": "stream",
          "text": [
            "\n",
            " 69%|██████▉   | 63/91 [07:29<03:07,  6.68s/it]\u001b[A"
          ],
          "name": "stderr"
        },
        {
          "output_type": "stream",
          "text": [
            "/content/drive/MyDrive/ct-normal-slices-train/P_0003_268_316_316_cap003.npy\n"
          ],
          "name": "stdout"
        },
        {
          "output_type": "stream",
          "text": [
            "\n",
            " 70%|███████   | 64/91 [07:33<02:35,  5.74s/it]\u001b[A"
          ],
          "name": "stderr"
        },
        {
          "output_type": "stream",
          "text": [
            "/content/drive/MyDrive/ct-normal-slices-train/P_0004_362_343_343_cap004.npy\n"
          ],
          "name": "stdout"
        },
        {
          "output_type": "stream",
          "text": [
            "\n",
            " 71%|███████▏  | 65/91 [07:39<02:35,  6.00s/it]\u001b[A"
          ],
          "name": "stderr"
        },
        {
          "output_type": "stream",
          "text": [
            "/content/drive/MyDrive/ct-normal-slices-train/P_0005_274_344_344_cap005.npy\n"
          ],
          "name": "stdout"
        },
        {
          "output_type": "stream",
          "text": [
            "\n",
            " 73%|███████▎  | 66/91 [07:50<03:06,  7.45s/it]\u001b[A"
          ],
          "name": "stderr"
        },
        {
          "output_type": "stream",
          "text": [
            "/content/drive/MyDrive/ct-normal-slices-train/P_0006_314_347_347_cap006.npy\n"
          ],
          "name": "stdout"
        },
        {
          "output_type": "stream",
          "text": [
            "\n",
            " 74%|███████▎  | 67/91 [07:55<02:43,  6.81s/it]\u001b[A"
          ],
          "name": "stderr"
        },
        {
          "output_type": "stream",
          "text": [
            "/content/drive/MyDrive/ct-normal-slices-train/P_0007_318_329_329_cap007.npy\n"
          ],
          "name": "stdout"
        },
        {
          "output_type": "stream",
          "text": [
            "\n",
            " 75%|███████▍  | 68/91 [08:06<02:59,  7.79s/it]\u001b[A"
          ],
          "name": "stderr"
        },
        {
          "output_type": "stream",
          "text": [
            "/content/drive/MyDrive/ct-normal-slices-train/P_0008_342_312_312_cap008.npy\n"
          ],
          "name": "stdout"
        },
        {
          "output_type": "stream",
          "text": [
            "\n",
            " 76%|███████▌  | 69/91 [08:10<02:26,  6.68s/it]\u001b[A"
          ],
          "name": "stderr"
        },
        {
          "output_type": "stream",
          "text": [
            "/content/drive/MyDrive/ct-normal-slices-train/P_0009_380_340_340_cap009.npy\n"
          ],
          "name": "stdout"
        },
        {
          "output_type": "stream",
          "text": [
            "\n",
            " 77%|███████▋  | 70/91 [08:20<02:42,  7.76s/it]\u001b[A"
          ],
          "name": "stderr"
        },
        {
          "output_type": "stream",
          "text": [
            "/content/drive/MyDrive/ct-normal-slices-train/P_0010_318_346_346_cap010.npy\n"
          ],
          "name": "stdout"
        },
        {
          "output_type": "stream",
          "text": [
            "\n",
            " 78%|███████▊  | 71/91 [08:26<02:27,  7.35s/it]\u001b[A"
          ],
          "name": "stderr"
        },
        {
          "output_type": "stream",
          "text": [
            "/content/drive/MyDrive/ct-normal-slices-train/P_0011_318_395_395_cap011.npy\n"
          ],
          "name": "stdout"
        },
        {
          "output_type": "stream",
          "text": [
            "\n",
            " 79%|███████▉  | 72/91 [08:37<02:39,  8.37s/it]\u001b[A"
          ],
          "name": "stderr"
        },
        {
          "output_type": "stream",
          "text": [
            "/content/drive/MyDrive/ct-normal-slices-train/P_0012_374_402_402_cap012.npy\n"
          ],
          "name": "stdout"
        },
        {
          "output_type": "stream",
          "text": [
            "\n",
            " 80%|████████  | 73/91 [08:47<02:39,  8.84s/it]\u001b[A"
          ],
          "name": "stderr"
        },
        {
          "output_type": "stream",
          "text": [
            "/content/drive/MyDrive/ct-normal-slices-train/P_0013_282_372_372_cap013.npy\n"
          ],
          "name": "stdout"
        },
        {
          "output_type": "stream",
          "text": [
            "\n",
            " 81%|████████▏ | 74/91 [08:55<02:26,  8.61s/it]\u001b[A"
          ],
          "name": "stderr"
        },
        {
          "output_type": "stream",
          "text": [
            "/content/drive/MyDrive/ct-normal-slices-train/P_0014_324_357_357_cap014.npy\n"
          ],
          "name": "stdout"
        },
        {
          "output_type": "stream",
          "text": [
            "\n",
            " 82%|████████▏ | 75/91 [09:12<02:58, 11.17s/it]\u001b[A"
          ],
          "name": "stderr"
        },
        {
          "output_type": "stream",
          "text": [
            "/content/drive/MyDrive/ct-normal-slices-train/P_0015_302_310_310_cap015.npy\n"
          ],
          "name": "stdout"
        },
        {
          "output_type": "stream",
          "text": [
            "\n",
            " 84%|████████▎ | 76/91 [09:16<02:15,  9.00s/it]\u001b[A"
          ],
          "name": "stderr"
        },
        {
          "output_type": "stream",
          "text": [
            "/content/drive/MyDrive/ct-normal-slices-train/P_0016_260_319_319_cap016.npy\n"
          ],
          "name": "stdout"
        },
        {
          "output_type": "stream",
          "text": [
            "\n",
            " 85%|████████▍ | 77/91 [09:23<01:58,  8.45s/it]\u001b[A"
          ],
          "name": "stderr"
        },
        {
          "output_type": "stream",
          "text": [
            "/content/drive/MyDrive/ct-normal-slices-train/P_0017_274_330_330_cap017.npy\n"
          ],
          "name": "stdout"
        },
        {
          "output_type": "stream",
          "text": [
            "\n",
            " 86%|████████▌ | 78/91 [09:29<01:38,  7.55s/it]\u001b[A"
          ],
          "name": "stderr"
        },
        {
          "output_type": "stream",
          "text": [
            "/content/drive/MyDrive/ct-normal-slices-train/P_0018_282_297_297_cap018.npy\n"
          ],
          "name": "stdout"
        },
        {
          "output_type": "stream",
          "text": [
            "\n",
            " 87%|████████▋ | 79/91 [09:34<01:23,  6.98s/it]\u001b[A"
          ],
          "name": "stderr"
        },
        {
          "output_type": "stream",
          "text": [
            "/content/drive/MyDrive/ct-normal-slices-train/P_0019_272_310_310_cap019.npy\n"
          ],
          "name": "stdout"
        },
        {
          "output_type": "stream",
          "text": [
            "\n",
            " 88%|████████▊ | 80/91 [09:40<01:11,  6.49s/it]\u001b[A"
          ],
          "name": "stderr"
        },
        {
          "output_type": "stream",
          "text": [
            "/content/drive/MyDrive/ct-normal-slices-train/P_0020_266_307_307_cap020.npy\n"
          ],
          "name": "stdout"
        },
        {
          "output_type": "stream",
          "text": [
            "\n",
            " 89%|████████▉ | 81/91 [09:47<01:06,  6.70s/it]\u001b[A"
          ],
          "name": "stderr"
        },
        {
          "output_type": "stream",
          "text": [
            "/content/drive/MyDrive/ct-normal-slices-train/P_0021_310_310_310_cap021.npy\n"
          ],
          "name": "stdout"
        },
        {
          "output_type": "stream",
          "text": [
            "\n",
            " 90%|█████████ | 82/91 [09:54<01:01,  6.86s/it]\u001b[A"
          ],
          "name": "stderr"
        },
        {
          "output_type": "stream",
          "text": [
            "/content/drive/MyDrive/ct-normal-slices-train/P_0022_328_392_392_cap022.npy\n"
          ],
          "name": "stdout"
        },
        {
          "output_type": "stream",
          "text": [
            "\n",
            " 91%|█████████ | 83/91 [10:02<00:58,  7.25s/it]\u001b[A"
          ],
          "name": "stderr"
        },
        {
          "output_type": "stream",
          "text": [
            "/content/drive/MyDrive/ct-normal-slices-train/P_0023_372_352_352_cap023.npy\n"
          ],
          "name": "stdout"
        },
        {
          "output_type": "stream",
          "text": [
            "\n",
            " 92%|█████████▏| 84/91 [10:11<00:54,  7.76s/it]\u001b[A"
          ],
          "name": "stderr"
        },
        {
          "output_type": "stream",
          "text": [
            "/content/drive/MyDrive/ct-normal-slices-train/P_0024_302_354_354_cap024.npy\n"
          ],
          "name": "stdout"
        },
        {
          "output_type": "stream",
          "text": [
            "\n",
            " 93%|█████████▎| 85/91 [10:18<00:44,  7.45s/it]\u001b[A"
          ],
          "name": "stderr"
        },
        {
          "output_type": "stream",
          "text": [
            "/content/drive/MyDrive/ct-normal-slices-train/P_0025_352_444_444_cap025.npy\n"
          ],
          "name": "stdout"
        },
        {
          "output_type": "stream",
          "text": [
            "\n",
            " 95%|█████████▍| 86/91 [10:28<00:40,  8.17s/it]\u001b[A"
          ],
          "name": "stderr"
        },
        {
          "output_type": "stream",
          "text": [
            "/content/drive/MyDrive/ct-normal-slices-train/P_0026_286_479_479_cap026.npy\n"
          ],
          "name": "stdout"
        },
        {
          "output_type": "stream",
          "text": [
            "\n",
            " 96%|█████████▌| 87/91 [10:42<00:39,  9.91s/it]\u001b[A"
          ],
          "name": "stderr"
        },
        {
          "output_type": "stream",
          "text": [
            "/content/drive/MyDrive/ct-normal-slices-train/P_0027_370_308_308_cap027.npy\n"
          ],
          "name": "stdout"
        },
        {
          "output_type": "stream",
          "text": [
            "\n",
            " 97%|█████████▋| 88/91 [10:51<00:28,  9.55s/it]\u001b[A"
          ],
          "name": "stderr"
        },
        {
          "output_type": "stream",
          "text": [
            "/content/drive/MyDrive/ct-normal-slices-train/P_0028_316_337_337_cap028.npy\n"
          ],
          "name": "stdout"
        },
        {
          "output_type": "stream",
          "text": [
            "\n",
            " 98%|█████████▊| 89/91 [10:59<00:18,  9.23s/it]\u001b[A"
          ],
          "name": "stderr"
        },
        {
          "output_type": "stream",
          "text": [
            "/content/drive/MyDrive/ct-normal-slices-train/P_0029_502_358_358_cap029.npy\n"
          ],
          "name": "stdout"
        },
        {
          "output_type": "stream",
          "text": [
            "\n",
            " 99%|█████████▉| 90/91 [11:15<00:11, 11.29s/it]\u001b[A"
          ],
          "name": "stderr"
        },
        {
          "output_type": "stream",
          "text": [
            "/content/drive/MyDrive/ct-normal-slices-train/P_0030_576_370_370_cap030.npy\n"
          ],
          "name": "stdout"
        },
        {
          "output_type": "stream",
          "text": [
            "\n",
            "100%|██████████| 91/91 [11:29<00:00,  7.57s/it]\n"
          ],
          "name": "stderr"
        }
      ]
    },
    {
      "cell_type": "markdown",
      "metadata": {
        "id": "B-CU9sQw7N62"
      },
      "source": [
        "### Prepare labels"
      ]
    },
    {
      "cell_type": "code",
      "metadata": {
        "id": "dRUcU12tTfkX",
        "colab": {
          "base_uri": "https://localhost:8080/"
        },
        "outputId": "7442a10c-93bd-4817-8b06-5d63e70d7c61"
      },
      "source": [
        "'''\n",
        "Based on the name of files (C: COVID, H: Health , P: Pneumonia or CAP)\n",
        "'''\n",
        "lbl = np.zeros((91))\n",
        "lbl[0:31] = 1 #COVID\n",
        "lbl[31:61] = 0 #Health\n",
        "lbl[61:91] = 2 #CAP\n",
        "print(lbl)"
      ],
      "execution_count": 29,
      "outputs": [
        {
          "output_type": "stream",
          "text": [
            "[1. 1. 1. 1. 1. 1. 1. 1. 1. 1. 1. 1. 1. 1. 1. 1. 1. 1. 1. 1. 1. 1. 1. 1.\n",
            " 1. 1. 1. 1. 1. 1. 1. 0. 0. 0. 0. 0. 0. 0. 0. 0. 0. 0. 0. 0. 0. 0. 0. 0.\n",
            " 0. 0. 0. 0. 0. 0. 0. 0. 0. 0. 0. 0. 0. 2. 2. 2. 2. 2. 2. 2. 2. 2. 2. 2.\n",
            " 2. 2. 2. 2. 2. 2. 2. 2. 2. 2. 2. 2. 2. 2. 2. 2. 2. 2. 2.]\n"
          ],
          "name": "stdout"
        }
      ]
    },
    {
      "cell_type": "code",
      "metadata": {
        "id": "COooOCiztCNF"
      },
      "source": [
        "'''\n",
        "For saving the RAM, you can save the data and restart you runtime.\n",
        "please import librarys again to continue\n",
        "'''\n",
        "np.save('/content/drive/My Drive/diff_dataset.npy',dataset)\n",
        "np.save('/content/drive/My Drive/diff_lbl.npy',lbl)"
      ],
      "execution_count": 30,
      "outputs": []
    },
    {
      "cell_type": "markdown",
      "metadata": {
        "id": "S31yQM_-8NGN"
      },
      "source": [
        "### 3D CNN training"
      ]
    },
    {
      "cell_type": "code",
      "metadata": {
        "id": "OO2VXNd7yidl"
      },
      "source": [
        "import keras\n",
        "from keras.models import Sequential\n",
        "from keras.layers import Dense, Flatten, Conv3D, MaxPooling3D,Dropout\n",
        "from keras.utils import to_categorical\n",
        "import h5py\n",
        "import numpy as np\n",
        "import matplotlib.pyplot as plt"
      ],
      "execution_count": 31,
      "outputs": []
    },
    {
      "cell_type": "code",
      "metadata": {
        "id": "PZSuKaY4USDX"
      },
      "source": [
        "dataset = np.load('/content/drive/My Drive/diff_dataset.npy')\n",
        "lbl = np.load('/content/drive/My Drive/diff_lbl.npy')"
      ],
      "execution_count": 32,
      "outputs": []
    },
    {
      "cell_type": "code",
      "metadata": {
        "id": "cJR9Rk2e3mF7"
      },
      "source": [
        "# reshape the dataset to feed to the model\n",
        "dataset = np.reshape(dataset,(dataset.shape[0],dataset.shape[1],dataset.shape[2],dataset.shape[3],1))"
      ],
      "execution_count": 33,
      "outputs": []
    },
    {
      "cell_type": "code",
      "metadata": {
        "id": "2RMuLzQRx_gk",
        "colab": {
          "base_uri": "https://localhost:8080/"
        },
        "outputId": "f245b68e-185a-407d-acaf-960fa707f29c"
      },
      "source": [
        "# for balancing data as the inputs of the model\n",
        "c = np.random.permutation(np.arange(0,31))\n",
        "h = np.random.permutation(np.arange(31,61))\n",
        "p = np.random.permutation(np.arange(61,91))\n",
        "\n",
        "train_index = np.random.permutation(np.append(np.append(c[0:15],h[0:15]),p[0:15]))\n",
        "print('training set:', train_index)\n",
        "validation_index = np.random.permutation(np.append(np.append(c[15:31],h[15:30]),p[15:30]))\n",
        "print('validation set:',validation_index)"
      ],
      "execution_count": 35,
      "outputs": [
        {
          "output_type": "stream",
          "text": [
            "training set: [16 40 33  8 28 76  5 70 51  6 26 18 54 81 83 39 19 60  1 69 71 55 75 35\n",
            " 80 30 67 49 37 86 47 72 82 15 73 59  9 46 63 10 27 90  7 36 43]\n",
            "validation set: [57 17 84 22 58 11 14 38 44 68 20 52 31 85  3 88 53  0 50 48 45 66 41 61\n",
            " 87 25 64 78  2 29  4 62 24 42 65 89 79 74 56 12 21 13 77 32 34 23]\n"
          ],
          "name": "stdout"
        }
      ]
    },
    {
      "cell_type": "code",
      "metadata": {
        "id": "cXqMa2CXyVmb"
      },
      "source": [
        "# Convert target vectors to categorical targets\n",
        "targets_train = to_categorical(lbl[train_index]).astype(np.int32)\n",
        "targets_validation = to_categorical(lbl[validation_index]).astype(np.int32)"
      ],
      "execution_count": 37,
      "outputs": []
    },
    {
      "cell_type": "code",
      "metadata": {
        "id": "uyrVUjPPtgaz",
        "colab": {
          "base_uri": "https://localhost:8080/"
        },
        "outputId": "6deb5e39-3459-41a8-e367-3229df678d5f"
      },
      "source": [
        "model = Sequential()\n",
        "model.add(Conv3D(8, kernel_size=(3, 3, 3), activation='relu', kernel_initializer='he_uniform', input_shape=(50,128,128,1)))\n",
        "model.add(Conv3D(8, kernel_size=(3, 3, 3), activation='relu', kernel_initializer='he_uniform',padding='same'))\n",
        "model.add(MaxPooling3D(pool_size=(2, 2, 2)))\n",
        "\n",
        "model.add(Conv3D(16, kernel_size=(3, 3, 3), activation='relu', kernel_initializer='he_uniform',padding='same'))\n",
        "model.add(Conv3D(16, kernel_size=(3, 3, 3), activation='relu', kernel_initializer='he_uniform',padding='same'))\n",
        "model.add(MaxPooling3D(pool_size=(2, 2, 2)))\n",
        "\n",
        "model.add(Conv3D(32, kernel_size=(3, 3, 3), activation='relu', kernel_initializer='he_uniform',padding='same'))\n",
        "model.add(Conv3D(32, kernel_size=(3, 3, 3), activation='relu', kernel_initializer='he_uniform',padding='same'))\n",
        "model.add(MaxPooling3D(pool_size=(2, 2, 2)))\n",
        "\n",
        "model.add(Conv3D(64, kernel_size=(3, 3, 3), activation='relu', kernel_initializer='he_uniform',padding='same'))\n",
        "model.add(Conv3D(64, kernel_size=(3, 3, 3), activation='relu', kernel_initializer='he_uniform',padding='same'))\n",
        "model.add(MaxPooling3D(pool_size=(2, 2, 2)))\n",
        "\n",
        "model.add(Conv3D(128, kernel_size=(3, 3, 3), activation='relu', kernel_initializer='he_uniform',padding='same'))\n",
        "model.add(Conv3D(128, kernel_size=(3, 3, 3), activation='relu', kernel_initializer='he_uniform',padding='same'))\n",
        "model.add(MaxPooling3D(pool_size=(2, 2, 2)))\n",
        "\n",
        "model.add(Flatten())\n",
        "model.add(Dense(32, activation='relu', kernel_initializer='he_uniform'))\n",
        "model.add(Dropout(0.3))\n",
        "model.add(Dense(3, activation='softmax'))\n",
        "model.summary()"
      ],
      "execution_count": 38,
      "outputs": [
        {
          "output_type": "stream",
          "text": [
            "Model: \"sequential\"\n",
            "_________________________________________________________________\n",
            "Layer (type)                 Output Shape              Param #   \n",
            "=================================================================\n",
            "conv3d (Conv3D)              (None, 48, 126, 126, 8)   224       \n",
            "_________________________________________________________________\n",
            "conv3d_1 (Conv3D)            (None, 48, 126, 126, 8)   1736      \n",
            "_________________________________________________________________\n",
            "max_pooling3d (MaxPooling3D) (None, 24, 63, 63, 8)     0         \n",
            "_________________________________________________________________\n",
            "conv3d_2 (Conv3D)            (None, 24, 63, 63, 16)    3472      \n",
            "_________________________________________________________________\n",
            "conv3d_3 (Conv3D)            (None, 24, 63, 63, 16)    6928      \n",
            "_________________________________________________________________\n",
            "max_pooling3d_1 (MaxPooling3 (None, 12, 31, 31, 16)    0         \n",
            "_________________________________________________________________\n",
            "conv3d_4 (Conv3D)            (None, 12, 31, 31, 32)    13856     \n",
            "_________________________________________________________________\n",
            "conv3d_5 (Conv3D)            (None, 12, 31, 31, 32)    27680     \n",
            "_________________________________________________________________\n",
            "max_pooling3d_2 (MaxPooling3 (None, 6, 15, 15, 32)     0         \n",
            "_________________________________________________________________\n",
            "conv3d_6 (Conv3D)            (None, 6, 15, 15, 64)     55360     \n",
            "_________________________________________________________________\n",
            "conv3d_7 (Conv3D)            (None, 6, 15, 15, 64)     110656    \n",
            "_________________________________________________________________\n",
            "max_pooling3d_3 (MaxPooling3 (None, 3, 7, 7, 64)       0         \n",
            "_________________________________________________________________\n",
            "conv3d_8 (Conv3D)            (None, 3, 7, 7, 128)      221312    \n",
            "_________________________________________________________________\n",
            "conv3d_9 (Conv3D)            (None, 3, 7, 7, 128)      442496    \n",
            "_________________________________________________________________\n",
            "max_pooling3d_4 (MaxPooling3 (None, 1, 3, 3, 128)      0         \n",
            "_________________________________________________________________\n",
            "flatten (Flatten)            (None, 1152)              0         \n",
            "_________________________________________________________________\n",
            "dense (Dense)                (None, 32)                36896     \n",
            "_________________________________________________________________\n",
            "dropout_8 (Dropout)          (None, 32)                0         \n",
            "_________________________________________________________________\n",
            "dense_1 (Dense)              (None, 3)                 99        \n",
            "=================================================================\n",
            "Total params: 920,715\n",
            "Trainable params: 920,715\n",
            "Non-trainable params: 0\n",
            "_________________________________________________________________\n"
          ],
          "name": "stdout"
        }
      ]
    },
    {
      "cell_type": "code",
      "metadata": {
        "id": "zWMbulfdUGJA"
      },
      "source": [
        "# Compile the model\n",
        "model.compile(loss=keras.losses.categorical_crossentropy, # or 'mse'\n",
        "              optimizer=keras.optimizers.Adam(lr=0.0001),\n",
        "              metrics=['accuracy'])\n"
      ],
      "execution_count": 40,
      "outputs": []
    },
    {
      "cell_type": "code",
      "metadata": {
        "id": "_8nQmmzyyS0m",
        "colab": {
          "base_uri": "https://localhost:8080/"
        },
        "outputId": "80bd4acd-b2ad-49cb-b54b-d2220e9e758a"
      },
      "source": [
        "# Fit data to model\n",
        "history = model.fit(dataset[train_index], targets_train,\n",
        "            batch_size=16, # batch_size = 16 in paper\n",
        "            epochs=100, # epochs = 100 in paper\n",
        "            verbose=1,\n",
        "            shuffle = True,\n",
        "            validation_data = (dataset[validation_index],targets_validation))"
      ],
      "execution_count": 42,
      "outputs": [
        {
          "output_type": "stream",
          "text": [
            "Epoch 1/100\n",
            "3/3 [==============================] - 2s 725ms/step - loss: 1.0895 - accuracy: 0.4000 - val_loss: 1.0908 - val_accuracy: 0.3478\n",
            "Epoch 2/100\n",
            "3/3 [==============================] - 2s 598ms/step - loss: 1.0723 - accuracy: 0.4444 - val_loss: 1.0885 - val_accuracy: 0.3696\n",
            "Epoch 3/100\n",
            "3/3 [==============================] - 2s 595ms/step - loss: 1.0808 - accuracy: 0.4444 - val_loss: 1.0849 - val_accuracy: 0.3696\n",
            "Epoch 4/100\n",
            "3/3 [==============================] - 2s 599ms/step - loss: 1.0680 - accuracy: 0.4889 - val_loss: 1.0809 - val_accuracy: 0.3913\n",
            "Epoch 5/100\n",
            "3/3 [==============================] - 2s 595ms/step - loss: 1.0455 - accuracy: 0.6000 - val_loss: 1.0768 - val_accuracy: 0.4783\n",
            "Epoch 6/100\n",
            "3/3 [==============================] - 2s 596ms/step - loss: 1.0189 - accuracy: 0.6889 - val_loss: 1.0692 - val_accuracy: 0.4783\n",
            "Epoch 7/100\n",
            "3/3 [==============================] - 2s 597ms/step - loss: 1.0248 - accuracy: 0.5778 - val_loss: 1.0607 - val_accuracy: 0.4565\n",
            "Epoch 8/100\n",
            "3/3 [==============================] - 2s 598ms/step - loss: 1.0186 - accuracy: 0.4667 - val_loss: 1.0490 - val_accuracy: 0.5217\n",
            "Epoch 9/100\n",
            "3/3 [==============================] - 2s 598ms/step - loss: 0.9723 - accuracy: 0.6444 - val_loss: 1.0350 - val_accuracy: 0.6739\n",
            "Epoch 10/100\n",
            "3/3 [==============================] - 2s 603ms/step - loss: 0.9666 - accuracy: 0.6000 - val_loss: 1.0232 - val_accuracy: 0.3913\n",
            "Epoch 11/100\n",
            "3/3 [==============================] - 2s 596ms/step - loss: 0.8869 - accuracy: 0.6000 - val_loss: 0.9908 - val_accuracy: 0.5217\n",
            "Epoch 12/100\n",
            "3/3 [==============================] - 2s 598ms/step - loss: 0.8511 - accuracy: 0.6667 - val_loss: 0.9862 - val_accuracy: 0.4565\n",
            "Epoch 13/100\n",
            "3/3 [==============================] - 2s 596ms/step - loss: 0.8370 - accuracy: 0.6667 - val_loss: 0.9264 - val_accuracy: 0.6957\n",
            "Epoch 14/100\n",
            "3/3 [==============================] - 2s 598ms/step - loss: 0.7231 - accuracy: 0.7778 - val_loss: 0.8938 - val_accuracy: 0.7609\n",
            "Epoch 15/100\n",
            "3/3 [==============================] - 2s 599ms/step - loss: 0.7901 - accuracy: 0.6444 - val_loss: 0.8619 - val_accuracy: 0.7391\n",
            "Epoch 16/100\n",
            "3/3 [==============================] - 2s 600ms/step - loss: 0.6482 - accuracy: 0.7778 - val_loss: 0.8393 - val_accuracy: 0.7391\n",
            "Epoch 17/100\n",
            "3/3 [==============================] - 2s 596ms/step - loss: 0.5941 - accuracy: 0.8444 - val_loss: 0.8181 - val_accuracy: 0.7391\n",
            "Epoch 18/100\n",
            "3/3 [==============================] - 2s 596ms/step - loss: 0.4570 - accuracy: 0.9333 - val_loss: 0.7557 - val_accuracy: 0.7609\n",
            "Epoch 19/100\n",
            "3/3 [==============================] - 2s 597ms/step - loss: 0.5033 - accuracy: 0.7778 - val_loss: 0.7542 - val_accuracy: 0.7174\n",
            "Epoch 20/100\n",
            "3/3 [==============================] - 2s 597ms/step - loss: 0.4352 - accuracy: 0.8444 - val_loss: 0.7480 - val_accuracy: 0.6957\n",
            "Epoch 21/100\n",
            "3/3 [==============================] - 2s 594ms/step - loss: 0.3844 - accuracy: 0.8667 - val_loss: 0.7352 - val_accuracy: 0.7391\n",
            "Epoch 22/100\n",
            "3/3 [==============================] - 2s 595ms/step - loss: 0.3224 - accuracy: 0.9333 - val_loss: 0.7085 - val_accuracy: 0.7391\n",
            "Epoch 23/100\n",
            "3/3 [==============================] - 2s 596ms/step - loss: 0.3412 - accuracy: 0.9111 - val_loss: 0.6852 - val_accuracy: 0.7391\n",
            "Epoch 24/100\n",
            "3/3 [==============================] - 2s 594ms/step - loss: 0.3195 - accuracy: 0.9111 - val_loss: 0.6594 - val_accuracy: 0.7174\n",
            "Epoch 25/100\n",
            "3/3 [==============================] - 2s 596ms/step - loss: 0.3190 - accuracy: 0.9111 - val_loss: 0.6987 - val_accuracy: 0.7174\n",
            "Epoch 26/100\n",
            "3/3 [==============================] - 2s 597ms/step - loss: 0.2064 - accuracy: 0.9556 - val_loss: 0.7397 - val_accuracy: 0.6304\n",
            "Epoch 27/100\n",
            "3/3 [==============================] - 2s 597ms/step - loss: 0.2761 - accuracy: 0.8889 - val_loss: 0.9288 - val_accuracy: 0.7391\n",
            "Epoch 28/100\n",
            "3/3 [==============================] - 2s 598ms/step - loss: 0.3190 - accuracy: 0.8667 - val_loss: 0.8105 - val_accuracy: 0.7826\n",
            "Epoch 29/100\n",
            "3/3 [==============================] - 2s 595ms/step - loss: 0.1920 - accuracy: 0.9556 - val_loss: 0.8428 - val_accuracy: 0.6739\n",
            "Epoch 30/100\n",
            "3/3 [==============================] - 2s 596ms/step - loss: 0.2500 - accuracy: 0.9333 - val_loss: 0.8160 - val_accuracy: 0.6957\n",
            "Epoch 31/100\n",
            "3/3 [==============================] - 2s 596ms/step - loss: 0.2145 - accuracy: 0.9333 - val_loss: 1.0070 - val_accuracy: 0.6957\n",
            "Epoch 32/100\n",
            "3/3 [==============================] - 2s 600ms/step - loss: 0.2005 - accuracy: 0.9333 - val_loss: 0.9410 - val_accuracy: 0.6739\n",
            "Epoch 33/100\n",
            "3/3 [==============================] - 2s 598ms/step - loss: 0.1227 - accuracy: 0.9778 - val_loss: 0.8560 - val_accuracy: 0.7174\n",
            "Epoch 34/100\n",
            "3/3 [==============================] - 2s 601ms/step - loss: 0.1387 - accuracy: 0.9778 - val_loss: 0.8414 - val_accuracy: 0.7391\n",
            "Epoch 35/100\n",
            "3/3 [==============================] - 2s 599ms/step - loss: 0.2632 - accuracy: 0.9111 - val_loss: 1.0383 - val_accuracy: 0.7174\n",
            "Epoch 36/100\n",
            "3/3 [==============================] - 2s 602ms/step - loss: 0.0809 - accuracy: 1.0000 - val_loss: 0.8204 - val_accuracy: 0.7609\n",
            "Epoch 37/100\n",
            "3/3 [==============================] - 2s 599ms/step - loss: 0.0717 - accuracy: 0.9778 - val_loss: 0.7555 - val_accuracy: 0.6957\n",
            "Epoch 38/100\n",
            "3/3 [==============================] - 2s 600ms/step - loss: 0.0676 - accuracy: 1.0000 - val_loss: 0.7669 - val_accuracy: 0.7174\n",
            "Epoch 39/100\n",
            "3/3 [==============================] - 2s 600ms/step - loss: 0.0886 - accuracy: 0.9778 - val_loss: 0.8034 - val_accuracy: 0.7609\n",
            "Epoch 40/100\n",
            "3/3 [==============================] - 2s 600ms/step - loss: 0.0433 - accuracy: 1.0000 - val_loss: 1.0135 - val_accuracy: 0.7826\n",
            "Epoch 41/100\n",
            "3/3 [==============================] - 2s 595ms/step - loss: 0.0518 - accuracy: 0.9778 - val_loss: 1.1393 - val_accuracy: 0.7391\n",
            "Epoch 42/100\n",
            "3/3 [==============================] - 2s 595ms/step - loss: 0.0719 - accuracy: 0.9778 - val_loss: 0.9014 - val_accuracy: 0.7826\n",
            "Epoch 43/100\n",
            "3/3 [==============================] - 2s 595ms/step - loss: 0.0715 - accuracy: 0.9778 - val_loss: 0.8323 - val_accuracy: 0.7174\n",
            "Epoch 44/100\n",
            "3/3 [==============================] - 2s 598ms/step - loss: 0.0543 - accuracy: 1.0000 - val_loss: 0.8780 - val_accuracy: 0.7391\n",
            "Epoch 45/100\n",
            "3/3 [==============================] - 2s 596ms/step - loss: 0.0517 - accuracy: 1.0000 - val_loss: 0.8942 - val_accuracy: 0.6739\n",
            "Epoch 46/100\n",
            "3/3 [==============================] - 2s 594ms/step - loss: 0.0756 - accuracy: 0.9556 - val_loss: 1.0979 - val_accuracy: 0.8043\n",
            "Epoch 47/100\n",
            "3/3 [==============================] - 2s 600ms/step - loss: 0.0359 - accuracy: 1.0000 - val_loss: 1.3830 - val_accuracy: 0.7174\n",
            "Epoch 48/100\n",
            "3/3 [==============================] - 2s 594ms/step - loss: 0.0973 - accuracy: 0.9556 - val_loss: 1.1922 - val_accuracy: 0.7609\n",
            "Epoch 49/100\n",
            "3/3 [==============================] - 2s 592ms/step - loss: 0.0210 - accuracy: 1.0000 - val_loss: 1.0046 - val_accuracy: 0.7826\n",
            "Epoch 50/100\n",
            "3/3 [==============================] - 2s 598ms/step - loss: 0.0486 - accuracy: 1.0000 - val_loss: 0.9335 - val_accuracy: 0.7391\n",
            "Epoch 51/100\n",
            "3/3 [==============================] - 2s 599ms/step - loss: 0.0519 - accuracy: 1.0000 - val_loss: 0.9229 - val_accuracy: 0.7391\n",
            "Epoch 52/100\n",
            "3/3 [==============================] - 2s 600ms/step - loss: 0.1088 - accuracy: 0.9778 - val_loss: 1.0694 - val_accuracy: 0.7826\n",
            "Epoch 53/100\n",
            "3/3 [==============================] - 2s 595ms/step - loss: 0.0162 - accuracy: 1.0000 - val_loss: 1.2175 - val_accuracy: 0.7609\n",
            "Epoch 54/100\n",
            "3/3 [==============================] - 2s 597ms/step - loss: 0.0484 - accuracy: 1.0000 - val_loss: 1.1495 - val_accuracy: 0.8043\n",
            "Epoch 55/100\n",
            "3/3 [==============================] - 2s 598ms/step - loss: 0.0138 - accuracy: 1.0000 - val_loss: 1.0735 - val_accuracy: 0.7609\n",
            "Epoch 56/100\n",
            "3/3 [==============================] - 2s 597ms/step - loss: 0.0173 - accuracy: 1.0000 - val_loss: 1.0798 - val_accuracy: 0.6957\n",
            "Epoch 57/100\n",
            "3/3 [==============================] - 2s 597ms/step - loss: 0.0107 - accuracy: 1.0000 - val_loss: 1.0737 - val_accuracy: 0.7391\n",
            "Epoch 58/100\n",
            "3/3 [==============================] - 2s 598ms/step - loss: 0.0100 - accuracy: 1.0000 - val_loss: 1.0593 - val_accuracy: 0.7391\n",
            "Epoch 59/100\n",
            "3/3 [==============================] - 2s 599ms/step - loss: 0.0104 - accuracy: 1.0000 - val_loss: 1.0972 - val_accuracy: 0.7609\n",
            "Epoch 60/100\n",
            "3/3 [==============================] - 2s 600ms/step - loss: 0.0074 - accuracy: 1.0000 - val_loss: 1.1429 - val_accuracy: 0.7609\n",
            "Epoch 61/100\n",
            "3/3 [==============================] - 2s 600ms/step - loss: 0.0388 - accuracy: 0.9778 - val_loss: 1.0901 - val_accuracy: 0.7391\n",
            "Epoch 62/100\n",
            "3/3 [==============================] - 2s 594ms/step - loss: 0.0516 - accuracy: 0.9778 - val_loss: 1.1555 - val_accuracy: 0.6522\n",
            "Epoch 63/100\n",
            "3/3 [==============================] - 2s 597ms/step - loss: 0.0056 - accuracy: 1.0000 - val_loss: 1.2239 - val_accuracy: 0.6304\n",
            "Epoch 64/100\n",
            "3/3 [==============================] - 2s 596ms/step - loss: 0.0142 - accuracy: 1.0000 - val_loss: 1.2357 - val_accuracy: 0.6304\n",
            "Epoch 65/100\n",
            "3/3 [==============================] - 2s 600ms/step - loss: 0.0255 - accuracy: 0.9778 - val_loss: 1.1723 - val_accuracy: 0.7391\n",
            "Epoch 66/100\n",
            "3/3 [==============================] - 2s 594ms/step - loss: 0.0239 - accuracy: 1.0000 - val_loss: 1.4747 - val_accuracy: 0.7391\n",
            "Epoch 67/100\n",
            "3/3 [==============================] - 2s 598ms/step - loss: 0.0672 - accuracy: 0.9778 - val_loss: 1.4373 - val_accuracy: 0.7609\n",
            "Epoch 68/100\n",
            "3/3 [==============================] - 2s 599ms/step - loss: 0.0083 - accuracy: 1.0000 - val_loss: 1.6272 - val_accuracy: 0.6522\n",
            "Epoch 69/100\n",
            "3/3 [==============================] - 2s 598ms/step - loss: 0.1241 - accuracy: 0.9556 - val_loss: 1.5386 - val_accuracy: 0.7826\n",
            "Epoch 70/100\n",
            "3/3 [==============================] - 2s 598ms/step - loss: 0.0365 - accuracy: 1.0000 - val_loss: 2.9658 - val_accuracy: 0.6304\n",
            "Epoch 71/100\n",
            "3/3 [==============================] - 2s 595ms/step - loss: 0.1996 - accuracy: 0.9111 - val_loss: 1.1643 - val_accuracy: 0.6957\n",
            "Epoch 72/100\n",
            "3/3 [==============================] - 2s 596ms/step - loss: 0.6242 - accuracy: 0.8889 - val_loss: 1.1598 - val_accuracy: 0.6739\n",
            "Epoch 73/100\n",
            "3/3 [==============================] - 2s 601ms/step - loss: 0.0808 - accuracy: 0.9556 - val_loss: 2.0074 - val_accuracy: 0.6522\n",
            "Epoch 74/100\n",
            "3/3 [==============================] - 2s 597ms/step - loss: 0.2279 - accuracy: 0.8889 - val_loss: 1.2274 - val_accuracy: 0.6957\n",
            "Epoch 75/100\n",
            "3/3 [==============================] - 2s 601ms/step - loss: 0.0648 - accuracy: 0.9778 - val_loss: 0.9641 - val_accuracy: 0.6957\n",
            "Epoch 76/100\n",
            "3/3 [==============================] - 2s 597ms/step - loss: 0.1249 - accuracy: 0.9778 - val_loss: 0.9460 - val_accuracy: 0.6957\n",
            "Epoch 77/100\n",
            "3/3 [==============================] - 2s 599ms/step - loss: 0.1236 - accuracy: 0.9778 - val_loss: 0.9239 - val_accuracy: 0.7609\n",
            "Epoch 78/100\n",
            "3/3 [==============================] - 2s 601ms/step - loss: 0.0666 - accuracy: 1.0000 - val_loss: 1.0126 - val_accuracy: 0.7174\n",
            "Epoch 79/100\n",
            "3/3 [==============================] - 2s 599ms/step - loss: 0.0562 - accuracy: 0.9778 - val_loss: 1.0301 - val_accuracy: 0.7391\n",
            "Epoch 80/100\n",
            "3/3 [==============================] - 2s 598ms/step - loss: 0.0458 - accuracy: 1.0000 - val_loss: 0.9462 - val_accuracy: 0.7826\n",
            "Epoch 81/100\n",
            "3/3 [==============================] - 2s 598ms/step - loss: 0.0250 - accuracy: 1.0000 - val_loss: 0.9487 - val_accuracy: 0.7826\n",
            "Epoch 82/100\n",
            "3/3 [==============================] - 2s 597ms/step - loss: 0.0176 - accuracy: 1.0000 - val_loss: 0.9806 - val_accuracy: 0.7826\n",
            "Epoch 83/100\n",
            "3/3 [==============================] - 2s 598ms/step - loss: 0.0122 - accuracy: 1.0000 - val_loss: 1.0021 - val_accuracy: 0.7826\n",
            "Epoch 84/100\n",
            "3/3 [==============================] - 2s 597ms/step - loss: 0.0156 - accuracy: 1.0000 - val_loss: 1.0230 - val_accuracy: 0.7826\n",
            "Epoch 85/100\n",
            "3/3 [==============================] - 2s 597ms/step - loss: 0.0151 - accuracy: 1.0000 - val_loss: 1.0520 - val_accuracy: 0.7609\n",
            "Epoch 86/100\n",
            "3/3 [==============================] - 2s 599ms/step - loss: 0.0340 - accuracy: 0.9778 - val_loss: 1.1044 - val_accuracy: 0.7826\n",
            "Epoch 87/100\n",
            "3/3 [==============================] - 2s 596ms/step - loss: 0.0315 - accuracy: 1.0000 - val_loss: 1.1736 - val_accuracy: 0.7826\n",
            "Epoch 88/100\n",
            "3/3 [==============================] - 2s 597ms/step - loss: 0.0052 - accuracy: 1.0000 - val_loss: 1.2335 - val_accuracy: 0.7826\n",
            "Epoch 89/100\n",
            "3/3 [==============================] - 2s 599ms/step - loss: 0.0093 - accuracy: 1.0000 - val_loss: 1.3061 - val_accuracy: 0.7826\n",
            "Epoch 90/100\n",
            "3/3 [==============================] - 2s 595ms/step - loss: 0.0247 - accuracy: 1.0000 - val_loss: 1.3653 - val_accuracy: 0.7826\n",
            "Epoch 91/100\n",
            "3/3 [==============================] - 2s 596ms/step - loss: 0.0292 - accuracy: 1.0000 - val_loss: 1.4620 - val_accuracy: 0.8043\n",
            "Epoch 92/100\n",
            "3/3 [==============================] - 2s 595ms/step - loss: 0.0061 - accuracy: 1.0000 - val_loss: 1.5450 - val_accuracy: 0.7826\n",
            "Epoch 93/100\n",
            "3/3 [==============================] - 2s 597ms/step - loss: 0.0083 - accuracy: 1.0000 - val_loss: 1.6067 - val_accuracy: 0.8043\n",
            "Epoch 94/100\n",
            "3/3 [==============================] - 2s 596ms/step - loss: 0.0062 - accuracy: 1.0000 - val_loss: 1.6440 - val_accuracy: 0.8043\n",
            "Epoch 95/100\n",
            "3/3 [==============================] - 2s 595ms/step - loss: 0.0069 - accuracy: 1.0000 - val_loss: 1.6668 - val_accuracy: 0.8043\n",
            "Epoch 96/100\n",
            "3/3 [==============================] - 2s 597ms/step - loss: 0.0024 - accuracy: 1.0000 - val_loss: 1.6860 - val_accuracy: 0.7609\n",
            "Epoch 97/100\n",
            "3/3 [==============================] - 2s 599ms/step - loss: 0.0041 - accuracy: 1.0000 - val_loss: 1.6906 - val_accuracy: 0.8043\n",
            "Epoch 98/100\n",
            "3/3 [==============================] - 2s 596ms/step - loss: 0.0054 - accuracy: 1.0000 - val_loss: 1.6928 - val_accuracy: 0.8043\n",
            "Epoch 99/100\n",
            "3/3 [==============================] - 2s 602ms/step - loss: 0.0013 - accuracy: 1.0000 - val_loss: 1.6861 - val_accuracy: 0.8043\n",
            "Epoch 100/100\n",
            "3/3 [==============================] - 2s 593ms/step - loss: 0.0018 - accuracy: 1.0000 - val_loss: 1.6816 - val_accuracy: 0.7826\n"
          ],
          "name": "stdout"
        }
      ]
    },
    {
      "cell_type": "code",
      "metadata": {
        "id": "ulKShFtnb06c",
        "colab": {
          "base_uri": "https://localhost:8080/"
        },
        "outputId": "f4ee7472-97ab-421e-8e84-f9fcfe758d50"
      },
      "source": [
        "from sklearn import metrics\n",
        "matrix = metrics.confusion_matrix(targets_validation.argmax(axis=1), model.predict(dataset[validation_index]).argmax(axis=1))\n",
        "print(matrix)"
      ],
      "execution_count": 43,
      "outputs": [
        {
          "output_type": "stream",
          "text": [
            "[[13  0  2]\n",
            " [ 1 14  1]\n",
            " [ 3  3  9]]\n"
          ],
          "name": "stdout"
        }
      ]
    },
    {
      "cell_type": "code",
      "metadata": {
        "id": "wZueQbhib4rq",
        "colab": {
          "base_uri": "https://localhost:8080/",
          "height": 404
        },
        "outputId": "a1350a23-09c5-4fcb-910f-a104e5e7fb02"
      },
      "source": [
        "import keras\n",
        "from matplotlib import pyplot as plt\n",
        "plt.figure(figsize=(10,6))\n",
        "plt.plot(history.history['accuracy'])\n",
        "plt.plot(history.history['val_accuracy'])\n",
        "plt.title('Model accuracy')\n",
        "plt.ylabel('Accuracy')\n",
        "plt.xlabel('Epoch')\n",
        "plt.legend(['train', 'validation'], loc='lower right')\n",
        "plt.show()"
      ],
      "execution_count": 44,
      "outputs": [
        {
          "output_type": "display_data",
          "data": {
            "image/png": "[encoded data removed]",
            "text/plain": [
              "<Figure size 720x432 with 1 Axes>"
            ]
          },
          "metadata": {
            "tags": [],
            "needs_background": "light"
          }
        }
      ]
    },
    {
      "cell_type": "code",
      "metadata": {
        "id": "DQnmbCoBb5L6",
        "colab": {
          "base_uri": "https://localhost:8080/",
          "height": 404
        },
        "outputId": "89188aa7-0341-4615-9590-771e9ddd75e9"
      },
      "source": [
        "plt.figure(figsize=(10,6))\n",
        "plt.plot(history.history['loss'])\n",
        "plt.plot(history.history['val_loss'])\n",
        "plt.title('Model loss')\n",
        "plt.ylabel('Loss')\n",
        "plt.xlabel('Epoch')\n",
        "plt.legend(['train', 'validation'], loc='upper right')\n",
        "plt.show()"
      ],
      "execution_count": 45,
      "outputs": [
        {
          "output_type": "display_data",
          "data": {
            "image/png": "[encoded data removed]",
            "text/plain": [
              "<Figure size 720x432 with 1 Axes>"
            ]
          },
          "metadata": {
            "tags": [],
            "needs_background": "light"
          }
        }
      ]
    },
    {
      "cell_type": "markdown",
      "metadata": {
        "id": "kZVyKPqQYYBm"
      },
      "source": [
        "### saving"
      ]
    },
    {
      "cell_type": "code",
      "metadata": {
        "id": "rRVhScUQ1Xv4"
      },
      "source": [
        "from keras.models import model_from_json\n",
        "\n",
        "model_json = model.to_json()\n",
        "with open(\"model.json\", \"w\") as json_file:\n",
        "    json_file.write(model_json)\n",
        "\n",
        "model.save_weights(\"/content/drive/My Drive/weight_cnn_CovidCtNet2d.h5\")"
      ],
      "execution_count": 46,
      "outputs": []
    }
  ]
}