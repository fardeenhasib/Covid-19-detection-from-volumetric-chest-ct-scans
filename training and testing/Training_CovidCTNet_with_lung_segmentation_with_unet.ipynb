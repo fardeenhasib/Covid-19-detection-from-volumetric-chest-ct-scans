{
  "nbformat": 4,
  "nbformat_minor": 0,
  "metadata": {
    "colab": {
      "name": "Copy of Training-CovidCTNet_with_lung_segmentation_with_unet.ipynb",
      "provenance": [],
      "collapsed_sections": [],
      "toc_visible": true,
      "machine_shape": "hm"
    },
    "kernelspec": {
      "display_name": "Python 3",
      "name": "python3"
    },
    "accelerator": "GPU"
  },
  "cells": [
    {
      "cell_type": "markdown",
      "metadata": {
        "id": "-BwgP4GkdTFs"
      },
      "source": [
        "## Note\n",
        "The paramters in this sample code are similar to  our main training code but we test this code on limited number of data for the sake of speed\n"
      ]
    },
    {
      "cell_type": "markdown",
      "metadata": {
        "id": "mIyC5aLK1Nlu"
      },
      "source": [
        "## Mounting Drive"
      ]
    },
    {
      "cell_type": "code",
      "metadata": {
        "colab": {
          "base_uri": "https://localhost:8080/"
        },
        "id": "LP9i6HoFkkt7",
        "outputId": "f70742af-caf9-40f4-9ac9-1003b52ec3f6"
      },
      "source": [
        "from google.colab import drive\n",
        "drive.mount('/content/drive')"
      ],
      "execution_count": null,
      "outputs": [
        {
          "output_type": "stream",
          "text": [
            "Drive already mounted at /content/drive; to attempt to forcibly remount, call drive.mount(\"/content/drive\", force_remount=True).\n"
          ],
          "name": "stdout"
        }
      ]
    },
    {
      "cell_type": "markdown",
      "metadata": {
        "id": "mteGy4hL1Svw"
      },
      "source": [
        "## Data directory "
      ]
    },
    {
      "cell_type": "code",
      "metadata": {
        "colab": {
          "base_uri": "https://localhost:8080/"
        },
        "id": "jlWk34Uad57a",
        "outputId": "01a1e842-610a-4314-cd0f-ab33bbca0714"
      },
      "source": [
        "import glob\n",
        "import os\n",
        "import numpy as np\n",
        "from tqdm import tqdm\n",
        "\n",
        "folder_npy = '/content/drive/MyDrive/googledrive_segmentation/ct-normal-slices-train'\n",
        "\n",
        "file_paths = glob.glob(os.path.join(folder_npy, '*.npy'))\n",
        "file_paths.sort()\n",
        "print(file_paths)\n",
        "print(len(file_paths))"
      ],
      "execution_count": null,
      "outputs": [
        {
          "output_type": "stream",
          "text": [
            "['/content/drive/MyDrive/googledrive_segmentation/ct-normal-slices-train/CPCR_0001_296_281_383_CR_P001.npy', '/content/drive/MyDrive/googledrive_segmentation/ct-normal-slices-train/CPCR_0002_266_273_309_CR_P002.npy', '/content/drive/MyDrive/googledrive_segmentation/ct-normal-slices-train/CPCR_0003_268_338_372_CR_P003.npy', '/content/drive/MyDrive/googledrive_segmentation/ct-normal-slices-train/CPCR_0004_328_298_372_CR_P004.npy', '/content/drive/MyDrive/googledrive_segmentation/ct-normal-slices-train/CPCR_0005_288_262_369_CR_P005.npy', '/content/drive/MyDrive/googledrive_segmentation/ct-normal-slices-train/CPCR_0006_286_294_317_CR_P006.npy', '/content/drive/MyDrive/googledrive_segmentation/ct-normal-slices-train/CPCR_0007_302_286_310_CR_P007.npy', '/content/drive/MyDrive/googledrive_segmentation/ct-normal-slices-train/CPCR_0008_318_345_355_CR_P008.npy', '/content/drive/MyDrive/googledrive_segmentation/ct-normal-slices-train/CPCR_0009_346_326_364_CR_P009.npy', '/content/drive/MyDrive/googledrive_segmentation/ct-normal-slices-train/CPCR_0010_276_286_294_CR_P010.npy', '/content/drive/MyDrive/googledrive_segmentation/ct-normal-slices-train/CPCR_0011_270_297_333_CR_P011.npy', '/content/drive/MyDrive/googledrive_segmentation/ct-normal-slices-train/CPCR_0012_330_346_375_CR_P012.npy', '/content/drive/MyDrive/googledrive_segmentation/ct-normal-slices-train/CPCR_0013_342_334_354_CR_P013.npy', '/content/drive/MyDrive/googledrive_segmentation/ct-normal-slices-train/CPCR_0014_284_269_310_CR_P014.npy', '/content/drive/MyDrive/googledrive_segmentation/ct-normal-slices-train/CPCR_0015_296_276_347_CR_P015.npy', '/content/drive/MyDrive/googledrive_segmentation/ct-normal-slices-train/CPCR_0016_332_325_368_CR_P016.npy', '/content/drive/MyDrive/googledrive_segmentation/ct-normal-slices-train/CPCR_0017_236_250_309_CR_P017.npy', '/content/drive/MyDrive/googledrive_segmentation/ct-normal-slices-train/CPCR_0018_314_282_319_CR_P018.npy', '/content/drive/MyDrive/googledrive_segmentation/ct-normal-slices-train/CPCR_0019_300_272_359_CR_P019.npy', '/content/drive/MyDrive/googledrive_segmentation/ct-normal-slices-train/CPCR_0020_256_267_369_CR_P020.npy', '/content/drive/MyDrive/googledrive_segmentation/ct-normal-slices-train/CPCR_0021_326_326_374_CR_P021.npy', '/content/drive/MyDrive/googledrive_segmentation/ct-normal-slices-train/CPCR_0022_250_259_310_CR_P022.npy', '/content/drive/MyDrive/googledrive_segmentation/ct-normal-slices-train/CPCR_0023_294_318_372_CR_P023.npy', '/content/drive/MyDrive/googledrive_segmentation/ct-normal-slices-train/CPCR_0024_272_279_328_CR_P024.npy', '/content/drive/MyDrive/googledrive_segmentation/ct-normal-slices-train/CPCR_0025_318_301_317_CR_P025.npy', '/content/drive/MyDrive/googledrive_segmentation/ct-normal-slices-train/CPCR_0026_304_291_353_CR_P026.npy', '/content/drive/MyDrive/googledrive_segmentation/ct-normal-slices-train/CPCR_0027_268_347_369_CR_P027.npy', '/content/drive/MyDrive/googledrive_segmentation/ct-normal-slices-train/CPCR_0028_270_264_310_CR_P028.npy', '/content/drive/MyDrive/googledrive_segmentation/ct-normal-slices-train/CPCR_0029_262_313_343_CR_P029.npy', '/content/drive/MyDrive/googledrive_segmentation/ct-normal-slices-train/CPCR_0030_284_302_310_CR_P030.npy', '/content/drive/MyDrive/googledrive_segmentation/ct-normal-slices-train/CPCR_0031_306_317_372_CR_P031.npy', '/content/drive/MyDrive/googledrive_segmentation/ct-normal-slices-train/CPCR_0032_262_261_326_CR_P032.npy', '/content/drive/MyDrive/googledrive_segmentation/ct-normal-slices-train/CPCR_0033_298_323_370_CR_P033.npy', '/content/drive/MyDrive/googledrive_segmentation/ct-normal-slices-train/CPCR_0034_320_381_415_CR_P034.npy', '/content/drive/MyDrive/googledrive_segmentation/ct-normal-slices-train/CPCR_0035_338_300_351_CR_P035.npy', '/content/drive/MyDrive/googledrive_segmentation/ct-normal-slices-train/CPCR_0036_294_363_388_CR_P036.npy', '/content/drive/MyDrive/googledrive_segmentation/ct-normal-slices-train/CPCR_0037_244_306_319_CR_P037.npy', '/content/drive/MyDrive/googledrive_segmentation/ct-normal-slices-train/CPCR_0038_274_334_397_CR_P038.npy', '/content/drive/MyDrive/googledrive_segmentation/ct-normal-slices-train/CPCR_0039_346_325_384_CR_P039.npy', '/content/drive/MyDrive/googledrive_segmentation/ct-normal-slices-train/CPCR_0040_288_262_351_CR_P040.npy', '/content/drive/MyDrive/googledrive_segmentation/ct-normal-slices-train/CPCR_0041_292_308_371_CR_P041.npy', '/content/drive/MyDrive/googledrive_segmentation/ct-normal-slices-train/CPCR_0042_268_317_372_CR_P042.npy', '/content/drive/MyDrive/googledrive_segmentation/ct-normal-slices-train/CPCR_0043_296_314_390_CR_P043.npy', '/content/drive/MyDrive/googledrive_segmentation/ct-normal-slices-train/CPCR_0044_290_250_320_CR_P044.npy', '/content/drive/MyDrive/googledrive_segmentation/ct-normal-slices-train/CPCR_0045_328_282_374_CR_P045.npy', '/content/drive/MyDrive/googledrive_segmentation/ct-normal-slices-train/CPCR_0046_288_267_319_CR_P046.npy', '/content/drive/MyDrive/googledrive_segmentation/ct-normal-slices-train/CPCR_0047_320_234_288_CR_P047.npy', '/content/drive/MyDrive/googledrive_segmentation/ct-normal-slices-train/CPCR_0048_354_253_327_CR_P048.npy', '/content/drive/MyDrive/googledrive_segmentation/ct-normal-slices-train/CPCR_0049_282_254_310_CR_P049.npy', '/content/drive/MyDrive/googledrive_segmentation/ct-normal-slices-train/CPCR_0050_326_274_327_CR_P050.npy', '/content/drive/MyDrive/googledrive_segmentation/ct-normal-slices-train/CPCR_0051_316_273_375_CR_P051.npy', '/content/drive/MyDrive/googledrive_segmentation/ct-normal-slices-train/CPCR_0052_318_324_348_CR_P052.npy', '/content/drive/MyDrive/googledrive_segmentation/ct-normal-slices-train/CPCR_0053_318_299_336_CR_P053.npy', '/content/drive/MyDrive/googledrive_segmentation/ct-normal-slices-train/CPCR_0054_334_288_370_CR_P054.npy', '/content/drive/MyDrive/googledrive_segmentation/ct-normal-slices-train/CPCR_0055_304_303_372_CR_P055.npy', '/content/drive/MyDrive/googledrive_segmentation/ct-normal-slices-train/H_0001_288_270_368_normal001.npy', '/content/drive/MyDrive/googledrive_segmentation/ct-normal-slices-train/H_0002_334_334_370_normal002.npy', '/content/drive/MyDrive/googledrive_segmentation/ct-normal-slices-train/H_0003_338_344_393_normal003.npy', '/content/drive/MyDrive/googledrive_segmentation/ct-normal-slices-train/H_0004_256_258_340_normal004.npy', '/content/drive/MyDrive/googledrive_segmentation/ct-normal-slices-train/H_0005_286_252_310_normal005.npy', '/content/drive/MyDrive/googledrive_segmentation/ct-normal-slices-train/H_0006_288_237_321_normal006.npy', '/content/drive/MyDrive/googledrive_segmentation/ct-normal-slices-train/H_0007_284_372_368_normal007.npy', '/content/drive/MyDrive/googledrive_segmentation/ct-normal-slices-train/H_0008_278_266_337_normal008.npy', '/content/drive/MyDrive/googledrive_segmentation/ct-normal-slices-train/H_0009_290_292_365_normal009.npy', '/content/drive/MyDrive/googledrive_segmentation/ct-normal-slices-train/H_0010_304_368_384_normal010.npy', '/content/drive/MyDrive/googledrive_segmentation/ct-normal-slices-train/H_0011_276_286_382_normal011.npy', '/content/drive/MyDrive/googledrive_segmentation/ct-normal-slices-train/H_0012_320_363_377_normal012.npy', '/content/drive/MyDrive/googledrive_segmentation/ct-normal-slices-train/H_0013_372_332_397_normal013.npy', '/content/drive/MyDrive/googledrive_segmentation/ct-normal-slices-train/H_0014_280_284_312_normal014.npy', '/content/drive/MyDrive/googledrive_segmentation/ct-normal-slices-train/H_0015_290_315_339_normal015.npy', '/content/drive/MyDrive/googledrive_segmentation/ct-normal-slices-train/H_0016_248_272_298_normal016.npy', '/content/drive/MyDrive/googledrive_segmentation/ct-normal-slices-train/H_0017_354_318_376_normal017.npy', '/content/drive/MyDrive/googledrive_segmentation/ct-normal-slices-train/H_0018_272_258_352_normal018.npy', '/content/drive/MyDrive/googledrive_segmentation/ct-normal-slices-train/H_0019_266_277_318_normal019.npy', '/content/drive/MyDrive/googledrive_segmentation/ct-normal-slices-train/H_0020_274_245_310_normal020.npy', '/content/drive/MyDrive/googledrive_segmentation/ct-normal-slices-train/H_0021_310_262_301_normal021.npy', '/content/drive/MyDrive/googledrive_segmentation/ct-normal-slices-train/H_0022_298_334_372_normal022.npy', '/content/drive/MyDrive/googledrive_segmentation/ct-normal-slices-train/H_0023_324_258_310_normal023.npy', '/content/drive/MyDrive/googledrive_segmentation/ct-normal-slices-train/H_0024_334_276_302_normal024.npy', '/content/drive/MyDrive/googledrive_segmentation/ct-normal-slices-train/H_0025_312_289_318_normal025.npy', '/content/drive/MyDrive/googledrive_segmentation/ct-normal-slices-train/H_0026_294_245_333_normal026.npy', '/content/drive/MyDrive/googledrive_segmentation/ct-normal-slices-train/H_0027_336_272_383_normal027.npy', '/content/drive/MyDrive/googledrive_segmentation/ct-normal-slices-train/H_0028_288_266_345_normal028.npy', '/content/drive/MyDrive/googledrive_segmentation/ct-normal-slices-train/H_0029_274_349_356_normal029.npy', '/content/drive/MyDrive/googledrive_segmentation/ct-normal-slices-train/H_0030_260_283_323_normal030.npy', '/content/drive/MyDrive/googledrive_segmentation/ct-normal-slices-train/H_0031_332_310_342_normal031.npy', '/content/drive/MyDrive/googledrive_segmentation/ct-normal-slices-train/H_0032_292_236_302_normal032.npy', '/content/drive/MyDrive/googledrive_segmentation/ct-normal-slices-train/H_0033_280_274_315_normal033.npy', '/content/drive/MyDrive/googledrive_segmentation/ct-normal-slices-train/H_0034_268_260_344_normal034.npy', '/content/drive/MyDrive/googledrive_segmentation/ct-normal-slices-train/H_0035_252_239_296_normal035.npy', '/content/drive/MyDrive/googledrive_segmentation/ct-normal-slices-train/H_0036_318_291_345_normal036.npy', '/content/drive/MyDrive/googledrive_segmentation/ct-normal-slices-train/H_0037_296_276_356_normal037.npy', '/content/drive/MyDrive/googledrive_segmentation/ct-normal-slices-train/H_0038_370_296_352_normal038.npy', '/content/drive/MyDrive/googledrive_segmentation/ct-normal-slices-train/H_0039_308_291_325_normal039.npy', '/content/drive/MyDrive/googledrive_segmentation/ct-normal-slices-train/H_0040_302_284_310_normal040.npy', '/content/drive/MyDrive/googledrive_segmentation/ct-normal-slices-train/H_0041_302_348_386_normal041.npy', '/content/drive/MyDrive/googledrive_segmentation/ct-normal-slices-train/H_0042_258_343_356_normal042.npy', '/content/drive/MyDrive/googledrive_segmentation/ct-normal-slices-train/H_0043_286_249_316_normal043.npy', '/content/drive/MyDrive/googledrive_segmentation/ct-normal-slices-train/H_0044_300_276_295_normal044.npy', '/content/drive/MyDrive/googledrive_segmentation/ct-normal-slices-train/H_0045_308_250_306_normal045.npy', '/content/drive/MyDrive/googledrive_segmentation/ct-normal-slices-train/H_0046_284_338_330_normal046.npy', '/content/drive/MyDrive/googledrive_segmentation/ct-normal-slices-train/H_0047_236_247_287_normal047.npy', '/content/drive/MyDrive/googledrive_segmentation/ct-normal-slices-train/H_0048_336_340_389_normal048.npy', '/content/drive/MyDrive/googledrive_segmentation/ct-normal-slices-train/H_0049_324_270_326_normal049.npy', '/content/drive/MyDrive/googledrive_segmentation/ct-normal-slices-train/H_0050_344_319_364_normal050.npy', '/content/drive/MyDrive/googledrive_segmentation/ct-normal-slices-train/H_0051_320_334_363_normal051.npy', '/content/drive/MyDrive/googledrive_segmentation/ct-normal-slices-train/H_0052_284_334_387_normal052.npy', '/content/drive/MyDrive/googledrive_segmentation/ct-normal-slices-train/H_0053_304_342_383_normal053.npy', '/content/drive/MyDrive/googledrive_segmentation/ct-normal-slices-train/H_0054_328_296_338_normal054.npy', '/content/drive/MyDrive/googledrive_segmentation/ct-normal-slices-train/H_0055_288_245_299_normal055.npy', '/content/drive/MyDrive/googledrive_segmentation/ct-normal-slices-train/P_0001_336_272_302_cap001.npy', '/content/drive/MyDrive/googledrive_segmentation/ct-normal-slices-train/P_0002_262_270_317_cap002.npy', '/content/drive/MyDrive/googledrive_segmentation/ct-normal-slices-train/P_0003_268_270_316_cap003.npy', '/content/drive/MyDrive/googledrive_segmentation/ct-normal-slices-train/P_0004_362_292_338_cap004.npy', '/content/drive/MyDrive/googledrive_segmentation/ct-normal-slices-train/P_0005_274_331_325_cap005.npy', '/content/drive/MyDrive/googledrive_segmentation/ct-normal-slices-train/P_0006_314_266_339_cap006.npy', '/content/drive/MyDrive/googledrive_segmentation/ct-normal-slices-train/P_0007_318_273_328_cap007.npy', '/content/drive/MyDrive/googledrive_segmentation/ct-normal-slices-train/P_0008_342_259_312_cap008.npy', '/content/drive/MyDrive/googledrive_segmentation/ct-normal-slices-train/P_0009_380_300_329_cap009.npy', '/content/drive/MyDrive/googledrive_segmentation/ct-normal-slices-train/P_0010_318_248_343_cap010.npy', '/content/drive/MyDrive/googledrive_segmentation/ct-normal-slices-train/P_0011_318_381_392_cap011.npy', '/content/drive/MyDrive/googledrive_segmentation/ct-normal-slices-train/P_0012_374_358_402_cap012.npy', '/content/drive/MyDrive/googledrive_segmentation/ct-normal-slices-train/P_0013_282_284_365_cap013.npy', '/content/drive/MyDrive/googledrive_segmentation/ct-normal-slices-train/P_0014_324_299_350_cap014.npy', '/content/drive/MyDrive/googledrive_segmentation/ct-normal-slices-train/P_0015_302_229_308_cap015.npy', '/content/drive/MyDrive/googledrive_segmentation/ct-normal-slices-train/P_0016_260_290_292_cap016.npy', '/content/drive/MyDrive/googledrive_segmentation/ct-normal-slices-train/P_0017_274_303_326_cap017.npy', '/content/drive/MyDrive/googledrive_segmentation/ct-normal-slices-train/P_0018_282_291_297_cap018.npy', '/content/drive/MyDrive/googledrive_segmentation/ct-normal-slices-train/P_0019_272_309_310_cap019.npy', '/content/drive/MyDrive/googledrive_segmentation/ct-normal-slices-train/P_0020_266_296_307_cap020.npy', '/content/drive/MyDrive/googledrive_segmentation/ct-normal-slices-train/P_0021_310_243_310_cap021.npy', '/content/drive/MyDrive/googledrive_segmentation/ct-normal-slices-train/P_0022_328_344_392_cap022.npy', '/content/drive/MyDrive/googledrive_segmentation/ct-normal-slices-train/P_0023_372_296_338_cap023.npy', '/content/drive/MyDrive/googledrive_segmentation/ct-normal-slices-train/P_0024_302_312_353_cap024.npy', '/content/drive/MyDrive/googledrive_segmentation/ct-normal-slices-train/P_0025_352_257_396_cap025.npy', '/content/drive/MyDrive/googledrive_segmentation/ct-normal-slices-train/P_0026_286_333_460_cap026.npy', '/content/drive/MyDrive/googledrive_segmentation/ct-normal-slices-train/P_0027_370_273_308_cap027.npy', '/content/drive/MyDrive/googledrive_segmentation/ct-normal-slices-train/P_0028_316_263_337_cap028.npy', '/content/drive/MyDrive/googledrive_segmentation/ct-normal-slices-train/P_0029_502_346_358_cap029.npy', '/content/drive/MyDrive/googledrive_segmentation/ct-normal-slices-train/P_0030_576_364_361_cap030.npy', '/content/drive/MyDrive/googledrive_segmentation/ct-normal-slices-train/P_0031_344_331_378_cap031.npy', '/content/drive/MyDrive/googledrive_segmentation/ct-normal-slices-train/P_0032_278_281_376_cap032.npy', '/content/drive/MyDrive/googledrive_segmentation/ct-normal-slices-train/P_0033_252_257_304_cap033.npy', '/content/drive/MyDrive/googledrive_segmentation/ct-normal-slices-train/P_0034_288_277_335_cap034.npy', '/content/drive/MyDrive/googledrive_segmentation/ct-normal-slices-train/P_0035_340_371_460_cap035.npy', '/content/drive/MyDrive/googledrive_segmentation/ct-normal-slices-train/P_0036_272_289_289_cap036.npy', '/content/drive/MyDrive/googledrive_segmentation/ct-normal-slices-train/P_0037_314_276_334_cap037.npy', '/content/drive/MyDrive/googledrive_segmentation/ct-normal-slices-train/P_0038_296_244_344_cap038.npy', '/content/drive/MyDrive/googledrive_segmentation/ct-normal-slices-train/P_0039_390_267_323_cap039.npy', '/content/drive/MyDrive/googledrive_segmentation/ct-normal-slices-train/P_0040_288_260_311_cap040.npy', '/content/drive/MyDrive/googledrive_segmentation/ct-normal-slices-train/P_0041_296_335_370_cap041.npy', '/content/drive/MyDrive/googledrive_segmentation/ct-normal-slices-train/P_0042_284_253_326_cap042.npy', '/content/drive/MyDrive/googledrive_segmentation/ct-normal-slices-train/P_0043_310_357_403_cap043.npy', '/content/drive/MyDrive/googledrive_segmentation/ct-normal-slices-train/P_0044_240_288_310_cap044.npy', '/content/drive/MyDrive/googledrive_segmentation/ct-normal-slices-train/P_0045_308_297_368_cap045.npy', '/content/drive/MyDrive/googledrive_segmentation/ct-normal-slices-train/P_0046_216_292_303_cap046.npy', '/content/drive/MyDrive/googledrive_segmentation/ct-normal-slices-train/P_0047_330_311_336_cap047.npy', '/content/drive/MyDrive/googledrive_segmentation/ct-normal-slices-train/P_0048_288_261_328_cap048.npy', '/content/drive/MyDrive/googledrive_segmentation/ct-normal-slices-train/P_0049_280_331_459_cap049.npy', '/content/drive/MyDrive/googledrive_segmentation/ct-normal-slices-train/P_0050_326_357_460_cap050.npy', '/content/drive/MyDrive/googledrive_segmentation/ct-normal-slices-train/P_0051_354_282_343_cap051.npy', '/content/drive/MyDrive/googledrive_segmentation/ct-normal-slices-train/P_0052_324_228_298_cap052.npy', '/content/drive/MyDrive/googledrive_segmentation/ct-normal-slices-train/P_0053_328_267_281_cap053.npy', '/content/drive/MyDrive/googledrive_segmentation/ct-normal-slices-train/P_0054_292_243_303_cap054.npy', '/content/drive/MyDrive/googledrive_segmentation/ct-normal-slices-train/P_0055_296_229_292_cap055.npy']\n",
            "165\n"
          ],
          "name": "stdout"
        }
      ]
    },
    {
      "cell_type": "code",
      "metadata": {
        "colab": {
          "base_uri": "https://localhost:8080/"
        },
        "id": "w1tCBzHmSx_5",
        "outputId": "e91c027c-ac56-4bf6-8267-3faf7fc25c7d"
      },
      "source": [
        "# Splite data for Health (h) class\n",
        "h_path = file_paths[55:110]\n",
        "print(h_path)"
      ],
      "execution_count": null,
      "outputs": [
        {
          "output_type": "stream",
          "text": [
            "['/content/drive/MyDrive/googledrive_segmentation/ct-normal-slices-train/H_0001_288_270_368_normal001.npy', '/content/drive/MyDrive/googledrive_segmentation/ct-normal-slices-train/H_0002_334_334_370_normal002.npy', '/content/drive/MyDrive/googledrive_segmentation/ct-normal-slices-train/H_0003_338_344_393_normal003.npy', '/content/drive/MyDrive/googledrive_segmentation/ct-normal-slices-train/H_0004_256_258_340_normal004.npy', '/content/drive/MyDrive/googledrive_segmentation/ct-normal-slices-train/H_0005_286_252_310_normal005.npy', '/content/drive/MyDrive/googledrive_segmentation/ct-normal-slices-train/H_0006_288_237_321_normal006.npy', '/content/drive/MyDrive/googledrive_segmentation/ct-normal-slices-train/H_0007_284_372_368_normal007.npy', '/content/drive/MyDrive/googledrive_segmentation/ct-normal-slices-train/H_0008_278_266_337_normal008.npy', '/content/drive/MyDrive/googledrive_segmentation/ct-normal-slices-train/H_0009_290_292_365_normal009.npy', '/content/drive/MyDrive/googledrive_segmentation/ct-normal-slices-train/H_0010_304_368_384_normal010.npy', '/content/drive/MyDrive/googledrive_segmentation/ct-normal-slices-train/H_0011_276_286_382_normal011.npy', '/content/drive/MyDrive/googledrive_segmentation/ct-normal-slices-train/H_0012_320_363_377_normal012.npy', '/content/drive/MyDrive/googledrive_segmentation/ct-normal-slices-train/H_0013_372_332_397_normal013.npy', '/content/drive/MyDrive/googledrive_segmentation/ct-normal-slices-train/H_0014_280_284_312_normal014.npy', '/content/drive/MyDrive/googledrive_segmentation/ct-normal-slices-train/H_0015_290_315_339_normal015.npy', '/content/drive/MyDrive/googledrive_segmentation/ct-normal-slices-train/H_0016_248_272_298_normal016.npy', '/content/drive/MyDrive/googledrive_segmentation/ct-normal-slices-train/H_0017_354_318_376_normal017.npy', '/content/drive/MyDrive/googledrive_segmentation/ct-normal-slices-train/H_0018_272_258_352_normal018.npy', '/content/drive/MyDrive/googledrive_segmentation/ct-normal-slices-train/H_0019_266_277_318_normal019.npy', '/content/drive/MyDrive/googledrive_segmentation/ct-normal-slices-train/H_0020_274_245_310_normal020.npy', '/content/drive/MyDrive/googledrive_segmentation/ct-normal-slices-train/H_0021_310_262_301_normal021.npy', '/content/drive/MyDrive/googledrive_segmentation/ct-normal-slices-train/H_0022_298_334_372_normal022.npy', '/content/drive/MyDrive/googledrive_segmentation/ct-normal-slices-train/H_0023_324_258_310_normal023.npy', '/content/drive/MyDrive/googledrive_segmentation/ct-normal-slices-train/H_0024_334_276_302_normal024.npy', '/content/drive/MyDrive/googledrive_segmentation/ct-normal-slices-train/H_0025_312_289_318_normal025.npy', '/content/drive/MyDrive/googledrive_segmentation/ct-normal-slices-train/H_0026_294_245_333_normal026.npy', '/content/drive/MyDrive/googledrive_segmentation/ct-normal-slices-train/H_0027_336_272_383_normal027.npy', '/content/drive/MyDrive/googledrive_segmentation/ct-normal-slices-train/H_0028_288_266_345_normal028.npy', '/content/drive/MyDrive/googledrive_segmentation/ct-normal-slices-train/H_0029_274_349_356_normal029.npy', '/content/drive/MyDrive/googledrive_segmentation/ct-normal-slices-train/H_0030_260_283_323_normal030.npy', '/content/drive/MyDrive/googledrive_segmentation/ct-normal-slices-train/H_0031_332_310_342_normal031.npy', '/content/drive/MyDrive/googledrive_segmentation/ct-normal-slices-train/H_0032_292_236_302_normal032.npy', '/content/drive/MyDrive/googledrive_segmentation/ct-normal-slices-train/H_0033_280_274_315_normal033.npy', '/content/drive/MyDrive/googledrive_segmentation/ct-normal-slices-train/H_0034_268_260_344_normal034.npy', '/content/drive/MyDrive/googledrive_segmentation/ct-normal-slices-train/H_0035_252_239_296_normal035.npy', '/content/drive/MyDrive/googledrive_segmentation/ct-normal-slices-train/H_0036_318_291_345_normal036.npy', '/content/drive/MyDrive/googledrive_segmentation/ct-normal-slices-train/H_0037_296_276_356_normal037.npy', '/content/drive/MyDrive/googledrive_segmentation/ct-normal-slices-train/H_0038_370_296_352_normal038.npy', '/content/drive/MyDrive/googledrive_segmentation/ct-normal-slices-train/H_0039_308_291_325_normal039.npy', '/content/drive/MyDrive/googledrive_segmentation/ct-normal-slices-train/H_0040_302_284_310_normal040.npy', '/content/drive/MyDrive/googledrive_segmentation/ct-normal-slices-train/H_0041_302_348_386_normal041.npy', '/content/drive/MyDrive/googledrive_segmentation/ct-normal-slices-train/H_0042_258_343_356_normal042.npy', '/content/drive/MyDrive/googledrive_segmentation/ct-normal-slices-train/H_0043_286_249_316_normal043.npy', '/content/drive/MyDrive/googledrive_segmentation/ct-normal-slices-train/H_0044_300_276_295_normal044.npy', '/content/drive/MyDrive/googledrive_segmentation/ct-normal-slices-train/H_0045_308_250_306_normal045.npy', '/content/drive/MyDrive/googledrive_segmentation/ct-normal-slices-train/H_0046_284_338_330_normal046.npy', '/content/drive/MyDrive/googledrive_segmentation/ct-normal-slices-train/H_0047_236_247_287_normal047.npy', '/content/drive/MyDrive/googledrive_segmentation/ct-normal-slices-train/H_0048_336_340_389_normal048.npy', '/content/drive/MyDrive/googledrive_segmentation/ct-normal-slices-train/H_0049_324_270_326_normal049.npy', '/content/drive/MyDrive/googledrive_segmentation/ct-normal-slices-train/H_0050_344_319_364_normal050.npy', '/content/drive/MyDrive/googledrive_segmentation/ct-normal-slices-train/H_0051_320_334_363_normal051.npy', '/content/drive/MyDrive/googledrive_segmentation/ct-normal-slices-train/H_0052_284_334_387_normal052.npy', '/content/drive/MyDrive/googledrive_segmentation/ct-normal-slices-train/H_0053_304_342_383_normal053.npy', '/content/drive/MyDrive/googledrive_segmentation/ct-normal-slices-train/H_0054_328_296_338_normal054.npy', '/content/drive/MyDrive/googledrive_segmentation/ct-normal-slices-train/H_0055_288_245_299_normal055.npy']\n"
          ],
          "name": "stdout"
        }
      ]
    },
    {
      "cell_type": "markdown",
      "metadata": {
        "id": "k0XZ8AiJFdau"
      },
      "source": [
        "## BCDU-net"
      ]
    },
    {
      "cell_type": "code",
      "metadata": {
        "id": "VcaqgVJRwXu1"
      },
      "source": [
        "from __future__ import division\n",
        "from keras.models import Model\n",
        "from keras.layers import Input\n",
        "from keras.layers import concatenate\n",
        "from keras.layers import Conv2D\n",
        "from keras.layers import MaxPooling2D\n",
        "from keras.layers import UpSampling2D\n",
        "from keras.layers import Reshape\n",
        "from keras.layers import core\n",
        "from keras.layers import Dropout\n",
        "from keras.layers import Conv2DTranspose\n",
        "from keras.layers import BatchNormalization\n",
        "from keras.layers import Activation\n",
        "from keras.layers import ConvLSTM2D\n",
        "from keras.optimizers import Adam\n",
        "    \n",
        "def BCDU_net_D3(input_size = (128,128,1)):\n",
        "    N = input_size[0]\n",
        "    inputs = Input(input_size) \n",
        "    conv1 = Conv2D(32, 3, activation = 'relu', padding = 'same', kernel_initializer = 'he_normal')(inputs)\n",
        "    conv1 = Conv2D(32, 3, activation = 'relu', padding = 'same', kernel_initializer = 'he_normal')(conv1)\n",
        "  \n",
        "    pool1 = MaxPooling2D(pool_size=(2, 2))(conv1)\n",
        "    conv2 = Conv2D(64, 3, activation = 'relu', padding = 'same', kernel_initializer = 'he_normal')(pool1)\n",
        "    conv2 = Conv2D(64, 3, activation = 'relu', padding = 'same', kernel_initializer = 'he_normal')(conv2)\n",
        "    pool2 = MaxPooling2D(pool_size=(2, 2))(conv2)\n",
        "    conv3 = Conv2D(128, 3, activation = 'relu', padding = 'same', kernel_initializer = 'he_normal')(pool2)\n",
        "    conv3 = Conv2D(128, 3, activation = 'relu', padding = 'same', kernel_initializer = 'he_normal')(conv3)\n",
        "    drop3 = Dropout(0.5)(conv3)\n",
        "    pool3 = MaxPooling2D(pool_size=(2, 2))(conv3)\n",
        "    # D1\n",
        "    conv4 = Conv2D(256, 3, activation = 'relu', padding = 'same', kernel_initializer = 'he_normal')(pool3)     \n",
        "    conv4_1 = Conv2D(256, 3, activation = 'relu', padding = 'same', kernel_initializer = 'he_normal')(conv4)\n",
        "    drop4_1 = Dropout(0.5)(conv4_1)\n",
        "    # D2\n",
        "    conv4_2 = Conv2D(256, 3, activation = 'relu', padding = 'same', kernel_initializer = 'he_normal')(drop4_1)     \n",
        "    conv4_2 = Conv2D(256, 3, activation = 'relu', padding = 'same', kernel_initializer = 'he_normal')(conv4_2)\n",
        "    conv4_2 = Dropout(0.5)(conv4_2)\n",
        "    # D3\n",
        "    merge_dense = concatenate([conv4_2,drop4_1], axis = 3)\n",
        "    conv4_3 = Conv2D(256, 3, activation = 'relu', padding = 'same', kernel_initializer = 'he_normal')(merge_dense)     \n",
        "    conv4_3 = Conv2D(256, 3, activation = 'relu', padding = 'same', kernel_initializer = 'he_normal')(conv4_3)\n",
        "    drop4_3 = Dropout(0.5)(conv4_3)\n",
        "    \n",
        "    up6 = Conv2DTranspose(128, kernel_size=2, strides=2, padding='same',kernel_initializer = 'he_normal')(drop4_3)\n",
        "    up6 = BatchNormalization(axis=3)(up6)\n",
        "    up6 = Activation('relu')(up6)\n",
        "\n",
        "    x1 = Reshape(target_shape=(1, np.int32(N/4), np.int32(N/4), 128))(drop3)\n",
        "    x2 = Reshape(target_shape=(1, np.int32(N/4), np.int32(N/4), 128))(up6)\n",
        "    merge6  = concatenate([x1,x2], axis = 1) \n",
        "    merge6 = ConvLSTM2D(filters = 64, kernel_size=(3, 3), padding='same', return_sequences = False, go_backwards = True,kernel_initializer = 'he_normal')(merge6)\n",
        "            \n",
        "    conv6 = Conv2D(128, 3, activation = 'relu', padding = 'same', kernel_initializer = 'he_normal')(merge6)\n",
        "    conv6 = Conv2D(128, 3, activation = 'relu', padding = 'same', kernel_initializer = 'he_normal')(conv6)\n",
        "\n",
        "    up7 = Conv2DTranspose(64, kernel_size=2, strides=2, padding='same',kernel_initializer = 'he_normal')(conv6)\n",
        "    up7 = BatchNormalization(axis=3)(up7)\n",
        "    up7 = Activation('relu')(up7)\n",
        "\n",
        "    x1 = Reshape(target_shape=(1, np.int32(N/2), np.int32(N/2), 64))(conv2)\n",
        "    x2 = Reshape(target_shape=(1, np.int32(N/2), np.int32(N/2), 64))(up7)\n",
        "    merge7  = concatenate([x1,x2], axis = 1) \n",
        "    merge7 = ConvLSTM2D(filters = 32, kernel_size=(3, 3), padding='same', return_sequences = False, go_backwards = True,kernel_initializer = 'he_normal' )(merge7)\n",
        "        \n",
        "    conv7 = Conv2D(64, 3, activation = 'relu', padding = 'same', kernel_initializer = 'he_normal')(merge7)\n",
        "    conv7 = Conv2D(64, 3, activation = 'relu', padding = 'same', kernel_initializer = 'he_normal')(conv7)\n",
        "\n",
        "    up8 = Conv2DTranspose(32, kernel_size=2, strides=2, padding='same',kernel_initializer = 'he_normal')(conv7)\n",
        "    up8 = BatchNormalization(axis=3)(up8)\n",
        "    up8 = Activation('relu')(up8)    \n",
        "\n",
        "    x1 = Reshape(target_shape=(1, N, N, 32))(conv1)\n",
        "    x2 = Reshape(target_shape=(1, N, N, 32))(up8)\n",
        "    merge8  = concatenate([x1,x2], axis = 1) \n",
        "    merge8 = ConvLSTM2D(filters = 16, kernel_size=(3, 3), padding='same', return_sequences = False, go_backwards = True,kernel_initializer = 'he_normal' )(merge8)    \n",
        "    \n",
        "    conv8 = Conv2D(32, 3, activation = 'relu', padding = 'same', kernel_initializer = 'he_normal')(merge8)\n",
        "    conv8 = Conv2D(32, 3, activation = 'relu', padding = 'same', kernel_initializer = 'he_normal')(conv8)\n",
        "    conv8 = Conv2D(2, 3, activation = 'relu', padding = 'same', kernel_initializer = 'he_normal')(conv8)\n",
        "    conv9 = Conv2D(1, 1, activation = 'sigmoid')(conv8)\n",
        "\n",
        "    model = Model(inputs, conv9)\n",
        "    return model"
      ],
      "execution_count": null,
      "outputs": []
    },
    {
      "cell_type": "code",
      "metadata": {
        "id": "w5V_IaQ7iciU",
        "colab": {
          "base_uri": "https://localhost:8080/"
        },
        "outputId": "b863beaa-bee5-4a7a-9585-ec732fed5402"
      },
      "source": [
        "model = BCDU_net_D3(input_size = (128,128,1))\n",
        "model.summary()"
      ],
      "execution_count": null,
      "outputs": [
        {
          "output_type": "stream",
          "text": [
            "Model: \"model\"\n",
            "__________________________________________________________________________________________________\n",
            "Layer (type)                    Output Shape         Param #     Connected to                     \n",
            "==================================================================================================\n",
            "input_1 (InputLayer)            [(None, 128, 128, 1) 0                                            \n",
            "__________________________________________________________________________________________________\n",
            "conv2d (Conv2D)                 (None, 128, 128, 32) 320         input_1[0][0]                    \n",
            "__________________________________________________________________________________________________\n",
            "conv2d_1 (Conv2D)               (None, 128, 128, 32) 9248        conv2d[0][0]                     \n",
            "__________________________________________________________________________________________________\n",
            "max_pooling2d (MaxPooling2D)    (None, 64, 64, 32)   0           conv2d_1[0][0]                   \n",
            "__________________________________________________________________________________________________\n",
            "conv2d_2 (Conv2D)               (None, 64, 64, 64)   18496       max_pooling2d[0][0]              \n",
            "__________________________________________________________________________________________________\n",
            "conv2d_3 (Conv2D)               (None, 64, 64, 64)   36928       conv2d_2[0][0]                   \n",
            "__________________________________________________________________________________________________\n",
            "max_pooling2d_1 (MaxPooling2D)  (None, 32, 32, 64)   0           conv2d_3[0][0]                   \n",
            "__________________________________________________________________________________________________\n",
            "conv2d_4 (Conv2D)               (None, 32, 32, 128)  73856       max_pooling2d_1[0][0]            \n",
            "__________________________________________________________________________________________________\n",
            "conv2d_5 (Conv2D)               (None, 32, 32, 128)  147584      conv2d_4[0][0]                   \n",
            "__________________________________________________________________________________________________\n",
            "max_pooling2d_2 (MaxPooling2D)  (None, 16, 16, 128)  0           conv2d_5[0][0]                   \n",
            "__________________________________________________________________________________________________\n",
            "conv2d_6 (Conv2D)               (None, 16, 16, 256)  295168      max_pooling2d_2[0][0]            \n",
            "__________________________________________________________________________________________________\n",
            "conv2d_7 (Conv2D)               (None, 16, 16, 256)  590080      conv2d_6[0][0]                   \n",
            "__________________________________________________________________________________________________\n",
            "dropout_1 (Dropout)             (None, 16, 16, 256)  0           conv2d_7[0][0]                   \n",
            "__________________________________________________________________________________________________\n",
            "conv2d_8 (Conv2D)               (None, 16, 16, 256)  590080      dropout_1[0][0]                  \n",
            "__________________________________________________________________________________________________\n",
            "conv2d_9 (Conv2D)               (None, 16, 16, 256)  590080      conv2d_8[0][0]                   \n",
            "__________________________________________________________________________________________________\n",
            "dropout_2 (Dropout)             (None, 16, 16, 256)  0           conv2d_9[0][0]                   \n",
            "__________________________________________________________________________________________________\n",
            "concatenate (Concatenate)       (None, 16, 16, 512)  0           dropout_2[0][0]                  \n",
            "                                                                 dropout_1[0][0]                  \n",
            "__________________________________________________________________________________________________\n",
            "conv2d_10 (Conv2D)              (None, 16, 16, 256)  1179904     concatenate[0][0]                \n",
            "__________________________________________________________________________________________________\n",
            "conv2d_11 (Conv2D)              (None, 16, 16, 256)  590080      conv2d_10[0][0]                  \n",
            "__________________________________________________________________________________________________\n",
            "dropout_3 (Dropout)             (None, 16, 16, 256)  0           conv2d_11[0][0]                  \n",
            "__________________________________________________________________________________________________\n",
            "conv2d_transpose (Conv2DTranspo (None, 32, 32, 128)  131200      dropout_3[0][0]                  \n",
            "__________________________________________________________________________________________________\n",
            "batch_normalization (BatchNorma (None, 32, 32, 128)  512         conv2d_transpose[0][0]           \n",
            "__________________________________________________________________________________________________\n",
            "dropout (Dropout)               (None, 32, 32, 128)  0           conv2d_5[0][0]                   \n",
            "__________________________________________________________________________________________________\n",
            "activation (Activation)         (None, 32, 32, 128)  0           batch_normalization[0][0]        \n",
            "__________________________________________________________________________________________________\n",
            "reshape (Reshape)               (None, 1, 32, 32, 12 0           dropout[0][0]                    \n",
            "__________________________________________________________________________________________________\n",
            "reshape_1 (Reshape)             (None, 1, 32, 32, 12 0           activation[0][0]                 \n",
            "__________________________________________________________________________________________________\n",
            "concatenate_1 (Concatenate)     (None, 2, 32, 32, 12 0           reshape[0][0]                    \n",
            "                                                                 reshape_1[0][0]                  \n",
            "__________________________________________________________________________________________________\n",
            "conv_lst_m2d (ConvLSTM2D)       (None, 32, 32, 64)   442624      concatenate_1[0][0]              \n",
            "__________________________________________________________________________________________________\n",
            "conv2d_12 (Conv2D)              (None, 32, 32, 128)  73856       conv_lst_m2d[0][0]               \n",
            "__________________________________________________________________________________________________\n",
            "conv2d_13 (Conv2D)              (None, 32, 32, 128)  147584      conv2d_12[0][0]                  \n",
            "__________________________________________________________________________________________________\n",
            "conv2d_transpose_1 (Conv2DTrans (None, 64, 64, 64)   32832       conv2d_13[0][0]                  \n",
            "__________________________________________________________________________________________________\n",
            "batch_normalization_1 (BatchNor (None, 64, 64, 64)   256         conv2d_transpose_1[0][0]         \n",
            "__________________________________________________________________________________________________\n",
            "activation_1 (Activation)       (None, 64, 64, 64)   0           batch_normalization_1[0][0]      \n",
            "__________________________________________________________________________________________________\n",
            "reshape_2 (Reshape)             (None, 1, 64, 64, 64 0           conv2d_3[0][0]                   \n",
            "__________________________________________________________________________________________________\n",
            "reshape_3 (Reshape)             (None, 1, 64, 64, 64 0           activation_1[0][0]               \n",
            "__________________________________________________________________________________________________\n",
            "concatenate_2 (Concatenate)     (None, 2, 64, 64, 64 0           reshape_2[0][0]                  \n",
            "                                                                 reshape_3[0][0]                  \n",
            "__________________________________________________________________________________________________\n",
            "conv_lst_m2d_1 (ConvLSTM2D)     (None, 64, 64, 32)   110720      concatenate_2[0][0]              \n",
            "__________________________________________________________________________________________________\n",
            "conv2d_14 (Conv2D)              (None, 64, 64, 64)   18496       conv_lst_m2d_1[0][0]             \n",
            "__________________________________________________________________________________________________\n",
            "conv2d_15 (Conv2D)              (None, 64, 64, 64)   36928       conv2d_14[0][0]                  \n",
            "__________________________________________________________________________________________________\n",
            "conv2d_transpose_2 (Conv2DTrans (None, 128, 128, 32) 8224        conv2d_15[0][0]                  \n",
            "__________________________________________________________________________________________________\n",
            "batch_normalization_2 (BatchNor (None, 128, 128, 32) 128         conv2d_transpose_2[0][0]         \n",
            "__________________________________________________________________________________________________\n",
            "activation_2 (Activation)       (None, 128, 128, 32) 0           batch_normalization_2[0][0]      \n",
            "__________________________________________________________________________________________________\n",
            "reshape_4 (Reshape)             (None, 1, 128, 128,  0           conv2d_1[0][0]                   \n",
            "__________________________________________________________________________________________________\n",
            "reshape_5 (Reshape)             (None, 1, 128, 128,  0           activation_2[0][0]               \n",
            "__________________________________________________________________________________________________\n",
            "concatenate_3 (Concatenate)     (None, 2, 128, 128,  0           reshape_4[0][0]                  \n",
            "                                                                 reshape_5[0][0]                  \n",
            "__________________________________________________________________________________________________\n",
            "conv_lst_m2d_2 (ConvLSTM2D)     (None, 128, 128, 16) 27712       concatenate_3[0][0]              \n",
            "__________________________________________________________________________________________________\n",
            "conv2d_16 (Conv2D)              (None, 128, 128, 32) 4640        conv_lst_m2d_2[0][0]             \n",
            "__________________________________________________________________________________________________\n",
            "conv2d_17 (Conv2D)              (None, 128, 128, 32) 9248        conv2d_16[0][0]                  \n",
            "__________________________________________________________________________________________________\n",
            "conv2d_18 (Conv2D)              (None, 128, 128, 2)  578         conv2d_17[0][0]                  \n",
            "__________________________________________________________________________________________________\n",
            "conv2d_19 (Conv2D)              (None, 128, 128, 1)  3           conv2d_18[0][0]                  \n",
            "==================================================================================================\n",
            "Total params: 5,167,365\n",
            "Trainable params: 5,166,917\n",
            "Non-trainable params: 448\n",
            "__________________________________________________________________________________________________\n"
          ],
          "name": "stdout"
        }
      ]
    },
    {
      "cell_type": "markdown",
      "metadata": {
        "id": "cYyjkvWzI9gd"
      },
      "source": [
        "### Resizing the slices for BCDUNet model"
      ]
    },
    {
      "cell_type": "code",
      "metadata": {
        "id": "IMyjdb14yHBQ"
      },
      "source": [
        "from skimage.transform import resize"
      ],
      "execution_count": null,
      "outputs": []
    },
    {
      "cell_type": "code",
      "metadata": {
        "colab": {
          "base_uri": "https://localhost:8080/"
        },
        "id": "OoeYUbNSicbE",
        "outputId": "c7df95b8-af18-4669-ee2f-ae62674c8104"
      },
      "source": [
        "output = np.zeros((1,128,128))\n",
        "for i in tqdm(h_path):\n",
        "    data = np.load(i)\n",
        "    data = resize(data, (data.shape[0],128, 128),anti_aliasing=True)\n",
        "    output = np.append(output,data,axis=0)\n",
        "output = output[1:]"
      ],
      "execution_count": null,
      "outputs": [
        {
          "output_type": "stream",
          "text": [
            "100%|██████████| 55/55 [04:44<00:00,  5.18s/it]\n"
          ],
          "name": "stderr"
        }
      ]
    },
    {
      "cell_type": "markdown",
      "metadata": {
        "id": "6No6JNrR3PAl"
      },
      "source": [
        "### Adding noise"
      ]
    },
    {
      "cell_type": "code",
      "metadata": {
        "colab": {
          "base_uri": "https://localhost:8080/"
        },
        "id": "5cMhBysijrPy",
        "outputId": "8d5a7fdb-b80f-452f-98db-22421c9d8e80"
      },
      "source": [
        "!pip install noise"
      ],
      "execution_count": null,
      "outputs": [
        {
          "output_type": "stream",
          "text": [
            "Collecting noise\n",
            "\u001b[?25l  Downloading https://files.pythonhosted.org/packages/18/29/bb830ee6d934311e17a7a4fa1368faf3e73fbb09c0d80fc44e41828df177/noise-1.2.2.tar.gz (125kB)\n",
            "\r\u001b[K     |██▋                             | 10kB 17.3MB/s eta 0:00:01\r\u001b[K     |█████▏                          | 20kB 11.3MB/s eta 0:00:01\r\u001b[K     |███████▉                        | 30kB 8.6MB/s eta 0:00:01\r\u001b[K     |██████████▍                     | 40kB 7.4MB/s eta 0:00:01\r\u001b[K     |█████████████                   | 51kB 4.3MB/s eta 0:00:01\r\u001b[K     |███████████████▋                | 61kB 4.8MB/s eta 0:00:01\r\u001b[K     |██████████████████▎             | 71kB 4.9MB/s eta 0:00:01\r\u001b[K     |████████████████████▉           | 81kB 5.3MB/s eta 0:00:01\r\u001b[K     |███████████████████████▌        | 92kB 5.3MB/s eta 0:00:01\r\u001b[K     |██████████████████████████      | 102kB 4.1MB/s eta 0:00:01\r\u001b[K     |████████████████████████████▊   | 112kB 4.1MB/s eta 0:00:01\r\u001b[K     |███████████████████████████████▎| 122kB 4.1MB/s eta 0:00:01\r\u001b[K     |████████████████████████████████| 133kB 4.1MB/s \n",
            "\u001b[?25hBuilding wheels for collected packages: noise\n",
            "  Building wheel for noise (setup.py) ... \u001b[?25l\u001b[?25hdone\n",
            "  Created wheel for noise: filename=noise-1.2.2-cp37-cp37m-linux_x86_64.whl size=64278 sha256=878756e279a1189805a92d400f2837bf7813a1cb9e5880cc06019706def64aa8\n",
            "  Stored in directory: /root/.cache/pip/wheels/fd/a3/c1/d36defe6e9f074b25dc0f018eb9f8fdd675a7ef87071ce3821\n",
            "Successfully built noise\n",
            "Installing collected packages: noise\n",
            "Successfully installed noise-1.2.2\n"
          ],
          "name": "stdout"
        }
      ]
    },
    {
      "cell_type": "code",
      "metadata": {
        "colab": {
          "base_uri": "https://localhost:8080/",
          "height": 285
        },
        "id": "L3dcZQOMjpat",
        "outputId": "644d509e-53cb-47b4-8a78-cf549f6d4096"
      },
      "source": [
        "import noise\n",
        "import cv2\n",
        "\n",
        "def add_noise(input_array):\n",
        "    shape = (128,128)\n",
        "    scale = np.random.randint(10,30)\n",
        "    # scale = 12\n",
        "    # scale = 30\n",
        "    octaves = 10\n",
        "    persistence = 0.01*np.random.randint(-50,50)\n",
        "    # persistence = 0.1\n",
        "    lacunarity = 2.0\n",
        "    seed = np.random.randint(0,1000)\n",
        "    # seed = 33\n",
        "    world = np.zeros(shape)\n",
        "    for i in range(shape[0]):\n",
        "        for j in range(shape[1]):\n",
        "            world[i][j] = noise.pnoise2(i/scale, \n",
        "                                        j/scale, \n",
        "                                        octaves=octaves, \n",
        "                                        persistence=persistence, \n",
        "                                        lacunarity=lacunarity, \n",
        "                                        repeatx=140, \n",
        "                                        repeaty=140, \n",
        "                                        base=seed)\n",
        "    return cv2.addWeighted(input_array, 1, world, 1, 0)  \n",
        "\n",
        "import matplotlib.pyplot as plt\n",
        "a  = np.zeros((128,128))\n",
        "plt.imshow(add_noise(a)) "
      ],
      "execution_count": null,
      "outputs": [
        {
          "output_type": "execute_result",
          "data": {
            "text/plain": [
              "<matplotlib.image.AxesImage at 0x7f2a751b9e10>"
            ]
          },
          "metadata": {
            "tags": []
          },
          "execution_count": 9
        },
        {
          "output_type": "display_data",
          "data": {
            "image/png": "[encoded data removed]",
            "text/plain": [
              "<Figure size 432x288 with 1 Axes>"
            ]
          },
          "metadata": {
            "tags": [],
            "needs_background": "light"
          }
        }
      ]
    },
    {
      "cell_type": "code",
      "metadata": {
        "colab": {
          "base_uri": "https://localhost:8080/"
        },
        "id": "scjv_v-5mq6Z",
        "outputId": "e0a7c9e7-dec9-42f7-f5a9-961107154784"
      },
      "source": [
        "from tqdm import tqdm\n",
        "noisy_output = np.zeros(output.shape)\n",
        "for i in tqdm(range(output.shape[0])):\n",
        "    noisy_output[i] = add_noise(output[i,:,:])"
      ],
      "execution_count": null,
      "outputs": [
        {
          "output_type": "stream",
          "text": [
            "100%|██████████| 16448/16448 [10:15<00:00, 26.73it/s]\n"
          ],
          "name": "stderr"
        }
      ]
    },
    {
      "cell_type": "code",
      "metadata": {
        "id": "YJxRbOlFNBpg"
      },
      "source": [
        "'''\n",
        "Change half of data to original slices (without noise)\n",
        "Suggestion: you can use random permutation to clean half of data\n",
        "suggestyion: you can change the rate of being nosisy or clean! \n",
        "'''\n",
        "noisy_output[int(noisy_output.shape[0]/5):] = output[int(noisy_output.shape[0]/5):]"
      ],
      "execution_count": null,
      "outputs": []
    },
    {
      "cell_type": "code",
      "metadata": {
        "id": "FzN8ZpyM1bcG"
      },
      "source": [
        "#target (without noise)\n",
        "output = np.reshape(output,(output.shape[0],output.shape[1],output.shape[2],1))\n",
        "\n",
        "#input (half noisy)\n",
        "noisy_output = np.reshape(noisy_output,(noisy_output.shape[0],noisy_output.shape[1],noisy_output.shape[2],1))"
      ],
      "execution_count": null,
      "outputs": []
    },
    {
      "cell_type": "markdown",
      "metadata": {
        "id": "GBeuAoKw4vlg"
      },
      "source": [
        "### Training the model"
      ]
    },
    {
      "cell_type": "code",
      "metadata": {
        "id": "zkaTkPEPicW9"
      },
      "source": [
        "model.compile(optimizer = Adam(lr = 1e-3), loss = 'binary_crossentropy')"
      ],
      "execution_count": null,
      "outputs": []
    },
    {
      "cell_type": "code",
      "metadata": {
        "colab": {
          "base_uri": "https://localhost:8080/"
        },
        "id": "wOlc-A2o5wte",
        "outputId": "e34d5d40-7b80-4ac4-dfa2-e0a4e3d22515"
      },
      "source": [
        "history = model.fit(noisy_output, output,\n",
        "            batch_size = 5,\n",
        "            epochs = 3,\n",
        "            shuffle=True,\n",
        "            verbose=1)"
      ],
      "execution_count": null,
      "outputs": [
        {
          "output_type": "stream",
          "text": [
            "Epoch 1/3\n",
            "3290/3290 [==============================] - 894s 259ms/step - loss: 0.0858\n",
            "Epoch 2/3\n",
            "3290/3290 [==============================] - 849s 258ms/step - loss: 0.0745\n",
            "Epoch 3/3\n",
            "3290/3290 [==============================] - 847s 257ms/step - loss: 0.0742\n"
          ],
          "name": "stdout"
        }
      ]
    },
    {
      "cell_type": "code",
      "metadata": {
        "id": "xGnOVm70kw67"
      },
      "source": [
        "'''\n",
        "However, you can save weights of your model for future use\n",
        "'''\n",
        "model.save_weights('/content/drive/My Drive/googledrive_segmentation/weight_half_lung_noisy_unet.hdf5')\n",
        "model.load_weights('/content/drive/My Drive/googledrive_segmentation/weight_half_lung_noisy_unet.hdf5')"
      ],
      "execution_count": null,
      "outputs": []
    },
    {
      "cell_type": "markdown",
      "metadata": {
        "id": "vI0EsJIn43Ud"
      },
      "source": [
        "## 3D CNN model"
      ]
    },
    {
      "cell_type": "code",
      "metadata": {
        "colab": {
          "base_uri": "https://localhost:8080/"
        },
        "id": "sUlX-rkTwO21",
        "outputId": "215aa8d5-1987-49d5-fc38-332728d62072"
      },
      "source": [
        "'''\n",
        "Load all data to pass through BCDUNet to bold infections in out pipeline\n",
        "Splite data for each class of COVID (c), Health or Control (h) and Pneumonia or CAP (p)\n",
        "\n",
        "'''\n",
        "c_path = file_paths[:55]\n",
        "h_path = file_paths[55:110]\n",
        "p_path = file_paths[110:165]\n",
        "my_file_paths = c_path+h_path+p_path\n",
        "print(my_file_paths)\n",
        "print(len(my_file_paths))\n"
      ],
      "execution_count": null,
      "outputs": [
        {
          "output_type": "stream",
          "text": [
            "['/content/drive/MyDrive/googledrive_segmentation/ct-normal-slices-train/CPCR_0001_296_281_383_CR_P001.npy', '/content/drive/MyDrive/googledrive_segmentation/ct-normal-slices-train/CPCR_0002_266_273_309_CR_P002.npy', '/content/drive/MyDrive/googledrive_segmentation/ct-normal-slices-train/CPCR_0003_268_338_372_CR_P003.npy', '/content/drive/MyDrive/googledrive_segmentation/ct-normal-slices-train/CPCR_0004_328_298_372_CR_P004.npy', '/content/drive/MyDrive/googledrive_segmentation/ct-normal-slices-train/CPCR_0005_288_262_369_CR_P005.npy', '/content/drive/MyDrive/googledrive_segmentation/ct-normal-slices-train/CPCR_0006_286_294_317_CR_P006.npy', '/content/drive/MyDrive/googledrive_segmentation/ct-normal-slices-train/CPCR_0007_302_286_310_CR_P007.npy', '/content/drive/MyDrive/googledrive_segmentation/ct-normal-slices-train/CPCR_0008_318_345_355_CR_P008.npy', '/content/drive/MyDrive/googledrive_segmentation/ct-normal-slices-train/CPCR_0009_346_326_364_CR_P009.npy', '/content/drive/MyDrive/googledrive_segmentation/ct-normal-slices-train/CPCR_0010_276_286_294_CR_P010.npy', '/content/drive/MyDrive/googledrive_segmentation/ct-normal-slices-train/CPCR_0011_270_297_333_CR_P011.npy', '/content/drive/MyDrive/googledrive_segmentation/ct-normal-slices-train/CPCR_0012_330_346_375_CR_P012.npy', '/content/drive/MyDrive/googledrive_segmentation/ct-normal-slices-train/CPCR_0013_342_334_354_CR_P013.npy', '/content/drive/MyDrive/googledrive_segmentation/ct-normal-slices-train/CPCR_0014_284_269_310_CR_P014.npy', '/content/drive/MyDrive/googledrive_segmentation/ct-normal-slices-train/CPCR_0015_296_276_347_CR_P015.npy', '/content/drive/MyDrive/googledrive_segmentation/ct-normal-slices-train/CPCR_0016_332_325_368_CR_P016.npy', '/content/drive/MyDrive/googledrive_segmentation/ct-normal-slices-train/CPCR_0017_236_250_309_CR_P017.npy', '/content/drive/MyDrive/googledrive_segmentation/ct-normal-slices-train/CPCR_0018_314_282_319_CR_P018.npy', '/content/drive/MyDrive/googledrive_segmentation/ct-normal-slices-train/CPCR_0019_300_272_359_CR_P019.npy', '/content/drive/MyDrive/googledrive_segmentation/ct-normal-slices-train/CPCR_0020_256_267_369_CR_P020.npy', '/content/drive/MyDrive/googledrive_segmentation/ct-normal-slices-train/CPCR_0021_326_326_374_CR_P021.npy', '/content/drive/MyDrive/googledrive_segmentation/ct-normal-slices-train/CPCR_0022_250_259_310_CR_P022.npy', '/content/drive/MyDrive/googledrive_segmentation/ct-normal-slices-train/CPCR_0023_294_318_372_CR_P023.npy', '/content/drive/MyDrive/googledrive_segmentation/ct-normal-slices-train/CPCR_0024_272_279_328_CR_P024.npy', '/content/drive/MyDrive/googledrive_segmentation/ct-normal-slices-train/CPCR_0025_318_301_317_CR_P025.npy', '/content/drive/MyDrive/googledrive_segmentation/ct-normal-slices-train/CPCR_0026_304_291_353_CR_P026.npy', '/content/drive/MyDrive/googledrive_segmentation/ct-normal-slices-train/CPCR_0027_268_347_369_CR_P027.npy', '/content/drive/MyDrive/googledrive_segmentation/ct-normal-slices-train/CPCR_0028_270_264_310_CR_P028.npy', '/content/drive/MyDrive/googledrive_segmentation/ct-normal-slices-train/CPCR_0029_262_313_343_CR_P029.npy', '/content/drive/MyDrive/googledrive_segmentation/ct-normal-slices-train/CPCR_0030_284_302_310_CR_P030.npy', '/content/drive/MyDrive/googledrive_segmentation/ct-normal-slices-train/CPCR_0031_306_317_372_CR_P031.npy', '/content/drive/MyDrive/googledrive_segmentation/ct-normal-slices-train/CPCR_0032_262_261_326_CR_P032.npy', '/content/drive/MyDrive/googledrive_segmentation/ct-normal-slices-train/CPCR_0033_298_323_370_CR_P033.npy', '/content/drive/MyDrive/googledrive_segmentation/ct-normal-slices-train/CPCR_0034_320_381_415_CR_P034.npy', '/content/drive/MyDrive/googledrive_segmentation/ct-normal-slices-train/CPCR_0035_338_300_351_CR_P035.npy', '/content/drive/MyDrive/googledrive_segmentation/ct-normal-slices-train/CPCR_0036_294_363_388_CR_P036.npy', '/content/drive/MyDrive/googledrive_segmentation/ct-normal-slices-train/CPCR_0037_244_306_319_CR_P037.npy', '/content/drive/MyDrive/googledrive_segmentation/ct-normal-slices-train/CPCR_0038_274_334_397_CR_P038.npy', '/content/drive/MyDrive/googledrive_segmentation/ct-normal-slices-train/CPCR_0039_346_325_384_CR_P039.npy', '/content/drive/MyDrive/googledrive_segmentation/ct-normal-slices-train/CPCR_0040_288_262_351_CR_P040.npy', '/content/drive/MyDrive/googledrive_segmentation/ct-normal-slices-train/CPCR_0041_292_308_371_CR_P041.npy', '/content/drive/MyDrive/googledrive_segmentation/ct-normal-slices-train/CPCR_0042_268_317_372_CR_P042.npy', '/content/drive/MyDrive/googledrive_segmentation/ct-normal-slices-train/CPCR_0043_296_314_390_CR_P043.npy', '/content/drive/MyDrive/googledrive_segmentation/ct-normal-slices-train/CPCR_0044_290_250_320_CR_P044.npy', '/content/drive/MyDrive/googledrive_segmentation/ct-normal-slices-train/CPCR_0045_328_282_374_CR_P045.npy', '/content/drive/MyDrive/googledrive_segmentation/ct-normal-slices-train/CPCR_0046_288_267_319_CR_P046.npy', '/content/drive/MyDrive/googledrive_segmentation/ct-normal-slices-train/CPCR_0047_320_234_288_CR_P047.npy', '/content/drive/MyDrive/googledrive_segmentation/ct-normal-slices-train/CPCR_0048_354_253_327_CR_P048.npy', '/content/drive/MyDrive/googledrive_segmentation/ct-normal-slices-train/CPCR_0049_282_254_310_CR_P049.npy', '/content/drive/MyDrive/googledrive_segmentation/ct-normal-slices-train/CPCR_0050_326_274_327_CR_P050.npy', '/content/drive/MyDrive/googledrive_segmentation/ct-normal-slices-train/CPCR_0051_316_273_375_CR_P051.npy', '/content/drive/MyDrive/googledrive_segmentation/ct-normal-slices-train/CPCR_0052_318_324_348_CR_P052.npy', '/content/drive/MyDrive/googledrive_segmentation/ct-normal-slices-train/CPCR_0053_318_299_336_CR_P053.npy', '/content/drive/MyDrive/googledrive_segmentation/ct-normal-slices-train/CPCR_0054_334_288_370_CR_P054.npy', '/content/drive/MyDrive/googledrive_segmentation/ct-normal-slices-train/CPCR_0055_304_303_372_CR_P055.npy', '/content/drive/MyDrive/googledrive_segmentation/ct-normal-slices-train/H_0001_288_270_368_normal001.npy', '/content/drive/MyDrive/googledrive_segmentation/ct-normal-slices-train/H_0002_334_334_370_normal002.npy', '/content/drive/MyDrive/googledrive_segmentation/ct-normal-slices-train/H_0003_338_344_393_normal003.npy', '/content/drive/MyDrive/googledrive_segmentation/ct-normal-slices-train/H_0004_256_258_340_normal004.npy', '/content/drive/MyDrive/googledrive_segmentation/ct-normal-slices-train/H_0005_286_252_310_normal005.npy', '/content/drive/MyDrive/googledrive_segmentation/ct-normal-slices-train/H_0006_288_237_321_normal006.npy', '/content/drive/MyDrive/googledrive_segmentation/ct-normal-slices-train/H_0007_284_372_368_normal007.npy', '/content/drive/MyDrive/googledrive_segmentation/ct-normal-slices-train/H_0008_278_266_337_normal008.npy', '/content/drive/MyDrive/googledrive_segmentation/ct-normal-slices-train/H_0009_290_292_365_normal009.npy', '/content/drive/MyDrive/googledrive_segmentation/ct-normal-slices-train/H_0010_304_368_384_normal010.npy', '/content/drive/MyDrive/googledrive_segmentation/ct-normal-slices-train/H_0011_276_286_382_normal011.npy', '/content/drive/MyDrive/googledrive_segmentation/ct-normal-slices-train/H_0012_320_363_377_normal012.npy', '/content/drive/MyDrive/googledrive_segmentation/ct-normal-slices-train/H_0013_372_332_397_normal013.npy', '/content/drive/MyDrive/googledrive_segmentation/ct-normal-slices-train/H_0014_280_284_312_normal014.npy', '/content/drive/MyDrive/googledrive_segmentation/ct-normal-slices-train/H_0015_290_315_339_normal015.npy', '/content/drive/MyDrive/googledrive_segmentation/ct-normal-slices-train/H_0016_248_272_298_normal016.npy', '/content/drive/MyDrive/googledrive_segmentation/ct-normal-slices-train/H_0017_354_318_376_normal017.npy', '/content/drive/MyDrive/googledrive_segmentation/ct-normal-slices-train/H_0018_272_258_352_normal018.npy', '/content/drive/MyDrive/googledrive_segmentation/ct-normal-slices-train/H_0019_266_277_318_normal019.npy', '/content/drive/MyDrive/googledrive_segmentation/ct-normal-slices-train/H_0020_274_245_310_normal020.npy', '/content/drive/MyDrive/googledrive_segmentation/ct-normal-slices-train/H_0021_310_262_301_normal021.npy', '/content/drive/MyDrive/googledrive_segmentation/ct-normal-slices-train/H_0022_298_334_372_normal022.npy', '/content/drive/MyDrive/googledrive_segmentation/ct-normal-slices-train/H_0023_324_258_310_normal023.npy', '/content/drive/MyDrive/googledrive_segmentation/ct-normal-slices-train/H_0024_334_276_302_normal024.npy', '/content/drive/MyDrive/googledrive_segmentation/ct-normal-slices-train/H_0025_312_289_318_normal025.npy', '/content/drive/MyDrive/googledrive_segmentation/ct-normal-slices-train/H_0026_294_245_333_normal026.npy', '/content/drive/MyDrive/googledrive_segmentation/ct-normal-slices-train/H_0027_336_272_383_normal027.npy', '/content/drive/MyDrive/googledrive_segmentation/ct-normal-slices-train/H_0028_288_266_345_normal028.npy', '/content/drive/MyDrive/googledrive_segmentation/ct-normal-slices-train/H_0029_274_349_356_normal029.npy', '/content/drive/MyDrive/googledrive_segmentation/ct-normal-slices-train/H_0030_260_283_323_normal030.npy', '/content/drive/MyDrive/googledrive_segmentation/ct-normal-slices-train/H_0031_332_310_342_normal031.npy', '/content/drive/MyDrive/googledrive_segmentation/ct-normal-slices-train/H_0032_292_236_302_normal032.npy', '/content/drive/MyDrive/googledrive_segmentation/ct-normal-slices-train/H_0033_280_274_315_normal033.npy', '/content/drive/MyDrive/googledrive_segmentation/ct-normal-slices-train/H_0034_268_260_344_normal034.npy', '/content/drive/MyDrive/googledrive_segmentation/ct-normal-slices-train/H_0035_252_239_296_normal035.npy', '/content/drive/MyDrive/googledrive_segmentation/ct-normal-slices-train/H_0036_318_291_345_normal036.npy', '/content/drive/MyDrive/googledrive_segmentation/ct-normal-slices-train/H_0037_296_276_356_normal037.npy', '/content/drive/MyDrive/googledrive_segmentation/ct-normal-slices-train/H_0038_370_296_352_normal038.npy', '/content/drive/MyDrive/googledrive_segmentation/ct-normal-slices-train/H_0039_308_291_325_normal039.npy', '/content/drive/MyDrive/googledrive_segmentation/ct-normal-slices-train/H_0040_302_284_310_normal040.npy', '/content/drive/MyDrive/googledrive_segmentation/ct-normal-slices-train/H_0041_302_348_386_normal041.npy', '/content/drive/MyDrive/googledrive_segmentation/ct-normal-slices-train/H_0042_258_343_356_normal042.npy', '/content/drive/MyDrive/googledrive_segmentation/ct-normal-slices-train/H_0043_286_249_316_normal043.npy', '/content/drive/MyDrive/googledrive_segmentation/ct-normal-slices-train/H_0044_300_276_295_normal044.npy', '/content/drive/MyDrive/googledrive_segmentation/ct-normal-slices-train/H_0045_308_250_306_normal045.npy', '/content/drive/MyDrive/googledrive_segmentation/ct-normal-slices-train/H_0046_284_338_330_normal046.npy', '/content/drive/MyDrive/googledrive_segmentation/ct-normal-slices-train/H_0047_236_247_287_normal047.npy', '/content/drive/MyDrive/googledrive_segmentation/ct-normal-slices-train/H_0048_336_340_389_normal048.npy', '/content/drive/MyDrive/googledrive_segmentation/ct-normal-slices-train/H_0049_324_270_326_normal049.npy', '/content/drive/MyDrive/googledrive_segmentation/ct-normal-slices-train/H_0050_344_319_364_normal050.npy', '/content/drive/MyDrive/googledrive_segmentation/ct-normal-slices-train/H_0051_320_334_363_normal051.npy', '/content/drive/MyDrive/googledrive_segmentation/ct-normal-slices-train/H_0052_284_334_387_normal052.npy', '/content/drive/MyDrive/googledrive_segmentation/ct-normal-slices-train/H_0053_304_342_383_normal053.npy', '/content/drive/MyDrive/googledrive_segmentation/ct-normal-slices-train/H_0054_328_296_338_normal054.npy', '/content/drive/MyDrive/googledrive_segmentation/ct-normal-slices-train/H_0055_288_245_299_normal055.npy', '/content/drive/MyDrive/googledrive_segmentation/ct-normal-slices-train/P_0001_336_272_302_cap001.npy', '/content/drive/MyDrive/googledrive_segmentation/ct-normal-slices-train/P_0002_262_270_317_cap002.npy', '/content/drive/MyDrive/googledrive_segmentation/ct-normal-slices-train/P_0003_268_270_316_cap003.npy', '/content/drive/MyDrive/googledrive_segmentation/ct-normal-slices-train/P_0004_362_292_338_cap004.npy', '/content/drive/MyDrive/googledrive_segmentation/ct-normal-slices-train/P_0005_274_331_325_cap005.npy', '/content/drive/MyDrive/googledrive_segmentation/ct-normal-slices-train/P_0006_314_266_339_cap006.npy', '/content/drive/MyDrive/googledrive_segmentation/ct-normal-slices-train/P_0007_318_273_328_cap007.npy', '/content/drive/MyDrive/googledrive_segmentation/ct-normal-slices-train/P_0008_342_259_312_cap008.npy', '/content/drive/MyDrive/googledrive_segmentation/ct-normal-slices-train/P_0009_380_300_329_cap009.npy', '/content/drive/MyDrive/googledrive_segmentation/ct-normal-slices-train/P_0010_318_248_343_cap010.npy', '/content/drive/MyDrive/googledrive_segmentation/ct-normal-slices-train/P_0011_318_381_392_cap011.npy', '/content/drive/MyDrive/googledrive_segmentation/ct-normal-slices-train/P_0012_374_358_402_cap012.npy', '/content/drive/MyDrive/googledrive_segmentation/ct-normal-slices-train/P_0013_282_284_365_cap013.npy', '/content/drive/MyDrive/googledrive_segmentation/ct-normal-slices-train/P_0014_324_299_350_cap014.npy', '/content/drive/MyDrive/googledrive_segmentation/ct-normal-slices-train/P_0015_302_229_308_cap015.npy', '/content/drive/MyDrive/googledrive_segmentation/ct-normal-slices-train/P_0016_260_290_292_cap016.npy', '/content/drive/MyDrive/googledrive_segmentation/ct-normal-slices-train/P_0017_274_303_326_cap017.npy', '/content/drive/MyDrive/googledrive_segmentation/ct-normal-slices-train/P_0018_282_291_297_cap018.npy', '/content/drive/MyDrive/googledrive_segmentation/ct-normal-slices-train/P_0019_272_309_310_cap019.npy', '/content/drive/MyDrive/googledrive_segmentation/ct-normal-slices-train/P_0020_266_296_307_cap020.npy', '/content/drive/MyDrive/googledrive_segmentation/ct-normal-slices-train/P_0021_310_243_310_cap021.npy', '/content/drive/MyDrive/googledrive_segmentation/ct-normal-slices-train/P_0022_328_344_392_cap022.npy', '/content/drive/MyDrive/googledrive_segmentation/ct-normal-slices-train/P_0023_372_296_338_cap023.npy', '/content/drive/MyDrive/googledrive_segmentation/ct-normal-slices-train/P_0024_302_312_353_cap024.npy', '/content/drive/MyDrive/googledrive_segmentation/ct-normal-slices-train/P_0025_352_257_396_cap025.npy', '/content/drive/MyDrive/googledrive_segmentation/ct-normal-slices-train/P_0026_286_333_460_cap026.npy', '/content/drive/MyDrive/googledrive_segmentation/ct-normal-slices-train/P_0027_370_273_308_cap027.npy', '/content/drive/MyDrive/googledrive_segmentation/ct-normal-slices-train/P_0028_316_263_337_cap028.npy', '/content/drive/MyDrive/googledrive_segmentation/ct-normal-slices-train/P_0029_502_346_358_cap029.npy', '/content/drive/MyDrive/googledrive_segmentation/ct-normal-slices-train/P_0030_576_364_361_cap030.npy', '/content/drive/MyDrive/googledrive_segmentation/ct-normal-slices-train/P_0031_344_331_378_cap031.npy', '/content/drive/MyDrive/googledrive_segmentation/ct-normal-slices-train/P_0032_278_281_376_cap032.npy', '/content/drive/MyDrive/googledrive_segmentation/ct-normal-slices-train/P_0033_252_257_304_cap033.npy', '/content/drive/MyDrive/googledrive_segmentation/ct-normal-slices-train/P_0034_288_277_335_cap034.npy', '/content/drive/MyDrive/googledrive_segmentation/ct-normal-slices-train/P_0035_340_371_460_cap035.npy', '/content/drive/MyDrive/googledrive_segmentation/ct-normal-slices-train/P_0036_272_289_289_cap036.npy', '/content/drive/MyDrive/googledrive_segmentation/ct-normal-slices-train/P_0037_314_276_334_cap037.npy', '/content/drive/MyDrive/googledrive_segmentation/ct-normal-slices-train/P_0038_296_244_344_cap038.npy', '/content/drive/MyDrive/googledrive_segmentation/ct-normal-slices-train/P_0039_390_267_323_cap039.npy', '/content/drive/MyDrive/googledrive_segmentation/ct-normal-slices-train/P_0040_288_260_311_cap040.npy', '/content/drive/MyDrive/googledrive_segmentation/ct-normal-slices-train/P_0041_296_335_370_cap041.npy', '/content/drive/MyDrive/googledrive_segmentation/ct-normal-slices-train/P_0042_284_253_326_cap042.npy', '/content/drive/MyDrive/googledrive_segmentation/ct-normal-slices-train/P_0043_310_357_403_cap043.npy', '/content/drive/MyDrive/googledrive_segmentation/ct-normal-slices-train/P_0044_240_288_310_cap044.npy', '/content/drive/MyDrive/googledrive_segmentation/ct-normal-slices-train/P_0045_308_297_368_cap045.npy', '/content/drive/MyDrive/googledrive_segmentation/ct-normal-slices-train/P_0046_216_292_303_cap046.npy', '/content/drive/MyDrive/googledrive_segmentation/ct-normal-slices-train/P_0047_330_311_336_cap047.npy', '/content/drive/MyDrive/googledrive_segmentation/ct-normal-slices-train/P_0048_288_261_328_cap048.npy', '/content/drive/MyDrive/googledrive_segmentation/ct-normal-slices-train/P_0049_280_331_459_cap049.npy', '/content/drive/MyDrive/googledrive_segmentation/ct-normal-slices-train/P_0050_326_357_460_cap050.npy', '/content/drive/MyDrive/googledrive_segmentation/ct-normal-slices-train/P_0051_354_282_343_cap051.npy', '/content/drive/MyDrive/googledrive_segmentation/ct-normal-slices-train/P_0052_324_228_298_cap052.npy', '/content/drive/MyDrive/googledrive_segmentation/ct-normal-slices-train/P_0053_328_267_281_cap053.npy', '/content/drive/MyDrive/googledrive_segmentation/ct-normal-slices-train/P_0054_292_243_303_cap054.npy', '/content/drive/MyDrive/googledrive_segmentation/ct-normal-slices-train/P_0055_296_229_292_cap055.npy']\n",
            "165\n"
          ],
          "name": "stdout"
        }
      ]
    },
    {
      "cell_type": "markdown",
      "metadata": {
        "id": "Ve_jRExW5tFq"
      },
      "source": [
        "### Go Through BCDUNet all slices and pack them"
      ]
    },
    {
      "cell_type": "code",
      "metadata": {
        "colab": {
          "base_uri": "https://localhost:8080/"
        },
        "id": "NPwaQl94p_FI",
        "outputId": "a541e975-6f36-4442-df2e-40ef8f07208e"
      },
      "source": [
        "'''\n",
        "Here, we:\n",
        "1- Resize different size of slices (2D) -> in x,y axes\n",
        "2- Predict all slices of a patient using BCDUNET\n",
        "3- Do subtraction\n",
        "1- Resize different size of CT images (3D) -> in z axis\n",
        "'''\n",
        "from skimage.transform import resize\n",
        "\n",
        "from scipy import signal\n",
        "\n",
        "dataset = np.zeros((len(my_file_paths),50,128,128))\n",
        "counter = 0\n",
        "for j in tqdm(my_file_paths):\n",
        "    print(j)\n",
        "    CT = np.load(j)\n",
        "    CT_resized = resize(CT, (CT.shape[0],128, 128),anti_aliasing=True)\n",
        "    out = model.predict(np.reshape(CT_resized,(CT_resized.shape[0],CT_resized.shape[1],CT_resized.shape[2],1)))\n",
        "    c = CT_resized-out[:,:,:,0]\n",
        "    dataset[counter] = resize(c,(50,128,128))\n",
        "    counter +=1"
      ],
      "execution_count": null,
      "outputs": [
        {
          "output_type": "stream",
          "text": [
            "\r  0%|          | 0/165 [00:00<?, ?it/s]"
          ],
          "name": "stderr"
        },
        {
          "output_type": "stream",
          "text": [
            "/content/drive/MyDrive/googledrive_segmentation/ct-normal-slices-train/CPCR_0001_296_281_383_CR_P001.npy\n"
          ],
          "name": "stdout"
        },
        {
          "output_type": "stream",
          "text": [
            "\r  1%|          | 1/165 [00:12<35:27, 12.97s/it]"
          ],
          "name": "stderr"
        },
        {
          "output_type": "stream",
          "text": [
            "/content/drive/MyDrive/googledrive_segmentation/ct-normal-slices-train/CPCR_0002_266_273_309_CR_P002.npy\n"
          ],
          "name": "stdout"
        },
        {
          "output_type": "stream",
          "text": [
            "\r  1%|          | 2/165 [00:21<31:34, 11.62s/it]"
          ],
          "name": "stderr"
        },
        {
          "output_type": "stream",
          "text": [
            "/content/drive/MyDrive/googledrive_segmentation/ct-normal-slices-train/CPCR_0003_268_338_372_CR_P003.npy\n"
          ],
          "name": "stdout"
        },
        {
          "output_type": "stream",
          "text": [
            "\r  2%|▏         | 3/165 [00:30<29:16, 10.84s/it]"
          ],
          "name": "stderr"
        },
        {
          "output_type": "stream",
          "text": [
            "/content/drive/MyDrive/googledrive_segmentation/ct-normal-slices-train/CPCR_0004_328_298_372_CR_P004.npy\n"
          ],
          "name": "stdout"
        },
        {
          "output_type": "stream",
          "text": [
            "\r  2%|▏         | 4/165 [00:39<27:45, 10.35s/it]"
          ],
          "name": "stderr"
        },
        {
          "output_type": "stream",
          "text": [
            "/content/drive/MyDrive/googledrive_segmentation/ct-normal-slices-train/CPCR_0005_288_262_369_CR_P005.npy\n"
          ],
          "name": "stdout"
        },
        {
          "output_type": "stream",
          "text": [
            "\r  3%|▎         | 5/165 [00:49<27:03, 10.14s/it]"
          ],
          "name": "stderr"
        },
        {
          "output_type": "stream",
          "text": [
            "/content/drive/MyDrive/googledrive_segmentation/ct-normal-slices-train/CPCR_0006_286_294_317_CR_P006.npy\n"
          ],
          "name": "stdout"
        },
        {
          "output_type": "stream",
          "text": [
            "\r  4%|▎         | 6/165 [00:59<26:37, 10.05s/it]"
          ],
          "name": "stderr"
        },
        {
          "output_type": "stream",
          "text": [
            "/content/drive/MyDrive/googledrive_segmentation/ct-normal-slices-train/CPCR_0007_302_286_310_CR_P007.npy\n"
          ],
          "name": "stdout"
        },
        {
          "output_type": "stream",
          "text": [
            "\r  4%|▍         | 7/165 [01:07<25:13,  9.58s/it]"
          ],
          "name": "stderr"
        },
        {
          "output_type": "stream",
          "text": [
            "/content/drive/MyDrive/googledrive_segmentation/ct-normal-slices-train/CPCR_0008_318_345_355_CR_P008.npy\n"
          ],
          "name": "stdout"
        },
        {
          "output_type": "stream",
          "text": [
            "\r  5%|▍         | 8/165 [01:17<24:57,  9.54s/it]"
          ],
          "name": "stderr"
        },
        {
          "output_type": "stream",
          "text": [
            "/content/drive/MyDrive/googledrive_segmentation/ct-normal-slices-train/CPCR_0009_346_326_364_CR_P009.npy\n"
          ],
          "name": "stdout"
        },
        {
          "output_type": "stream",
          "text": [
            "\r  5%|▌         | 9/165 [01:28<26:34, 10.22s/it]"
          ],
          "name": "stderr"
        },
        {
          "output_type": "stream",
          "text": [
            "/content/drive/MyDrive/googledrive_segmentation/ct-normal-slices-train/CPCR_0010_276_286_294_CR_P010.npy\n"
          ],
          "name": "stdout"
        },
        {
          "output_type": "stream",
          "text": [
            "\r  6%|▌         | 10/165 [01:37<24:59,  9.67s/it]"
          ],
          "name": "stderr"
        },
        {
          "output_type": "stream",
          "text": [
            "/content/drive/MyDrive/googledrive_segmentation/ct-normal-slices-train/CPCR_0011_270_297_333_CR_P011.npy\n"
          ],
          "name": "stdout"
        },
        {
          "output_type": "stream",
          "text": [
            "\r  7%|▋         | 11/165 [01:44<23:19,  9.09s/it]"
          ],
          "name": "stderr"
        },
        {
          "output_type": "stream",
          "text": [
            "/content/drive/MyDrive/googledrive_segmentation/ct-normal-slices-train/CPCR_0012_330_346_375_CR_P012.npy\n"
          ],
          "name": "stdout"
        },
        {
          "output_type": "stream",
          "text": [
            "\r  7%|▋         | 12/165 [01:56<24:54,  9.77s/it]"
          ],
          "name": "stderr"
        },
        {
          "output_type": "stream",
          "text": [
            "/content/drive/MyDrive/googledrive_segmentation/ct-normal-slices-train/CPCR_0013_342_334_354_CR_P013.npy\n"
          ],
          "name": "stdout"
        },
        {
          "output_type": "stream",
          "text": [
            "\r  8%|▊         | 13/165 [02:08<26:25, 10.43s/it]"
          ],
          "name": "stderr"
        },
        {
          "output_type": "stream",
          "text": [
            "/content/drive/MyDrive/googledrive_segmentation/ct-normal-slices-train/CPCR_0014_284_269_310_CR_P014.npy\n"
          ],
          "name": "stdout"
        },
        {
          "output_type": "stream",
          "text": [
            "\r  8%|▊         | 14/165 [02:17<25:38, 10.19s/it]"
          ],
          "name": "stderr"
        },
        {
          "output_type": "stream",
          "text": [
            "/content/drive/MyDrive/googledrive_segmentation/ct-normal-slices-train/CPCR_0015_296_276_347_CR_P015.npy\n"
          ],
          "name": "stdout"
        },
        {
          "output_type": "stream",
          "text": [
            "\r  9%|▉         | 15/165 [02:25<23:22,  9.35s/it]"
          ],
          "name": "stderr"
        },
        {
          "output_type": "stream",
          "text": [
            "/content/drive/MyDrive/googledrive_segmentation/ct-normal-slices-train/CPCR_0016_332_325_368_CR_P016.npy\n"
          ],
          "name": "stdout"
        },
        {
          "output_type": "stream",
          "text": [
            "\r 10%|▉         | 16/165 [02:35<23:36,  9.51s/it]"
          ],
          "name": "stderr"
        },
        {
          "output_type": "stream",
          "text": [
            "/content/drive/MyDrive/googledrive_segmentation/ct-normal-slices-train/CPCR_0017_236_250_309_CR_P017.npy\n"
          ],
          "name": "stdout"
        },
        {
          "output_type": "stream",
          "text": [
            "\r 10%|█         | 17/165 [02:41<21:20,  8.65s/it]"
          ],
          "name": "stderr"
        },
        {
          "output_type": "stream",
          "text": [
            "/content/drive/MyDrive/googledrive_segmentation/ct-normal-slices-train/CPCR_0018_314_282_319_CR_P018.npy\n"
          ],
          "name": "stdout"
        },
        {
          "output_type": "stream",
          "text": [
            "\r 11%|█         | 18/165 [02:49<20:25,  8.34s/it]"
          ],
          "name": "stderr"
        },
        {
          "output_type": "stream",
          "text": [
            "/content/drive/MyDrive/googledrive_segmentation/ct-normal-slices-train/CPCR_0019_300_272_359_CR_P019.npy\n"
          ],
          "name": "stdout"
        },
        {
          "output_type": "stream",
          "text": [
            "\r 12%|█▏        | 19/165 [02:57<20:00,  8.22s/it]"
          ],
          "name": "stderr"
        },
        {
          "output_type": "stream",
          "text": [
            "/content/drive/MyDrive/googledrive_segmentation/ct-normal-slices-train/CPCR_0020_256_267_369_CR_P020.npy\n"
          ],
          "name": "stdout"
        },
        {
          "output_type": "stream",
          "text": [
            "\r 12%|█▏        | 20/165 [03:04<19:00,  7.87s/it]"
          ],
          "name": "stderr"
        },
        {
          "output_type": "stream",
          "text": [
            "/content/drive/MyDrive/googledrive_segmentation/ct-normal-slices-train/CPCR_0021_326_326_374_CR_P021.npy\n"
          ],
          "name": "stdout"
        },
        {
          "output_type": "stream",
          "text": [
            "\r 13%|█▎        | 21/165 [03:15<20:56,  8.73s/it]"
          ],
          "name": "stderr"
        },
        {
          "output_type": "stream",
          "text": [
            "/content/drive/MyDrive/googledrive_segmentation/ct-normal-slices-train/CPCR_0022_250_259_310_CR_P022.npy\n"
          ],
          "name": "stdout"
        },
        {
          "output_type": "stream",
          "text": [
            "\r 13%|█▎        | 22/165 [03:22<19:31,  8.19s/it]"
          ],
          "name": "stderr"
        },
        {
          "output_type": "stream",
          "text": [
            "/content/drive/MyDrive/googledrive_segmentation/ct-normal-slices-train/CPCR_0023_294_318_372_CR_P023.npy\n"
          ],
          "name": "stdout"
        },
        {
          "output_type": "stream",
          "text": [
            "\r 14%|█▍        | 23/165 [03:33<21:34,  9.11s/it]"
          ],
          "name": "stderr"
        },
        {
          "output_type": "stream",
          "text": [
            "/content/drive/MyDrive/googledrive_segmentation/ct-normal-slices-train/CPCR_0024_272_279_328_CR_P024.npy\n"
          ],
          "name": "stdout"
        },
        {
          "output_type": "stream",
          "text": [
            "\r 15%|█▍        | 24/165 [03:41<20:55,  8.90s/it]"
          ],
          "name": "stderr"
        },
        {
          "output_type": "stream",
          "text": [
            "/content/drive/MyDrive/googledrive_segmentation/ct-normal-slices-train/CPCR_0025_318_301_317_CR_P025.npy\n"
          ],
          "name": "stdout"
        },
        {
          "output_type": "stream",
          "text": [
            "\r 15%|█▌        | 25/165 [03:49<19:53,  8.53s/it]"
          ],
          "name": "stderr"
        },
        {
          "output_type": "stream",
          "text": [
            "/content/drive/MyDrive/googledrive_segmentation/ct-normal-slices-train/CPCR_0026_304_291_353_CR_P026.npy\n"
          ],
          "name": "stdout"
        },
        {
          "output_type": "stream",
          "text": [
            "\r 16%|█▌        | 26/165 [03:57<19:22,  8.36s/it]"
          ],
          "name": "stderr"
        },
        {
          "output_type": "stream",
          "text": [
            "/content/drive/MyDrive/googledrive_segmentation/ct-normal-slices-train/CPCR_0027_268_347_369_CR_P027.npy\n"
          ],
          "name": "stdout"
        },
        {
          "output_type": "stream",
          "text": [
            "\r 16%|█▋        | 27/165 [04:06<19:33,  8.50s/it]"
          ],
          "name": "stderr"
        },
        {
          "output_type": "stream",
          "text": [
            "/content/drive/MyDrive/googledrive_segmentation/ct-normal-slices-train/CPCR_0028_270_264_310_CR_P028.npy\n"
          ],
          "name": "stdout"
        },
        {
          "output_type": "stream",
          "text": [
            "\r 17%|█▋        | 28/165 [04:12<18:05,  7.92s/it]"
          ],
          "name": "stderr"
        },
        {
          "output_type": "stream",
          "text": [
            "/content/drive/MyDrive/googledrive_segmentation/ct-normal-slices-train/CPCR_0029_262_313_343_CR_P029.npy\n"
          ],
          "name": "stdout"
        },
        {
          "output_type": "stream",
          "text": [
            "\r 18%|█▊        | 29/165 [04:19<17:15,  7.61s/it]"
          ],
          "name": "stderr"
        },
        {
          "output_type": "stream",
          "text": [
            "/content/drive/MyDrive/googledrive_segmentation/ct-normal-slices-train/CPCR_0030_284_302_310_CR_P030.npy\n"
          ],
          "name": "stdout"
        },
        {
          "output_type": "stream",
          "text": [
            "\r 18%|█▊        | 30/165 [04:29<18:32,  8.24s/it]"
          ],
          "name": "stderr"
        },
        {
          "output_type": "stream",
          "text": [
            "/content/drive/MyDrive/googledrive_segmentation/ct-normal-slices-train/CPCR_0031_306_317_372_CR_P031.npy\n"
          ],
          "name": "stdout"
        },
        {
          "output_type": "stream",
          "text": [
            "\r 19%|█▉        | 31/165 [04:39<19:56,  8.93s/it]"
          ],
          "name": "stderr"
        },
        {
          "output_type": "stream",
          "text": [
            "/content/drive/MyDrive/googledrive_segmentation/ct-normal-slices-train/CPCR_0032_262_261_326_CR_P032.npy\n"
          ],
          "name": "stdout"
        },
        {
          "output_type": "stream",
          "text": [
            "\r 19%|█▉        | 32/165 [04:47<18:39,  8.42s/it]"
          ],
          "name": "stderr"
        },
        {
          "output_type": "stream",
          "text": [
            "/content/drive/MyDrive/googledrive_segmentation/ct-normal-slices-train/CPCR_0033_298_323_370_CR_P033.npy\n"
          ],
          "name": "stdout"
        },
        {
          "output_type": "stream",
          "text": [
            "\r 20%|██        | 33/165 [04:55<18:43,  8.52s/it]"
          ],
          "name": "stderr"
        },
        {
          "output_type": "stream",
          "text": [
            "/content/drive/MyDrive/googledrive_segmentation/ct-normal-slices-train/CPCR_0034_320_381_415_CR_P034.npy\n"
          ],
          "name": "stdout"
        },
        {
          "output_type": "stream",
          "text": [
            "\r 21%|██        | 34/165 [05:06<20:12,  9.26s/it]"
          ],
          "name": "stderr"
        },
        {
          "output_type": "stream",
          "text": [
            "/content/drive/MyDrive/googledrive_segmentation/ct-normal-slices-train/CPCR_0035_338_300_351_CR_P035.npy\n"
          ],
          "name": "stdout"
        },
        {
          "output_type": "stream",
          "text": [
            "\r 21%|██        | 35/165 [05:16<20:04,  9.27s/it]"
          ],
          "name": "stderr"
        },
        {
          "output_type": "stream",
          "text": [
            "/content/drive/MyDrive/googledrive_segmentation/ct-normal-slices-train/CPCR_0036_294_363_388_CR_P036.npy\n"
          ],
          "name": "stdout"
        },
        {
          "output_type": "stream",
          "text": [
            "\r 22%|██▏       | 36/165 [05:26<20:36,  9.59s/it]"
          ],
          "name": "stderr"
        },
        {
          "output_type": "stream",
          "text": [
            "/content/drive/MyDrive/googledrive_segmentation/ct-normal-slices-train/CPCR_0037_244_306_319_CR_P037.npy\n"
          ],
          "name": "stdout"
        },
        {
          "output_type": "stream",
          "text": [
            "\r 22%|██▏       | 37/165 [05:33<18:38,  8.74s/it]"
          ],
          "name": "stderr"
        },
        {
          "output_type": "stream",
          "text": [
            "/content/drive/MyDrive/googledrive_segmentation/ct-normal-slices-train/CPCR_0038_274_334_397_CR_P038.npy\n"
          ],
          "name": "stdout"
        },
        {
          "output_type": "stream",
          "text": [
            "\r 23%|██▎       | 38/165 [05:42<18:31,  8.75s/it]"
          ],
          "name": "stderr"
        },
        {
          "output_type": "stream",
          "text": [
            "/content/drive/MyDrive/googledrive_segmentation/ct-normal-slices-train/CPCR_0039_346_325_384_CR_P039.npy\n"
          ],
          "name": "stdout"
        },
        {
          "output_type": "stream",
          "text": [
            "\r 24%|██▎       | 39/165 [05:53<19:52,  9.46s/it]"
          ],
          "name": "stderr"
        },
        {
          "output_type": "stream",
          "text": [
            "/content/drive/MyDrive/googledrive_segmentation/ct-normal-slices-train/CPCR_0040_288_262_351_CR_P040.npy\n"
          ],
          "name": "stdout"
        },
        {
          "output_type": "stream",
          "text": [
            "\r 24%|██▍       | 40/165 [06:00<18:19,  8.80s/it]"
          ],
          "name": "stderr"
        },
        {
          "output_type": "stream",
          "text": [
            "/content/drive/MyDrive/googledrive_segmentation/ct-normal-slices-train/CPCR_0041_292_308_371_CR_P041.npy\n"
          ],
          "name": "stdout"
        },
        {
          "output_type": "stream",
          "text": [
            "\r 25%|██▍       | 41/165 [06:11<19:36,  9.49s/it]"
          ],
          "name": "stderr"
        },
        {
          "output_type": "stream",
          "text": [
            "/content/drive/MyDrive/googledrive_segmentation/ct-normal-slices-train/CPCR_0042_268_317_372_CR_P042.npy\n"
          ],
          "name": "stdout"
        },
        {
          "output_type": "stream",
          "text": [
            "\r 25%|██▌       | 42/165 [06:18<18:00,  8.79s/it]"
          ],
          "name": "stderr"
        },
        {
          "output_type": "stream",
          "text": [
            "/content/drive/MyDrive/googledrive_segmentation/ct-normal-slices-train/CPCR_0043_296_314_390_CR_P043.npy\n"
          ],
          "name": "stdout"
        },
        {
          "output_type": "stream",
          "text": [
            "\r 26%|██▌       | 43/165 [06:27<17:57,  8.83s/it]"
          ],
          "name": "stderr"
        },
        {
          "output_type": "stream",
          "text": [
            "/content/drive/MyDrive/googledrive_segmentation/ct-normal-slices-train/CPCR_0044_290_250_320_CR_P044.npy\n"
          ],
          "name": "stdout"
        },
        {
          "output_type": "stream",
          "text": [
            "\r 27%|██▋       | 44/165 [06:34<16:48,  8.33s/it]"
          ],
          "name": "stderr"
        },
        {
          "output_type": "stream",
          "text": [
            "/content/drive/MyDrive/googledrive_segmentation/ct-normal-slices-train/CPCR_0045_328_282_374_CR_P045.npy\n"
          ],
          "name": "stdout"
        },
        {
          "output_type": "stream",
          "text": [
            "\r 27%|██▋       | 45/165 [06:44<17:12,  8.61s/it]"
          ],
          "name": "stderr"
        },
        {
          "output_type": "stream",
          "text": [
            "/content/drive/MyDrive/googledrive_segmentation/ct-normal-slices-train/CPCR_0046_288_267_319_CR_P046.npy\n"
          ],
          "name": "stdout"
        },
        {
          "output_type": "stream",
          "text": [
            "\r 28%|██▊       | 46/165 [06:51<16:08,  8.14s/it]"
          ],
          "name": "stderr"
        },
        {
          "output_type": "stream",
          "text": [
            "/content/drive/MyDrive/googledrive_segmentation/ct-normal-slices-train/CPCR_0047_320_234_288_CR_P047.npy\n"
          ],
          "name": "stdout"
        },
        {
          "output_type": "stream",
          "text": [
            "\r 28%|██▊       | 47/165 [06:58<15:47,  8.03s/it]"
          ],
          "name": "stderr"
        },
        {
          "output_type": "stream",
          "text": [
            "/content/drive/MyDrive/googledrive_segmentation/ct-normal-slices-train/CPCR_0048_354_253_327_CR_P048.npy\n"
          ],
          "name": "stdout"
        },
        {
          "output_type": "stream",
          "text": [
            "\r 29%|██▉       | 48/165 [07:08<16:26,  8.43s/it]"
          ],
          "name": "stderr"
        },
        {
          "output_type": "stream",
          "text": [
            "/content/drive/MyDrive/googledrive_segmentation/ct-normal-slices-train/CPCR_0049_282_254_310_CR_P049.npy\n"
          ],
          "name": "stdout"
        },
        {
          "output_type": "stream",
          "text": [
            "\r 30%|██▉       | 49/165 [07:16<16:08,  8.35s/it]"
          ],
          "name": "stderr"
        },
        {
          "output_type": "stream",
          "text": [
            "/content/drive/MyDrive/googledrive_segmentation/ct-normal-slices-train/CPCR_0050_326_274_327_CR_P050.npy\n"
          ],
          "name": "stdout"
        },
        {
          "output_type": "stream",
          "text": [
            "\r 30%|███       | 50/165 [07:24<16:02,  8.37s/it]"
          ],
          "name": "stderr"
        },
        {
          "output_type": "stream",
          "text": [
            "/content/drive/MyDrive/googledrive_segmentation/ct-normal-slices-train/CPCR_0051_316_273_375_CR_P051.npy\n"
          ],
          "name": "stdout"
        },
        {
          "output_type": "stream",
          "text": [
            "\r 31%|███       | 51/165 [07:33<15:55,  8.39s/it]"
          ],
          "name": "stderr"
        },
        {
          "output_type": "stream",
          "text": [
            "/content/drive/MyDrive/googledrive_segmentation/ct-normal-slices-train/CPCR_0052_318_324_348_CR_P052.npy\n"
          ],
          "name": "stdout"
        },
        {
          "output_type": "stream",
          "text": [
            "\r 32%|███▏      | 52/165 [07:42<16:12,  8.60s/it]"
          ],
          "name": "stderr"
        },
        {
          "output_type": "stream",
          "text": [
            "/content/drive/MyDrive/googledrive_segmentation/ct-normal-slices-train/CPCR_0053_318_299_336_CR_P053.npy\n"
          ],
          "name": "stdout"
        },
        {
          "output_type": "stream",
          "text": [
            "\r 32%|███▏      | 53/165 [07:50<16:03,  8.60s/it]"
          ],
          "name": "stderr"
        },
        {
          "output_type": "stream",
          "text": [
            "/content/drive/MyDrive/googledrive_segmentation/ct-normal-slices-train/CPCR_0054_334_288_370_CR_P054.npy\n"
          ],
          "name": "stdout"
        },
        {
          "output_type": "stream",
          "text": [
            "\r 33%|███▎      | 54/165 [08:00<16:19,  8.82s/it]"
          ],
          "name": "stderr"
        },
        {
          "output_type": "stream",
          "text": [
            "/content/drive/MyDrive/googledrive_segmentation/ct-normal-slices-train/CPCR_0055_304_303_372_CR_P055.npy\n"
          ],
          "name": "stdout"
        },
        {
          "output_type": "stream",
          "text": [
            "\r 33%|███▎      | 55/165 [08:08<16:04,  8.77s/it]"
          ],
          "name": "stderr"
        },
        {
          "output_type": "stream",
          "text": [
            "/content/drive/MyDrive/googledrive_segmentation/ct-normal-slices-train/H_0001_288_270_368_normal001.npy\n"
          ],
          "name": "stdout"
        },
        {
          "output_type": "stream",
          "text": [
            "\r 34%|███▍      | 56/165 [08:16<14:59,  8.26s/it]"
          ],
          "name": "stderr"
        },
        {
          "output_type": "stream",
          "text": [
            "/content/drive/MyDrive/googledrive_segmentation/ct-normal-slices-train/H_0002_334_334_370_normal002.npy\n"
          ],
          "name": "stdout"
        },
        {
          "output_type": "stream",
          "text": [
            "\r 35%|███▍      | 57/165 [08:26<15:52,  8.82s/it]"
          ],
          "name": "stderr"
        },
        {
          "output_type": "stream",
          "text": [
            "/content/drive/MyDrive/googledrive_segmentation/ct-normal-slices-train/H_0003_338_344_393_normal003.npy\n"
          ],
          "name": "stdout"
        },
        {
          "output_type": "stream",
          "text": [
            "\r 35%|███▌      | 58/165 [08:37<17:05,  9.58s/it]"
          ],
          "name": "stderr"
        },
        {
          "output_type": "stream",
          "text": [
            "/content/drive/MyDrive/googledrive_segmentation/ct-normal-slices-train/H_0004_256_258_340_normal004.npy\n"
          ],
          "name": "stdout"
        },
        {
          "output_type": "stream",
          "text": [
            "\r 36%|███▌      | 59/165 [08:46<16:48,  9.52s/it]"
          ],
          "name": "stderr"
        },
        {
          "output_type": "stream",
          "text": [
            "/content/drive/MyDrive/googledrive_segmentation/ct-normal-slices-train/H_0005_286_252_310_normal005.npy\n"
          ],
          "name": "stdout"
        },
        {
          "output_type": "stream",
          "text": [
            "\r 36%|███▋      | 60/165 [08:54<15:43,  8.98s/it]"
          ],
          "name": "stderr"
        },
        {
          "output_type": "stream",
          "text": [
            "/content/drive/MyDrive/googledrive_segmentation/ct-normal-slices-train/H_0006_288_237_321_normal006.npy\n"
          ],
          "name": "stdout"
        },
        {
          "output_type": "stream",
          "text": [
            "\r 37%|███▋      | 61/165 [09:02<14:46,  8.53s/it]"
          ],
          "name": "stderr"
        },
        {
          "output_type": "stream",
          "text": [
            "/content/drive/MyDrive/googledrive_segmentation/ct-normal-slices-train/H_0007_284_372_368_normal007.npy\n"
          ],
          "name": "stdout"
        },
        {
          "output_type": "stream",
          "text": [
            "\r 38%|███▊      | 62/165 [09:10<14:45,  8.60s/it]"
          ],
          "name": "stderr"
        },
        {
          "output_type": "stream",
          "text": [
            "/content/drive/MyDrive/googledrive_segmentation/ct-normal-slices-train/H_0008_278_266_337_normal008.npy\n"
          ],
          "name": "stdout"
        },
        {
          "output_type": "stream",
          "text": [
            "\r 38%|███▊      | 63/165 [09:17<13:34,  7.99s/it]"
          ],
          "name": "stderr"
        },
        {
          "output_type": "stream",
          "text": [
            "/content/drive/MyDrive/googledrive_segmentation/ct-normal-slices-train/H_0009_290_292_365_normal009.npy\n"
          ],
          "name": "stdout"
        },
        {
          "output_type": "stream",
          "text": [
            "\r 39%|███▉      | 64/165 [09:24<13:12,  7.84s/it]"
          ],
          "name": "stderr"
        },
        {
          "output_type": "stream",
          "text": [
            "/content/drive/MyDrive/googledrive_segmentation/ct-normal-slices-train/H_0010_304_368_384_normal010.npy\n"
          ],
          "name": "stdout"
        },
        {
          "output_type": "stream",
          "text": [
            "\r 39%|███▉      | 65/165 [09:34<14:05,  8.46s/it]"
          ],
          "name": "stderr"
        },
        {
          "output_type": "stream",
          "text": [
            "/content/drive/MyDrive/googledrive_segmentation/ct-normal-slices-train/H_0011_276_286_382_normal011.npy\n"
          ],
          "name": "stdout"
        },
        {
          "output_type": "stream",
          "text": [
            "\r 40%|████      | 66/165 [09:42<13:41,  8.30s/it]"
          ],
          "name": "stderr"
        },
        {
          "output_type": "stream",
          "text": [
            "/content/drive/MyDrive/googledrive_segmentation/ct-normal-slices-train/H_0012_320_363_377_normal012.npy\n"
          ],
          "name": "stdout"
        },
        {
          "output_type": "stream",
          "text": [
            "\r 41%|████      | 67/165 [09:53<14:56,  9.15s/it]"
          ],
          "name": "stderr"
        },
        {
          "output_type": "stream",
          "text": [
            "/content/drive/MyDrive/googledrive_segmentation/ct-normal-slices-train/H_0013_372_332_397_normal013.npy\n"
          ],
          "name": "stdout"
        },
        {
          "output_type": "stream",
          "text": [
            "\r 41%|████      | 68/165 [10:06<16:26, 10.17s/it]"
          ],
          "name": "stderr"
        },
        {
          "output_type": "stream",
          "text": [
            "/content/drive/MyDrive/googledrive_segmentation/ct-normal-slices-train/H_0014_280_284_312_normal014.npy\n"
          ],
          "name": "stdout"
        },
        {
          "output_type": "stream",
          "text": [
            "\r 42%|████▏     | 69/165 [10:14<15:09,  9.47s/it]"
          ],
          "name": "stderr"
        },
        {
          "output_type": "stream",
          "text": [
            "/content/drive/MyDrive/googledrive_segmentation/ct-normal-slices-train/H_0015_290_315_339_normal015.npy\n"
          ],
          "name": "stdout"
        },
        {
          "output_type": "stream",
          "text": [
            "\r 42%|████▏     | 70/165 [10:22<14:37,  9.24s/it]"
          ],
          "name": "stderr"
        },
        {
          "output_type": "stream",
          "text": [
            "/content/drive/MyDrive/googledrive_segmentation/ct-normal-slices-train/H_0016_248_272_298_normal016.npy\n"
          ],
          "name": "stdout"
        },
        {
          "output_type": "stream",
          "text": [
            "\r 43%|████▎     | 71/165 [10:29<13:03,  8.33s/it]"
          ],
          "name": "stderr"
        },
        {
          "output_type": "stream",
          "text": [
            "/content/drive/MyDrive/googledrive_segmentation/ct-normal-slices-train/H_0017_354_318_376_normal017.npy\n"
          ],
          "name": "stdout"
        },
        {
          "output_type": "stream",
          "text": [
            "\r 44%|████▎     | 72/165 [10:39<13:55,  8.98s/it]"
          ],
          "name": "stderr"
        },
        {
          "output_type": "stream",
          "text": [
            "/content/drive/MyDrive/googledrive_segmentation/ct-normal-slices-train/H_0018_272_258_352_normal018.npy\n"
          ],
          "name": "stdout"
        },
        {
          "output_type": "stream",
          "text": [
            "\r 44%|████▍     | 73/165 [10:46<12:46,  8.33s/it]"
          ],
          "name": "stderr"
        },
        {
          "output_type": "stream",
          "text": [
            "/content/drive/MyDrive/googledrive_segmentation/ct-normal-slices-train/H_0019_266_277_318_normal019.npy\n"
          ],
          "name": "stdout"
        },
        {
          "output_type": "stream",
          "text": [
            "\r 45%|████▍     | 74/165 [10:52<11:44,  7.74s/it]"
          ],
          "name": "stderr"
        },
        {
          "output_type": "stream",
          "text": [
            "/content/drive/MyDrive/googledrive_segmentation/ct-normal-slices-train/H_0020_274_245_310_normal020.npy\n"
          ],
          "name": "stdout"
        },
        {
          "output_type": "stream",
          "text": [
            "\r 45%|████▌     | 75/165 [10:59<10:56,  7.29s/it]"
          ],
          "name": "stderr"
        },
        {
          "output_type": "stream",
          "text": [
            "/content/drive/MyDrive/googledrive_segmentation/ct-normal-slices-train/H_0021_310_262_301_normal021.npy\n"
          ],
          "name": "stdout"
        },
        {
          "output_type": "stream",
          "text": [
            "\r 46%|████▌     | 76/165 [11:06<10:56,  7.38s/it]"
          ],
          "name": "stderr"
        },
        {
          "output_type": "stream",
          "text": [
            "/content/drive/MyDrive/googledrive_segmentation/ct-normal-slices-train/H_0022_298_334_372_normal022.npy\n"
          ],
          "name": "stdout"
        },
        {
          "output_type": "stream",
          "text": [
            "\r 47%|████▋     | 77/165 [11:15<11:25,  7.79s/it]"
          ],
          "name": "stderr"
        },
        {
          "output_type": "stream",
          "text": [
            "/content/drive/MyDrive/googledrive_segmentation/ct-normal-slices-train/H_0023_324_258_310_normal023.npy\n"
          ],
          "name": "stdout"
        },
        {
          "output_type": "stream",
          "text": [
            "\r 47%|████▋     | 78/165 [11:22<11:08,  7.69s/it]"
          ],
          "name": "stderr"
        },
        {
          "output_type": "stream",
          "text": [
            "/content/drive/MyDrive/googledrive_segmentation/ct-normal-slices-train/H_0024_334_276_302_normal024.npy\n"
          ],
          "name": "stdout"
        },
        {
          "output_type": "stream",
          "text": [
            "\r 48%|████▊     | 79/165 [11:30<11:00,  7.68s/it]"
          ],
          "name": "stderr"
        },
        {
          "output_type": "stream",
          "text": [
            "/content/drive/MyDrive/googledrive_segmentation/ct-normal-slices-train/H_0025_312_289_318_normal025.npy\n"
          ],
          "name": "stdout"
        },
        {
          "output_type": "stream",
          "text": [
            "\r 48%|████▊     | 80/165 [11:37<10:45,  7.59s/it]"
          ],
          "name": "stderr"
        },
        {
          "output_type": "stream",
          "text": [
            "/content/drive/MyDrive/googledrive_segmentation/ct-normal-slices-train/H_0026_294_245_333_normal026.npy\n"
          ],
          "name": "stdout"
        },
        {
          "output_type": "stream",
          "text": [
            "\r 49%|████▉     | 81/165 [11:44<10:17,  7.35s/it]"
          ],
          "name": "stderr"
        },
        {
          "output_type": "stream",
          "text": [
            "/content/drive/MyDrive/googledrive_segmentation/ct-normal-slices-train/H_0027_336_272_383_normal027.npy\n"
          ],
          "name": "stdout"
        },
        {
          "output_type": "stream",
          "text": [
            "\r 50%|████▉     | 82/165 [11:53<10:47,  7.81s/it]"
          ],
          "name": "stderr"
        },
        {
          "output_type": "stream",
          "text": [
            "/content/drive/MyDrive/googledrive_segmentation/ct-normal-slices-train/H_0028_288_266_345_normal028.npy\n"
          ],
          "name": "stdout"
        },
        {
          "output_type": "stream",
          "text": [
            "\r 50%|█████     | 83/165 [12:01<10:31,  7.70s/it]"
          ],
          "name": "stderr"
        },
        {
          "output_type": "stream",
          "text": [
            "/content/drive/MyDrive/googledrive_segmentation/ct-normal-slices-train/H_0029_274_349_356_normal029.npy\n"
          ],
          "name": "stdout"
        },
        {
          "output_type": "stream",
          "text": [
            "\r 51%|█████     | 84/165 [12:09<10:33,  7.82s/it]"
          ],
          "name": "stderr"
        },
        {
          "output_type": "stream",
          "text": [
            "/content/drive/MyDrive/googledrive_segmentation/ct-normal-slices-train/H_0030_260_283_323_normal030.npy\n"
          ],
          "name": "stdout"
        },
        {
          "output_type": "stream",
          "text": [
            "\r 52%|█████▏    | 85/165 [12:16<10:11,  7.64s/it]"
          ],
          "name": "stderr"
        },
        {
          "output_type": "stream",
          "text": [
            "/content/drive/MyDrive/googledrive_segmentation/ct-normal-slices-train/H_0031_332_310_342_normal031.npy\n"
          ],
          "name": "stdout"
        },
        {
          "output_type": "stream",
          "text": [
            "\r 52%|█████▏    | 86/165 [12:25<10:28,  7.96s/it]"
          ],
          "name": "stderr"
        },
        {
          "output_type": "stream",
          "text": [
            "/content/drive/MyDrive/googledrive_segmentation/ct-normal-slices-train/H_0032_292_236_302_normal032.npy\n"
          ],
          "name": "stdout"
        },
        {
          "output_type": "stream",
          "text": [
            "\r 53%|█████▎    | 87/165 [12:31<09:48,  7.55s/it]"
          ],
          "name": "stderr"
        },
        {
          "output_type": "stream",
          "text": [
            "/content/drive/MyDrive/googledrive_segmentation/ct-normal-slices-train/H_0033_280_274_315_normal033.npy\n"
          ],
          "name": "stdout"
        },
        {
          "output_type": "stream",
          "text": [
            "\r 53%|█████▎    | 88/165 [12:38<09:21,  7.30s/it]"
          ],
          "name": "stderr"
        },
        {
          "output_type": "stream",
          "text": [
            "/content/drive/MyDrive/googledrive_segmentation/ct-normal-slices-train/H_0034_268_260_344_normal034.npy\n"
          ],
          "name": "stdout"
        },
        {
          "output_type": "stream",
          "text": [
            "\r 54%|█████▍    | 89/165 [12:44<08:49,  6.97s/it]"
          ],
          "name": "stderr"
        },
        {
          "output_type": "stream",
          "text": [
            "/content/drive/MyDrive/googledrive_segmentation/ct-normal-slices-train/H_0035_252_239_296_normal035.npy\n"
          ],
          "name": "stdout"
        },
        {
          "output_type": "stream",
          "text": [
            "\r 55%|█████▍    | 90/165 [12:50<08:12,  6.57s/it]"
          ],
          "name": "stderr"
        },
        {
          "output_type": "stream",
          "text": [
            "/content/drive/MyDrive/googledrive_segmentation/ct-normal-slices-train/H_0036_318_291_345_normal036.npy\n"
          ],
          "name": "stdout"
        },
        {
          "output_type": "stream",
          "text": [
            "\r 55%|█████▌    | 91/165 [12:58<08:39,  7.02s/it]"
          ],
          "name": "stderr"
        },
        {
          "output_type": "stream",
          "text": [
            "/content/drive/MyDrive/googledrive_segmentation/ct-normal-slices-train/H_0037_296_276_356_normal037.npy\n"
          ],
          "name": "stdout"
        },
        {
          "output_type": "stream",
          "text": [
            "\r 56%|█████▌    | 92/165 [13:05<08:35,  7.06s/it]"
          ],
          "name": "stderr"
        },
        {
          "output_type": "stream",
          "text": [
            "/content/drive/MyDrive/googledrive_segmentation/ct-normal-slices-train/H_0038_370_296_352_normal038.npy\n"
          ],
          "name": "stdout"
        },
        {
          "output_type": "stream",
          "text": [
            "\r 56%|█████▋    | 93/165 [13:15<09:26,  7.87s/it]"
          ],
          "name": "stderr"
        },
        {
          "output_type": "stream",
          "text": [
            "/content/drive/MyDrive/googledrive_segmentation/ct-normal-slices-train/H_0039_308_291_325_normal039.npy\n"
          ],
          "name": "stdout"
        },
        {
          "output_type": "stream",
          "text": [
            "\r 57%|█████▋    | 94/165 [13:22<09:09,  7.74s/it]"
          ],
          "name": "stderr"
        },
        {
          "output_type": "stream",
          "text": [
            "/content/drive/MyDrive/googledrive_segmentation/ct-normal-slices-train/H_0040_302_284_310_normal040.npy\n"
          ],
          "name": "stdout"
        },
        {
          "output_type": "stream",
          "text": [
            "\r 58%|█████▊    | 95/165 [13:29<08:51,  7.59s/it]"
          ],
          "name": "stderr"
        },
        {
          "output_type": "stream",
          "text": [
            "/content/drive/MyDrive/googledrive_segmentation/ct-normal-slices-train/H_0041_302_348_386_normal041.npy\n"
          ],
          "name": "stdout"
        },
        {
          "output_type": "stream",
          "text": [
            "\r 58%|█████▊    | 96/165 [13:39<09:30,  8.27s/it]"
          ],
          "name": "stderr"
        },
        {
          "output_type": "stream",
          "text": [
            "/content/drive/MyDrive/googledrive_segmentation/ct-normal-slices-train/H_0042_258_343_356_normal042.npy\n"
          ],
          "name": "stdout"
        },
        {
          "output_type": "stream",
          "text": [
            "\r 59%|█████▉    | 97/165 [13:46<08:57,  7.91s/it]"
          ],
          "name": "stderr"
        },
        {
          "output_type": "stream",
          "text": [
            "/content/drive/MyDrive/googledrive_segmentation/ct-normal-slices-train/H_0043_286_249_316_normal043.npy\n"
          ],
          "name": "stdout"
        },
        {
          "output_type": "stream",
          "text": [
            "\r 59%|█████▉    | 98/165 [13:53<08:21,  7.48s/it]"
          ],
          "name": "stderr"
        },
        {
          "output_type": "stream",
          "text": [
            "/content/drive/MyDrive/googledrive_segmentation/ct-normal-slices-train/H_0044_300_276_295_normal044.npy\n"
          ],
          "name": "stdout"
        },
        {
          "output_type": "stream",
          "text": [
            "\r 60%|██████    | 99/165 [14:01<08:25,  7.67s/it]"
          ],
          "name": "stderr"
        },
        {
          "output_type": "stream",
          "text": [
            "/content/drive/MyDrive/googledrive_segmentation/ct-normal-slices-train/H_0045_308_250_306_normal045.npy\n"
          ],
          "name": "stdout"
        },
        {
          "output_type": "stream",
          "text": [
            "\r 61%|██████    | 100/165 [14:09<08:20,  7.70s/it]"
          ],
          "name": "stderr"
        },
        {
          "output_type": "stream",
          "text": [
            "/content/drive/MyDrive/googledrive_segmentation/ct-normal-slices-train/H_0046_284_338_330_normal046.npy\n"
          ],
          "name": "stdout"
        },
        {
          "output_type": "stream",
          "text": [
            "\r 61%|██████    | 101/165 [14:16<08:05,  7.58s/it]"
          ],
          "name": "stderr"
        },
        {
          "output_type": "stream",
          "text": [
            "/content/drive/MyDrive/googledrive_segmentation/ct-normal-slices-train/H_0047_236_247_287_normal047.npy\n"
          ],
          "name": "stdout"
        },
        {
          "output_type": "stream",
          "text": [
            "\r 62%|██████▏   | 102/165 [14:22<07:26,  7.09s/it]"
          ],
          "name": "stderr"
        },
        {
          "output_type": "stream",
          "text": [
            "/content/drive/MyDrive/googledrive_segmentation/ct-normal-slices-train/H_0048_336_340_389_normal048.npy\n"
          ],
          "name": "stdout"
        },
        {
          "output_type": "stream",
          "text": [
            "\r 62%|██████▏   | 103/165 [14:33<08:26,  8.17s/it]"
          ],
          "name": "stderr"
        },
        {
          "output_type": "stream",
          "text": [
            "/content/drive/MyDrive/googledrive_segmentation/ct-normal-slices-train/H_0049_324_270_326_normal049.npy\n"
          ],
          "name": "stdout"
        },
        {
          "output_type": "stream",
          "text": [
            "\r 63%|██████▎   | 104/165 [14:40<08:07,  7.99s/it]"
          ],
          "name": "stderr"
        },
        {
          "output_type": "stream",
          "text": [
            "/content/drive/MyDrive/googledrive_segmentation/ct-normal-slices-train/H_0050_344_319_364_normal050.npy\n"
          ],
          "name": "stdout"
        },
        {
          "output_type": "stream",
          "text": [
            "\r 64%|██████▎   | 105/165 [14:50<08:32,  8.53s/it]"
          ],
          "name": "stderr"
        },
        {
          "output_type": "stream",
          "text": [
            "/content/drive/MyDrive/googledrive_segmentation/ct-normal-slices-train/H_0051_320_334_363_normal051.npy\n"
          ],
          "name": "stdout"
        },
        {
          "output_type": "stream",
          "text": [
            "\r 64%|██████▍   | 106/165 [15:00<08:56,  9.09s/it]"
          ],
          "name": "stderr"
        },
        {
          "output_type": "stream",
          "text": [
            "/content/drive/MyDrive/googledrive_segmentation/ct-normal-slices-train/H_0052_284_334_387_normal052.npy\n"
          ],
          "name": "stdout"
        },
        {
          "output_type": "stream",
          "text": [
            "\r 65%|██████▍   | 107/165 [15:09<08:38,  8.95s/it]"
          ],
          "name": "stderr"
        },
        {
          "output_type": "stream",
          "text": [
            "/content/drive/MyDrive/googledrive_segmentation/ct-normal-slices-train/H_0053_304_342_383_normal053.npy\n"
          ],
          "name": "stdout"
        },
        {
          "output_type": "stream",
          "text": [
            "\r 65%|██████▌   | 108/165 [15:18<08:35,  9.04s/it]"
          ],
          "name": "stderr"
        },
        {
          "output_type": "stream",
          "text": [
            "/content/drive/MyDrive/googledrive_segmentation/ct-normal-slices-train/H_0054_328_296_338_normal054.npy\n"
          ],
          "name": "stdout"
        },
        {
          "output_type": "stream",
          "text": [
            "\r 66%|██████▌   | 109/165 [15:26<08:08,  8.72s/it]"
          ],
          "name": "stderr"
        },
        {
          "output_type": "stream",
          "text": [
            "/content/drive/MyDrive/googledrive_segmentation/ct-normal-slices-train/H_0055_288_245_299_normal055.npy\n"
          ],
          "name": "stdout"
        },
        {
          "output_type": "stream",
          "text": [
            "\r 67%|██████▋   | 110/165 [15:34<07:42,  8.42s/it]"
          ],
          "name": "stderr"
        },
        {
          "output_type": "stream",
          "text": [
            "/content/drive/MyDrive/googledrive_segmentation/ct-normal-slices-train/P_0001_336_272_302_cap001.npy\n"
          ],
          "name": "stdout"
        },
        {
          "output_type": "stream",
          "text": [
            "\r 67%|██████▋   | 111/165 [15:41<07:21,  8.17s/it]"
          ],
          "name": "stderr"
        },
        {
          "output_type": "stream",
          "text": [
            "/content/drive/MyDrive/googledrive_segmentation/ct-normal-slices-train/P_0002_262_270_317_cap002.npy\n"
          ],
          "name": "stdout"
        },
        {
          "output_type": "stream",
          "text": [
            "\r 68%|██████▊   | 112/165 [15:48<06:44,  7.63s/it]"
          ],
          "name": "stderr"
        },
        {
          "output_type": "stream",
          "text": [
            "/content/drive/MyDrive/googledrive_segmentation/ct-normal-slices-train/P_0003_268_270_316_cap003.npy\n"
          ],
          "name": "stdout"
        },
        {
          "output_type": "stream",
          "text": [
            "\r 68%|██████▊   | 113/165 [15:54<06:21,  7.33s/it]"
          ],
          "name": "stderr"
        },
        {
          "output_type": "stream",
          "text": [
            "/content/drive/MyDrive/googledrive_segmentation/ct-normal-slices-train/P_0004_362_292_338_cap004.npy\n"
          ],
          "name": "stdout"
        },
        {
          "output_type": "stream",
          "text": [
            "\r 69%|██████▉   | 114/165 [16:05<07:01,  8.26s/it]"
          ],
          "name": "stderr"
        },
        {
          "output_type": "stream",
          "text": [
            "/content/drive/MyDrive/googledrive_segmentation/ct-normal-slices-train/P_0005_274_331_325_cap005.npy\n"
          ],
          "name": "stdout"
        },
        {
          "output_type": "stream",
          "text": [
            "\r 70%|██████▉   | 115/165 [16:12<06:34,  7.90s/it]"
          ],
          "name": "stderr"
        },
        {
          "output_type": "stream",
          "text": [
            "/content/drive/MyDrive/googledrive_segmentation/ct-normal-slices-train/P_0006_314_266_339_cap006.npy\n"
          ],
          "name": "stdout"
        },
        {
          "output_type": "stream",
          "text": [
            "\r 70%|███████   | 116/165 [16:21<06:47,  8.31s/it]"
          ],
          "name": "stderr"
        },
        {
          "output_type": "stream",
          "text": [
            "/content/drive/MyDrive/googledrive_segmentation/ct-normal-slices-train/P_0007_318_273_328_cap007.npy\n"
          ],
          "name": "stdout"
        },
        {
          "output_type": "stream",
          "text": [
            "\r 71%|███████   | 117/165 [16:28<06:23,  7.99s/it]"
          ],
          "name": "stderr"
        },
        {
          "output_type": "stream",
          "text": [
            "/content/drive/MyDrive/googledrive_segmentation/ct-normal-slices-train/P_0008_342_259_312_cap008.npy\n"
          ],
          "name": "stdout"
        },
        {
          "output_type": "stream",
          "text": [
            "\r 72%|███████▏  | 118/165 [16:36<06:12,  7.93s/it]"
          ],
          "name": "stderr"
        },
        {
          "output_type": "stream",
          "text": [
            "/content/drive/MyDrive/googledrive_segmentation/ct-normal-slices-train/P_0009_380_300_329_cap009.npy\n"
          ],
          "name": "stdout"
        },
        {
          "output_type": "stream",
          "text": [
            "\r 72%|███████▏  | 119/165 [16:46<06:34,  8.57s/it]"
          ],
          "name": "stderr"
        },
        {
          "output_type": "stream",
          "text": [
            "/content/drive/MyDrive/googledrive_segmentation/ct-normal-slices-train/P_0010_318_248_343_cap010.npy\n"
          ],
          "name": "stdout"
        },
        {
          "output_type": "stream",
          "text": [
            "\r 73%|███████▎  | 120/165 [16:54<06:12,  8.27s/it]"
          ],
          "name": "stderr"
        },
        {
          "output_type": "stream",
          "text": [
            "/content/drive/MyDrive/googledrive_segmentation/ct-normal-slices-train/P_0011_318_381_392_cap011.npy\n"
          ],
          "name": "stdout"
        },
        {
          "output_type": "stream",
          "text": [
            "\r 73%|███████▎  | 121/165 [17:04<06:33,  8.94s/it]"
          ],
          "name": "stderr"
        },
        {
          "output_type": "stream",
          "text": [
            "/content/drive/MyDrive/googledrive_segmentation/ct-normal-slices-train/P_0012_374_358_402_cap012.npy\n"
          ],
          "name": "stdout"
        },
        {
          "output_type": "stream",
          "text": [
            "\r 74%|███████▍  | 122/165 [17:16<06:52,  9.59s/it]"
          ],
          "name": "stderr"
        },
        {
          "output_type": "stream",
          "text": [
            "/content/drive/MyDrive/googledrive_segmentation/ct-normal-slices-train/P_0013_282_284_365_cap013.npy\n"
          ],
          "name": "stdout"
        },
        {
          "output_type": "stream",
          "text": [
            "\r 75%|███████▍  | 123/165 [17:23<06:11,  8.85s/it]"
          ],
          "name": "stderr"
        },
        {
          "output_type": "stream",
          "text": [
            "/content/drive/MyDrive/googledrive_segmentation/ct-normal-slices-train/P_0014_324_299_350_cap014.npy\n"
          ],
          "name": "stdout"
        },
        {
          "output_type": "stream",
          "text": [
            "\r 75%|███████▌  | 124/165 [17:32<06:05,  8.91s/it]"
          ],
          "name": "stderr"
        },
        {
          "output_type": "stream",
          "text": [
            "/content/drive/MyDrive/googledrive_segmentation/ct-normal-slices-train/P_0015_302_229_308_cap015.npy\n"
          ],
          "name": "stdout"
        },
        {
          "output_type": "stream",
          "text": [
            "\r 76%|███████▌  | 125/165 [17:39<05:42,  8.55s/it]"
          ],
          "name": "stderr"
        },
        {
          "output_type": "stream",
          "text": [
            "/content/drive/MyDrive/googledrive_segmentation/ct-normal-slices-train/P_0016_260_290_292_cap016.npy\n"
          ],
          "name": "stdout"
        },
        {
          "output_type": "stream",
          "text": [
            "\r 76%|███████▋  | 126/165 [17:46<05:09,  7.94s/it]"
          ],
          "name": "stderr"
        },
        {
          "output_type": "stream",
          "text": [
            "/content/drive/MyDrive/googledrive_segmentation/ct-normal-slices-train/P_0017_274_303_326_cap017.npy\n"
          ],
          "name": "stdout"
        },
        {
          "output_type": "stream",
          "text": [
            "\r 77%|███████▋  | 127/165 [17:53<04:49,  7.62s/it]"
          ],
          "name": "stderr"
        },
        {
          "output_type": "stream",
          "text": [
            "/content/drive/MyDrive/googledrive_segmentation/ct-normal-slices-train/P_0018_282_291_297_cap018.npy\n"
          ],
          "name": "stdout"
        },
        {
          "output_type": "stream",
          "text": [
            "\r 78%|███████▊  | 128/165 [18:00<04:38,  7.53s/it]"
          ],
          "name": "stderr"
        },
        {
          "output_type": "stream",
          "text": [
            "/content/drive/MyDrive/googledrive_segmentation/ct-normal-slices-train/P_0019_272_309_310_cap019.npy\n"
          ],
          "name": "stdout"
        },
        {
          "output_type": "stream",
          "text": [
            "\r 78%|███████▊  | 129/165 [18:09<04:43,  7.87s/it]"
          ],
          "name": "stderr"
        },
        {
          "output_type": "stream",
          "text": [
            "/content/drive/MyDrive/googledrive_segmentation/ct-normal-slices-train/P_0020_266_296_307_cap020.npy\n"
          ],
          "name": "stdout"
        },
        {
          "output_type": "stream",
          "text": [
            "\r 79%|███████▉  | 130/165 [18:16<04:28,  7.68s/it]"
          ],
          "name": "stderr"
        },
        {
          "output_type": "stream",
          "text": [
            "/content/drive/MyDrive/googledrive_segmentation/ct-normal-slices-train/P_0021_310_243_310_cap021.npy\n"
          ],
          "name": "stdout"
        },
        {
          "output_type": "stream",
          "text": [
            "\r 79%|███████▉  | 131/165 [18:24<04:24,  7.78s/it]"
          ],
          "name": "stderr"
        },
        {
          "output_type": "stream",
          "text": [
            "/content/drive/MyDrive/googledrive_segmentation/ct-normal-slices-train/P_0022_328_344_392_cap022.npy\n"
          ],
          "name": "stdout"
        },
        {
          "output_type": "stream",
          "text": [
            "\r 80%|████████  | 132/165 [18:35<04:45,  8.64s/it]"
          ],
          "name": "stderr"
        },
        {
          "output_type": "stream",
          "text": [
            "/content/drive/MyDrive/googledrive_segmentation/ct-normal-slices-train/P_0023_372_296_338_cap023.npy\n"
          ],
          "name": "stdout"
        },
        {
          "output_type": "stream",
          "text": [
            "\r 81%|████████  | 133/165 [18:44<04:47,  8.98s/it]"
          ],
          "name": "stderr"
        },
        {
          "output_type": "stream",
          "text": [
            "/content/drive/MyDrive/googledrive_segmentation/ct-normal-slices-train/P_0024_302_312_353_cap024.npy\n"
          ],
          "name": "stdout"
        },
        {
          "output_type": "stream",
          "text": [
            "\r 81%|████████  | 134/165 [18:53<04:32,  8.80s/it]"
          ],
          "name": "stderr"
        },
        {
          "output_type": "stream",
          "text": [
            "/content/drive/MyDrive/googledrive_segmentation/ct-normal-slices-train/P_0025_352_257_396_cap025.npy\n"
          ],
          "name": "stdout"
        },
        {
          "output_type": "stream",
          "text": [
            "\r 82%|████████▏ | 135/165 [19:03<04:38,  9.28s/it]"
          ],
          "name": "stderr"
        },
        {
          "output_type": "stream",
          "text": [
            "/content/drive/MyDrive/googledrive_segmentation/ct-normal-slices-train/P_0026_286_333_460_cap026.npy\n"
          ],
          "name": "stdout"
        },
        {
          "output_type": "stream",
          "text": [
            "\r 82%|████████▏ | 136/165 [19:13<04:34,  9.47s/it]"
          ],
          "name": "stderr"
        },
        {
          "output_type": "stream",
          "text": [
            "/content/drive/MyDrive/googledrive_segmentation/ct-normal-slices-train/P_0027_370_273_308_cap027.npy\n"
          ],
          "name": "stdout"
        },
        {
          "output_type": "stream",
          "text": [
            "\r 83%|████████▎ | 137/165 [19:22<04:17,  9.18s/it]"
          ],
          "name": "stderr"
        },
        {
          "output_type": "stream",
          "text": [
            "/content/drive/MyDrive/googledrive_segmentation/ct-normal-slices-train/P_0028_316_263_337_cap028.npy\n"
          ],
          "name": "stdout"
        },
        {
          "output_type": "stream",
          "text": [
            "\r 84%|████████▎ | 138/165 [19:29<03:55,  8.71s/it]"
          ],
          "name": "stderr"
        },
        {
          "output_type": "stream",
          "text": [
            "/content/drive/MyDrive/googledrive_segmentation/ct-normal-slices-train/P_0029_502_346_358_cap029.npy\n"
          ],
          "name": "stdout"
        },
        {
          "output_type": "stream",
          "text": [
            "\r 84%|████████▍ | 139/165 [19:43<04:27, 10.31s/it]"
          ],
          "name": "stderr"
        },
        {
          "output_type": "stream",
          "text": [
            "/content/drive/MyDrive/googledrive_segmentation/ct-normal-slices-train/P_0030_576_364_361_cap030.npy\n"
          ],
          "name": "stdout"
        },
        {
          "output_type": "stream",
          "text": [
            "\r 85%|████████▍ | 140/165 [20:01<05:13, 12.54s/it]"
          ],
          "name": "stderr"
        },
        {
          "output_type": "stream",
          "text": [
            "/content/drive/MyDrive/googledrive_segmentation/ct-normal-slices-train/P_0031_344_331_378_cap031.npy\n"
          ],
          "name": "stdout"
        },
        {
          "output_type": "stream",
          "text": [
            "\r 85%|████████▌ | 141/165 [20:12<04:47, 11.98s/it]"
          ],
          "name": "stderr"
        },
        {
          "output_type": "stream",
          "text": [
            "/content/drive/MyDrive/googledrive_segmentation/ct-normal-slices-train/P_0032_278_281_376_cap032.npy\n"
          ],
          "name": "stdout"
        },
        {
          "output_type": "stream",
          "text": [
            "\r 86%|████████▌ | 142/165 [20:18<03:58, 10.36s/it]"
          ],
          "name": "stderr"
        },
        {
          "output_type": "stream",
          "text": [
            "/content/drive/MyDrive/googledrive_segmentation/ct-normal-slices-train/P_0033_252_257_304_cap033.npy\n"
          ],
          "name": "stdout"
        },
        {
          "output_type": "stream",
          "text": [
            "\r 87%|████████▋ | 143/165 [20:25<03:22,  9.20s/it]"
          ],
          "name": "stderr"
        },
        {
          "output_type": "stream",
          "text": [
            "/content/drive/MyDrive/googledrive_segmentation/ct-normal-slices-train/P_0034_288_277_335_cap034.npy\n"
          ],
          "name": "stdout"
        },
        {
          "output_type": "stream",
          "text": [
            "\r 87%|████████▋ | 144/165 [20:32<03:01,  8.64s/it]"
          ],
          "name": "stderr"
        },
        {
          "output_type": "stream",
          "text": [
            "/content/drive/MyDrive/googledrive_segmentation/ct-normal-slices-train/P_0035_340_371_460_cap035.npy\n"
          ],
          "name": "stdout"
        },
        {
          "output_type": "stream",
          "text": [
            "\r 88%|████████▊ | 145/165 [20:44<03:10,  9.53s/it]"
          ],
          "name": "stderr"
        },
        {
          "output_type": "stream",
          "text": [
            "/content/drive/MyDrive/googledrive_segmentation/ct-normal-slices-train/P_0036_272_289_289_cap036.npy\n"
          ],
          "name": "stdout"
        },
        {
          "output_type": "stream",
          "text": [
            "\r 88%|████████▊ | 146/165 [20:52<02:52,  9.07s/it]"
          ],
          "name": "stderr"
        },
        {
          "output_type": "stream",
          "text": [
            "/content/drive/MyDrive/googledrive_segmentation/ct-normal-slices-train/P_0037_314_276_334_cap037.npy\n"
          ],
          "name": "stdout"
        },
        {
          "output_type": "stream",
          "text": [
            "\r 89%|████████▉ | 147/165 [20:59<02:35,  8.65s/it]"
          ],
          "name": "stderr"
        },
        {
          "output_type": "stream",
          "text": [
            "/content/drive/MyDrive/googledrive_segmentation/ct-normal-slices-train/P_0038_296_244_344_cap038.npy\n"
          ],
          "name": "stdout"
        },
        {
          "output_type": "stream",
          "text": [
            "\r 90%|████████▉ | 148/165 [21:07<02:20,  8.29s/it]"
          ],
          "name": "stderr"
        },
        {
          "output_type": "stream",
          "text": [
            "/content/drive/MyDrive/googledrive_segmentation/ct-normal-slices-train/P_0039_390_267_323_cap039.npy\n"
          ],
          "name": "stdout"
        },
        {
          "output_type": "stream",
          "text": [
            "\r 90%|█████████ | 149/165 [21:17<02:21,  8.83s/it]"
          ],
          "name": "stderr"
        },
        {
          "output_type": "stream",
          "text": [
            "/content/drive/MyDrive/googledrive_segmentation/ct-normal-slices-train/P_0040_288_260_311_cap040.npy\n"
          ],
          "name": "stdout"
        },
        {
          "output_type": "stream",
          "text": [
            "\r 91%|█████████ | 150/165 [21:24<02:05,  8.34s/it]"
          ],
          "name": "stderr"
        },
        {
          "output_type": "stream",
          "text": [
            "/content/drive/MyDrive/googledrive_segmentation/ct-normal-slices-train/P_0041_296_335_370_cap041.npy\n"
          ],
          "name": "stdout"
        },
        {
          "output_type": "stream",
          "text": [
            "\r 92%|█████████▏| 151/165 [21:33<01:57,  8.43s/it]"
          ],
          "name": "stderr"
        },
        {
          "output_type": "stream",
          "text": [
            "/content/drive/MyDrive/googledrive_segmentation/ct-normal-slices-train/P_0042_284_253_326_cap042.npy\n"
          ],
          "name": "stdout"
        },
        {
          "output_type": "stream",
          "text": [
            "\r 92%|█████████▏| 152/165 [21:40<01:44,  8.07s/it]"
          ],
          "name": "stderr"
        },
        {
          "output_type": "stream",
          "text": [
            "/content/drive/MyDrive/googledrive_segmentation/ct-normal-slices-train/P_0043_310_357_403_cap043.npy\n"
          ],
          "name": "stdout"
        },
        {
          "output_type": "stream",
          "text": [
            "\r 93%|█████████▎| 153/165 [21:50<01:45,  8.77s/it]"
          ],
          "name": "stderr"
        },
        {
          "output_type": "stream",
          "text": [
            "/content/drive/MyDrive/googledrive_segmentation/ct-normal-slices-train/P_0044_240_288_310_cap044.npy\n"
          ],
          "name": "stdout"
        },
        {
          "output_type": "stream",
          "text": [
            "\r 93%|█████████▎| 154/165 [21:57<01:28,  8.04s/it]"
          ],
          "name": "stderr"
        },
        {
          "output_type": "stream",
          "text": [
            "/content/drive/MyDrive/googledrive_segmentation/ct-normal-slices-train/P_0045_308_297_368_cap045.npy\n"
          ],
          "name": "stdout"
        },
        {
          "output_type": "stream",
          "text": [
            "\r 94%|█████████▍| 155/165 [22:05<01:19,  7.97s/it]"
          ],
          "name": "stderr"
        },
        {
          "output_type": "stream",
          "text": [
            "/content/drive/MyDrive/googledrive_segmentation/ct-normal-slices-train/P_0046_216_292_303_cap046.npy\n"
          ],
          "name": "stdout"
        },
        {
          "output_type": "stream",
          "text": [
            "\r 95%|█████████▍| 156/165 [22:11<01:07,  7.49s/it]"
          ],
          "name": "stderr"
        },
        {
          "output_type": "stream",
          "text": [
            "/content/drive/MyDrive/googledrive_segmentation/ct-normal-slices-train/P_0047_330_311_336_cap047.npy\n"
          ],
          "name": "stdout"
        },
        {
          "output_type": "stream",
          "text": [
            "\r 95%|█████████▌| 157/165 [22:19<01:02,  7.77s/it]"
          ],
          "name": "stderr"
        },
        {
          "output_type": "stream",
          "text": [
            "/content/drive/MyDrive/googledrive_segmentation/ct-normal-slices-train/P_0048_288_261_328_cap048.npy\n"
          ],
          "name": "stdout"
        },
        {
          "output_type": "stream",
          "text": [
            "\r 96%|█████████▌| 158/165 [22:26<00:52,  7.43s/it]"
          ],
          "name": "stderr"
        },
        {
          "output_type": "stream",
          "text": [
            "/content/drive/MyDrive/googledrive_segmentation/ct-normal-slices-train/P_0049_280_331_459_cap049.npy\n"
          ],
          "name": "stdout"
        },
        {
          "output_type": "stream",
          "text": [
            "\r 96%|█████████▋| 159/165 [22:36<00:49,  8.22s/it]"
          ],
          "name": "stderr"
        },
        {
          "output_type": "stream",
          "text": [
            "/content/drive/MyDrive/googledrive_segmentation/ct-normal-slices-train/P_0050_326_357_460_cap050.npy\n"
          ],
          "name": "stdout"
        },
        {
          "output_type": "stream",
          "text": [
            "\r 97%|█████████▋| 160/165 [22:47<00:44,  8.99s/it]"
          ],
          "name": "stderr"
        },
        {
          "output_type": "stream",
          "text": [
            "/content/drive/MyDrive/googledrive_segmentation/ct-normal-slices-train/P_0051_354_282_343_cap051.npy\n"
          ],
          "name": "stdout"
        },
        {
          "output_type": "stream",
          "text": [
            "\r 98%|█████████▊| 161/165 [22:58<00:38,  9.61s/it]"
          ],
          "name": "stderr"
        },
        {
          "output_type": "stream",
          "text": [
            "/content/drive/MyDrive/googledrive_segmentation/ct-normal-slices-train/P_0052_324_228_298_cap052.npy\n"
          ],
          "name": "stdout"
        },
        {
          "output_type": "stream",
          "text": [
            "\r 98%|█████████▊| 162/165 [23:06<00:27,  9.08s/it]"
          ],
          "name": "stderr"
        },
        {
          "output_type": "stream",
          "text": [
            "/content/drive/MyDrive/googledrive_segmentation/ct-normal-slices-train/P_0053_328_267_281_cap053.npy\n"
          ],
          "name": "stdout"
        },
        {
          "output_type": "stream",
          "text": [
            "\r 99%|█████████▉| 163/165 [23:15<00:18,  9.25s/it]"
          ],
          "name": "stderr"
        },
        {
          "output_type": "stream",
          "text": [
            "/content/drive/MyDrive/googledrive_segmentation/ct-normal-slices-train/P_0054_292_243_303_cap054.npy\n"
          ],
          "name": "stdout"
        },
        {
          "output_type": "stream",
          "text": [
            "\r 99%|█████████▉| 164/165 [23:22<00:08,  8.43s/it]"
          ],
          "name": "stderr"
        },
        {
          "output_type": "stream",
          "text": [
            "/content/drive/MyDrive/googledrive_segmentation/ct-normal-slices-train/P_0055_296_229_292_cap055.npy\n"
          ],
          "name": "stdout"
        },
        {
          "output_type": "stream",
          "text": [
            "100%|██████████| 165/165 [23:29<00:00,  8.54s/it]\n"
          ],
          "name": "stderr"
        }
      ]
    },
    {
      "cell_type": "markdown",
      "metadata": {
        "id": "B-CU9sQw7N62"
      },
      "source": [
        "### Prepare labels"
      ]
    },
    {
      "cell_type": "code",
      "metadata": {
        "colab": {
          "base_uri": "https://localhost:8080/"
        },
        "id": "dRUcU12tTfkX",
        "outputId": "be735887-71c0-4e86-a1a8-13bb053b2b65"
      },
      "source": [
        "'''\n",
        "Based on the name of files (C: COVID, H: Health or Control, P: Pneumonia or CAP)\n",
        "'''\n",
        "lbl = np.zeros((165))\n",
        "lbl[0:55] = 1 #COVID\n",
        "lbl[55:110] = 0 #Control\n",
        "lbl[110:165] = 2 #CAP\n",
        "print(lbl)"
      ],
      "execution_count": null,
      "outputs": [
        {
          "output_type": "stream",
          "text": [
            "[1. 1. 1. 1. 1. 1. 1. 1. 1. 1. 1. 1. 1. 1. 1. 1. 1. 1. 1. 1. 1. 1. 1. 1.\n",
            " 1. 1. 1. 1. 1. 1. 1. 1. 1. 1. 1. 1. 1. 1. 1. 1. 1. 1. 1. 1. 1. 1. 1. 1.\n",
            " 1. 1. 1. 1. 1. 1. 1. 0. 0. 0. 0. 0. 0. 0. 0. 0. 0. 0. 0. 0. 0. 0. 0. 0.\n",
            " 0. 0. 0. 0. 0. 0. 0. 0. 0. 0. 0. 0. 0. 0. 0. 0. 0. 0. 0. 0. 0. 0. 0. 0.\n",
            " 0. 0. 0. 0. 0. 0. 0. 0. 0. 0. 0. 0. 0. 0. 2. 2. 2. 2. 2. 2. 2. 2. 2. 2.\n",
            " 2. 2. 2. 2. 2. 2. 2. 2. 2. 2. 2. 2. 2. 2. 2. 2. 2. 2. 2. 2. 2. 2. 2. 2.\n",
            " 2. 2. 2. 2. 2. 2. 2. 2. 2. 2. 2. 2. 2. 2. 2. 2. 2. 2. 2. 2. 2.]\n"
          ],
          "name": "stdout"
        }
      ]
    },
    {
      "cell_type": "code",
      "metadata": {
        "id": "COooOCiztCNF"
      },
      "source": [
        "'''\n",
        "For saving the RAM, you can save the data and restart you runtime.\n",
        "please import librarys again to continue\n",
        "'''\n",
        "np.save('/content/drive/My Drive/googledrive_segmentation/dataset_unet.npy',dataset)\n",
        "np.save('/content/drive/My Drive/googledrive_segmentation/lbl_unet.npy',lbl)"
      ],
      "execution_count": null,
      "outputs": []
    },
    {
      "cell_type": "markdown",
      "metadata": {
        "id": "S31yQM_-8NGN"
      },
      "source": [
        "### 3D CNN training"
      ]
    },
    {
      "cell_type": "code",
      "metadata": {
        "id": "OO2VXNd7yidl"
      },
      "source": [
        "import keras\n",
        "from keras.models import Sequential\n",
        "from keras.layers import Dense, Flatten, Conv3D, MaxPooling3D,Dropout\n",
        "from keras.utils import to_categorical\n",
        "import h5py\n",
        "import numpy as np\n",
        "import matplotlib.pyplot as plt"
      ],
      "execution_count": null,
      "outputs": []
    },
    {
      "cell_type": "code",
      "metadata": {
        "id": "PZSuKaY4USDX"
      },
      "source": [
        "dataset = np.load('/content/drive/My Drive/googledrive_segmentation/dataset_unet.npy')\n",
        "lbl = np.load('/content/drive/My Drive/googledrive_segmentation/lbl_unet.npy')"
      ],
      "execution_count": null,
      "outputs": []
    },
    {
      "cell_type": "code",
      "metadata": {
        "id": "cJR9Rk2e3mF7"
      },
      "source": [
        "# reshape the dataset to feed to the model\n",
        "dataset = np.reshape(dataset,(dataset.shape[0],dataset.shape[1],dataset.shape[2],dataset.shape[3],1))"
      ],
      "execution_count": null,
      "outputs": []
    },
    {
      "cell_type": "code",
      "metadata": {
        "colab": {
          "base_uri": "https://localhost:8080/"
        },
        "id": "2RMuLzQRx_gk",
        "outputId": "8dcb5bed-6261-41e4-e0b3-176c3b0af45d"
      },
      "source": [
        "# for balancing data as the inputs of the model\n",
        "c = np.random.permutation(np.arange(0,55))\n",
        "h = np.random.permutation(np.arange(55,110))\n",
        "p = np.random.permutation(np.arange(110,165))\n",
        "\n",
        "train_index = np.random.permutation(np.append(np.append(c[0:40],h[0:40]),p[0:40]))\n",
        "print('training set:', train_index)\n",
        "validation_index = np.random.permutation(np.append(np.append(c[40:55],h[40:55]),p[40:55]))\n",
        "print('validation set:',validation_index)"
      ],
      "execution_count": null,
      "outputs": [
        {
          "output_type": "stream",
          "text": [
            "training set: [ 63 125 158 154  78  61 143 150  23  62  94  87  43 101  88  14 163 140\n",
            " 147 141  48   5  27 123 131  36 122 138  71 115  19 111 102 119 124 129\n",
            "  79  13 162 127 114 100   7 110 108 142  49 151  30  54  34 105 109   3\n",
            " 116 155   8 104  41  18  25  76 121  28  66 126 103  86 157  21 160  77\n",
            "  59  46  53 145 120  83   4  81 106 117   0   1 112  80 134 149  56  91\n",
            "  95  60 137  31 153  42  29  70  69 133  51  37  15  64  26  74  55   9\n",
            "  52  11  96 130  24  84  39  89   2  20  73  85]\n",
            "validation set: [ 90  35 161 132 146  22  45 128  99  72  65  16 152  17 118  82 148  47\n",
            "  38  40 136  44  68  57  58  32  10  92 135  97  98  75 144  67 164 107\n",
            "  12   6  33 156 113  93  50 139 159]\n"
          ],
          "name": "stdout"
        }
      ]
    },
    {
      "cell_type": "code",
      "metadata": {
        "id": "cXqMa2CXyVmb"
      },
      "source": [
        "# Convert target vectors to categorical targets\n",
        "targets_train = to_categorical(lbl[train_index]).astype(np.uint8)\n",
        "targets_validation = to_categorical(lbl[validation_index]).astype(np.uint8)\n"
      ],
      "execution_count": null,
      "outputs": []
    },
    {
      "cell_type": "code",
      "metadata": {
        "colab": {
          "base_uri": "https://localhost:8080/"
        },
        "id": "uyrVUjPPtgaz",
        "outputId": "921d1db0-4c9b-4fd3-f4c3-c26805bc33f7"
      },
      "source": [
        "model = Sequential()\n",
        "model.add(Conv3D(8, kernel_size=(3, 3, 3), activation='relu', kernel_initializer='he_uniform', input_shape=(50,128,128,1)))\n",
        "model.add(Conv3D(8, kernel_size=(3, 3, 3), activation='relu', kernel_initializer='he_uniform',padding='same'))\n",
        "model.add(MaxPooling3D(pool_size=(2, 2, 2)))\n",
        "\n",
        "model.add(Conv3D(16, kernel_size=(3, 3, 3), activation='relu', kernel_initializer='he_uniform',padding='same'))\n",
        "model.add(Conv3D(16, kernel_size=(3, 3, 3), activation='relu', kernel_initializer='he_uniform',padding='same'))\n",
        "model.add(MaxPooling3D(pool_size=(2, 2, 2)))\n",
        "\n",
        "model.add(Conv3D(32, kernel_size=(3, 3, 3), activation='relu', kernel_initializer='he_uniform',padding='same'))\n",
        "model.add(Conv3D(32, kernel_size=(3, 3, 3), activation='relu', kernel_initializer='he_uniform',padding='same'))\n",
        "model.add(MaxPooling3D(pool_size=(2, 2, 2)))\n",
        "\n",
        "model.add(Conv3D(64, kernel_size=(3, 3, 3), activation='relu', kernel_initializer='he_uniform',padding='same'))\n",
        "model.add(Conv3D(64, kernel_size=(3, 3, 3), activation='relu', kernel_initializer='he_uniform',padding='same'))\n",
        "model.add(MaxPooling3D(pool_size=(2, 2, 2)))\n",
        "\n",
        "model.add(Conv3D(128, kernel_size=(3, 3, 3), activation='relu', kernel_initializer='he_uniform',padding='same'))\n",
        "model.add(Conv3D(128, kernel_size=(3, 3, 3), activation='relu', kernel_initializer='he_uniform',padding='same'))\n",
        "model.add(MaxPooling3D(pool_size=(2, 2, 2)))\n",
        "\n",
        "model.add(Flatten())\n",
        "model.add(Dense(32, activation='relu', kernel_initializer='he_uniform'))\n",
        "model.add(Dropout(0.3))\n",
        "model.add(Dense(3, activation='softmax'))\n",
        "\n",
        "model.summary()"
      ],
      "execution_count": null,
      "outputs": [
        {
          "output_type": "stream",
          "text": [
            "Model: \"sequential\"\n",
            "_________________________________________________________________\n",
            "Layer (type)                 Output Shape              Param #   \n",
            "=================================================================\n",
            "conv3d (Conv3D)              (None, 48, 126, 126, 8)   224       \n",
            "_________________________________________________________________\n",
            "conv3d_1 (Conv3D)            (None, 48, 126, 126, 8)   1736      \n",
            "_________________________________________________________________\n",
            "max_pooling3d (MaxPooling3D) (None, 24, 63, 63, 8)     0         \n",
            "_________________________________________________________________\n",
            "conv3d_2 (Conv3D)            (None, 24, 63, 63, 16)    3472      \n",
            "_________________________________________________________________\n",
            "conv3d_3 (Conv3D)            (None, 24, 63, 63, 16)    6928      \n",
            "_________________________________________________________________\n",
            "max_pooling3d_1 (MaxPooling3 (None, 12, 31, 31, 16)    0         \n",
            "_________________________________________________________________\n",
            "conv3d_4 (Conv3D)            (None, 12, 31, 31, 32)    13856     \n",
            "_________________________________________________________________\n",
            "conv3d_5 (Conv3D)            (None, 12, 31, 31, 32)    27680     \n",
            "_________________________________________________________________\n",
            "max_pooling3d_2 (MaxPooling3 (None, 6, 15, 15, 32)     0         \n",
            "_________________________________________________________________\n",
            "conv3d_6 (Conv3D)            (None, 6, 15, 15, 64)     55360     \n",
            "_________________________________________________________________\n",
            "conv3d_7 (Conv3D)            (None, 6, 15, 15, 64)     110656    \n",
            "_________________________________________________________________\n",
            "max_pooling3d_3 (MaxPooling3 (None, 3, 7, 7, 64)       0         \n",
            "_________________________________________________________________\n",
            "conv3d_8 (Conv3D)            (None, 3, 7, 7, 128)      221312    \n",
            "_________________________________________________________________\n",
            "conv3d_9 (Conv3D)            (None, 3, 7, 7, 128)      442496    \n",
            "_________________________________________________________________\n",
            "max_pooling3d_4 (MaxPooling3 (None, 1, 3, 3, 128)      0         \n",
            "_________________________________________________________________\n",
            "flatten (Flatten)            (None, 1152)              0         \n",
            "_________________________________________________________________\n",
            "dense (Dense)                (None, 32)                36896     \n",
            "_________________________________________________________________\n",
            "dropout_4 (Dropout)          (None, 32)                0         \n",
            "_________________________________________________________________\n",
            "dense_1 (Dense)              (None, 3)                 99        \n",
            "=================================================================\n",
            "Total params: 920,715\n",
            "Trainable params: 920,715\n",
            "Non-trainable params: 0\n",
            "_________________________________________________________________\n"
          ],
          "name": "stdout"
        }
      ]
    },
    {
      "cell_type": "code",
      "metadata": {
        "id": "zWMbulfdUGJA"
      },
      "source": [
        "# Compile the model\n",
        "model.compile(loss=keras.losses.categorical_crossentropy, # or 'mse'\n",
        "              optimizer=keras.optimizers.Adam(lr=0.0001),\n",
        "              metrics=['accuracy'])\n"
      ],
      "execution_count": null,
      "outputs": []
    },
    {
      "cell_type": "code",
      "metadata": {
        "colab": {
          "base_uri": "https://localhost:8080/"
        },
        "id": "_8nQmmzyyS0m",
        "outputId": "ed3046e7-f175-4e6f-889f-976e3f4c5b8a"
      },
      "source": [
        "# Fit data to model\n",
        "history = model.fit(dataset[train_index], targets_train,\n",
        "            batch_size=10, # batch_size = 16 in paper\n",
        "            epochs=100, # epochs = 100 in paper\n",
        "            verbose=1,\n",
        "            shuffle = True,\n",
        "            validation_data = (dataset[validation_index],targets_validation))"
      ],
      "execution_count": null,
      "outputs": [
        {
          "output_type": "stream",
          "text": [
            "Epoch 1/100\n",
            "12/12 [==============================] - 23s 1s/step - loss: 1.0935 - accuracy: 0.2574 - val_loss: 1.0613 - val_accuracy: 0.4444\n",
            "Epoch 2/100\n",
            "12/12 [==============================] - 15s 1s/step - loss: 1.0540 - accuracy: 0.3841 - val_loss: 1.0405 - val_accuracy: 0.4444\n",
            "Epoch 3/100\n",
            "12/12 [==============================] - 14s 1s/step - loss: 0.9906 - accuracy: 0.4785 - val_loss: 1.0242 - val_accuracy: 0.4444\n",
            "Epoch 4/100\n",
            "12/12 [==============================] - 15s 1s/step - loss: 0.9435 - accuracy: 0.4769 - val_loss: 1.0087 - val_accuracy: 0.4667\n",
            "Epoch 5/100\n",
            "12/12 [==============================] - 14s 1s/step - loss: 0.9070 - accuracy: 0.4943 - val_loss: 1.0008 - val_accuracy: 0.4667\n",
            "Epoch 6/100\n",
            "12/12 [==============================] - 15s 1s/step - loss: 0.8631 - accuracy: 0.4855 - val_loss: 1.0575 - val_accuracy: 0.4444\n",
            "Epoch 7/100\n",
            "12/12 [==============================] - 15s 1s/step - loss: 0.9122 - accuracy: 0.5048 - val_loss: 1.0160 - val_accuracy: 0.6000\n",
            "Epoch 8/100\n",
            "12/12 [==============================] - 15s 1s/step - loss: 0.8516 - accuracy: 0.6458 - val_loss: 0.9830 - val_accuracy: 0.6222\n",
            "Epoch 9/100\n",
            "12/12 [==============================] - 14s 1s/step - loss: 0.6838 - accuracy: 0.7263 - val_loss: 0.9636 - val_accuracy: 0.5778\n",
            "Epoch 10/100\n",
            "12/12 [==============================] - 15s 1s/step - loss: 0.6782 - accuracy: 0.7508 - val_loss: 0.9139 - val_accuracy: 0.7111\n",
            "Epoch 11/100\n",
            "12/12 [==============================] - 15s 1s/step - loss: 0.5920 - accuracy: 0.7450 - val_loss: 1.1561 - val_accuracy: 0.4444\n",
            "Epoch 12/100\n",
            "12/12 [==============================] - 15s 1s/step - loss: 0.5868 - accuracy: 0.7527 - val_loss: 0.8802 - val_accuracy: 0.5778\n",
            "Epoch 13/100\n",
            "12/12 [==============================] - 14s 1s/step - loss: 0.5605 - accuracy: 0.7672 - val_loss: 0.9319 - val_accuracy: 0.6889\n",
            "Epoch 14/100\n",
            "12/12 [==============================] - 15s 1s/step - loss: 0.5745 - accuracy: 0.8278 - val_loss: 0.9833 - val_accuracy: 0.6444\n",
            "Epoch 15/100\n",
            "12/12 [==============================] - 15s 1s/step - loss: 0.3787 - accuracy: 0.8862 - val_loss: 1.0683 - val_accuracy: 0.6444\n",
            "Epoch 16/100\n",
            "12/12 [==============================] - 15s 1s/step - loss: 0.5040 - accuracy: 0.7844 - val_loss: 1.2482 - val_accuracy: 0.6444\n",
            "Epoch 17/100\n",
            "12/12 [==============================] - 14s 1s/step - loss: 0.3726 - accuracy: 0.8664 - val_loss: 0.8868 - val_accuracy: 0.5778\n",
            "Epoch 18/100\n",
            "12/12 [==============================] - 15s 1s/step - loss: 0.4808 - accuracy: 0.8664 - val_loss: 0.9505 - val_accuracy: 0.7333\n",
            "Epoch 19/100\n",
            "12/12 [==============================] - 15s 1s/step - loss: 0.3852 - accuracy: 0.8890 - val_loss: 0.9685 - val_accuracy: 0.6222\n",
            "Epoch 20/100\n",
            "12/12 [==============================] - 15s 1s/step - loss: 0.3879 - accuracy: 0.8401 - val_loss: 1.1307 - val_accuracy: 0.5556\n",
            "Epoch 21/100\n",
            "12/12 [==============================] - 14s 1s/step - loss: 0.2666 - accuracy: 0.9160 - val_loss: 1.1227 - val_accuracy: 0.6889\n",
            "Epoch 22/100\n",
            "12/12 [==============================] - 15s 1s/step - loss: 0.2945 - accuracy: 0.9005 - val_loss: 1.5364 - val_accuracy: 0.6000\n",
            "Epoch 23/100\n",
            "12/12 [==============================] - 15s 1s/step - loss: 0.2908 - accuracy: 0.9062 - val_loss: 1.3128 - val_accuracy: 0.5778\n",
            "Epoch 24/100\n",
            "12/12 [==============================] - 15s 1s/step - loss: 0.1651 - accuracy: 0.9466 - val_loss: 1.0781 - val_accuracy: 0.6222\n",
            "Epoch 25/100\n",
            "12/12 [==============================] - 14s 1s/step - loss: 0.2229 - accuracy: 0.9633 - val_loss: 1.2732 - val_accuracy: 0.5778\n",
            "Epoch 26/100\n",
            "12/12 [==============================] - 15s 1s/step - loss: 0.2286 - accuracy: 0.8820 - val_loss: 1.2915 - val_accuracy: 0.6889\n",
            "Epoch 27/100\n",
            "12/12 [==============================] - 15s 1s/step - loss: 0.1414 - accuracy: 0.9814 - val_loss: 1.6214 - val_accuracy: 0.6000\n",
            "Epoch 28/100\n",
            "12/12 [==============================] - 15s 1s/step - loss: 0.1649 - accuracy: 0.9436 - val_loss: 1.6512 - val_accuracy: 0.5778\n",
            "Epoch 29/100\n",
            "12/12 [==============================] - 14s 1s/step - loss: 0.2197 - accuracy: 0.9225 - val_loss: 1.3767 - val_accuracy: 0.6222\n",
            "Epoch 30/100\n",
            "12/12 [==============================] - 15s 1s/step - loss: 0.1855 - accuracy: 0.9512 - val_loss: 1.3206 - val_accuracy: 0.6000\n",
            "Epoch 31/100\n",
            "12/12 [==============================] - 15s 1s/step - loss: 0.2945 - accuracy: 0.9248 - val_loss: 1.3400 - val_accuracy: 0.5778\n",
            "Epoch 32/100\n",
            "12/12 [==============================] - 15s 1s/step - loss: 0.3531 - accuracy: 0.9236 - val_loss: 1.5410 - val_accuracy: 0.6444\n",
            "Epoch 33/100\n",
            "12/12 [==============================] - 14s 1s/step - loss: 0.3413 - accuracy: 0.8433 - val_loss: 1.2092 - val_accuracy: 0.6444\n",
            "Epoch 34/100\n",
            "12/12 [==============================] - 15s 1s/step - loss: 0.1910 - accuracy: 0.9607 - val_loss: 1.4753 - val_accuracy: 0.5333\n",
            "Epoch 35/100\n",
            "12/12 [==============================] - 15s 1s/step - loss: 0.2568 - accuracy: 0.9067 - val_loss: 1.4048 - val_accuracy: 0.6222\n",
            "Epoch 36/100\n",
            "12/12 [==============================] - 15s 1s/step - loss: 0.1151 - accuracy: 0.9838 - val_loss: 1.5126 - val_accuracy: 0.6667\n",
            "Epoch 37/100\n",
            "12/12 [==============================] - 14s 1s/step - loss: 0.1003 - accuracy: 0.9785 - val_loss: 1.7286 - val_accuracy: 0.6222\n",
            "Epoch 38/100\n",
            "12/12 [==============================] - 15s 1s/step - loss: 0.0517 - accuracy: 0.9800 - val_loss: 1.7044 - val_accuracy: 0.6889\n",
            "Epoch 39/100\n",
            "12/12 [==============================] - 15s 1s/step - loss: 0.0657 - accuracy: 0.9902 - val_loss: 2.0317 - val_accuracy: 0.6444\n",
            "Epoch 40/100\n",
            "12/12 [==============================] - 15s 1s/step - loss: 0.0556 - accuracy: 0.9915 - val_loss: 1.8869 - val_accuracy: 0.6667\n",
            "Epoch 41/100\n",
            "12/12 [==============================] - 14s 1s/step - loss: 0.0546 - accuracy: 0.9874 - val_loss: 2.1766 - val_accuracy: 0.6222\n",
            "Epoch 42/100\n",
            "12/12 [==============================] - 15s 1s/step - loss: 0.0747 - accuracy: 0.9756 - val_loss: 1.9456 - val_accuracy: 0.6667\n",
            "Epoch 43/100\n",
            "12/12 [==============================] - 15s 1s/step - loss: 0.0663 - accuracy: 0.9755 - val_loss: 2.3220 - val_accuracy: 0.6222\n",
            "Epoch 44/100\n",
            "12/12 [==============================] - 15s 1s/step - loss: 0.1176 - accuracy: 0.9629 - val_loss: 2.2310 - val_accuracy: 0.6889\n",
            "Epoch 45/100\n",
            "12/12 [==============================] - 14s 1s/step - loss: 0.1302 - accuracy: 0.9504 - val_loss: 2.1628 - val_accuracy: 0.6444\n",
            "Epoch 46/100\n",
            "12/12 [==============================] - 15s 1s/step - loss: 0.0978 - accuracy: 0.9803 - val_loss: 2.1951 - val_accuracy: 0.5556\n",
            "Epoch 47/100\n",
            "12/12 [==============================] - 15s 1s/step - loss: 0.0259 - accuracy: 0.9918 - val_loss: 1.8269 - val_accuracy: 0.6667\n",
            "Epoch 48/100\n",
            "12/12 [==============================] - 15s 1s/step - loss: 0.0429 - accuracy: 0.9832 - val_loss: 2.4300 - val_accuracy: 0.6444\n",
            "Epoch 49/100\n",
            "12/12 [==============================] - 14s 1s/step - loss: 0.0505 - accuracy: 0.9785 - val_loss: 2.9620 - val_accuracy: 0.6000\n",
            "Epoch 50/100\n",
            "12/12 [==============================] - 15s 1s/step - loss: 0.0442 - accuracy: 0.9953 - val_loss: 2.7196 - val_accuracy: 0.6444\n",
            "Epoch 51/100\n",
            "12/12 [==============================] - 15s 1s/step - loss: 0.0505 - accuracy: 0.9887 - val_loss: 2.0825 - val_accuracy: 0.6889\n",
            "Epoch 52/100\n",
            "12/12 [==============================] - 15s 1s/step - loss: 0.1713 - accuracy: 0.9435 - val_loss: 2.8341 - val_accuracy: 0.5556\n",
            "Epoch 53/100\n",
            "12/12 [==============================] - 14s 1s/step - loss: 0.6249 - accuracy: 0.8989 - val_loss: 1.4543 - val_accuracy: 0.6667\n",
            "Epoch 54/100\n",
            "12/12 [==============================] - 15s 1s/step - loss: 0.1592 - accuracy: 0.9763 - val_loss: 1.4279 - val_accuracy: 0.6222\n",
            "Epoch 55/100\n",
            "12/12 [==============================] - 15s 1s/step - loss: 0.1087 - accuracy: 0.9980 - val_loss: 1.5894 - val_accuracy: 0.6667\n",
            "Epoch 56/100\n",
            "12/12 [==============================] - 15s 1s/step - loss: 0.0885 - accuracy: 0.9778 - val_loss: 1.6730 - val_accuracy: 0.6000\n",
            "Epoch 57/100\n",
            "12/12 [==============================] - 14s 1s/step - loss: 0.0622 - accuracy: 0.9954 - val_loss: 1.5131 - val_accuracy: 0.6444\n",
            "Epoch 58/100\n",
            "12/12 [==============================] - 15s 1s/step - loss: 0.0475 - accuracy: 0.9931 - val_loss: 1.6789 - val_accuracy: 0.6667\n",
            "Epoch 59/100\n",
            "12/12 [==============================] - 15s 1s/step - loss: 0.0849 - accuracy: 0.9766 - val_loss: 1.6540 - val_accuracy: 0.6000\n",
            "Epoch 60/100\n",
            "12/12 [==============================] - 15s 1s/step - loss: 0.0450 - accuracy: 0.9942 - val_loss: 1.4520 - val_accuracy: 0.7111\n",
            "Epoch 61/100\n",
            "12/12 [==============================] - 14s 1s/step - loss: 0.0881 - accuracy: 0.9709 - val_loss: 2.3637 - val_accuracy: 0.6000\n",
            "Epoch 62/100\n",
            "12/12 [==============================] - 15s 1s/step - loss: 0.0557 - accuracy: 0.9767 - val_loss: 2.3032 - val_accuracy: 0.6444\n",
            "Epoch 63/100\n",
            "12/12 [==============================] - 15s 1s/step - loss: 0.0261 - accuracy: 0.9943 - val_loss: 1.4585 - val_accuracy: 0.6222\n",
            "Epoch 64/100\n",
            "12/12 [==============================] - 15s 1s/step - loss: 0.0340 - accuracy: 0.9917 - val_loss: 2.0524 - val_accuracy: 0.5778\n",
            "Epoch 65/100\n",
            "12/12 [==============================] - 14s 1s/step - loss: 0.0622 - accuracy: 0.9802 - val_loss: 3.1174 - val_accuracy: 0.6889\n",
            "Epoch 66/100\n",
            "12/12 [==============================] - 15s 1s/step - loss: 0.1415 - accuracy: 0.9328 - val_loss: 3.2938 - val_accuracy: 0.6222\n",
            "Epoch 67/100\n",
            "12/12 [==============================] - 15s 1s/step - loss: 0.0595 - accuracy: 0.9832 - val_loss: 3.3059 - val_accuracy: 0.5778\n",
            "Epoch 68/100\n",
            "12/12 [==============================] - 15s 1s/step - loss: 0.2252 - accuracy: 0.9453 - val_loss: 1.6896 - val_accuracy: 0.6222\n",
            "Epoch 69/100\n",
            "12/12 [==============================] - 14s 1s/step - loss: 0.1366 - accuracy: 0.9370 - val_loss: 1.8535 - val_accuracy: 0.5556\n",
            "Epoch 70/100\n",
            "12/12 [==============================] - 15s 1s/step - loss: 0.0750 - accuracy: 0.9698 - val_loss: 1.8654 - val_accuracy: 0.6000\n",
            "Epoch 71/100\n",
            "12/12 [==============================] - 15s 1s/step - loss: 0.0737 - accuracy: 0.9819 - val_loss: 2.0295 - val_accuracy: 0.6222\n",
            "Epoch 72/100\n",
            "12/12 [==============================] - 15s 1s/step - loss: 0.0876 - accuracy: 0.9843 - val_loss: 2.3150 - val_accuracy: 0.6000\n",
            "Epoch 73/100\n",
            "12/12 [==============================] - 14s 1s/step - loss: 0.0342 - accuracy: 1.0000 - val_loss: 2.3944 - val_accuracy: 0.6000\n",
            "Epoch 74/100\n",
            "12/12 [==============================] - 15s 1s/step - loss: 0.0317 - accuracy: 1.0000 - val_loss: 2.3426 - val_accuracy: 0.6222\n",
            "Epoch 75/100\n",
            "12/12 [==============================] - 15s 1s/step - loss: 0.0314 - accuracy: 0.9987 - val_loss: 2.5110 - val_accuracy: 0.6222\n",
            "Epoch 76/100\n",
            "12/12 [==============================] - 15s 1s/step - loss: 0.0157 - accuracy: 1.0000 - val_loss: 2.6025 - val_accuracy: 0.6444\n",
            "Epoch 77/100\n",
            "12/12 [==============================] - 14s 1s/step - loss: 0.0080 - accuracy: 1.0000 - val_loss: 2.7817 - val_accuracy: 0.6444\n",
            "Epoch 78/100\n",
            "12/12 [==============================] - 15s 1s/step - loss: 0.1148 - accuracy: 0.9747 - val_loss: 2.2802 - val_accuracy: 0.6000\n",
            "Epoch 79/100\n",
            "12/12 [==============================] - 15s 1s/step - loss: 0.0649 - accuracy: 0.9507 - val_loss: 2.4573 - val_accuracy: 0.6000\n",
            "Epoch 80/100\n",
            "12/12 [==============================] - 15s 1s/step - loss: 0.0428 - accuracy: 0.9826 - val_loss: 2.0737 - val_accuracy: 0.7111\n",
            "Epoch 81/100\n",
            "12/12 [==============================] - 14s 1s/step - loss: 0.0838 - accuracy: 0.9801 - val_loss: 2.4498 - val_accuracy: 0.6889\n",
            "Epoch 82/100\n",
            "12/12 [==============================] - 15s 1s/step - loss: 0.0255 - accuracy: 1.0000 - val_loss: 2.5316 - val_accuracy: 0.6667\n",
            "Epoch 83/100\n",
            "12/12 [==============================] - 15s 1s/step - loss: 0.0101 - accuracy: 1.0000 - val_loss: 2.8046 - val_accuracy: 0.6667\n",
            "Epoch 84/100\n",
            "12/12 [==============================] - 15s 1s/step - loss: 0.0130 - accuracy: 0.9943 - val_loss: 2.9038 - val_accuracy: 0.6667\n",
            "Epoch 85/100\n",
            "12/12 [==============================] - 14s 1s/step - loss: 0.1224 - accuracy: 0.9852 - val_loss: 1.8221 - val_accuracy: 0.6667\n",
            "Epoch 86/100\n",
            "12/12 [==============================] - 15s 1s/step - loss: 0.0143 - accuracy: 1.0000 - val_loss: 1.5527 - val_accuracy: 0.7333\n",
            "Epoch 87/100\n",
            "12/12 [==============================] - 15s 1s/step - loss: 0.0620 - accuracy: 0.9896 - val_loss: 1.6139 - val_accuracy: 0.7556\n",
            "Epoch 88/100\n",
            "12/12 [==============================] - 15s 1s/step - loss: 0.0170 - accuracy: 1.0000 - val_loss: 1.9737 - val_accuracy: 0.6667\n",
            "Epoch 89/100\n",
            "12/12 [==============================] - 14s 1s/step - loss: 0.0161 - accuracy: 1.0000 - val_loss: 2.5021 - val_accuracy: 0.6667\n",
            "Epoch 90/100\n",
            "12/12 [==============================] - 15s 1s/step - loss: 0.0074 - accuracy: 1.0000 - val_loss: 2.5772 - val_accuracy: 0.6889\n",
            "Epoch 91/100\n",
            "12/12 [==============================] - 15s 1s/step - loss: 0.0087 - accuracy: 0.9964 - val_loss: 2.5300 - val_accuracy: 0.7333\n",
            "Epoch 92/100\n",
            "12/12 [==============================] - 15s 1s/step - loss: 0.0074 - accuracy: 1.0000 - val_loss: 2.6938 - val_accuracy: 0.6444\n",
            "Epoch 93/100\n",
            "12/12 [==============================] - 14s 1s/step - loss: 0.0018 - accuracy: 1.0000 - val_loss: 2.7896 - val_accuracy: 0.6889\n",
            "Epoch 94/100\n",
            "12/12 [==============================] - 15s 1s/step - loss: 0.0168 - accuracy: 1.0000 - val_loss: 2.9758 - val_accuracy: 0.6222\n",
            "Epoch 95/100\n",
            "12/12 [==============================] - 15s 1s/step - loss: 0.0033 - accuracy: 1.0000 - val_loss: 3.1206 - val_accuracy: 0.6222\n",
            "Epoch 96/100\n",
            "12/12 [==============================] - 15s 1s/step - loss: 0.0064 - accuracy: 0.9954 - val_loss: 3.6275 - val_accuracy: 0.6222\n",
            "Epoch 97/100\n",
            "12/12 [==============================] - 14s 1s/step - loss: 0.0388 - accuracy: 0.9762 - val_loss: 3.0810 - val_accuracy: 0.6444\n",
            "Epoch 98/100\n",
            "12/12 [==============================] - 15s 1s/step - loss: 0.0817 - accuracy: 0.9587 - val_loss: 2.9859 - val_accuracy: 0.6000\n",
            "Epoch 99/100\n",
            "12/12 [==============================] - 15s 1s/step - loss: 0.0238 - accuracy: 0.9931 - val_loss: 2.7849 - val_accuracy: 0.5778\n",
            "Epoch 100/100\n",
            "12/12 [==============================] - 15s 1s/step - loss: 0.0043 - accuracy: 1.0000 - val_loss: 2.7576 - val_accuracy: 0.5778\n"
          ],
          "name": "stdout"
        }
      ]
    },
    {
      "cell_type": "code",
      "metadata": {
        "id": "ulKShFtnb06c"
      },
      "source": [
        "from sklearn import metrics\n",
        "matrix = metrics.confusion_matrix(targets_validation.argmax(axis=1), model.predict(dataset[validation_index]).argmax(axis=1))"
      ],
      "execution_count": null,
      "outputs": []
    },
    {
      "cell_type": "code",
      "metadata": {
        "colab": {
          "base_uri": "https://localhost:8080/",
          "height": 404
        },
        "id": "wZueQbhib4rq",
        "outputId": "2f5d3cdd-c65c-4e57-c973-a2fa88cce9e9"
      },
      "source": [
        "import keras\n",
        "from matplotlib import pyplot as plt\n",
        "plt.figure(figsize=(10,6))\n",
        "plt.plot(history.history['accuracy'])\n",
        "plt.plot(history.history['val_accuracy'])\n",
        "plt.title('Model accuracy')\n",
        "plt.ylabel('Accuracy')\n",
        "plt.xlabel('Epoch')\n",
        "plt.legend(['train', 'validation'], loc='lower right')\n",
        "plt.show()"
      ],
      "execution_count": null,
      "outputs": [
        {
          "output_type": "display_data",
          "data": {
            "image/png": "[encoded data removed]",
            "text/plain": [
              "<Figure size 720x432 with 1 Axes>"
            ]
          },
          "metadata": {
            "tags": [],
            "needs_background": "light"
          }
        }
      ]
    },
    {
      "cell_type": "code",
      "metadata": {
        "colab": {
          "base_uri": "https://localhost:8080/",
          "height": 404
        },
        "id": "DQnmbCoBb5L6",
        "outputId": "3b3e95c8-b037-434b-b33c-72b209a70544"
      },
      "source": [
        "plt.figure(figsize=(10,6))\n",
        "plt.plot(history.history['loss'])\n",
        "plt.plot(history.history['val_loss'])\n",
        "plt.title('Model loss')\n",
        "plt.ylabel('Loss')\n",
        "plt.xlabel('Epoch')\n",
        "plt.legend(['train', 'validation'], loc='upper right')\n",
        "plt.show()"
      ],
      "execution_count": null,
      "outputs": [
        {
          "output_type": "display_data",
          "data": {
            "image/png": "[encoded data removed]",
            "text/plain": [
              "<Figure size 720x432 with 1 Axes>"
            ]
          },
          "metadata": {
            "tags": [],
            "needs_background": "light"
          }
        }
      ]
    },
    {
      "cell_type": "markdown",
      "metadata": {
        "id": "kZVyKPqQYYBm"
      },
      "source": [
        "### saving"
      ]
    },
    {
      "cell_type": "code",
      "metadata": {
        "id": "rRVhScUQ1Xv4"
      },
      "source": [
        "\n",
        "from keras.models import model_from_json\n",
        "\n",
        "model_json = model.to_json()\n",
        "with open(\"model.json\", \"w\") as json_file:\n",
        "    json_file.write(model_json)\n",
        "\n",
        "model.save_weights(\"/content/drive/My Drive/googledrive_segmentation/weight_cnn_CovidCtNet2d_unet.h5\")"
      ],
      "execution_count": null,
      "outputs": []
    }
  ]
}